{
  "nbformat": 4,
  "nbformat_minor": 0,
  "metadata": {
    "colab": {
      "name": "Text Mining - Amazon Reviews.ipynb",
      "provenance": [],
      "collapsed_sections": [
        "GGxKeZxtgNYn"
      ],
      "toc_visible": true
    },
    "kernelspec": {
      "name": "python3",
      "display_name": "Python 3"
    }
  },
  "cells": [
    {
      "cell_type": "markdown",
      "metadata": {
        "id": "7l8IEsULoDwg",
        "colab_type": "text"
      },
      "source": [
        "# Import libraries"
      ]
    },
    {
      "cell_type": "code",
      "metadata": {
        "id": "10TMtJzQHfke",
        "colab_type": "code",
        "outputId": "d9ab8780-0432-449e-9c0c-3030b4d48ceb",
        "colab": {
          "base_uri": "https://localhost:8080/",
          "height": 156
        }
      },
      "source": [
        "# !pip install -U tqdm\n",
        "# !pip install textstat"
      ],
      "execution_count": 13,
      "outputs": [
        {
          "output_type": "stream",
          "text": [
            "Collecting textstat\n",
            "  Downloading https://files.pythonhosted.org/packages/4f/b9/49f8bd4604122dd7d618a1f7440c00e2b3505d2a8307642a28260f8a3004/textstat-0.6.0-py3-none-any.whl\n",
            "Collecting pyphen\n",
            "\u001b[?25l  Downloading https://files.pythonhosted.org/packages/15/82/08a3629dce8d1f3d91db843bb36d4d7db6b6269d5067259613a0d5c8a9db/Pyphen-0.9.5-py2.py3-none-any.whl (3.0MB)\n",
            "\u001b[K     |████████████████████████████████| 3.0MB 4.2MB/s \n",
            "\u001b[?25hInstalling collected packages: pyphen, textstat\n",
            "Successfully installed pyphen-0.9.5 textstat-0.6.0\n"
          ],
          "name": "stdout"
        }
      ]
    },
    {
      "cell_type": "code",
      "metadata": {
        "id": "U_SU1SNFoF3V",
        "colab_type": "code",
        "colab": {
          "base_uri": "https://localhost:8080/",
          "height": 51
        },
        "outputId": "0fd9780b-bf84-430e-8859-c93055d6eafa"
      },
      "source": [
        "import pandas as pd\n",
        "import numpy as np\n",
        "\n",
        "import gc\n",
        "import time\n",
        "\n",
        "from tqdm import tqdm\n",
        "tqdm.pandas()\n",
        "\n",
        "import re\n",
        "import nltk\n",
        "from nltk.corpus import stopwords\n",
        "from nltk.stem.porter import PorterStemmer\n",
        "\n",
        "nltk.download('stopwords')\n",
        "\n",
        "from gensim.summarization.summarizer import summarize\n",
        "\n",
        "import textstat\n",
        "\n",
        "from sklearn.model_selection import train_test_split\n",
        "from sklearn.feature_extraction.text import CountVectorizer, TfidfVectorizer\n",
        "from sklearn.decomposition import NMF, LatentDirichletAllocation\n",
        "from sklearn.model_selection import RandomizedSearchCV\n",
        "from sklearn.metrics import accuracy_score, classification_report\n",
        "from sklearn.ensemble import RandomForestClassifier\n",
        "from sklearn.svm import LinearSVC"
      ],
      "execution_count": 79,
      "outputs": [
        {
          "output_type": "stream",
          "text": [
            "[nltk_data] Downloading package stopwords to /root/nltk_data...\n",
            "[nltk_data]   Package stopwords is already up-to-date!\n"
          ],
          "name": "stdout"
        }
      ]
    },
    {
      "cell_type": "markdown",
      "metadata": {
        "id": "GGxKeZxtgNYn",
        "colab_type": "text"
      },
      "source": [
        "# Download dataset"
      ]
    },
    {
      "cell_type": "code",
      "metadata": {
        "id": "ieVhJwriaCJB",
        "colab_type": "code",
        "outputId": "15488432-aeb4-4448-d83e-3cda04354ccb",
        "colab": {
          "base_uri": "https://localhost:8080/",
          "height": 224
        }
      },
      "source": [
        "!wget 'https://s3.amazonaws.com/amazon-reviews-pds/tsv/amazon_reviews_multilingual_US_v1_00.tsv.gz'"
      ],
      "execution_count": 2,
      "outputs": [
        {
          "output_type": "stream",
          "text": [
            "--2020-01-15 17:51:40--  https://s3.amazonaws.com/amazon-reviews-pds/tsv/amazon_reviews_multilingual_US_v1_00.tsv.gz\n",
            "Resolving s3.amazonaws.com (s3.amazonaws.com)... 52.216.230.229\n",
            "Connecting to s3.amazonaws.com (s3.amazonaws.com)|52.216.230.229|:443... connected.\n",
            "HTTP request sent, awaiting response... 200 OK\n",
            "Length: 1466965039 (1.4G) [application/x-gzip]\n",
            "Saving to: ‘amazon_reviews_multilingual_US_v1_00.tsv.gz’\n",
            "\n",
            "amazon_reviews_mult 100%[===================>]   1.37G  83.1MB/s    in 18s     \n",
            "\n",
            "2020-01-15 17:51:57 (79.8 MB/s) - ‘amazon_reviews_multilingual_US_v1_00.tsv.gz’ saved [1466965039/1466965039]\n",
            "\n"
          ],
          "name": "stdout"
        }
      ]
    },
    {
      "cell_type": "code",
      "metadata": {
        "id": "6mDBJ4NZBuLB",
        "colab_type": "code",
        "colab": {}
      },
      "source": [
        "!gunzip amazon_reviews_multilingual_US_v1_00.tsv.gz"
      ],
      "execution_count": 0,
      "outputs": []
    },
    {
      "cell_type": "markdown",
      "metadata": {
        "id": "2iNOte66gP_w",
        "colab_type": "text"
      },
      "source": [
        "# Data cleaning"
      ]
    },
    {
      "cell_type": "code",
      "metadata": {
        "id": "RB3oZks-oHtV",
        "colab_type": "code",
        "outputId": "296a3955-8797-4ec9-b4c0-a393e13a776d",
        "colab": {
          "base_uri": "https://localhost:8080/",
          "height": 1391
        }
      },
      "source": [
        "df = pd.read_csv('amazon_reviews_multilingual_US_v1_00.tsv', delimiter='\\t', error_bad_lines=False)\n",
        "df"
      ],
      "execution_count": 2,
      "outputs": [
        {
          "output_type": "stream",
          "text": [
            "b'Skipping line 3231472: expected 15 fields, saw 22\\n'\n",
            "b'Skipping line 3509762: expected 15 fields, saw 22\\n'\n",
            "b'Skipping line 4018793: expected 15 fields, saw 22\\n'\n",
            "b'Skipping line 4280173: expected 15 fields, saw 22\\nSkipping line 4290596: expected 15 fields, saw 22\\n'\n",
            "b'Skipping line 4331421: expected 15 fields, saw 22\\nSkipping line 4340267: expected 15 fields, saw 22\\nSkipping line 4341665: expected 15 fields, saw 22\\nSkipping line 4386155: expected 15 fields, saw 22\\nSkipping line 4388098: expected 15 fields, saw 22\\n'\n",
            "b'Skipping line 4408027: expected 15 fields, saw 22\\nSkipping line 4442615: expected 15 fields, saw 22\\n'\n",
            "b'Skipping line 4519623: expected 15 fields, saw 22\\n'\n",
            "b'Skipping line 4525797: expected 15 fields, saw 22\\nSkipping line 4543519: expected 15 fields, saw 22\\n'\n",
            "b'Skipping line 4587726: expected 15 fields, saw 22\\nSkipping line 4589301: expected 15 fields, saw 22\\nSkipping line 4634393: expected 15 fields, saw 22\\n'\n",
            "b'Skipping line 4666168: expected 15 fields, saw 22\\n'\n",
            "b'Skipping line 4725035: expected 15 fields, saw 22\\nSkipping line 4741340: expected 15 fields, saw 22\\nSkipping line 4749515: expected 15 fields, saw 22\\nSkipping line 4760314: expected 15 fields, saw 22\\nSkipping line 4781100: expected 15 fields, saw 22\\n'\n",
            "b'Skipping line 4792732: expected 15 fields, saw 22\\n'\n",
            "b'Skipping line 4856383: expected 15 fields, saw 22\\nSkipping line 4866949: expected 15 fields, saw 22\\nSkipping line 4873905: expected 15 fields, saw 22\\nSkipping line 4882587: expected 15 fields, saw 22\\n'\n",
            "b'Skipping line 4984486: expected 15 fields, saw 22\\nSkipping line 4999513: expected 15 fields, saw 22\\nSkipping line 5042461: expected 15 fields, saw 22\\n'\n",
            "b'Skipping line 5084499: expected 15 fields, saw 22\\n'\n",
            "b'Skipping line 5118966: expected 15 fields, saw 22\\n'\n",
            "b'Skipping line 5242122: expected 15 fields, saw 22\\n'\n",
            "b'Skipping line 5267808: expected 15 fields, saw 22\\nSkipping line 5272340: expected 15 fields, saw 22\\n'\n",
            "b'Skipping line 5392789: expected 15 fields, saw 22\\nSkipping line 5401043: expected 15 fields, saw 22\\n'\n",
            "b'Skipping line 5558186: expected 15 fields, saw 22\\n'\n",
            "b'Skipping line 5789638: expected 15 fields, saw 22\\nSkipping line 5812305: expected 15 fields, saw 22\\nSkipping line 5817900: expected 15 fields, saw 22\\nSkipping line 5829969: expected 15 fields, saw 22\\n'\n",
            "b'Skipping line 5842003: expected 15 fields, saw 22\\nSkipping line 5876691: expected 15 fields, saw 22\\nSkipping line 5882689: expected 15 fields, saw 22\\n'\n",
            "b'Skipping line 5909437: expected 15 fields, saw 22\\n'\n",
            "b'Skipping line 6008511: expected 15 fields, saw 22\\nSkipping line 6024504: expected 15 fields, saw 22\\nSkipping line 6025541: expected 15 fields, saw 22\\n'\n",
            "b'Skipping line 6065764: expected 15 fields, saw 22\\nSkipping line 6077731: expected 15 fields, saw 22\\nSkipping line 6087087: expected 15 fields, saw 22\\n'\n",
            "b'Skipping line 6141216: expected 15 fields, saw 22\\n'\n",
            "b'Skipping line 6284307: expected 15 fields, saw 22\\n'\n",
            "b'Skipping line 6294536: expected 15 fields, saw 22\\nSkipping line 6343210: expected 15 fields, saw 22\\nSkipping line 6351051: expected 15 fields, saw 22\\nSkipping line 6356803: expected 15 fields, saw 22\\n'\n",
            "b'Skipping line 6359236: expected 15 fields, saw 22\\n'\n",
            "b'Skipping line 6461006: expected 15 fields, saw 22\\nSkipping line 6467831: expected 15 fields, saw 22\\nSkipping line 6469554: expected 15 fields, saw 22\\n'\n",
            "b'Skipping line 6492735: expected 15 fields, saw 22\\n'\n",
            "b'Skipping line 6570155: expected 15 fields, saw 22\\n'\n",
            "b'Skipping line 6657117: expected 15 fields, saw 22\\n'\n",
            "b'Skipping line 6743804: expected 15 fields, saw 22\\n'\n"
          ],
          "name": "stderr"
        },
        {
          "output_type": "execute_result",
          "data": {
            "text/html": [
              "<div>\n",
              "<style scoped>\n",
              "    .dataframe tbody tr th:only-of-type {\n",
              "        vertical-align: middle;\n",
              "    }\n",
              "\n",
              "    .dataframe tbody tr th {\n",
              "        vertical-align: top;\n",
              "    }\n",
              "\n",
              "    .dataframe thead th {\n",
              "        text-align: right;\n",
              "    }\n",
              "</style>\n",
              "<table border=\"1\" class=\"dataframe\">\n",
              "  <thead>\n",
              "    <tr style=\"text-align: right;\">\n",
              "      <th></th>\n",
              "      <th>marketplace</th>\n",
              "      <th>customer_id</th>\n",
              "      <th>review_id</th>\n",
              "      <th>product_id</th>\n",
              "      <th>product_parent</th>\n",
              "      <th>product_title</th>\n",
              "      <th>product_category</th>\n",
              "      <th>star_rating</th>\n",
              "      <th>helpful_votes</th>\n",
              "      <th>total_votes</th>\n",
              "      <th>vine</th>\n",
              "      <th>verified_purchase</th>\n",
              "      <th>review_headline</th>\n",
              "      <th>review_body</th>\n",
              "      <th>review_date</th>\n",
              "    </tr>\n",
              "  </thead>\n",
              "  <tbody>\n",
              "    <tr>\n",
              "      <th>0</th>\n",
              "      <td>US</td>\n",
              "      <td>53096384</td>\n",
              "      <td>R63J84G1LOX6R</td>\n",
              "      <td>1563890119</td>\n",
              "      <td>763187671</td>\n",
              "      <td>The Sandman Vol. 1: Preludes and Nocturnes</td>\n",
              "      <td>Books</td>\n",
              "      <td>4.0</td>\n",
              "      <td>0.0</td>\n",
              "      <td>1.0</td>\n",
              "      <td>N</td>\n",
              "      <td>N</td>\n",
              "      <td>ignore the review below</td>\n",
              "      <td>this is the first 8 issues of the series. it i...</td>\n",
              "      <td>1995-08-13</td>\n",
              "    </tr>\n",
              "    <tr>\n",
              "      <th>1</th>\n",
              "      <td>US</td>\n",
              "      <td>53096399</td>\n",
              "      <td>R1BALOA11Z06MT</td>\n",
              "      <td>1559947608</td>\n",
              "      <td>381720534</td>\n",
              "      <td>The 22 Immutable Laws of Marketing</td>\n",
              "      <td>Books</td>\n",
              "      <td>4.0</td>\n",
              "      <td>0.0</td>\n",
              "      <td>0.0</td>\n",
              "      <td>N</td>\n",
              "      <td>N</td>\n",
              "      <td>awesome</td>\n",
              "      <td>I've always been partial to immutable laws. Th...</td>\n",
              "      <td>1995-08-17</td>\n",
              "    </tr>\n",
              "    <tr>\n",
              "      <th>2</th>\n",
              "      <td>US</td>\n",
              "      <td>53096332</td>\n",
              "      <td>R1LLAY5W5PZUS4</td>\n",
              "      <td>0671701800</td>\n",
              "      <td>860650224</td>\n",
              "      <td>Contact</td>\n",
              "      <td>Books</td>\n",
              "      <td>5.0</td>\n",
              "      <td>1.0</td>\n",
              "      <td>2.0</td>\n",
              "      <td>N</td>\n",
              "      <td>N</td>\n",
              "      <td>Read the book. It's good.</td>\n",
              "      <td>This is a book about first contact with aliens...</td>\n",
              "      <td>1995-08-30</td>\n",
              "    </tr>\n",
              "    <tr>\n",
              "      <th>3</th>\n",
              "      <td>US</td>\n",
              "      <td>53096335</td>\n",
              "      <td>R3R9VTJ82FXECQ</td>\n",
              "      <td>0425132153</td>\n",
              "      <td>624269601</td>\n",
              "      <td>Good Omens</td>\n",
              "      <td>Books</td>\n",
              "      <td>5.0</td>\n",
              "      <td>0.0</td>\n",
              "      <td>0.0</td>\n",
              "      <td>N</td>\n",
              "      <td>N</td>\n",
              "      <td>Funniest book ever written about the Anti-Christ</td>\n",
              "      <td>This is quite possibly *the* funniest book I h...</td>\n",
              "      <td>1995-09-11</td>\n",
              "    </tr>\n",
              "    <tr>\n",
              "      <th>4</th>\n",
              "      <td>US</td>\n",
              "      <td>51747709</td>\n",
              "      <td>R1P5J3FNBWTFXY</td>\n",
              "      <td>0517122707</td>\n",
              "      <td>161411385</td>\n",
              "      <td>A Confederacy of Dunces</td>\n",
              "      <td>Books</td>\n",
              "      <td>5.0</td>\n",
              "      <td>0.0</td>\n",
              "      <td>0.0</td>\n",
              "      <td>N</td>\n",
              "      <td>N</td>\n",
              "      <td>A winner that didn't last. Only a mothers love...</td>\n",
              "      <td>The story behind the book is almost better tha...</td>\n",
              "      <td>1995-10-17</td>\n",
              "    </tr>\n",
              "    <tr>\n",
              "      <th>...</th>\n",
              "      <td>...</td>\n",
              "      <td>...</td>\n",
              "      <td>...</td>\n",
              "      <td>...</td>\n",
              "      <td>...</td>\n",
              "      <td>...</td>\n",
              "      <td>...</td>\n",
              "      <td>...</td>\n",
              "      <td>...</td>\n",
              "      <td>...</td>\n",
              "      <td>...</td>\n",
              "      <td>...</td>\n",
              "      <td>...</td>\n",
              "      <td>...</td>\n",
              "      <td>...</td>\n",
              "    </tr>\n",
              "    <tr>\n",
              "      <th>6900881</th>\n",
              "      <td>US</td>\n",
              "      <td>52303</td>\n",
              "      <td>R16DAHIWNXFOYI</td>\n",
              "      <td>B00QW8TYWO</td>\n",
              "      <td>828652896</td>\n",
              "      <td>Crossy Road</td>\n",
              "      <td>Mobile_Apps</td>\n",
              "      <td>5.0</td>\n",
              "      <td>0.0</td>\n",
              "      <td>0.0</td>\n",
              "      <td>N</td>\n",
              "      <td>Y</td>\n",
              "      <td>Five Stars</td>\n",
              "      <td>very fun game</td>\n",
              "      <td>2015-08-31</td>\n",
              "    </tr>\n",
              "    <tr>\n",
              "      <th>6900882</th>\n",
              "      <td>US</td>\n",
              "      <td>565563</td>\n",
              "      <td>R1DS6EBGAEJDB5</td>\n",
              "      <td>B00PSLQYWE</td>\n",
              "      <td>156264553</td>\n",
              "      <td>Downton Abbey Season 5</td>\n",
              "      <td>Digital_Video_Download</td>\n",
              "      <td>5.0</td>\n",
              "      <td>0.0</td>\n",
              "      <td>0.0</td>\n",
              "      <td>N</td>\n",
              "      <td>Y</td>\n",
              "      <td>Five Stars</td>\n",
              "      <td>Great</td>\n",
              "      <td>2015-08-31</td>\n",
              "    </tr>\n",
              "    <tr>\n",
              "      <th>6900883</th>\n",
              "      <td>US</td>\n",
              "      <td>254421</td>\n",
              "      <td>R3HEHT8JUA33VW</td>\n",
              "      <td>B000FC1LOC</td>\n",
              "      <td>354573823</td>\n",
              "      <td>My Sister's Keeper: A Novel (Wsp Readers Club)</td>\n",
              "      <td>Digital_Ebook_Purchase</td>\n",
              "      <td>5.0</td>\n",
              "      <td>0.0</td>\n",
              "      <td>0.0</td>\n",
              "      <td>N</td>\n",
              "      <td>N</td>\n",
              "      <td>and she has beautifully written and explored t...</td>\n",
              "      <td>This is my first book from Jodi, and she has b...</td>\n",
              "      <td>2015-08-31</td>\n",
              "    </tr>\n",
              "    <tr>\n",
              "      <th>6900884</th>\n",
              "      <td>US</td>\n",
              "      <td>146004</td>\n",
              "      <td>RVK4I33L93536</td>\n",
              "      <td>B008T4HHWS</td>\n",
              "      <td>599809487</td>\n",
              "      <td>Scent of a Woman</td>\n",
              "      <td>Digital_Video_Download</td>\n",
              "      <td>5.0</td>\n",
              "      <td>0.0</td>\n",
              "      <td>0.0</td>\n",
              "      <td>N</td>\n",
              "      <td>N</td>\n",
              "      <td>Like this!</td>\n",
              "      <td>Good movie!</td>\n",
              "      <td>2015-08-31</td>\n",
              "    </tr>\n",
              "    <tr>\n",
              "      <th>6900885</th>\n",
              "      <td>US</td>\n",
              "      <td>146004</td>\n",
              "      <td>RLKW9OJ9943DY</td>\n",
              "      <td>B00HY7VU60</td>\n",
              "      <td>592331046</td>\n",
              "      <td>The White Queen, Season 1</td>\n",
              "      <td>Digital_Video_Download</td>\n",
              "      <td>5.0</td>\n",
              "      <td>0.0</td>\n",
              "      <td>1.0</td>\n",
              "      <td>N</td>\n",
              "      <td>N</td>\n",
              "      <td>Wonderful show!</td>\n",
              "      <td>Amazing show that runs close to history. Love ...</td>\n",
              "      <td>2015-08-31</td>\n",
              "    </tr>\n",
              "  </tbody>\n",
              "</table>\n",
              "<p>6900886 rows × 15 columns</p>\n",
              "</div>"
            ],
            "text/plain": [
              "        marketplace  ...  review_date\n",
              "0                US  ...   1995-08-13\n",
              "1                US  ...   1995-08-17\n",
              "2                US  ...   1995-08-30\n",
              "3                US  ...   1995-09-11\n",
              "4                US  ...   1995-10-17\n",
              "...             ...  ...          ...\n",
              "6900881          US  ...   2015-08-31\n",
              "6900882          US  ...   2015-08-31\n",
              "6900883          US  ...   2015-08-31\n",
              "6900884          US  ...   2015-08-31\n",
              "6900885          US  ...   2015-08-31\n",
              "\n",
              "[6900886 rows x 15 columns]"
            ]
          },
          "metadata": {
            "tags": []
          },
          "execution_count": 2
        }
      ]
    },
    {
      "cell_type": "code",
      "metadata": {
        "id": "W51myWhZoPYN",
        "colab_type": "code",
        "colab": {}
      },
      "source": [
        "df.drop(columns = ['marketplace', 'customer_id', 'review_id', 'product_id', 'product_parent', 'vine', 'review_date'], inplace=True)"
      ],
      "execution_count": 0,
      "outputs": []
    },
    {
      "cell_type": "code",
      "metadata": {
        "id": "-osO3jBLouHR",
        "colab_type": "code",
        "outputId": "9a0d0696-7085-4e4f-ca88-4041d0fb0363",
        "colab": {
          "base_uri": "https://localhost:8080/",
          "height": 207
        }
      },
      "source": [
        "# dropping rows with less than 20 words in review_body\n",
        "print(df.shape)\n",
        "\n",
        "MIN_WORDS = 25\n",
        "df['review_body_length'] = df['review_body'].progress_map(lambda x: len(str(x).split()))\n",
        "df = df[df['review_body_length'] >= MIN_WORDS]\n",
        "MIN_SENTENCES = 3\n",
        "df['review_body_sentences'] = df['review_body'].progress_map(lambda x: textstat.sentence_count(str(x)))\n",
        "df = df[df['review_body_sentences'] >= MIN_SENTENCES]\n",
        "\n",
        "print(df.shape)"
      ],
      "execution_count": 4,
      "outputs": [
        {
          "output_type": "stream",
          "text": [
            "  0%|          | 1/6900886 [00:00<291:04:41,  6.59it/s]"
          ],
          "name": "stderr"
        },
        {
          "output_type": "stream",
          "text": [
            "(6900886, 8)\n"
          ],
          "name": "stdout"
        },
        {
          "output_type": "stream",
          "text": [
            "100%|██████████| 6900886/6900886 [00:37<00:00, 186360.70it/s]\n",
            "100%|██████████| 4023562/4023562 [07:19<00:00, 9159.28it/s] \n",
            "/usr/local/lib/python3.6/dist-packages/ipykernel_launcher.py:7: SettingWithCopyWarning: \n",
            "A value is trying to be set on a copy of a slice from a DataFrame.\n",
            "Try using .loc[row_indexer,col_indexer] = value instead\n",
            "\n",
            "See the caveats in the documentation: http://pandas.pydata.org/pandas-docs/stable/user_guide/indexing.html#returning-a-view-versus-a-copy\n",
            "  import sys\n"
          ],
          "name": "stderr"
        },
        {
          "output_type": "stream",
          "text": [
            "(1957608, 10)\n"
          ],
          "name": "stdout"
        }
      ]
    },
    {
      "cell_type": "code",
      "metadata": {
        "id": "fmPwRo-gNzds",
        "colab_type": "code",
        "colab": {}
      },
      "source": [
        "# dropping rows with no verified_purchase \n",
        "df = df[df['verified_purchase'] == 'Y']\n",
        "\n",
        "# dropping rows with no helpful ratings\n",
        "# df = df[df['helpful_votes'] >= 1.0]"
      ],
      "execution_count": 0,
      "outputs": []
    },
    {
      "cell_type": "code",
      "metadata": {
        "colab_type": "code",
        "id": "HMBrablW0szH",
        "outputId": "937e045c-0141-4540-8820-bb401e034779",
        "colab": {
          "base_uri": "https://localhost:8080/",
          "height": 170
        }
      },
      "source": [
        "# Keeping rows with category frequency above certain threshold\n",
        "MIN_FREQ = 15000\n",
        "allowed_categories = df['product_category'].value_counts().loc[lambda x: x >= MIN_FREQ]\n",
        "print(allowed_categories)\n",
        "allowed_categories = allowed_categories.index.tolist()\n",
        "\n",
        "df = df[df['product_category'].isin(allowed_categories)]\n",
        "print(df.shape)"
      ],
      "execution_count": 9,
      "outputs": [
        {
          "output_type": "stream",
          "text": [
            "Digital_Ebook_Purchase    280127\n",
            "Mobile_Apps               254628\n",
            "Video DVD                 156855\n",
            "Books                     134883\n",
            "Digital_Video_Download    116103\n",
            "Music                      84559\n",
            "Digital_Music_Purchase     19977\n",
            "Name: product_category, dtype: int64\n",
            "(1047132, 10)\n"
          ],
          "name": "stdout"
        }
      ]
    },
    {
      "cell_type": "code",
      "metadata": {
        "id": "AnmVsDoioRBl",
        "colab_type": "code",
        "outputId": "fc1b5331-318a-4c0c-b264-19d542df3afa",
        "colab": {
          "base_uri": "https://localhost:8080/",
          "height": 119
        }
      },
      "source": [
        "def combine_categories(category):\n",
        "  if category in ['Video DVD', 'Digital_Video_Download', 'Video']:\n",
        "    return 'Films_TV'\n",
        "  elif category in ['Music', 'Digital_Music_Purchase']:\n",
        "    return 'Music'\n",
        "  elif category in ['Digital_Ebook_Purchase', 'Books']:\n",
        "    return 'Books'\n",
        "  else:\n",
        "    return category\n",
        "  \n",
        "df['product_category'] = df['product_category'].progress_map(combine_categories)\n",
        "df['product_category'].value_counts()"
      ],
      "execution_count": 10,
      "outputs": [
        {
          "output_type": "stream",
          "text": [
            "100%|██████████| 1047132/1047132 [00:01<00:00, 997733.95it/s] \n"
          ],
          "name": "stderr"
        },
        {
          "output_type": "execute_result",
          "data": {
            "text/plain": [
              "Books          415010\n",
              "Films_TV       272958\n",
              "Mobile_Apps    254628\n",
              "Music          104536\n",
              "Name: product_category, dtype: int64"
            ]
          },
          "metadata": {
            "tags": []
          },
          "execution_count": 10
        }
      ]
    },
    {
      "cell_type": "code",
      "metadata": {
        "id": "q7Wy7j96rxCl",
        "colab_type": "code",
        "outputId": "0bcbf9ce-7cba-406e-f9bb-a98a0add04aa",
        "colab": {
          "base_uri": "https://localhost:8080/",
          "height": 34
        }
      },
      "source": [
        "def get_sentiment(rating):\n",
        "  if rating > 3:\n",
        "    return 'Positive'\n",
        "  elif rating < 3:\n",
        "    return 'Negative'\n",
        "  else:\n",
        "    return 'Neutral'\n",
        "  \n",
        "df['sentiment'] = df['star_rating'].progress_map(get_sentiment)"
      ],
      "execution_count": 11,
      "outputs": [
        {
          "output_type": "stream",
          "text": [
            "100%|██████████| 1047132/1047132 [00:00<00:00, 1048029.78it/s]\n"
          ],
          "name": "stderr"
        }
      ]
    },
    {
      "cell_type": "code",
      "metadata": {
        "id": "6E3PUN7nLYtV",
        "colab_type": "code",
        "colab": {}
      },
      "source": [
        "df['review'] = df[['review_headline', 'review_body']].astype(str).apply('.'.join, axis=1)\n",
        "# df.drop(columns = ['review_headline', 'review_body'], inplace=True)"
      ],
      "execution_count": 0,
      "outputs": []
    },
    {
      "cell_type": "code",
      "metadata": {
        "id": "yq6azPLiWVZJ",
        "colab_type": "code",
        "colab": {
          "base_uri": "https://localhost:8080/",
          "height": 1000
        },
        "outputId": "399ead12-6609-4ab2-f292-e83f6251df4e"
      },
      "source": [
        "df.reset_index(drop=True, inplace=True)\n",
        "df"
      ],
      "execution_count": 13,
      "outputs": [
        {
          "output_type": "execute_result",
          "data": {
            "text/html": [
              "<div>\n",
              "<style scoped>\n",
              "    .dataframe tbody tr th:only-of-type {\n",
              "        vertical-align: middle;\n",
              "    }\n",
              "\n",
              "    .dataframe tbody tr th {\n",
              "        vertical-align: top;\n",
              "    }\n",
              "\n",
              "    .dataframe thead th {\n",
              "        text-align: right;\n",
              "    }\n",
              "</style>\n",
              "<table border=\"1\" class=\"dataframe\">\n",
              "  <thead>\n",
              "    <tr style=\"text-align: right;\">\n",
              "      <th></th>\n",
              "      <th>product_title</th>\n",
              "      <th>product_category</th>\n",
              "      <th>star_rating</th>\n",
              "      <th>helpful_votes</th>\n",
              "      <th>total_votes</th>\n",
              "      <th>verified_purchase</th>\n",
              "      <th>review_headline</th>\n",
              "      <th>review_body</th>\n",
              "      <th>review_body_length</th>\n",
              "      <th>review_body_sentences</th>\n",
              "      <th>sentiment</th>\n",
              "      <th>review</th>\n",
              "    </tr>\n",
              "  </thead>\n",
              "  <tbody>\n",
              "    <tr>\n",
              "      <th>0</th>\n",
              "      <td>Ender's Game (The Ender Quintet)</td>\n",
              "      <td>Books</td>\n",
              "      <td>5.0</td>\n",
              "      <td>0.0</td>\n",
              "      <td>0.0</td>\n",
              "      <td>Y</td>\n",
              "      <td>HOW COULD ANYONE ONLY RATE THIS NOVEL A SIX?!?</td>\n",
              "      <td>Ender's Game is the most riveting and moving s...</td>\n",
              "      <td>80</td>\n",
              "      <td>4</td>\n",
              "      <td>Positive</td>\n",
              "      <td>HOW COULD ANYONE ONLY RATE THIS NOVEL A SIX?!?...</td>\n",
              "    </tr>\n",
              "    <tr>\n",
              "      <th>1</th>\n",
              "      <td>Drums of Autumn (Outlander)</td>\n",
              "      <td>Books</td>\n",
              "      <td>5.0</td>\n",
              "      <td>0.0</td>\n",
              "      <td>0.0</td>\n",
              "      <td>Y</td>\n",
              "      <td>Great!! Can't wait for Drums of Autumn</td>\n",
              "      <td>I have read the other 3 but can't wait for the...</td>\n",
              "      <td>98</td>\n",
              "      <td>4</td>\n",
              "      <td>Positive</td>\n",
              "      <td>Great!! Can't wait for Drums of Autumn.I have ...</td>\n",
              "    </tr>\n",
              "    <tr>\n",
              "      <th>2</th>\n",
              "      <td>I Am That: Talks with Sri Nisargadatta Maharaj</td>\n",
              "      <td>Books</td>\n",
              "      <td>5.0</td>\n",
              "      <td>6.0</td>\n",
              "      <td>6.0</td>\n",
              "      <td>Y</td>\n",
              "      <td>Find out the answer of all Questions.</td>\n",
              "      <td>This book can show you the way of how to put a...</td>\n",
              "      <td>64</td>\n",
              "      <td>5</td>\n",
              "      <td>Positive</td>\n",
              "      <td>Find out the answer of all Questions..This boo...</td>\n",
              "    </tr>\n",
              "    <tr>\n",
              "      <th>3</th>\n",
              "      <td>The Millionaire Next Door: The Surprising Secr...</td>\n",
              "      <td>Books</td>\n",
              "      <td>4.0</td>\n",
              "      <td>0.0</td>\n",
              "      <td>1.0</td>\n",
              "      <td>Y</td>\n",
              "      <td>Nice work, but let's hear more...</td>\n",
              "      <td>I firmly believe in the principles, having see...</td>\n",
              "      <td>196</td>\n",
              "      <td>5</td>\n",
              "      <td>Positive</td>\n",
              "      <td>Nice work, but let's hear more....I firmly bel...</td>\n",
              "    </tr>\n",
              "    <tr>\n",
              "      <th>4</th>\n",
              "      <td>The Day After Roswell</td>\n",
              "      <td>Books</td>\n",
              "      <td>5.0</td>\n",
              "      <td>3.0</td>\n",
              "      <td>4.0</td>\n",
              "      <td>Y</td>\n",
              "      <td>Corso's claims may still not satisfy debunkers</td>\n",
              "      <td>There are two credible eye witnesses to Roswel...</td>\n",
              "      <td>450</td>\n",
              "      <td>5</td>\n",
              "      <td>Positive</td>\n",
              "      <td>Corso's claims may still not satisfy debunkers...</td>\n",
              "    </tr>\n",
              "    <tr>\n",
              "      <th>...</th>\n",
              "      <td>...</td>\n",
              "      <td>...</td>\n",
              "      <td>...</td>\n",
              "      <td>...</td>\n",
              "      <td>...</td>\n",
              "      <td>...</td>\n",
              "      <td>...</td>\n",
              "      <td>...</td>\n",
              "      <td>...</td>\n",
              "      <td>...</td>\n",
              "      <td>...</td>\n",
              "      <td>...</td>\n",
              "    </tr>\n",
              "    <tr>\n",
              "      <th>1047127</th>\n",
              "      <td>Erased</td>\n",
              "      <td>Films_TV</td>\n",
              "      <td>4.0</td>\n",
              "      <td>0.0</td>\n",
              "      <td>0.0</td>\n",
              "      <td>Y</td>\n",
              "      <td>I swear I still enjoyed the movie</td>\n",
              "      <td>the difference here is the style. So its a lit...</td>\n",
              "      <td>319</td>\n",
              "      <td>14</td>\n",
              "      <td>Positive</td>\n",
              "      <td>I swear I still enjoyed the movie.the differen...</td>\n",
              "    </tr>\n",
              "    <tr>\n",
              "      <th>1047128</th>\n",
              "      <td>The Picture of Dorian Gray</td>\n",
              "      <td>Books</td>\n",
              "      <td>5.0</td>\n",
              "      <td>0.0</td>\n",
              "      <td>0.0</td>\n",
              "      <td>Y</td>\n",
              "      <td>Don't miss this one!</td>\n",
              "      <td>Oscar Wilde is a master of the epigram - almos...</td>\n",
              "      <td>78</td>\n",
              "      <td>4</td>\n",
              "      <td>Positive</td>\n",
              "      <td>Don't miss this one!.Oscar Wilde is a master o...</td>\n",
              "    </tr>\n",
              "    <tr>\n",
              "      <th>1047129</th>\n",
              "      <td>To Kill A Mockingbird</td>\n",
              "      <td>Books</td>\n",
              "      <td>5.0</td>\n",
              "      <td>0.0</td>\n",
              "      <td>0.0</td>\n",
              "      <td>Y</td>\n",
              "      <td>A Genuine Classic</td>\n",
              "      <td>What's there not to love about this book? The ...</td>\n",
              "      <td>40</td>\n",
              "      <td>5</td>\n",
              "      <td>Positive</td>\n",
              "      <td>A Genuine Classic.What's there not to love abo...</td>\n",
              "    </tr>\n",
              "    <tr>\n",
              "      <th>1047130</th>\n",
              "      <td>Man of Steel (2013)</td>\n",
              "      <td>Films_TV</td>\n",
              "      <td>2.0</td>\n",
              "      <td>1.0</td>\n",
              "      <td>4.0</td>\n",
              "      <td>Y</td>\n",
              "      <td>I just appreciate Chris Nolan and was looking ...</td>\n",
              "      <td>I did not grow up watching Superman so the ori...</td>\n",
              "      <td>52</td>\n",
              "      <td>5</td>\n",
              "      <td>Negative</td>\n",
              "      <td>I just appreciate Chris Nolan and was looking ...</td>\n",
              "    </tr>\n",
              "    <tr>\n",
              "      <th>1047131</th>\n",
              "      <td>Minecraft</td>\n",
              "      <td>Mobile_Apps</td>\n",
              "      <td>5.0</td>\n",
              "      <td>0.0</td>\n",
              "      <td>1.0</td>\n",
              "      <td>Y</td>\n",
              "      <td>adventurous</td>\n",
              "      <td>I LOVE THIS GAME SO  MUCH! ITS AMAZING HOW YOU...</td>\n",
              "      <td>107</td>\n",
              "      <td>8</td>\n",
              "      <td>Positive</td>\n",
              "      <td>adventurous.I LOVE THIS GAME SO  MUCH! ITS AMA...</td>\n",
              "    </tr>\n",
              "  </tbody>\n",
              "</table>\n",
              "<p>1047132 rows × 12 columns</p>\n",
              "</div>"
            ],
            "text/plain": [
              "                                             product_title  ...                                             review\n",
              "0                         Ender's Game (The Ender Quintet)  ...  HOW COULD ANYONE ONLY RATE THIS NOVEL A SIX?!?...\n",
              "1                              Drums of Autumn (Outlander)  ...  Great!! Can't wait for Drums of Autumn.I have ...\n",
              "2           I Am That: Talks with Sri Nisargadatta Maharaj  ...  Find out the answer of all Questions..This boo...\n",
              "3        The Millionaire Next Door: The Surprising Secr...  ...  Nice work, but let's hear more....I firmly bel...\n",
              "4                                    The Day After Roswell  ...  Corso's claims may still not satisfy debunkers...\n",
              "...                                                    ...  ...                                                ...\n",
              "1047127                                             Erased  ...  I swear I still enjoyed the movie.the differen...\n",
              "1047128                         The Picture of Dorian Gray  ...  Don't miss this one!.Oscar Wilde is a master o...\n",
              "1047129                              To Kill A Mockingbird  ...  A Genuine Classic.What's there not to love abo...\n",
              "1047130                                Man of Steel (2013)  ...  I just appreciate Chris Nolan and was looking ...\n",
              "1047131                                          Minecraft  ...  adventurous.I LOVE THIS GAME SO  MUCH! ITS AMA...\n",
              "\n",
              "[1047132 rows x 12 columns]"
            ]
          },
          "metadata": {
            "tags": []
          },
          "execution_count": 13
        }
      ]
    },
    {
      "cell_type": "markdown",
      "metadata": {
        "id": "mxMz6liI5YIk",
        "colab_type": "text"
      },
      "source": [
        "# Text summarization"
      ]
    },
    {
      "cell_type": "code",
      "metadata": {
        "id": "wcyoIYdn4MUg",
        "colab_type": "code",
        "colab": {
          "base_uri": "https://localhost:8080/",
          "height": 1017
        },
        "outputId": "7f915cf9-32ec-48bd-be25-ed9245680ce9"
      },
      "source": [
        "def summarize_text(review):\n",
        "  try:\n",
        "    return summarize(review)\n",
        "  except ValueError:\n",
        "    return None\n",
        "  \n",
        "df['summarized_review'] = df['review'].progress_map(summarize_text)\n",
        "df"
      ],
      "execution_count": 14,
      "outputs": [
        {
          "output_type": "stream",
          "text": [
            "100%|██████████| 1047132/1047132 [35:33<00:00, 490.81it/s]\n"
          ],
          "name": "stderr"
        },
        {
          "output_type": "execute_result",
          "data": {
            "text/html": [
              "<div>\n",
              "<style scoped>\n",
              "    .dataframe tbody tr th:only-of-type {\n",
              "        vertical-align: middle;\n",
              "    }\n",
              "\n",
              "    .dataframe tbody tr th {\n",
              "        vertical-align: top;\n",
              "    }\n",
              "\n",
              "    .dataframe thead th {\n",
              "        text-align: right;\n",
              "    }\n",
              "</style>\n",
              "<table border=\"1\" class=\"dataframe\">\n",
              "  <thead>\n",
              "    <tr style=\"text-align: right;\">\n",
              "      <th></th>\n",
              "      <th>product_title</th>\n",
              "      <th>product_category</th>\n",
              "      <th>star_rating</th>\n",
              "      <th>helpful_votes</th>\n",
              "      <th>total_votes</th>\n",
              "      <th>verified_purchase</th>\n",
              "      <th>review_headline</th>\n",
              "      <th>review_body</th>\n",
              "      <th>review_body_length</th>\n",
              "      <th>review_body_sentences</th>\n",
              "      <th>sentiment</th>\n",
              "      <th>review</th>\n",
              "      <th>summarized_review</th>\n",
              "    </tr>\n",
              "  </thead>\n",
              "  <tbody>\n",
              "    <tr>\n",
              "      <th>0</th>\n",
              "      <td>Ender's Game (The Ender Quintet)</td>\n",
              "      <td>Books</td>\n",
              "      <td>5.0</td>\n",
              "      <td>0.0</td>\n",
              "      <td>0.0</td>\n",
              "      <td>Y</td>\n",
              "      <td>HOW COULD ANYONE ONLY RATE THIS NOVEL A SIX?!?</td>\n",
              "      <td>Ender's Game is the most riveting and moving s...</td>\n",
              "      <td>80</td>\n",
              "      <td>4</td>\n",
              "      <td>Positive</td>\n",
              "      <td>HOW COULD ANYONE ONLY RATE THIS NOVEL A SIX?!?...</td>\n",
              "      <td></td>\n",
              "    </tr>\n",
              "    <tr>\n",
              "      <th>1</th>\n",
              "      <td>Drums of Autumn (Outlander)</td>\n",
              "      <td>Books</td>\n",
              "      <td>5.0</td>\n",
              "      <td>0.0</td>\n",
              "      <td>0.0</td>\n",
              "      <td>Y</td>\n",
              "      <td>Great!! Can't wait for Drums of Autumn</td>\n",
              "      <td>I have read the other 3 but can't wait for the...</td>\n",
              "      <td>98</td>\n",
              "      <td>4</td>\n",
              "      <td>Positive</td>\n",
              "      <td>Great!! Can't wait for Drums of Autumn.I have ...</td>\n",
              "      <td>Can't wait for Drums of Autumn.I have read the...</td>\n",
              "    </tr>\n",
              "    <tr>\n",
              "      <th>2</th>\n",
              "      <td>I Am That: Talks with Sri Nisargadatta Maharaj</td>\n",
              "      <td>Books</td>\n",
              "      <td>5.0</td>\n",
              "      <td>6.0</td>\n",
              "      <td>6.0</td>\n",
              "      <td>Y</td>\n",
              "      <td>Find out the answer of all Questions.</td>\n",
              "      <td>This book can show you the way of how to put a...</td>\n",
              "      <td>64</td>\n",
              "      <td>5</td>\n",
              "      <td>Positive</td>\n",
              "      <td>Find out the answer of all Questions..This boo...</td>\n",
              "      <td>It can add a lot on your thinking way of under...</td>\n",
              "    </tr>\n",
              "    <tr>\n",
              "      <th>3</th>\n",
              "      <td>The Millionaire Next Door: The Surprising Secr...</td>\n",
              "      <td>Books</td>\n",
              "      <td>4.0</td>\n",
              "      <td>0.0</td>\n",
              "      <td>1.0</td>\n",
              "      <td>Y</td>\n",
              "      <td>Nice work, but let's hear more...</td>\n",
              "      <td>I firmly believe in the principles, having see...</td>\n",
              "      <td>196</td>\n",
              "      <td>5</td>\n",
              "      <td>Positive</td>\n",
              "      <td>Nice work, but let's hear more....I firmly bel...</td>\n",
              "      <td>I live in an area that is like a case study fo...</td>\n",
              "    </tr>\n",
              "    <tr>\n",
              "      <th>4</th>\n",
              "      <td>The Day After Roswell</td>\n",
              "      <td>Books</td>\n",
              "      <td>5.0</td>\n",
              "      <td>3.0</td>\n",
              "      <td>4.0</td>\n",
              "      <td>Y</td>\n",
              "      <td>Corso's claims may still not satisfy debunkers</td>\n",
              "      <td>There are two credible eye witnesses to Roswel...</td>\n",
              "      <td>450</td>\n",
              "      <td>5</td>\n",
              "      <td>Positive</td>\n",
              "      <td>Corso's claims may still not satisfy debunkers...</td>\n",
              "      <td>Corso's claims may still not satisfy debunkers...</td>\n",
              "    </tr>\n",
              "    <tr>\n",
              "      <th>...</th>\n",
              "      <td>...</td>\n",
              "      <td>...</td>\n",
              "      <td>...</td>\n",
              "      <td>...</td>\n",
              "      <td>...</td>\n",
              "      <td>...</td>\n",
              "      <td>...</td>\n",
              "      <td>...</td>\n",
              "      <td>...</td>\n",
              "      <td>...</td>\n",
              "      <td>...</td>\n",
              "      <td>...</td>\n",
              "      <td>...</td>\n",
              "    </tr>\n",
              "    <tr>\n",
              "      <th>1047127</th>\n",
              "      <td>Erased</td>\n",
              "      <td>Films_TV</td>\n",
              "      <td>4.0</td>\n",
              "      <td>0.0</td>\n",
              "      <td>0.0</td>\n",
              "      <td>Y</td>\n",
              "      <td>I swear I still enjoyed the movie</td>\n",
              "      <td>the difference here is the style. So its a lit...</td>\n",
              "      <td>319</td>\n",
              "      <td>14</td>\n",
              "      <td>Positive</td>\n",
              "      <td>I swear I still enjoyed the movie.the differen...</td>\n",
              "      <td>Other considerations for this movie are not so...</td>\n",
              "    </tr>\n",
              "    <tr>\n",
              "      <th>1047128</th>\n",
              "      <td>The Picture of Dorian Gray</td>\n",
              "      <td>Books</td>\n",
              "      <td>5.0</td>\n",
              "      <td>0.0</td>\n",
              "      <td>0.0</td>\n",
              "      <td>Y</td>\n",
              "      <td>Don't miss this one!</td>\n",
              "      <td>Oscar Wilde is a master of the epigram - almos...</td>\n",
              "      <td>78</td>\n",
              "      <td>4</td>\n",
              "      <td>Positive</td>\n",
              "      <td>Don't miss this one!.Oscar Wilde is a master o...</td>\n",
              "      <td></td>\n",
              "    </tr>\n",
              "    <tr>\n",
              "      <th>1047129</th>\n",
              "      <td>To Kill A Mockingbird</td>\n",
              "      <td>Books</td>\n",
              "      <td>5.0</td>\n",
              "      <td>0.0</td>\n",
              "      <td>0.0</td>\n",
              "      <td>Y</td>\n",
              "      <td>A Genuine Classic</td>\n",
              "      <td>What's there not to love about this book? The ...</td>\n",
              "      <td>40</td>\n",
              "      <td>5</td>\n",
              "      <td>Positive</td>\n",
              "      <td>A Genuine Classic.What's there not to love abo...</td>\n",
              "      <td></td>\n",
              "    </tr>\n",
              "    <tr>\n",
              "      <th>1047130</th>\n",
              "      <td>Man of Steel (2013)</td>\n",
              "      <td>Films_TV</td>\n",
              "      <td>2.0</td>\n",
              "      <td>1.0</td>\n",
              "      <td>4.0</td>\n",
              "      <td>Y</td>\n",
              "      <td>I just appreciate Chris Nolan and was looking ...</td>\n",
              "      <td>I did not grow up watching Superman so the ori...</td>\n",
              "      <td>52</td>\n",
              "      <td>5</td>\n",
              "      <td>Negative</td>\n",
              "      <td>I just appreciate Chris Nolan and was looking ...</td>\n",
              "      <td>I just appreciate Chris Nolan and was looking ...</td>\n",
              "    </tr>\n",
              "    <tr>\n",
              "      <th>1047131</th>\n",
              "      <td>Minecraft</td>\n",
              "      <td>Mobile_Apps</td>\n",
              "      <td>5.0</td>\n",
              "      <td>0.0</td>\n",
              "      <td>1.0</td>\n",
              "      <td>Y</td>\n",
              "      <td>adventurous</td>\n",
              "      <td>I LOVE THIS GAME SO  MUCH! ITS AMAZING HOW YOU...</td>\n",
              "      <td>107</td>\n",
              "      <td>8</td>\n",
              "      <td>Positive</td>\n",
              "      <td>adventurous.I LOVE THIS GAME SO  MUCH! ITS AMA...</td>\n",
              "      <td>ITS AMAZING HOW YOU CAN GO ON ADVENTURES AND C...</td>\n",
              "    </tr>\n",
              "  </tbody>\n",
              "</table>\n",
              "<p>1047132 rows × 13 columns</p>\n",
              "</div>"
            ],
            "text/plain": [
              "                                             product_title  ...                                  summarized_review\n",
              "0                         Ender's Game (The Ender Quintet)  ...                                                   \n",
              "1                              Drums of Autumn (Outlander)  ...  Can't wait for Drums of Autumn.I have read the...\n",
              "2           I Am That: Talks with Sri Nisargadatta Maharaj  ...  It can add a lot on your thinking way of under...\n",
              "3        The Millionaire Next Door: The Surprising Secr...  ...  I live in an area that is like a case study fo...\n",
              "4                                    The Day After Roswell  ...  Corso's claims may still not satisfy debunkers...\n",
              "...                                                    ...  ...                                                ...\n",
              "1047127                                             Erased  ...  Other considerations for this movie are not so...\n",
              "1047128                         The Picture of Dorian Gray  ...                                                   \n",
              "1047129                              To Kill A Mockingbird  ...                                                   \n",
              "1047130                                Man of Steel (2013)  ...  I just appreciate Chris Nolan and was looking ...\n",
              "1047131                                          Minecraft  ...  ITS AMAZING HOW YOU CAN GO ON ADVENTURES AND C...\n",
              "\n",
              "[1047132 rows x 13 columns]"
            ]
          },
          "metadata": {
            "tags": []
          },
          "execution_count": 14
        }
      ]
    },
    {
      "cell_type": "code",
      "metadata": {
        "id": "dcsmulVDESIs",
        "colab_type": "code",
        "colab": {
          "base_uri": "https://localhost:8080/",
          "height": 2485
        },
        "outputId": "bdd6c3bf-ab51-45f0-e65e-583a3a881bd3"
      },
      "source": [
        "example_indexes = [660, 774, 896, 1086, 22269, 37481, 77494, 79958, 86978, 678099, 819676, 848417, 1016967, 1034908, 1045842, 1046297]\n",
        "for item in example_indexes:\n",
        "  current_row = df.iloc[item]\n",
        "  print('Product title: {}\\nProduct category: {}\\nReview headline: {}\\nReview body: {}\\nReview summary: {}\\n\\n'.format(\n",
        "      current_row['product_title'], current_row['product_category'],\n",
        "      current_row['review_headline'], current_row['review_body'],\n",
        "      current_row['summarized_review']\n",
        "  ))"
      ],
      "execution_count": 32,
      "outputs": [
        {
          "output_type": "stream",
          "text": [
            "Product title: Angela's Ashes (The Frank McCourt Memoirs)\n",
            "Product category: Books\n",
            "Review headline: A version of &quot;Roots&quot; for the Irish\n",
            "Review body: All of a sudden the actions of many of my relatives seemed part of a larger pattern. My God! Was it because we have Irish roots &amp; souls? I did NOT find this book to be &quot;self-pity tripe&quot; as others have described it. I thought the author spoke in a unique running narrative,  with a matter-of-fact rather than &quot;woe is me&quot; tone. Hell, I  challenge anyone describing this as their history to make it sound upbeat.  The truth was a story in itself and it has occured many times over  throughout our human history. That he survived in an indifferent world was  uplifting. I have many connections to this. I come from a long line of  passionate, creative people who love and live hard. Many of them have made  the mistakes of McCourt's father and mother. A handful have gone to succeed  like the author and his siblings.  But the very best was Frank McCourts  opening. The first few paragraphs of the book set the stage nicely. In  short, he says a happy childhood may not have the worth of a difficult one.  Hard beginnings have created some of the best characters out there. I'm  sure I would be a very different person myself if I came from  &quot;soft&quot; beginnings. But I did not. I'm the strong and passionate  person I am because I did not, and that is the way of the world. It is  rewarding to read a book where my temperment and instictive nature makes  sense.\n",
            "Review summary: A version of &quot;Roots&quot; for the Irish.All of a sudden the actions of many of my relatives seemed part of a larger pattern.\n",
            "I did NOT find this book to be &quot;self-pity tripe&quot; as others have described it.\n",
            "I'm  sure I would be a very different person myself if I came from  &quot;soft&quot; beginnings.\n",
            "\n",
            "\n",
            "Product title: Abbey Road\n",
            "Product category: Music\n",
            "Review headline: Simply....A Masterpiece!\n",
            "Review body: I've read several of the comments and most were right on about the music. Amazing that people are referring to this album as the Beatles Swan Song considering this was their last recording. How many artists can you recall  that can create even at the end of their run? Few...Few far too few can  still churn them out as the beatles did.(Obviously Dylan, Van Morrison,  Post Beatles McCartney, Lennon and Harrison, John Williams for the movie  scores  but the list does not go on and on) The music is pure heaven.  Kudo's to George Martin for his production efforts. You'll really  appreciate his artistry if you've bought the post beatle recording takes  (the one where you can hear lennon playing guitar for Mean Mister Mustard).  Ah, the melody is John, Paul and Georges but the end product in part  belongs to Mr. Martin too. The beatles were so far ahead of the curve and  it's evidenced by what they did on Abbey Road. Come Together might be the  first song with a quasi rap beat, Something... well it's something else!  How did Harrison conjure up such a sweet flowing melody as that. &quot;I  Don't Know&quot;, I Don't Know&quot;. I could go on...but it would be  fruitless. If you can't find any heaven in Abbey Road, nothing will ale  you.Listen to &quot;She Came in Through the Bathroom Window&quot; and hear  Paul etch out his higher note Knew as in She thought I KNEW the answer. He  still couldn't stop paying tribute to Little Richard. Pure Heaven. The only  thing wrong with the album is that it comes to an end. It's is probably one  of the top 5 recordings of all time. I wouldn't be suprised if it remains  so in the years to come. Do yourself a favor, order the CD and just Listen.  If ever there was a time for using the two ears that god gave you do it  when Abbey Road is playing. After a while you'll be singing too. Yeah Yeah  Yeah!\n",
            "Review summary: Few...Few far too few can  still churn them out as the beatles did.(Obviously Dylan, Van Morrison,  Post Beatles McCartney, Lennon and Harrison, John Williams for the movie  scores  but the list does not go on and on) The music is pure heaven.\n",
            "You'll really  appreciate his artistry if you've bought the post beatle recording takes  (the one where you can hear lennon playing guitar for Mean Mister Mustard).\n",
            "Ah, the melody is John, Paul and Georges but the end product in part  belongs to Mr. Martin too.\n",
            "If you can't find any heaven in Abbey Road, nothing will ale  you.Listen to &quot;She Came in Through the Bathroom Window&quot; and hear  Paul etch out his higher note Knew as in She thought I KNEW the answer.\n",
            "\n",
            "\n",
            "Product title: Aliens (Special Edition)\n",
            "Product category: Films_TV\n",
            "Review headline: This is why Special Edition's are made!\n",
            "Review body: Aliens is NOT a rehash of Alien. They are completely different films. While Alien used suspence and shock factor to get the audience (I didn't drink milk for weeks after seeing it!), Aliens is an action-packed powerhouse. Heart-pounding, edge-of-your-seat cinema at it's finest. My hat is off to James Cameron for directing and re-writing the script.<br />Quick rundown of the plot of Aliens:<br />Flight Lt. Ripley (Sigorney Weaver) wakes up after an unusually long hyper-sleep to find out that the horror she left behind in &quot;Alien&quot; has taken on massive proportions.<br />You'll see a bunch of familar faces in Aliens:<br /><br />Michael Biehn (Terminator, The Abyss) as Hicks<br /> Paul Reiser (Mad About You, Diner) as Burke<br /> Lance Henrikson (Millennium, The Quick and the Dead) as Bishop<br /> Bill Paxton (Twister, Titanic) as Hudson<br /> ...and a few others that will make you do a double-take. -See if you can figure out what other movie &quot;Private Vasquez&quot; was in with Bill Paxton.<br />The visual effects are astounding. Thanks to DVD, details can be seen that were blurred in the VHS format. (I can finally read what is written on Ferro's helmet!) This film takes clear advantage of the DVD format and its THX re-mastering. I feel sorry for you if you don't have a large screen and full surround-sound at home for this one! Watching it in wide-screen format reveals all of the detail that has been missing for so long in the pan-and-scan format.<br />The Special Edition goodies include scenes that were cut from the theaters. The &quot;new&quot; footage (previously only available in LaserDisc format) blend seamlessly into the film. They all add value. I kept thinking &quot;I don't remember that&quot; and &quot;HEY! NOW I get it!&quot; If you've never seen the 17 minutes of added footage, you're in for a treat!<br />You'll also find Behind the Scenes footage and a photo gallery in the Special Edition. All perks that make this purchase worth while. Even the main menu on the DVD is a treat.<br />Do yourself a favor, buy this action classic and watch it the way it was intended to be seen!on the DVD is a treat.<br />Do yourself a favor, buy this action classic and watch it the way it was intended to be seen!\n",
            "Review summary: Watching it in wide-screen format reveals all of the detail that has been missing for so long in the pan-and-scan format.<br />The Special Edition goodies include scenes that were cut from the theaters.\n",
            "The &quot;new&quot; footage (previously only available in LaserDisc format) blend seamlessly into the film.\n",
            "NOW I get it!&quot; If you've never seen the 17 minutes of added footage, you're in for a treat!<br />You'll also find Behind the Scenes footage and a photo gallery in the Special Edition.\n",
            "\n",
            "\n",
            "Product title: Being John Malkovich\n",
            "Product category: Films_TV\n",
            "Review headline: A refreshingly original movie.\n",
            "Review body: After reading a few reviews of this movie it is clear that it is a movie that you either love or hate. Personally, I love it. It is easily the best movie of 1999, and fully deserved its three Oscar nominations. John Cusack  is well cast as a struggling puppeteer whose life takes a strange turn when  he discovers a hidden door in his office. Catherine Keener and Cameron Diaz  also put in fine performances. John Malkovich has a tough role to play but  pulls it off with conviction. If you are expecting a laugh-a-minute comedy  then this movie probably isn't for you. Although it has it's funny moments,  these are subtly played - like Cusack applying for a filing job on the  seven and a halfth floor, which has rather low ceilings (low overheads you  see, so the savings can be passed onto the customer...).  The overall  premise is pure fantasy and requires suspension of disbelief but if you are  prepared to go along with it, this movie is well worth seeing. It is very  thought-provoking. Finding a category for this movie would be a tough job,  but the best I can come up with is 'bizarre existentialist philosophical  comedy' (but don't let that put you off...). The DVD itself is very good.  Excellent picture and sound, and some extras although these are of  questionable quality. The 'interview' with director Spike Jonze is quite  frankly baffling. It takes place in a moving car and he ends up getting out  and vomiting. Whatever.  So, I wholeheartedly recommend this. It easily  slots into my top 10 movies. One of the most original movies I have ever  seen.\n",
            "Review summary: It is easily the best movie of 1999, and fully deserved its three Oscar nominations.\n",
            "Finding a category for this movie would be a tough job,  but the best I can come up with is 'bizarre existentialist philosophical  comedy' (but don't let that put you off...).\n",
            "One of the most original movies I have ever  seen.\n",
            "\n",
            "\n",
            "Product title: Spider-Man 3 [Theatrical Release]\n",
            "Product category: Films_TV\n",
            "Review headline: Web Sight\n",
            "Review body: As the film opens, Peter Parker (Tobey Maguire), finds life finally going his way His relationship with girlfriend Mary Jane Watson (Kirsten Dunst) is so great, in fact, that he's ready to ask her to marry him. And as superhero,--Spider-Man, he is much beloved by the city of New York, for all of his daring doo...<br /><br />But the celebration is short-lived. The webslinger soon finds himself facing multiple threats...Former pal Harry Osborn (James Franco) still blames Spidey for the death of his father and wants revenge; After a small meteor falls to earth, an alien organism attaches itself to his costume enhancing his powers, transforming our hero as well bringing out the vengeful side of his personality. Under the influence of the suit, Peter becomes overconfident and starts to neglect the people who care for him most. Forced to choose between the seductive power and the compassionate hero he used to be, Peter must overcome his personal demons in order to defeat two new enemies: Sandman (Thomas Haden Church) and Venom (Topher Grace)<br /><br />As the final credits for the film began to roll--I couldn't help but think of last summer's Superman Returns...<br /><br />While I think Spider-Man 3 is a better movie overall, I think some of the same issues that hampered SR, also plagued this film...Specifics in a bit..<br /><br />Under Sam Raimi's direction, Spidey 3 offers us a lot to like: Some of the best battle scenes of the series. My favorite though, is by far, the face off between Harry as the new Goblin, and Peter. Wow! Great Stuff. Speaking of Harry, I thought Franco had the film's best performance, coming a long way since the first film. More visual high points include the birth of the Sandman and most of the Venom stuff... After 3 films, Maguire is quite comfy in the dual role, but obviously had a lot of fun exploring his dark side. Dunst spends most of her arc either bemoaning her character's stalled career or her relationship with a superhero...<br /><br />As to those issues: The screenplay by Raimi, his brother Ivan, and Alvin Sargent (Spider-Man 2) has so much going on in it, that the film seems to go all over the place at times-juggling one too many plot lines really affecting the narrative. There's also a scene between Harry and his butler that left me saying--that should have happened in the the second film... With all of this going on--some of the characters really get short-changed. I love Rosemary Harris as Aunt May and J.K. Simmons as J. Jonah Jameson--but both really don't have that much screen time here--I also wanted to find out more about Grace's Eddie Brock and Church's Sandman-who formed a villain alliance after a 30 second encounter in an alley...Since there are so many arcs to service the editing of the film is quite uneven--rushed in some spots, yet somehow long in others. Some of this stuff could have waited until the next installment...<br /><br />The final battle is a spectacular piece of filmmaking--That said, the emotional impact of the ending is lost in a sea of predictability.<br /><br />I liked Spidey 3 a lot--it's a must see--all of those \\\\\"issues\\\\\" aside...But in my opinion, the sequel would have been better served by cutting the fat.\n",
            "Review summary: Web Sight.As the film opens, Peter Parker (Tobey Maguire), finds life finally going his way His relationship with girlfriend Mary Jane Watson (Kirsten Dunst) is so great, in fact, that he's ready to ask her to marry him.\n",
            "Forced to choose between the seductive power and the compassionate hero he used to be, Peter must overcome his personal demons in order to defeat two new enemies: Sandman (Thomas Haden Church) and Venom (Topher Grace)<br /><br />As the final credits for the film began to roll--I couldn't help but think of last summer's Superman Returns...<br /><br />While I think Spider-Man 3 is a better movie overall, I think some of the same issues that hampered SR, also plagued this film...Specifics in a bit..<br /><br />Under Sam Raimi's direction, Spidey 3 offers us a lot to like: Some of the best battle scenes of the series.\n",
            "Dunst spends most of her arc either bemoaning her character's stalled career or her relationship with a superhero...<br /><br />As to those issues: The screenplay by Raimi, his brother Ivan, and Alvin Sargent (Spider-Man 2) has so much going on in it, that the film seems to go all over the place at times-juggling one too many plot lines really affecting the narrative.\n",
            "\n",
            "\n",
            "Product title: The Hunger Games (The Hunger Games, Book 1)\n",
            "Product category: Books\n",
            "Review headline: Completely and utterly amazing...\n",
            "Review body: This book had so much carnage and ferocity. I read that many felt that Ms. Collins was extreme in her writing. I, however, believe that she was true to herself. As an author that knew exactly what she wanted to write she never held back for fear of offending someone. She pushed forward, not sparing anyone's feelings, including herself's. I admire her a great deal for that.<br /><br />Katniss alone is deserving of a five-star rating. She has an incredible spirit that she emanates with every breath she takes and every word she speaks. She is completely unbreakable, someone worthy of our daughters' admiration. After everything that she's been through, all the suffering she has endured; emotional and physical she is still pushing forward. Caring for Prim and never feeling sorry for herself. I believe myself to be a strong-willed woman who says what she thinks and feels. I therefore admire that quality in others', whether they are fictional characters, such as Ms. Katniss Everdeen, or an author simply being true to who she is, like Ms. Suzanne Collins. Thank you for creating an amazing, enticing series! I look forward to your next series, whatever it may be.\n",
            "Review summary: She pushed forward, not sparing anyone's feelings, including herself's.\n",
            "I therefore admire that quality in others', whether they are fictional characters, such as Ms. Katniss Everdeen, or an author simply being true to who she is, like Ms. Suzanne Collins.\n",
            "\n",
            "\n",
            "Product title: Toy Story 3\n",
            "Product category: Films_TV\n",
            "Review headline: Friends Forever\n",
            "Review body: My first son was just 2 1/2 years old when I got him the Toy Story / Toy Story 2 combo pack. I know this for sure because at the top of the Amazon Toy Story / Toy Story 2 combo pack product page it says, \\\\\"You purchased this item on November 28, 2001.\\\\\" Wow...how time flies.<br /><br />So it was to my surprise that when my son, now 11, stayed home from school with a cold earlier this year, I found him watching Toy Story. He had just put the DVD in the player, so I sat with him for a second before I headed off to work. Then the second turned into a few minutes; then a few minutes turned into a nostalgic hour; which of course turned into, \\\\\"What a great, classic movie, Dad; Let's watch Toy Story 2!\\\\\" So I obliged. (I hope my boss isn't reading this.)<br /><br />I'd forgotten what classics Toy Story and Toy Story 2 are. And it turns out that Toy Story 3 is just as classic as the first two. Not only do these movies deserve just a viewing, they deserve to be added to your movie collection. Watched the Blu Ray version last night with the entire family, and had to buy the standard DVD today, because my 7 year old daughter insisted that she needs to be able to watch the movie several times...but \\\\\"upstairs\\\\\" where i don't have a Blu Ray player set up. No problem. I may be biased because of the strong emotional attachment that I found that I had and have renewed with these movies, but I say that all three Toy Story movies truly are collectors' items.<br /><br />While watching Toy Story 3 last night, just as when I watched the first two again earlier this year, I was laughing out loud, holding in the sobs and just plain enjoying perhaps the best animated movies ever to come out of Disney.<br /><br />The first is about Andy's (6 - 8 years old?) toys and what happens when Andy introduces his new Buzz Lightyear to the group of toys that he grew up with. But the toys better be sure to stay out of the hands of Andy's next door neighbor Sid, because Sid's idea of fun is toy torture! Then in Toy Story 2 it's spring cleanup time, and the toys better hide if they don't want to end up in the yard sale; especially if you're a rare toy and there are greedy toy collectors that would just love to have...er..I mean...sell you. Finally in Toy Story 3 Andy is all grown up and the Toys have to deal with wondering if Andy will take them to college (a bad bet), keep them in his room (probably not or....Donate them or....Throw them out in the trash?!?<br /><br />Tom Hanks and Tim Allen are once again magic together in Toy Story 3 and they are joined by a cast of many many A-list voice talents...Don Rickles as Mr. Potato Head is my favorite (ya hockey puck!).<br /><br />And one more note, if you've ever seen the Buzz Lightyear [[ASIN:B00004T2SJ Disney Channel spinoff]] but not the movies, don't be dissuaded by the spinoff because it was silly in comparison; the movies are head and shoulders above the spinoff in acting, animation and storywise.<br /><br />I'd grab the whole collection and see Toy Story 1 & 2 before 3 if you haven't already...it really puts things in perspective to watch it chronologically. Either way, get it into your cart then enjoy...with or without some kids!anup time, and the toys better hide if they don't want to end up in the yard sale; especially if you're a rare toy and there are greedy toy collectors that would just love to have...er..I mean...sell you. Finally in Toy Story 3 Andy is all grown up and the Toys have to deal with wondering if Andy will take them to college (a bad bet), keep them in his room (probably not or....Donate them or....Throw them out in the trash?!?    Tom Hanks and Tim Allen are once again magic together in Toy Story 3 and they are joined by a cast of many many A-list voice talents...Don Rickles as Mr. Potato Head is my favorite (ya hockey puck!).    And one more note, if you've ever seen the Buzz Lightyear [[ASIN:B00004T2SJ Disney Channel spinoff]] but not the movies, don't be dissuaded by the spinoff because it was silly in comparison; the movies are head and shoulders above the spinoff in acting, animation and storywise.    I'd grab the whole collection and see Toy Story 1 & 2 before 3 if you haven't already...it really puts things in perspective to watch it chronologically. Either way, get it into your cart then enjoy...with or without some kids!\n",
            "Review summary: Finally in Toy Story 3 Andy is all grown up and the Toys have to deal with wondering if Andy will take them to college (a bad bet), keep them in his room (probably not or....Donate them or....Throw them out in the trash?!?<br /><br />Tom Hanks and Tim Allen are once again magic together in Toy Story 3 and they are joined by a cast of many many A-list voice talents...Don Rickles as Mr. Potato Head is my favorite (ya hockey puck!).<br /><br />And one more note, if you've ever seen the Buzz Lightyear [[ASIN:B00004T2SJ Disney Channel spinoff]] but not the movies, don't be dissuaded by the spinoff because it was silly in comparison; the movies are head and shoulders above the spinoff in acting, animation and storywise.<br /><br />I'd grab the whole collection and see Toy Story 1 & 2 before 3 if you haven't already...it really puts things in perspective to watch it chronologically.\n",
            "Either way, get it into your cart then enjoy...with or without some kids!anup time, and the toys better hide if they don't want to end up in the yard sale; especially if you're a rare toy and there are greedy toy collectors that would just love to have...er..I mean...sell you.\n",
            "And one more note, if you've ever seen the Buzz Lightyear [[ASIN:B00004T2SJ Disney Channel spinoff]] but not the movies, don't be dissuaded by the spinoff because it was silly in comparison; the movies are head and shoulders above the spinoff in acting, animation and storywise.\n",
            "\n",
            "\n",
            "Product title: The Essential Bob Dylan\n",
            "Product category: Music\n",
            "Review headline: Bob Dylan, W.C. Fields, and the invariably irritating omissions of the song choosers\n",
            "Review body: Bob Dylan might be said to be the musical equivalent of W.C. Fields. They are so fascinating, you can't stop watching them (or listening to him, in Dylan's case) -- yet you might not really know why.<br /><br />Was W.C. Fields easy on the eyes? No. Did he seem like somebody you might want as your next-door neighbor? Not especially. Was he outrageosly hilarious? I don't think so; but there was some quality about him that keeps your eyes glued to him when you watch one of his movies.<br /><br />Dylan is similar to me: Is he a great musician? No -- all his harmonica \\\\\"solos\\\\\" sound pretty much the same, for example. Does he seem like the kind of guy you'd want as your best buddy? Not necessarily -- he seems a little aloof and self-absorbed to me. Is he a great singer? Hardly. Sometimes you wonder if when he's singing he's making fun of somebody else (Woody Guthrie?) or he's putting everybody on with this vocal style. And yet ... there's something sort of addictive about it all.<br /><br />His vocal phrasing and timing are amazing - maybe that's one of the things that makes him so fascinating - he keeps you on your toes that way, constantly changing up the time value of the notes and his intonation.<br /><br />Anyway, Mr. Bob IS a great songwriter, and that's so obvious that it's barely an opinion, but practically an established fact; as proof just take a look at a small subset of the artists who have covered his songs:<br />Johnny Cash<br />Eric Clapton<br />Sam Cooke<br />Flatt & Scruggs<br />Green Day<br />Burl Ives<br />Wyclef Jean<br />B.B. King<br />Dave Matthews Band<br />John Mellencamp<br />Van Morrison<br />Willie Nelson<br />Aaron Neville<br />Ozzy Osbourne<br />Elvis Presley<br />The Ramones<br />Rage Against the Machine<br />The Rolling Stones (Who do a cover of \\\\\"Like a Rolling Stone\\\\\")<br />Bruce Springsteen<br />George Thorogood<br />U2<br /><br />...and of course The Byrds (who did better versions of many of his songs than he did himself), Joan Baez, etc.<br /><br />Getting back to the earlier comparison, I guess Fields was a comic genius, although it's hard to dissect his work and come up with a plain analysis on just why it can be said he was so talented; the same can be said of Dylan, perhaps: he's a monster, but just why is a bit of a conundrum.<br /><br />All collections of this type leave out at least one song that makes you say, \\\\\"What were they thinking? Why isn't ___ on here?\\\\\" In this case, for me, it's \\\\\"A Hard Rain's a-Gonna Fall.\\\\\" There are many great Dylan tunes missing that are probably better covered by someone else (such as \\\\\"My Back Pages\\\\\" by The Byrds and \\\\\"Wanted Man\\\\\" by George Thorogood), but the original of \\\\\"A Hard Rain\\\\\" is THE definitive version of that particular song.<br /><br />In summary, I think Dylan is one of the best songwriters ever, and this is a good introduction to and /or representation of his music.ome up with a plain analysis on just why it can be said he was so talented; the same can be said of Dylan, perhaps: he's a monster, but just why is a bit of a conundrum.    All collections of this type leave out at least one song that makes you say, \\\\\"What were they thinking? Why isn't ___ on here?\\\\\" In this case, for me, it's \\\\\"A Hard Rain's a-Gonna Fall.\\\\\" There are many great Dylan tunes missing that are probably better covered by someone else (such as \\\\\"My Back Pages\\\\\" by The Byrds and \\\\\"Wanted Man\\\\\" by George Thorogood), but the original of \\\\\"A Hard Rain\\\\\" is THE definitive version of that particular song.    In summary, I think Dylan is one of the best songwriters ever, and this is a good introduction to and /or representation of his music.\n",
            "Review summary: there's something sort of addictive about it all.<br /><br />His vocal phrasing and timing are amazing - maybe that's one of the things that makes him so fascinating - he keeps you on your toes that way, constantly changing up the time value of the notes and his intonation.<br /><br />Anyway, Mr. Bob IS a great songwriter, and that's so obvious that it's barely an opinion, but practically an established fact; as proof just take a look at a small subset of the artists who have covered his songs:<br />Johnny Cash<br />Eric Clapton<br />Sam Cooke<br />Flatt & Scruggs<br />Green Day<br />Burl Ives<br />Wyclef Jean<br />B.B. King<br />Dave Matthews Band<br />John Mellencamp<br />Van Morrison<br />Willie Nelson<br />Aaron Neville<br />Ozzy Osbourne<br />Elvis Presley<br />The Ramones<br />Rage Against the Machine<br />The Rolling Stones (Who do a cover of \\\\\"Like a Rolling Stone\\\\\")<br />Bruce Springsteen<br />George Thorogood<br />U2<br /><br />...and of course The Byrds (who did better versions of many of his songs than he did himself), Joan Baez, etc.<br /><br />Getting back to the earlier comparison, I guess Fields was a comic genius, although it's hard to dissect his work and come up with a plain analysis on just why it can be said he was so talented; the same can be said of Dylan, perhaps: he's a monster, but just why is a bit of a conundrum.<br /><br />All collections of this type leave out at least one song that makes you say, \\\\\"What were they thinking?\n",
            "Why isn't ___ on here?\\\\\" In this case, for me, it's \\\\\"A Hard Rain's a-Gonna Fall.\\\\\" There are many great Dylan tunes missing that are probably better covered by someone else (such as \\\\\"My Back Pages\\\\\" by The Byrds and \\\\\"Wanted Man\\\\\" by George Thorogood), but the original of \\\\\"A Hard Rain\\\\\" is THE definitive version of that particular song.<br /><br />In summary, I think Dylan is one of the best songwriters ever, and this is a good introduction to and /or representation of his music.ome up with a plain analysis on just why it can be said he was so talented; the same can be said of Dylan, perhaps: he's a monster, but just why is a bit of a conundrum.\n",
            "Why isn't ___ on here?\\\\\" In this case, for me, it's \\\\\"A Hard Rain's a-Gonna Fall.\\\\\" There are many great Dylan tunes missing that are probably better covered by someone else (such as \\\\\"My Back Pages\\\\\" by The Byrds and \\\\\"Wanted Man\\\\\" by George Thorogood), but the original of \\\\\"A Hard Rain\\\\\" is THE definitive version of that particular song.\n",
            "\n",
            "\n",
            "Product title: Clean Code: A Handbook of Agile Software Craftsmanship\n",
            "Product category: Books\n",
            "Review headline: Minutiae matter\n",
            "Review body: Clean Code is a well-written book by Robert Martin and a few colleagues, explaining their take on the best way to write computer code. The main thrust of their thesis is that code should be easy to read so that anyone that comes after you will be easily able to determine what exactly the code is doing, without tracing the logic out by hand and deciphering variable and function names. All of this is accomplished, according to Martin and company, by having beat-you-over-the-head names such as getNextDayOfWeek(), numberOfArguments, and isIntArg(). In addition, functions should be very small and do only one thing. Eventually, you will find that your code won't need comments, because the code itself is the documentation. The book says this many times in many ways, and with many different examples. All of the implementations are in Java, and most of the advice is geared towards it and other object-oriented languages. The 400-odd pages of the book are very well organized into 17 chapters. Despite being a programming book, the tone is very conversational and not at all dry- not quite a page-turner, but hardly something that will put you to sleep.<br /><br />It's a good book, but I can't help but take exception to some of the message. It is *ridiculous* to have many small functions. There is a point where all those functions become goto statements, and the supposedly high-level language looks more like the spaghetti code that is assembly language. Yes, the smaller functions are easier to test, but at what cost? All that overhead would slow the code down. Nevertheless, there are a lot of good take-aways from this book, no matter where you are in your programming career. After I finished reading I definitely looked at my own code with new eyes, and started making some changes for the better. I recommend this book as a companion to the other outstanding programming books ([[ASIN:0735619670 Code Complete]], [[ASIN:020161622X The Pragmatic Programmer]], etc.)\n",
            "Review summary: Minutiae matter.Clean Code is a well-written book by Robert Martin and a few colleagues, explaining their take on the best way to write computer code.\n",
            "The main thrust of their thesis is that code should be easy to read so that anyone that comes after you will be easily able to determine what exactly the code is doing, without tracing the logic out by hand and deciphering variable and function names.\n",
            "Nevertheless, there are a lot of good take-aways from this book, no matter where you are in your programming career.\n",
            "\n",
            "\n",
            "Product title: Wolf Of Wall Street\n",
            "Product category: Films_TV\n",
            "Review headline: Smartest Guys in the Room...uncensored....\n",
            "Review body: Not for the faint of heart by any means. DiCaprio and Hill are amazing in this film. Throughout the film my husband and I were laughing out loud over the sheer ridiculousness and over the top-ness of the characters' behavior. We have sick senses of humor but you just can't help it with some of the conversations with these guys.<br /><br />While I thought it was a little long at 3 hours but that's my only gripe. For those who have given 1 or 2 stars because it's \\\\\"porn\\\\\" and non-stop debauchery- THAT'S THE WHOLE POINT! This movie wasn't created to make you actually LIKE these people, it's to show how greed, fortune, and success completely warps your morality and sense of self so far from what is \\\\\"normal\\\\\" that it's vile, disgusting, and corrupt. As the film goes on you can see the progression (or regression) of the characters. Think of it like Lord of the Flies- your perception of reality and right and wrong will warp based on your surroundings. About 2/3rds of the way into the film, DiCaprio says something along the lines of \\\\\"Of course this is disgusting and wrong to the normal person. But we're not normal people and in our world we only want more at any cost.\\\\\"<br /><br />If you've ever seen \\\\\"The Smartest Guys in the Room\\\\\" (the documentary on Enron), it hints at a lot of this type of behavior that is actually shown (rather than implied) in \\\\\"Wolf of Wall Street.\\\\\" There's no warm up or \\\\\"easing into\\\\\" the raucous of this film, if you're offended in the first 5 minutes then you probably should turn it off. But don't just rate it low based on the first 5 minutes, you sissy. And FFS, don't let the kids watch this. I've known folks who have worked in the financial industry and even off of Wall Street they have described that the behavior in the film is common place (the term they used was, \\\\\"you're compensated in hookers & blow\\\\\"). That pretty much sums it up and this film is true to that.<br /><br />Overall, I thought the film was fantastic. You have to look beyond what they'reshowing on the surface to truly appreciate it. The performances were well done and had Jordan Belfort not made a few missteps due to greed, he probably would not have been busted at all.\n",
            "Review summary: This movie wasn't created to make you actually LIKE these people, it's to show how greed, fortune, and success completely warps your morality and sense of self so far from what is \\\\\"normal\\\\\" that it's vile, disgusting, and corrupt.\n",
            "About 2/3rds of the way into the film, DiCaprio says something along the lines of \\\\\"Of course this is disgusting and wrong to the normal person.\n",
            "But we're not normal people and in our world we only want more at any cost.\\\\\"<br /><br />If you've ever seen \\\\\"The Smartest Guys in the Room\\\\\" (the documentary on Enron), it hints at a lot of this type of behavior that is actually shown (rather than implied) in \\\\\"Wolf of Wall Street.\\\\\" There's no warm up or \\\\\"easing into\\\\\" the raucous of this film, if you're offended in the first 5 minutes then you probably should turn it off.\n",
            "\n",
            "\n",
            "Product title: Led Zeppelin III (Super Deluxe Edition Box) (CD & LP)\n",
            "Product category: Music\n",
            "Review headline: IMMORTALITY!\n",
            "Review body: Not going into a lot of comments here. Led Zeppelin has been part of my life for the past 30 years. I've been waiting for these rereleases with tons of curiosity and so far I've purchased II and III. I might go for the 2 CD version for the first album (the Paris concert is a MUST), since there is more coming pretty soon.<br />I am happy with the result. The remastering is top 10 and I was expecting nothing else from Page. The weight is more distributed and the songs have more \\\\\"air\\\\\" between them. Zep II still has that muffled sound, but I guess that is the result of recording in so many different environments during those hectic times. The bonus material on the second LP and CD is ok. I was not hoping for never heard songs, throw away tracks or only live recordings, but there is nothing that could be considered SO MUCH different from the original albums. Yes, it gives you a closer insight of the recording process, but it does NOT add anything new to what I feel about the band.<br />The packaging is deluxe indeed with III being the most beautiful of all three boxes! High quality pictures, prints and a very sturdy box. I might have a false impression though, but somehow the design among the boxes is a bit too similar for me. Like, everything has the same feel, and only the music and the pictures let you know that you are listening to different albums. Very standard, almost like big chain manufacturing. But then again, it would be too much to come up with something new for every album. For a band like Led Zeppelin, the mystique, sheer power and almost holy like believe in its immortality, we have to be grateful that there is another chance to be blasted away by the cold winds of the land of ice and snow!\n",
            "Review summary: I was not hoping for never heard songs, throw away tracks or only live recordings, but there is nothing that could be considered SO MUCH different from the original albums.\n",
            "Yes, it gives you a closer insight of the recording process, but it does NOT add anything new to what I feel about the band.<br />The packaging is deluxe indeed with III being the most beautiful of all three boxes!\n",
            "Like, everything has the same feel, and only the music and the pictures let you know that you are listening to different albums.\n",
            "\n",
            "\n",
            "Product title: Five Nights at Freddy's\n",
            "Product category: Mobile_Apps\n",
            "Review headline: I must have the wrong game....\n",
            "Review body: Though it says &quot;Five Nights at Teddy' s&quot;, and that's what I paid for, we can't be talking about the same game. This game is stupid. Most of the one star ratings complain that the game crashing and how disappointed they are not being able to play. The higher ratings love the game. One commented the game was so scary they couldn't sleep at night. The game provided no challenge and required little to no thought. So...it must be scary. Yep, about as scary as the Muppets. A still shot of a blue bear, scary?  I've never read so many (or any) reviews on Amazon that sounded dishonest or prompted, except for the occasional developer's rating their own game under a pseudonym. And where are the negative reviews? Not the ones complaining about tech problems, the ones that simply don't like the game. I sorted reviews by the lowest rating. Admittedly, I didn't read them all. I got tired of reading the same complaints repeatedly. The was one (1)  one star review that didn't like the game. I could go on buy I've wasted enough time on this nonsense.\n",
            "Review summary: One commented the game was so scary they couldn't sleep at night.\n",
            "I've never read so many (or any) reviews on Amazon that sounded dishonest or prompted, except for the occasional developer's rating their own game under a pseudonym.\n",
            "The was one (1)  one star review that didn't like the game.\n",
            "\n",
            "\n",
            "Product title: The Martian\n",
            "Product category: Books\n",
            "Review headline: I loved it!!!!!\n",
            "Review body: This book is freaking hilarious! Wait.... not the part where Mark gets stranded on Mars, but his humor! He had me in stitches!<br /><br />I could not even imagine what it would be like being stranded on another planet. Well, first, I'm not smart enough to be an astronaut and second, I would not want to go to space....unless it was with Spock, but I digress.<br /><br />I loved reading about all of the things he did to keep himself alive. Well, I was put off with the poo compost. I had a few gack moments. LOL! Mark's telling of these details were funny and to the point.<br /><br />I didn't want to read this book for a long time because I didn't think I would understand what he would be talking about with all of the scientific stuff. I was pleasantly surprised that the author wrote this in a way that even I could understand. There was no drooling or dazed looks on my face. I could actually understand what he was trying to do, well for the most part.<br /><br />I really hope this movie is going to be good. The previews look good, I'm just hoping that Matt Damon can capture the humor that Mark puts out there. If I could quote each funny thing he said in the book, they probably wouldn't let it post as it would be too long! That is what made it for me in this book. Mark didn't let anything get him down, mmmmm...a couple of ranting moments, but he deserved to have those. His snark was great and he's one of those people you could see being friends with, minus the smart brain :)<br /><br />This was an awesome sci-fi book and I'm so glad I finally read it. I would recommend to all sci-fi fans or anyone that just wants a good novel with a great storyline and a whole lot of funny!<br /><br />MY REVIEWS:<br />[...]<br />[...]\n",
            "Review summary: Mark's telling of these details were funny and to the point.<br /><br />I didn't want to read this book for a long time because I didn't think I would understand what he would be talking about with all of the scientific stuff.\n",
            "The previews look good, I'm just hoping that Matt Damon can capture the humor that Mark puts out there.\n",
            "If I could quote each funny thing he said in the book, they probably wouldn't let it post as it would be too long!\n",
            "\n",
            "\n",
            "Product title: Guardians of the Galaxy (Plus Bonus Features)\n",
            "Product category: Films_TV\n",
            "Review headline: Better Than I Expected\n",
            "Review body: When I first heard they were making a movie about the Guardians of the Galaxy, I had extremely low expectations. The Guardians are not exactly A-list Marvel characters. Not even B-List. Very obscure D-list heroes from the 1980s. The only one of the group I had even heard of was Rocket Raccoon. I therefore immediately dismissed the title as pure desperation on Marvel's part, to dig down so deep for new material.<br />I ignored the movie during its theatrical run. I gave it one week, two at most before oblivion. I was amazed when the movie stayed on and on and on.<br />Then after it finally closed I never gave it another thought.<br />On a whim I recently decided to rent it. I figured, if it sucks as bad as I think it will, I will only be out three bucks. I was very pleasantly surprised; decent acting for a superhero flick, and incredible effects. The two scene stealers are of course Rocket and Groot, the most unlikely team ever.<br />I was also surprised to see old Jack Kirby characters like Ronan the Accuser and Thanos in the movie. The only thing I disliked was the casting of &#34;Yondu&#34;. I don't dislike the actor, but for me he will be forever typecast as Merle Dixon from the Walking Dead. And this was basically Merle Dixon in blueface. Overall though, I enjoyed the movie, and even ended up buying it. Looking forward to the sequel (s)..\n",
            "Review summary: Better Than I Expected.When I first heard they were making a movie about the Guardians of the Galaxy, I had extremely low expectations.\n",
            "The Guardians are not exactly A-list Marvel characters.\n",
            "I don't dislike the actor, but for me he will be forever typecast as Merle Dixon from the Walking Dead.\n",
            "\n",
            "\n",
            "Product title: The Girl on the Train: A Novel\n",
            "Product category: Books\n",
            "Review headline: It was fine but has problems.\n",
            "Review body: The good:<br /><br />This book was fun and kept me interested throughout. It's a short, easy read and enjoyable if you don't think about it too hard. I've read way worse.<br /><br />The bad:<br /><br />1. The comparisons to &#34;Gone Girl&#34; are very accurate. I'd call it Gone Girl Light.<br /><br />2. As many have mentioned, there are no likable characters. The main character in particular is just annoying. She's an unattractive, alcoholic stalker who makes terrible decisions.<br />Some may say characters don't have to be likable to make a good story. Like Hannibal Lector for example. True, but they have to be interesting and/or somewhat sympathetic. Rachel Watson is not. I just wanted her to go away.<br /><br />3. The big mystery/whodunit can easily be figured out halfway through by anyone who's ever read a book. Who do you not expect? Yep, that's the answer.<br /><br />Overall, it was good enough but not something I'd go out of my way to recommend. I'm not sure why it's a best seller to be honest.\n",
            "Review summary: It was fine but has problems..The good:<br /><br />This book was fun and kept me interested throughout.\n",
            "I've read way worse.<br /><br />The bad:<br /><br />1.\n",
            "She's an unattractive, alcoholic stalker who makes terrible decisions.<br />Some may say characters don't have to be likable to make a good story.\n",
            "\n",
            "\n",
            "Product title: Humans of New York\n",
            "Product category: Books\n",
            "Review headline: If you love people or New York City, you should read (look at) this!\n",
            "Review body: This is one of the best books I have read lately or maybe one of the all-time fav books for that matter. Each picture has a story! I feel like I read the collections of elaborate stories, each one of which has so much depth and profoundness. Come to think of it, it got to be because each picture just cut out one moment of those people’s life, real people’s life. Just because I used ‘real’ doesn’t mean I do not value fiction. And some pictures have anecdote. Some of them are real words by the people in the pictures and some are comments by the photographer. Some are straight-forward remarks, some are inscrutable words that don’t seem to make sense but if I mull it over looking at the face of the person or the backdrop of the picture, I start to see what that means. I have been to New York City a couple times. People say the city is a melting pot. Some say a salad bowl of different cultures. I would say, it is a salad bowl of individuals. There is nowhere on earth where people can be themselves. I have a chance to live there for at least 5 weeks next year. I want to walk and visit as many places as possible, and if I find favorite places I want to visit there as many times as I can. And I want to feel the vibe of the city and feel what it’s all about and…want to be one of the veggies in the bowl\n",
            "Review summary: If you love people or New York City, you should read (look at) this!.This is one of the best books I have read lately or maybe one of the all-time fav books for that matter.\n",
            "Some of them are real words by the people in the pictures and some are comments by the photographer.\n",
            "I have been to New York City a couple times.\n",
            "\n",
            "\n"
          ],
          "name": "stdout"
        }
      ]
    },
    {
      "cell_type": "markdown",
      "metadata": {
        "id": "MxdRGEySyAc-",
        "colab_type": "text"
      },
      "source": [
        "# Text preprocessing"
      ]
    },
    {
      "cell_type": "code",
      "metadata": {
        "id": "LHvR3QVvLNQ9",
        "colab_type": "code",
        "colab": {}
      },
      "source": [
        "ps = PorterStemmer()\n",
        "stopwords_set = set(stopwords.words('english'))"
      ],
      "execution_count": 0,
      "outputs": []
    },
    {
      "cell_type": "code",
      "metadata": {
        "id": "Z6EnUksv1C8t",
        "colab_type": "code",
        "outputId": "7811f396-69e5-4eea-d929-c2f526fbd6d4",
        "colab": {
          "base_uri": "https://localhost:8080/",
          "height": 34
        }
      },
      "source": [
        "def preprocess_text(review):\n",
        "  review = re.sub('[^a-zA-Z]', ' ', review)\n",
        "  review = review.lower()\n",
        "  review = review.split()\n",
        "  review = [ps.stem(word) for word in review if not word in stopwords_set]\n",
        "  review = ' '.join(review)\n",
        "  return review\n",
        "\n",
        "df['review'] = df['review'].progress_map(preprocess_text)"
      ],
      "execution_count": 34,
      "outputs": [
        {
          "output_type": "stream",
          "text": [
            "100%|██████████| 1047132/1047132 [17:39<00:00, 988.19it/s] \n"
          ],
          "name": "stderr"
        }
      ]
    },
    {
      "cell_type": "markdown",
      "metadata": {
        "id": "Xa2eQZqbyNSJ",
        "colab_type": "text"
      },
      "source": [
        "# TF-IDF"
      ]
    },
    {
      "cell_type": "code",
      "metadata": {
        "id": "8cf8k1miyE0J",
        "colab_type": "code",
        "colab": {}
      },
      "source": [
        "# SPLIT TRAIN TEST\n",
        "\n",
        "train, test = train_test_split(df, test_size=0.2, random_state = 42)"
      ],
      "execution_count": 0,
      "outputs": []
    },
    {
      "cell_type": "code",
      "metadata": {
        "id": "sZzQwb4tyPO3",
        "colab_type": "code",
        "colab": {}
      },
      "source": [
        "## TF-IDF\n",
        "\n",
        "parser = TfidfVectorizer(min_df = 16)\n",
        "# create the document term matrix\n",
        "X_train = parser.fit_transform(train['review'])\n",
        "X_test = parser.transform(test['review'])"
      ],
      "execution_count": 0,
      "outputs": []
    },
    {
      "cell_type": "code",
      "metadata": {
        "id": "4Mv23CtPQ1_O",
        "colab_type": "code",
        "outputId": "07ebc8da-f7ff-4fe6-8fef-bc276139d65b",
        "colab": {
          "base_uri": "https://localhost:8080/",
          "height": 88
        }
      },
      "source": [
        "print('Number of tokens: {}\\nTF-IDF matrix shape: {}\\nList of tokens: {}'.format(\n",
        "    len(parser.get_feature_names()),\n",
        "    X_train.shape,\n",
        "    parser.get_feature_names()\n",
        "))"
      ],
      "execution_count": 52,
      "outputs": [
        {
          "output_type": "stream",
          "text": [
            "Number of tokens: 26010\n",
            "TF-IDF matrix shape: (837705, 26010)\n",
            "List of tokens: ['aa', 'aaa', 'aaaaa', 'aac', 'aacut', 'aah', 'aand', 'aaron', 'aarp', 'ab', 'aback', 'abad', 'abandon', 'abat', 'abb', 'abba', 'abbado', 'abbey', 'abbi', 'abbott', 'abbottabad', 'abbrevi', 'abc', 'abd', 'abdi', 'abdic', 'abdomen', 'abdomin', 'abduct', 'abductor', 'abdul', 'abdullah', 'abe', 'abel', 'abercrombi', 'abernathi', 'aberr', 'abet', 'abhor', 'abhorr', 'abhorsen', 'abid', 'abigail', 'abil', 'abit', 'abject', 'abkco', 'abl', 'abli', 'ablum', 'abneg', 'abnorm', 'aboard', 'abod', 'abolish', 'abolit', 'abolitionist', 'abomin', 'aborigin', 'abort', 'abou', 'abound', 'abra', 'abraham', 'abram', 'abras', 'abraxa', 'abreast', 'abridg', 'abroad', 'abrupt', 'abruptli', 'absenc', 'absent', 'absente', 'absentia', 'absolut', 'absolutist', 'absolutley', 'absolutli', 'absolv', 'absorb', 'absorpt', 'absoult', 'absoulut', 'abstain', 'abstin', 'abstract', 'abstrus', 'absurd', 'absurdist', 'absurdli', 'abt', 'abu', 'abund', 'abundantli', 'abus', 'abut', 'abysm', 'abyss', 'ac', 'aca', 'acadami', 'academ', 'academi', 'academia', 'academician', 'acapella', 'acc', 'acceler', 'acceleromet', 'accent', 'accentu', 'accept', 'acces', 'access', 'accessori', 'accid', 'accident', 'acclaim', 'acclim', 'accolad', 'accommod', 'accomod', 'accompani', 'accompanist', 'accomplic', 'accomplish', 'accord', 'accordian', 'accordingli', 'accordion', 'accost', 'account', 'accoust', 'accoutr', 'accredit', 'accross', 'accru', 'acct', 'accu', 'accumul', 'accur', 'accuraci', 'accuradio', 'accus', 'accustom', 'accuweath', 'acdc', 'ace', 'acemoglu', 'acer', 'acerb', 'acess', 'ach', 'acheb', 'acheiv', 'achiev', 'achil', 'achingli', 'achiv', 'achor', 'achtung', 'acid', 'acirc', 'ack', 'acker', 'ackl', 'acknowledg', 'ackroyd', 'ackward', 'acm', 'acn', 'acolyt', 'acomplish', 'acorn', 'acoust', 'acquaint', 'acquiesc', 'acquir', 'acquisit', 'acquit', 'acr', 'acrobat', 'acronym', 'acropoli', 'across', 'acryl', 'act', 'actaulli', 'action', 'activ', 'activis', 'activist', 'acton', 'actor', 'actress', 'actual', 'actuali', 'actulli', 'acuiti', 'acumen', 'acur', 'acut', 'ad', 'ada', 'adag', 'adagio', 'adam', 'adamantli', 'adapt', 'adblock', 'add', 'addam', 'addendum', 'addi', 'addicit', 'addict', 'addictingli', 'addison', 'addit', 'additon', 'addl', 'addon', 'address', 'addtion', 'ade', 'adel', 'adelaid', 'adem', 'aden', 'adept', 'adeptli', 'adequ', 'adhd', 'adher', 'adhes', 'adich', 'adichi', 'adict', 'adiga', 'adio', 'adit', 'adjac', 'adject', 'adjoin', 'adjunct', 'adjust', 'adkin', 'adler', 'adlib', 'admin', 'administ', 'administr', 'admir', 'admiralti', 'admiss', 'admit', 'admitt', 'admittedli', 'admob', 'admonish', 'admonit', 'adn', 'ado', 'adob', 'adolesc', 'adolf', 'adolin', 'adolph', 'adoni', 'adopt', 'ador', 'adorn', 'adren', 'adrenalin', 'adress', 'adrian', 'adrien', 'adrienn', 'adrift', 'adroit', 'adroitli', 'adul', 'adult', 'adulter', 'adulteri', 'adulthood', 'advanc', 'advantag', 'advent', 'adventur', 'adventuresom', 'adverb', 'advers', 'adversari', 'advert', 'advertis', 'advic', 'advil', 'advis', 'advisor', 'advisori', 'advoc', 'advocaci', 'adwar', 'adwd', 'ae', 'aech', 'aenima', 'aeon', 'aerial', 'aerob', 'aeronaut', 'aeroplan', 'aerosmith', 'aerospac', 'aesthet', 'af', 'afar', 'afer', 'afew', 'affabl', 'affair', 'affc', 'affect', 'affection', 'afficianado', 'afficionado', 'affili', 'affin', 'affirm', 'affix', 'affleck', 'afflict', 'affluenc', 'affluent', 'afford', 'affraid', 'affront', 'afgan', 'afganistan', 'afghan', 'afghani', 'afghanistan', 'afi', 'aficionado', 'afield', 'afir', 'afleck', 'afloat', 'afoot', 'afor', 'aforement', 'afoul', 'afraid', 'afresh', 'africa', 'african', 'afro', 'after', 'afteral', 'afterglow', 'afterlif', 'aftermath', 'afternoon', 'aftershock', 'aftertast', 'afterthought', 'afterward', 'afterword', 'ag', 'again', 'agap', 'agatha', 'age', 'ageless', 'agenc', 'agenda', 'agent', 'ager', 'agey', 'aggrand', 'aggrandiz', 'aggrav', 'aggreg', 'aggress', 'aggressor', 'aggriv', 'agh', 'aghast', 'agian', 'agil', 'agin', 'agit', 'agn', 'agnetha', 'agnew', 'agnost', 'agnostic', 'ago', 'agon', 'agoni', 'agonizingli', 'agood', 'agora', 'agrarian', 'agrav', 'agre', 'agreat', 'agreeabl', 'agreement', 'agress', 'agribusi', 'agricultur', 'aguilera', 'agustu', 'ah', 'aha', 'ahab', 'ahead', 'ahem', 'ahern', 'ahh', 'ahhh', 'ahhhh', 'ahhhhh', 'ahhhhhh', 'ahol', 'ahold', 'ahora', 'ahoy', 'ahv', 'ai', 'aia', 'aic', 'aid', 'aida', 'aidan', 'aiden', 'aig', 'aiken', 'ail', 'ailment', 'aim', 'aime', 'aimless', 'aimlessli', 'aint', 'air', 'airbend', 'airborn', 'airbrush', 'aircraft', 'airey', 'airforc', 'airhead', 'airi', 'airlin', 'airlock', 'airman', 'airmen', 'airplan', 'airplay', 'airport', 'airship', 'airtight', 'airtim', 'airwav', 'airway', 'aisl', 'aiv', 'aj', 'aja', 'ajax', 'ak', 'aka', 'ake', 'akerfeldt', 'akin', 'akira', 'akita', 'akon', 'al', 'ala', 'alabama', 'aladdin', 'alain', 'alamo', 'alan', 'alana', 'alani', 'alarm', 'alarmingli', 'alarmist', 'alaska', 'alaskan', 'alastair', 'alawar', 'alayna', 'alba', 'alban', 'albani', 'albarn', 'albeit', 'alberich', 'albert', 'alberto', 'albi', 'albino', 'albion', 'alblum', 'albom', 'albu', 'albulm', 'album', 'albumn', 'albun', 'albuquerqu', 'alcatraz', 'alchem', 'alchemi', 'alchemist', 'alchohol', 'alcid', 'alcohol', 'alcott', 'alda', 'aldo', 'aldou', 'aldrich', 'aldrin', 'ale', 'alec', 'aleck', 'alejandro', 'alert', 'alessandro', 'alex', 'alexa', 'alexand', 'alexandr', 'alexandra', 'alexandria', 'alexi', 'alexia', 'alfi', 'alfonso', 'alfr', 'alfredo', 'alga', 'algebra', 'algernon', 'algo', 'algorithm', 'alguna', 'ali', 'alia', 'alias', 'alibi', 'alic', 'alicia', 'alien', 'alight', 'align', 'alik', 'alina', 'alison', 'alissa', 'alistair', 'alittl', 'aliv', 'all', 'alla', 'allah', 'allan', 'alleg', 'allegedli', 'allegi', 'allegor', 'allegori', 'allegro', 'allen', 'allend', 'allerg', 'allergi', 'allevi', 'alley', 'alleyway', 'alli', 'allianc', 'allig', 'allison', 'alliter', 'alll', 'allman', 'alloc', 'allom', 'allon', 'allot', 'allow', 'alloy', 'allreadi', 'allright', 'allth', 'alltim', 'allud', 'allur', 'allus', 'allway', 'alma', 'almanac', 'almighti', 'almond', 'almost', 'alo', 'aloha', 'alon', 'along', 'alongsid', 'aloof', 'alot', 'aloud', 'alow', 'aloysiu', 'alp', 'alpert', 'alpha', 'alphabet', 'alpin', 'alreadi', 'alright', 'also', 'alt', 'alta', 'altamont', 'altar', 'alter', 'alterc', 'altern', 'altho', 'although', 'althought', 'altitud', 'altman', 'alto', 'altogeth', 'altough', 'altruism', 'altruist', 'altuch', 'alum', 'aluminum', 'alumni', 'alvin', 'alw', 'alway', 'alyson', 'alyssa', 'alzheim', 'ama', 'amadeu', 'amaiz', 'amalgam', 'amanda', 'amano', 'amar', 'amaranth', 'amarantin', 'amarth', 'amas', 'amass', 'amateur', 'amateurish', 'amatur', 'amaz', 'amazayn', 'amazebal', 'amazin', 'amazing', 'amazingli', 'amazon', 'amazonian', 'ambassador', 'amber', 'amberson', 'ambianc', 'ambien', 'ambienc', 'ambient', 'ambigu', 'ambit', 'ambiti', 'ambival', 'ambl', 'ambros', 'ambul', 'ambush', 'amc', 'amd', 'ame', 'amel', 'ameli', 'amelia', 'amelior', 'amen', 'amend', 'amercian', 'america', 'american', 'americana', 'americanah', 'americano', 'ami', 'amiabl', 'amic', 'amid', 'amidst', 'amigo', 'amino', 'amish', 'amiss', 'amistad', 'amiti', 'amityvil', 'amma', 'ammo', 'ammount', 'ammunit', 'amnesia', 'amnesiac', 'amnesti', 'amo', 'amok', 'amol', 'amon', 'among', 'amongst', 'amor', 'amorph', 'amoruso', 'amoung', 'amount', 'amour', 'amozon', 'amp', 'amphibian', 'amphitheat', 'ampl', 'ampli', 'amplifi', 'amput', 'amsterdam', 'amuck', 'amulet', 'amus', 'amusingli', 'amz', 'amzn', 'amzon', 'an', 'ana', 'anachron', 'anachronist', 'anaglyph', 'anagram', 'anaheim', 'anakin', 'anal', 'analog', 'analogu', 'analys', 'analysi', 'analyst', 'analyt', 'analyz', 'anamatron', 'anamorph', 'anansi', 'anarch', 'anarchi', 'anarchist', 'anastacia', 'anastasia', 'anatasia', 'anathem', 'anathema', 'anatom', 'anatomi', 'anc', 'ancestor', 'ancestr', 'ancestri', 'anchor', 'anchorman', 'ancient', 'ancillari', 'and', 'anda', 'andant', 'ander', 'andersen', 'anderson', 'andi', 'andr', 'andrea', 'andrei', 'andrew', 'andriod', 'androgyn', 'android', 'andromeda', 'andth', 'anecdot', 'anem', 'aneroid', 'anesthet', 'anett', 'anew', 'anf', 'ang', 'angel', 'angela', 'angelica', 'angelina', 'angeliqu', 'angelo', 'anger', 'angi', 'angl', 'anglican', 'anglo', 'anglophil', 'angri', 'angrier', 'angrili', 'angst', 'angsti', 'angu', 'anguish', 'angular', 'ani', 'anim', 'animalist', 'animatrix', 'animatron', 'animos', 'animu', 'aniston', 'anita', 'aniversari', 'anka', 'ankh', 'ankl', 'ann', 'anna', 'annabel', 'annabeth', 'annal', 'annett', 'annex', 'anni', 'annihil', 'anniston', 'anniv', 'anniversari', 'anno', 'annot', 'announc', 'annoy', 'annoyingli', 'annual', 'anoint', 'anomali', 'anonym', 'anorex', 'anorexia', 'anoth', 'anoushka', 'anoy', 'ansel', 'anselmo', 'answer', 'ant', 'antagon', 'antagonist', 'antarct', 'antarctica', 'antebellum', 'anteced', 'antenna', 'anterior', 'anthem', 'anther', 'antholog', 'anthoni', 'anthrax', 'anthrop', 'anthropolog', 'anthropologist', 'anthropomorph', 'anti', 'antibiot', 'antic', 'antichrist', 'anticip', 'anticipatori', 'anticlimact', 'anticlimat', 'anticlimax', 'antidepress', 'antidot', 'antifragil', 'antigua', 'antihero', 'antimatt', 'antipathi', 'antiqu', 'antiquarian', 'antisept', 'antisoci', 'antithesi', 'antiviru', 'antiwar', 'antoin', 'anton', 'antoni', 'antonio', 'antsi', 'anu', 'anvil', 'anxieti', 'anxiou', 'anxious', 'anya', 'anybodi', 'anyday', 'anyhoo', 'anyhow', 'anymor', 'anyon', 'anyplac', 'anyth', 'anytim', 'anyway', 'anywher', 'anywho', 'ao', 'aol', 'aomam', 'aor', 'aotd', 'ap', 'apach', 'apalon', 'apar', 'apart', 'apartheid', 'apathet', 'apathi', 'apatow', 'apc', 'ape', 'apertur', 'apex', 'aphex', 'aphor', 'aphrodit', 'api', 'apiec', 'apk', 'aplenti', 'aplomb', 'apo', 'apoc', 'apocalyps', 'apocalypt', 'apocolyps', 'apocolypt', 'apocryph', 'apolit', 'apollo', 'apolog', 'apologet', 'apologis', 'apologist', 'apostl', 'apostroph', 'apotheosi', 'app', 'appal', 'appalachia', 'appalachian', 'appallingli', 'appaloosa', 'appar', 'apparantli', 'apparatu', 'apparit', 'appart', 'appassionata', 'appaul', 'appeal', 'appear', 'appeas', 'appel', 'append', 'appendag', 'appendic', 'appendix', 'apper', 'appet', 'appetit', 'appic', 'appl', 'applaud', 'applaus', 'applejack', 'applesauc', 'applese', 'appletv', 'appli', 'applianc', 'applic', 'appoint', 'appointe', 'appos', 'apprais', 'appreci', 'apprehend', 'apprehens', 'apprentic', 'apprici', 'approach', 'appropi', 'appropri', 'approv', 'approx', 'approxim', 'appstor', 'appt', 'apr', 'apreci', 'apricot', 'april', 'apron', 'apropo', 'apt', 'aptitud', 'aptli', 'aq', 'aqua', 'aquaint', 'aqualung', 'aquaman', 'aquapon', 'aquariu', 'aquarium', 'aquat', 'aqueduct', 'aquello', 'aquina', 'aquir', 'ar', 'arab', 'arabesqu', 'arabia', 'arabian', 'aragon', 'aragorn', 'arama', 'araya', 'arbit', 'arbitrari', 'arbitrarili', 'arc', 'arcad', 'arcadia', 'arcadium', 'arcan', 'arcana', 'arcangelo', 'arch', 'archaeolog', 'archaeologist', 'archaic', 'archandroid', 'archangel', 'archduk', 'archeolog', 'archeologist', 'archer', 'archeri', 'archetyp', 'archi', 'architect', 'architectur', 'archiv', 'arctic', 'arctica', 'arden', 'ardent', 'ardor', 'arduou', 'are', 'area', 'arena', 'arendt', 'arent', 'aretha', 'arg', 'argentina', 'argentinian', 'argento', 'argerich', 'argh', 'argo', 'argu', 'arguabl', 'arguement', 'argument', 'ari', 'aria', 'arial', 'ariana', 'arid', 'ariel', 'aris', 'arisen', 'aristocat', 'aristocraci', 'aristocrat', 'aristotl', 'arithmet', 'ariv', 'arizona', 'ark', 'arkansa', 'arkham', 'arkin', 'arlen', 'arlington', 'arm', 'armada', 'armageddon', 'armament', 'armand', 'armatur', 'armchair', 'armenian', 'armentrout', 'armi', 'armin', 'armitag', 'armor', 'armori', 'armour', 'armstrong', 'arn', 'arnett', 'arni', 'arnold', 'aroma', 'aron', 'aronofski', 'aros', 'around', 'arous', 'arpeggi', 'arpeggio', 'arquett', 'arraki', 'arrang', 'arrau', 'array', 'arrest', 'arriv', 'arrog', 'arrogantli', 'arrow', 'ars', 'arsen', 'arson', 'art', 'artbook', 'artefact', 'artemi', 'arteri', 'arterton', 'artform', 'arthous', 'arthrit', 'arthriti', 'arthur', 'arthurian', 'arti', 'artic', 'articl', 'articul', 'artifact', 'artifex', 'artific', 'artifici', 'artilleri', 'artisan', 'artist', 'artistri', 'artless', 'artpop', 'artsi', 'artur', 'arturo', 'artwork', 'arundhati', 'arwen', 'arya', 'aryan', 'asa', 'asana', 'asap', 'asberg', 'asburi', 'ascend', 'ascens', 'ascent', 'ascertain', 'ascet', 'ascrib', 'asexu', 'asgard', 'asgardian', 'ash', 'asha', 'asham', 'asher', 'ashkenazi', 'ashley', 'ashlyn', 'ashmol', 'ashor', 'ashram', 'ashtanga', 'ashton', 'ashwini', 'asi', 'asia', 'asian', 'asid', 'asimov', 'asin', 'asinin', 'ask', 'askew', 'aslan', 'asleep', 'aslo', 'asner', 'aso', 'asoiaf', 'asom', 'asp', 'aspberg', 'aspect', 'aspen', 'asperg', 'asphalt', 'aspi', 'aspic', 'aspir', 'aspirin', 'ass', 'assail', 'assasin', 'assassin', 'assault', 'assembl', 'assemblag', 'assert', 'assess', 'asset', 'assign', 'assimil', 'assist', 'associ', 'assort', 'assuag', 'assum', 'assumpt', 'assur', 'assuredli', 'ast', 'astair', 'asterisk', 'asteroid', 'asthma', 'astin', 'aston', 'astonish', 'astonishingli', 'astoria', 'astound', 'astoundingli', 'astra', 'astral', 'astray', 'astrid', 'astro', 'astrolog', 'astronaut', 'astronom', 'astronomi', 'astrophys', 'astrophysicist', 'astut', 'asu', 'asuka', 'asund', 'aswel', 'asylum', 'asymmetri', 'atari', 'ate', 'atheism', 'atheist', 'athen', 'athena', 'athenian', 'athiest', 'athlet', 'athletic', 'atkin', 'atkinson', 'atl', 'atla', 'atlant', 'atlanta', 'atlanti', 'atle', 'atleast', 'atm', 'atmospher', 'atom', 'atomu', 'aton', 'atop', 'atreid', 'atrix', 'atroc', 'atroci', 'atrophi', 'att', 'attach', 'attack', 'attain', 'attatch', 'attempt', 'attenborough', 'attend', 'attende', 'attent', 'attenu', 'attest', 'attic', 'atticu', 'attir', 'attitud', 'attorney', 'attract', 'attribut', 'attrit', 'attun', 'atul', 'atwood', 'atyp', 'au', 'aubrey', 'auburn', 'auch', 'aucoin', 'auction', 'audac', 'audaci', 'audi', 'audianc', 'audibl', 'audienc', 'audio', 'audiobook', 'audiophil', 'audioslav', 'audit', 'auditori', 'auditorium', 'audrey', 'auerbach', 'auf', 'aug', 'auger', 'augeri', 'auggi', 'augment', 'august', 'augustin', 'augustu', 'aul', 'auld', 'auml', 'aunqu', 'aunt', 'aunti', 'aur', 'aura', 'aural', 'aureliu', 'auri', 'aurora', 'auschwitz', 'auspici', 'aussi', 'austen', 'austenland', 'auster', 'austin', 'australia', 'australian', 'austria', 'austrian', 'austro', 'auteur', 'authent', 'auther', 'author', 'authoress', 'authori', 'authorit', 'authoritarian', 'authorship', 'authour', 'autism', 'autist', 'auto', 'autobiograph', 'autobiographi', 'autobot', 'autocorrect', 'autocrat', 'autodesk', 'autograph', 'autoimmun', 'autom', 'automat', 'automaton', 'automobil', 'automot', 'autonom', 'autonomi', 'autopilot', 'autopsi', 'autor', 'autorip', 'autosav', 'autotun', 'autumn', 'aux', 'auxiliari', 'av', 'ava', 'avail', 'availab', 'availbl', 'aval', 'avalanch', 'avali', 'avalon', 'avant', 'avantasia', 'avaric', 'avast', 'avatar', 'avc', 'ave', 'avec', 'aveng', 'avenu', 'aver', 'averag', 'averi', 'avers', 'avert', 'avett', 'aveyard', 'avg', 'avi', 'avia', 'aviat', 'avicii', 'avid', 'avidli', 'avocado', 'avoid', 'avon', 'avow', 'avp', 'avr', 'avril', 'aw', 'await', 'awak', 'awaken', 'awar', 'award', 'awash', 'away', 'awe', 'awesom', 'awesomesauc', 'awesomest', 'aweson', 'awestruck', 'awesum', 'awful', 'awhil', 'awkward', 'awkwardli', 'awok', 'awoken', 'awol', 'awoln', 'awri', 'awsom', 'aww', 'awww', 'awwww', 'ax', 'axe', 'axel', 'axi', 'axiom', 'axl', 'ay', 'ayaan', 'ayatollah', 'aye', 'ayer', 'aykroyd', 'ayn', 'ayreon', 'ayrton', 'az', 'azada', 'aziz', 'azkaban', 'azkend', 'azog', 'azt', 'aztec', 'azur', 'ba', 'baa', 'bab', 'baba', 'babadook', 'babbl', 'babe', 'babel', 'babi', 'baboon', 'babyfac', 'babyish', 'babylon', 'babymet', 'babysit', 'babysitt', 'bacal', 'baccarin', 'bach', 'bacharach', 'bachelor', 'bachelorett', 'bachman', 'bacigalupi', 'back', 'backbeat', 'backbon', 'backdoor', 'backdrop', 'backer', 'backfir', 'backflip', 'backgammon', 'background', 'backhand', 'backlash', 'backman', 'backord', 'backpack', 'backroom', 'backround', 'backseat', 'backsid', 'backspac', 'backstab', 'backstag', 'backstori', 'backstreet', 'backtrack', 'backup', 'backward', 'backwat', 'backwood', 'backyard', 'bacon', 'bacteri', 'bacteria', 'bad', 'bada', 'badass', 'badasseri', 'badder', 'baddest', 'baddi', 'badg', 'badger', 'badham', 'badland', 'badli', 'badmotorfing', 'badu', 'bae', 'baez', 'baffl', 'bafta', 'bag', 'bagel', 'baggag', 'bagger', 'baggi', 'baggin', 'baghdad', 'bagpip', 'bah', 'bahama', 'bail', 'bailey', 'bailout', 'bain', 'bait', 'bak', 'bake', 'baker', 'bakerella', 'bakeri', 'bakersfield', 'bakula', 'balad', 'balanc', 'balboa', 'balconi', 'bald', 'baldacci', 'balducci', 'baldwin', 'bale', 'bali', 'balian', 'balin', 'balk', 'balkan', 'ball', 'ballad', 'balladri', 'ballard', 'ballerina', 'ballet', 'ballist', 'balloon', 'ballot', 'ballpark', 'ballroom', 'ballsi', 'balm', 'baloney', 'baloo', 'balsam', 'baltimor', 'balzac', 'bam', 'bambi', 'bamboo', 'bamboozl', 'ban', 'bana', 'banal', 'banana', 'bancroft', 'band', 'banda', 'bandag', 'bandera', 'bandi', 'bandit', 'bandito', 'bandlead', 'bandmat', 'bandmemb', 'bandstand', 'bandwagon', 'bandwidth', 'bane', 'bang', 'banger', 'bangerz', 'bangin', 'bangkok', 'bangladesh', 'banish', 'banjo', 'bank', 'banker', 'bankrol', 'bankrupt', 'bankruptci', 'banksi', 'banner', 'bannist', 'banquet', 'banshe', 'bantam', 'banter', 'banvil', 'bappl', 'baptism', 'baptist', 'baptiz', 'bar', 'barack', 'barak', 'baraka', 'baranski', 'baratheon', 'barb', 'barbar', 'barbara', 'barbarella', 'barbarian', 'barbeau', 'barbecu', 'barbel', 'barber', 'barbershop', 'barbi', 'barbour', 'barbra', 'barcelona', 'barcod', 'bard', 'bardem', 'barden', 'bare', 'barebon', 'barefoot', 'bareil', 'barenboim', 'barest', 'barf', 'barg', 'bargain', 'bargin', 'bariton', 'bark', 'barker', 'barkhad', 'barkley', 'barley', 'barlow', 'barn', 'barnaba', 'barnard', 'barney', 'barnyard', 'baro', 'baromet', 'barometr', 'baron', 'baroqu', 'barr', 'barrack', 'barrag', 'barrayar', 'barrel', 'barren', 'barret', 'barrett', 'barri', 'barricad', 'barrier', 'barrington', 'barristan', 'barron', 'barrow', 'barrowman', 'barrymor', 'barsoom', 'bart', 'bartend', 'barter', 'bartimaeu', 'bartlett', 'bartok', 'bartoli', 'barton', 'base', 'basebal', 'baseless', 'baselin', 'basement', 'baser', 'basest', 'basford', 'bash', 'basher', 'basi', 'basic', 'basicli', 'basil', 'basilisk', 'basilon', 'basin', 'basing', 'bask', 'baskervil', 'basket', 'basketbal', 'bass', 'bassett', 'bassey', 'bassi', 'bassing', 'bassist', 'basslin', 'basso', 'bassoon', 'bast', 'bastant', 'bastard', 'basterd', 'bastian', 'bastil', 'bastion', 'bastogn', 'bat', 'batcav', 'batch', 'bate', 'bateman', 'batgirl', 'bath', 'bathroom', 'bathtub', 'batista', 'batman', 'batmobil', 'baton', 'batpod', 'battalion', 'batter', 'batteri', 'batti', 'battl', 'battlefield', 'battleground', 'battleship', 'battlestar', 'baudelair', 'bauer', 'baum', 'bavarian', 'bawdi', 'bawl', 'baxter', 'bay', 'bayesian', 'bayonet', 'bayou', 'bayreuth', 'baz', 'bazaar', 'bazillion', 'bazinga', 'bb', 'bbc', 'bbq', 'bbt', 'bc', 'bce', 'bcuz', 'bd', 'bday', 'bdp', 'bdsm', 'be', 'bea', 'beacaus', 'beach', 'beacon', 'beacus', 'bead', 'beader', 'beadi', 'beagl', 'beah', 'beak', 'beal', 'beam', 'bean', 'beanstalk', 'bear', 'bearabl', 'beard', 'bearer', 'beast', 'beasti', 'beastli', 'beat', 'beatabl', 'beaten', 'beater', 'beati', 'beatl', 'beatlemania', 'beatlemaniac', 'beatlesqu', 'beatric', 'beatrix', 'beatti', 'beau', 'beaufort', 'beaut', 'beauti', 'beautifi', 'beautiful', 'beautifuli', 'beaver', 'beavi', 'bebe', 'bebop', 'bec', 'becam', 'becasu', 'becau', 'becca', 'bechdel', 'beck', 'becker', 'becket', 'beckett', 'beckham', 'becki', 'beckinsal', 'beckon', 'becom', 'becous', 'becuas', 'becus', 'becuz', 'beczala', 'bed', 'bedazzl', 'bedfellow', 'bedford', 'bedlam', 'bedridden', 'bedrock', 'bedroom', 'bedsid', 'bedtim', 'bee', 'beecham', 'beecher', 'beedl', 'beef', 'beefcak', 'beefheart', 'beefi', 'beefier', 'beege', 'been', 'beep', 'beer', 'beet', 'beete', 'beethoven', 'beetl', 'beetlejuic', 'beevor', 'befal', 'befel', 'befit', 'befor', 'beforehand', 'befriend', 'befuddl', 'beg', 'began', 'bege', 'beget', 'beggar', 'beggin', 'begin', 'beginn', 'begrudg', 'begrudgingli', 'beguil', 'begun', 'behalf', 'behav', 'behavior', 'behaviorist', 'behaviour', 'behead', 'behemoth', 'behest', 'behind', 'behold', 'beholden', 'behoov', 'behren', 'bei', 'beiber', 'beig', 'beij', 'bein', 'beirut', 'bejesu', 'bejewel', 'bejewl', 'bel', 'bela', 'belabor', 'belat', 'belatedli', 'belch', 'beleagu', 'beleiv', 'belew', 'belfast', 'belfort', 'belgian', 'belgium', 'belgravia', 'beli', 'belieb', 'belief', 'believ', 'belinda', 'belittl', 'beliv', 'bell', 'bella', 'belladonna', 'bellami', 'belli', 'belliger', 'bellini', 'bello', 'bellow', 'bellucci', 'bellyd', 'belmont', 'belong', 'belov', 'belt', 'belushi', 'bem', 'bemoan', 'bemus', 'ben', 'benatar', 'bench', 'benchmark', 'bend', 'bender', 'bendi', 'bene', 'beneath', 'benedick', 'benedict', 'benefactor', 'benefici', 'beneficiari', 'benefit', 'benevol', 'bengal', 'bengali', 'benghazi', 'benicio', 'benifit', 'benign', 'benioff', 'benjamin', 'benmont', 'bennet', 'bennett', 'benni', 'bennington', 'benoit', 'benson', 'bent', 'bentley', 'bento', 'benton', 'benz', 'beorn', 'beowulf', 'bequeath', 'ber', 'berat', 'bereav', 'bereft', 'bereng', 'beret', 'berg', 'bergen', 'berger', 'bergersen', 'berglund', 'bergman', 'bergonzi', 'berk', 'berkeley', 'berkley', 'berlin', 'berlioz', 'berman', 'bermuda', 'bernadett', 'bernank', 'bernard', 'berner', 'berni', 'bernstein', 'berri', 'berserk', 'bert', 'berth', 'bertha', 'berti', 'bertram', 'bertrand', 'beset', 'besid', 'besieg', 'besot', 'bess', 'besson', 'best', 'bestbuy', 'bestest', 'besti', 'bestial', 'bestiari', 'bestow', 'bestsel', 'bet', 'beta', 'betamax', 'betcha', 'beter', 'beth', 'bethani', 'bethel', 'bethesda', 'bethlehem', 'betray', 'betroth', 'betsi', 'bett', 'bettani', 'better', 'betti', 'bettter', 'beuti', 'bev', 'beverag', 'beverli', 'bevi', 'bewar', 'bewild', 'bewilder', 'bewitch', 'bey', 'beyonc', 'beyond', 'bezo', 'bf', 'bff', 'bg', 'bgt', 'bh', 'bi', 'bia', 'biafra', 'biafran', 'bias', 'bibl', 'biblic', 'bibliographi', 'bibliophil', 'bicentenni', 'bicep', 'bicker', 'bicycl', 'bid', 'bidder', 'bide', 'biden', 'bieber', 'biehn', 'biel', 'bien', 'biff', 'big', 'bigbi', 'bigelow', 'bigfish', 'bigfoot', 'bigg', 'bigger', 'biggest', 'biggi', 'bigot', 'bigotri', 'bigtim', 'bigwig', 'bike', 'biker', 'bikini', 'bilbo', 'bildungsroman', 'bile', 'bilingu', 'bill', 'billboard', 'billi', 'billiard', 'billion', 'billionair', 'billow', 'bimbo', 'bin', 'binari', 'binaur', 'binchi', 'bind', 'binder', 'bing', 'bingley', 'bingo', 'bink', 'binoch', 'binocular', 'bio', 'biocentr', 'biochem', 'biochemistri', 'biograph', 'biographi', 'biolog', 'biologist', 'biom', 'bionic', 'biopic', 'bioshock', 'bipolar', 'birch', 'bird', 'birder', 'birdi', 'birdman', 'birdsong', 'birgit', 'birman', 'birmingham', 'birth', 'birthdat', 'birthday', 'birthmark', 'birthplac', 'birthright', 'biscuit', 'bisexu', 'bishop', 'bisset', 'bit', 'bitch', 'bitchi', 'bitchin', 'bitdefend', 'bite', 'biter', 'bitingli', 'bitrat', 'bitten', 'bitter', 'bitterblu', 'bitterli', 'bittersweet', 'bitti', 'biz', 'bizarr', 'bizarro', 'bizet', 'bizkit', 'bizzar', 'bj', 'bjork', 'bjorn', 'bk', 'bl', 'bla', 'blab', 'blabber', 'blacc', 'black', 'blackberri', 'blackbird', 'blackboard', 'blacken', 'blackest', 'blackfield', 'blackfish', 'blackhawk', 'blackjack', 'blacklist', 'blackmail', 'blackmor', 'blackout', 'blacksmith', 'blackthorn', 'blackwat', 'blackwood', 'bladder', 'blade', 'bladerunn', 'blah', 'blain', 'blair', 'blake', 'blakey', 'blam', 'blame', 'blameless', 'blanc', 'blanch', 'blanchet', 'blanchett', 'blanco', 'bland', 'blandli', 'blank', 'blanket', 'blare', 'blase', 'blasphem', 'blasphemi', 'blast', 'blaster', 'blatant', 'blatantli', 'blatent', 'blather', 'blaze', 'blazer', 'ble', 'bleach', 'bleacher', 'bleah', 'bleak', 'bleaker', 'bleakest', 'bleari', 'blech', 'bled', 'bleed', 'bleep', 'bleh', 'blehm', 'blemish', 'blend', 'blender', 'bless', 'blessedli', 'bletchley', 'blethyn', 'blew', 'blige', 'blight', 'blimp', 'blind', 'blinder', 'blindfold', 'blindingli', 'blindli', 'blindsid', 'bling', 'blink', 'blip', 'bliss', 'blister', 'blith', 'blither', 'blitz', 'blizzard', 'bloat', 'bloatwar', 'blob', 'bloc', 'bloch', 'block', 'blockad', 'blockbust', 'blocker', 'blocki', 'blocklaunch', 'blog', 'blogger', 'blogspot', 'bloke', 'blomkamp', 'blomkvist', 'blomqvist', 'blond', 'blondi', 'blood', 'bloodbath', 'bloodborn', 'bloodgood', 'bloodi', 'bloodier', 'bloodiest', 'bloodless', 'bloodlet', 'bloodlin', 'bloodlust', 'bloodsh', 'bloodstream', 'bloodsuck', 'bloodthirsti', 'bloom', 'bloomberg', 'bloomer', 'bloomfield', 'bloomwood', 'bloon', 'blooper', 'blossom', 'blot', 'blotchi', 'blous', 'blow', 'blower', 'blowhard', 'blowin', 'blowingli', 'blown', 'blowup', 'blu', 'blubber', 'bludgeon', 'blue', 'blueberri', 'bluebird', 'bluegrass', 'blueprint', 'blueray', 'bluesbreak', 'bluesi', 'bluesier', 'bluesman', 'bluesmen', 'bluetooth', 'bluff', 'bluish', 'blume', 'blunder', 'blunderbuss', 'blunt', 'bluntli', 'blur', 'bluray', 'blurb', 'blurri', 'blurt', 'blush', 'bluster', 'blvd', 'blyth', 'bm', 'bmg', 'bmi', 'bmw', 'bn', 'bo', 'boa', 'boar', 'board', 'boarder', 'boardgam', 'boardroom', 'boardwalk', 'boast', 'boat', 'boatload', 'bob', 'boba', 'bobbi', 'bobbl', 'bobo', 'bobsl', 'boc', 'boca', 'bocelli', 'bod', 'bode', 'bodhi', 'bodi', 'bodic', 'bodili', 'bodleian', 'bodybuild', 'bodyfat', 'bodyguard', 'bodyweight', 'boe', 'bog', 'bogart', 'bogdanovich', 'bogey', 'bogg', 'boggess', 'boggl', 'bogu', 'bohem', 'bohemian', 'bohm', 'bohr', 'boi', 'boil', 'boiler', 'boilerpl', 'boister', 'bok', 'bolan', 'bold', 'bolder', 'boldli', 'bolero', 'boleyn', 'bolin', 'bolivar', 'bolivia', 'bolland', 'bollywood', 'bologna', 'bolshevik', 'bolster', 'bolt', 'bolton', 'bom', 'bomb', 'bombard', 'bombast', 'bombay', 'bomber', 'bombshel', 'bomer', 'bon', 'bona', 'bonafid', 'bonamassa', 'bonanza', 'bond', 'bondag', 'bone', 'bonehead', 'boner', 'bonet', 'boney', 'bonfir', 'bong', 'bongo', 'bonham', 'boni', 'bonita', 'bonker', 'bonn', 'bonnet', 'bonnevil', 'bonni', 'bono', 'bonobo', 'bonu', 'bonus', 'bonzo', 'boo', 'boob', 'boobi', 'bood', 'boogeyman', 'boogi', 'book', 'bookcas', 'bookclub', 'bookend', 'booker', 'booki', 'bookish', 'bookkeep', 'booklet', 'bookmark', 'booksel', 'bookshelf', 'bookshelv', 'bookshop', 'bookstor', 'bookworm', 'bool', 'boom', 'boombox', 'boomer', 'boomerang', 'boomi', 'boon', 'boondock', 'booni', 'booo', 'boook', 'boooo', 'boooooo', 'boooor', 'boop', 'boorish', 'boorman', 'boost', 'booster', 'boot', 'bootcamp', 'booth', 'booti', 'bootleg', 'bootlegg', 'bootstrap', 'booz', 'bop', 'bopper', 'bor', 'borat', 'bord', 'bordello', 'border', 'borderlin', 'bore', 'boredom', 'borg', 'borgia', 'borgnin', 'bori', 'boringli', 'born', 'borrow', 'borthwick', 'bosch', 'bose', 'bosh', 'bosnia', 'bosom', 'boson', 'boss', 'bossa', 'bossi', 'bossyp', 'boston', 'bosworth', 'bot', 'botan', 'botani', 'botanist', 'botch', 'bother', 'bothersom', 'botox', 'botswana', 'botti', 'bottl', 'bottleneck', 'bottom', 'bottomless', 'bottomlin', 'bough', 'bought', 'boulder', 'boulevard', 'boulez', 'bounc', 'bouncer', 'bounci', 'bound', 'boundari', 'boundless', 'boundri', 'bounti', 'bouquet', 'bourbon', 'bourdain', 'bourgeoi', 'bourgh', 'bourn', 'bout', 'boutiqu', 'bow', 'bowden', 'bowel', 'bowen', 'bower', 'bowi', 'bowl', 'bowler', 'bowman', 'box', 'boxer', 'boxset', 'boy', 'boycot', 'boycott', 'boyd', 'boyfriend', 'boyhood', 'boyish', 'boyl', 'boyn', 'boynton', 'boyz', 'boz', 'bozo', 'bp', 'bpm', 'bpo', 'br', 'bra', 'braavo', 'brace', 'bracelet', 'bracket', 'brad', 'bradburi', 'bradford', 'bradi', 'bradley', 'bradshaw', 'brag', 'braga', 'braggadocio', 'brahm', 'braid', 'brain', 'brainchild', 'brainer', 'braini', 'brainiac', 'brainier', 'brainless', 'brainpow', 'brainstorm', 'brainteas', 'brainwash', 'brais', 'brake', 'bram', 'bramhal', 'bran', 'branagh', 'branaugh', 'branch', 'brand', 'brandenburg', 'brandi', 'brandish', 'brando', 'brandon', 'brandt', 'branson', 'brant', 'brasco', 'brash', 'brasil', 'brass', 'brassi', 'brat', 'bratt', 'bratti', 'braun', 'brava', 'bravado', 'brave', 'braveheart', 'braver', 'braveri', 'bravest', 'bravia', 'bravo', 'bravura', 'brawl', 'brawler', 'brawn', 'brawni', 'braxton', 'bray', 'brazen', 'brazil', 'brazilian', 'brd', 'breach', 'bread', 'breadcrumb', 'breadth', 'break', 'breakabl', 'breakag', 'breakaway', 'breakdown', 'breaker', 'breakfast', 'breakingli', 'breakneck', 'breakout', 'breakthrough', 'breakup', 'breast', 'breastfeed', 'breath', 'breather', 'breathi', 'breathless', 'breathlessli', 'breathtak', 'breathtakingli', 'breckin', 'bred', 'bree', 'breech', 'breed', 'breeder', 'breez', 'breezi', 'brenda', 'brendan', 'brendel', 'brendon', 'brennan', 'brenner', 'brent', 'breq', 'breslin', 'bret', 'brethren', 'brett', 'breviti', 'brew', 'brewer', 'breweri', 'brewster', 'brian', 'brianna', 'briar', 'bribe', 'briberi', 'brice', 'brick', 'brickwal', 'bridal', 'bride', 'brideshead', 'bridesmaid', 'bridg', 'bridgerton', 'bridget', 'bridgett', 'bridgit', 'bridgman', 'brie', 'brief', 'briefcas', 'briefer', 'briefest', 'briefli', 'brien', 'brienn', 'brig', 'brigad', 'brigadoon', 'briganc', 'brigand', 'brigg', 'bright', 'brighten', 'brighter', 'brightest', 'brightli', 'brightman', 'brighton', 'brightsid', 'brigitt', 'briliant', 'brill', 'brillant', 'brillantli', 'brillianc', 'brilliant', 'brilliantli', 'brim', 'brimston', 'brin', 'brine', 'bring', 'bringer', 'brink', 'brioni', 'brisban', 'brisingr', 'brisk', 'briskli', 'bristl', 'bristol', 'brit', 'britain', 'britian', 'british', 'britney', 'briton', 'britpop', 'brittaini', 'brittani', 'britten', 'brittish', 'brittl', 'brittney', 'britton', 'bro', 'broach', 'broad', 'broadband', 'broadbent', 'broadcast', 'broadchurch', 'broaden', 'broader', 'broadest', 'broadli', 'broadsid', 'broadway', 'broccoli', 'brochur', 'brock', 'brockovich', 'broderick', 'brodi', 'brogu', 'broke', 'brokeback', 'broken', 'broker', 'brokerag', 'brolin', 'bromanc', 'bron', 'broni', 'bronson', 'bront', 'bronx', 'bronz', 'brood', 'broodi', 'brook', 'brooklyn', 'broom', 'broomstick', 'brosh', 'brosnan', 'broth', 'brothel', 'brother', 'brotherhood', 'brotherli', 'brought', 'brouhaha', 'brow', 'brown', 'browncoat', 'browni', 'brownston', 'brows', 'browser', 'brubeck', 'bruce', 'bruckheim', 'bruckner', 'bruford', 'bruis', 'brunch', 'brunett', 'bruni', 'bruno', 'brunt', 'brush', 'brushstrok', 'brusqu', 'brussel', 'brutal', 'brute', 'brutish', 'brutu', 'bryan', 'bryant', 'bryce', 'bryn', 'brynjolfsson', 'brynner', 'bryson', 'bs', 'bsb', 'bsdm', 'bsg', 'bt', 'btd', 'btr', 'btw', 'bu', 'bub', 'bubba', 'bubbl', 'bubblegum', 'bubl', 'buchanan', 'bucharest', 'buck', 'bucket', 'bucki', 'buckingham', 'buckl', 'buckley', 'bucol', 'bud', 'budapest', 'budd', 'buddha', 'buddhism', 'buddhist', 'buddi', 'budg', 'budget', 'budgetari', 'budokan', 'bueller', 'buen', 'buena', 'bueno', 'buf', 'buff', 'buffalo', 'buffer', 'buffet', 'buffett', 'buffi', 'buffoon', 'buffooneri', 'buford', 'bug', 'bugg', 'bugger', 'buggi', 'buggl', 'buick', 'build', 'builder', 'buildup', 'built', 'buis', 'bujold', 'bukowski', 'bulb', 'bulg', 'bulgaria', 'bulk', 'bulki', 'bull', 'bullcrap', 'bulldog', 'bulldoz', 'bullet', 'bulletin', 'bulletproof', 'bullfight', 'bulli', 'bullit', 'bullitt', 'bullock', 'bullsey', 'bullshit', 'bum', 'bumbl', 'bumblebe', 'bummer', 'bump', 'bumper', 'bumpi', 'bumpkin', 'bun', 'bunch', 'bundi', 'bundl', 'bungl', 'bunk', 'bunker', 'bunni', 'buoy', 'buoyanc', 'buoyant', 'bur', 'burana', 'burden', 'burdensom', 'burdon', 'bureau', 'bureaucraci', 'bureaucrat', 'burgeon', 'burger', 'burgess', 'burglar', 'burglari', 'burgundi', 'buri', 'burial', 'burk', 'burlesqu', 'burli', 'burma', 'burn', 'burner', 'burnett', 'burnin', 'burnish', 'burnout', 'burnt', 'burp', 'burr', 'burri', 'burrito', 'burrough', 'burrow', 'burst', 'burstyn', 'burt', 'burton', 'buscemi', 'buse', 'busey', 'bush', 'bushel', 'busi', 'busier', 'busiest', 'businessman', 'businessmen', 'bust', 'buster', 'bustl', 'busybodi', 'but', 'butch', 'butcher', 'butcheri', 'butler', 'butt', 'butter', 'buttercream', 'buttercup', 'butterfield', 'butterfli', 'butteri', 'butthead', 'buttock', 'button', 'buttress', 'bux', 'buy', 'buyer', 'buzz', 'buzzer', 'buzzfe', 'buzzword', 'bvb', 'bw', 'bwv', 'by', 'bye', 'bygon', 'byne', 'bypass', 'byproduct', 'byrd', 'byrn', 'byron', 'bystand', 'byte', 'byzantin', 'byzantium', 'ca', 'caan', 'cab', 'cabal', 'caballo', 'cabaret', 'cabbag', 'cabbi', 'cabin', 'cabinet', 'cabl', 'cabot', 'cabret', 'cach', 'cackl', 'cacophon', 'cacophoni', 'cactu', 'cad', 'cada', 'cadav', 'caddi', 'cadenc', 'cadenza', 'cadet', 'cadi', 'cadillac', 'cadr', 'caesar', 'caf', 'cafe', 'cafeteria', 'caffein', 'cage', 'cain', 'cairo', 'caitlin', 'caitriona', 'cajol', 'cajun', 'cake', 'cal', 'calam', 'calamit', 'caland', 'calc', 'calcif', 'calcium', 'calcul', 'calculu', 'calcutta', 'caldwel', 'cale', 'caleb', 'calend', 'calendar', 'calengoo', 'calexico', 'calf', 'calhoun', 'cali', 'calib', 'calibr', 'calico', 'calidad', 'calif', 'californ', 'california', 'californian', 'caligula', 'calisthen', 'call', 'calla', 'callahan', 'callback', 'caller', 'calli', 'calligraphi', 'calliop', 'callou', 'callous', 'callow', 'calm', 'calmer', 'calmli', 'calor', 'calori', 'calpurnia', 'calv', 'calvari', 'calvin', 'calypso', 'cam', 'camaraderi', 'cambodia', 'cambridg', 'camcord', 'came', 'camel', 'camelot', 'cameo', 'camera', 'cameraman', 'cameramen', 'camerawork', 'cameron', 'camil', 'camilla', 'camino', 'camouflag', 'camp', 'campaign', 'campbel', 'camper', 'campfir', 'campi', 'campu', 'camu', 'can', 'canada', 'canadian', 'canal', 'canari', 'cancel', 'cancer', 'cancion', 'candac', 'candelabra', 'candi', 'candic', 'candid', 'candidli', 'candl', 'candleford', 'candlelight', 'candor', 'cane', 'canfield', 'canin', 'cann', 'canni', 'cannib', 'cannibalist', 'cannon', 'cannonbal', 'cannot', 'cano', 'canon', 'canopi', 'cant', 'cantanker', 'cantata', 'canteen', 'canterburi', 'canterlot', 'canticl', 'canto', 'canton', 'cantones', 'cantor', 'cantrel', 'canva', 'canvass', 'canyon', 'cap', 'capabl', 'capac', 'capaldi', 'capcom', 'cape', 'capella', 'caper', 'capit', 'capita', 'capitalist', 'capitol', 'capitul', 'capo', 'capon', 'capot', 'cappella', 'cappuccino', 'capra', 'capric', 'caprica', 'caprici', 'caprio', 'capsiz', 'capston', 'capsul', 'capt', 'captain', 'caption', 'captiv', 'captivatingli', 'captor', 'captur', 'capullo', 'car', 'cara', 'caract', 'caramel', 'carano', 'caravan', 'caravanserai', 'carax', 'carb', 'carbohydr', 'carbon', 'carcass', 'carcassonn', 'card', 'cardboard', 'cardiac', 'cardiff', 'cardigan', 'cardin', 'cardinal', 'cardio', 'cardiologist', 'cardiovascular', 'cardstock', 'care', 'careen', 'career', 'carefre', 'careful', 'caregiv', 'carel', 'careless', 'carelessli', 'carer', 'caress', 'caretak', 'carey', 'cargo', 'cari', 'caribbean', 'caricatur', 'carl', 'carla', 'carli', 'carlil', 'carlin', 'carlisl', 'carlo', 'carlotta', 'carlton', 'carlyl', 'carmen', 'carmichael', 'carmin', 'carmina', 'carnag', 'carnal', 'carnegi', 'carney', 'carni', 'carniv', 'carnivor', 'caro', 'carol', 'carolin', 'carolina', 'carolyn', 'carousel', 'carp', 'carpal', 'carpent', 'carpet', 'carr', 'carradin', 'carreer', 'carrel', 'carrer', 'carrera', 'carrey', 'carri', 'carriag', 'carribean', 'carrier', 'carrig', 'carrol', 'carrot', 'carson', 'carstair', 'cart', 'cartel', 'carter', 'carthag', 'carton', 'cartoon', 'cartooni', 'cartoonish', 'cartoonist', 'cartridg', 'cartwheel', 'caruso', 'carv', 'carver', 'casa', 'casablanca', 'casal', 'cascad', 'case', 'casein', 'casey', 'cash', 'cashflow', 'cashier', 'cashor', 'casi', 'casino', 'casio', 'casket', 'casper', 'cass', 'cassandra', 'cassel', 'casserol', 'cassett', 'cassi', 'cassia', 'cassidi', 'cast', 'castaway', 'caster', 'castiel', 'castig', 'castl', 'castlevil', 'castrat', 'castrati', 'castro', 'casual', 'casualti', 'cat', 'cataclysm', 'catacomb', 'catagor', 'catagori', 'catalog', 'catalogu', 'catalonia', 'catalyst', 'catalyz', 'catapult', 'catastroph', 'cataton', 'catch', 'catcher', 'catchi', 'catchier', 'catchiest', 'catchphras', 'cate', 'categor', 'categori', 'categoris', 'catelyn', 'cater', 'caterpillar', 'catfish', 'cath', 'catharsi', 'cathart', 'cathedr', 'cather', 'catherin', 'cathi', 'cathol', 'catholic', 'catman', 'catmul', 'catnip', 'catniss', 'cato', 'catti', 'cattl', 'catton', 'catwoman', 'caucasian', 'caught', 'caulder', 'cauldron', 'caulfield', 'cauliflow', 'caus', 'causal', 'causat', 'caustic', 'caution', 'cautionari', 'cautiou', 'cautious', 'cav', 'cavali', 'cavalri', 'cave', 'caveat', 'caveman', 'cavemen', 'cavendish', 'cavern', 'caviezel', 'cavil', 'caviti', 'cavort', 'cawthon', 'cb', 'cbi', 'cc', 'ccg', 'ccleaner', 'ccna', 'ccr', 'cd', 'cdc', 'cdf', 'cdo', 'ce', 'ceas', 'ceasar', 'ceaseless', 'ceaselessli', 'cecelia', 'cecil', 'cecilia', 'cedar', 'cede', 'cedric', 'cee', 'ceil', 'cel', 'celeb', 'celebr', 'celebratori', 'celest', 'celesti', 'celestia', 'celestin', 'celia', 'celiac', 'celib', 'celin', 'cell', 'cellar', 'cellist', 'cello', 'cellophan', 'cellphon', 'cellular', 'celluloid', 'celsiu', 'celt', 'celtic', 'cement', 'cemetari', 'cemeteri', 'cena', 'cencic', 'censor', 'censorship', 'censur', 'cent', 'centaur', 'centenarian', 'centenni', 'center', 'centered', 'centerpiec', 'centimet', 'centiped', 'centr', 'central', 'centric', 'centuri', 'centurion', 'ceo', 'cept', 'cera', 'ceram', 'cereal', 'cerebr', 'ceremoni', 'cernan', 'cersei', 'cersi', 'cert', 'certain', 'certainli', 'certainti', 'certian', 'certianli', 'certif', 'certifi', 'cervic', 'cesar', 'cesspool', 'cetera', 'cf', 'cfh', 'cg', 'cgi', 'ch', 'cha', 'chacter', 'chad', 'chafe', 'chaff', 'chagrin', 'chailli', 'chain', 'chainsaw', 'chair', 'chairman', 'chaka', 'chaleng', 'chalk', 'chalkboard', 'challang', 'challeg', 'challeng', 'chamber', 'chamberlain', 'chameleon', 'champ', 'champagn', 'champion', 'championship', 'chan', 'chanc', 'chancellor', 'chandeli', 'chandler', 'chandrian', 'chanel', 'chaney', 'chang', 'changeabl', 'changel', 'changer', 'changin', 'changl', 'channel', 'chanson', 'chant', 'chanteus', 'chao', 'chaotic', 'chap', 'chapel', 'chaplain', 'chaplin', 'chapman', 'chapter', 'char', 'charac', 'characht', 'charact', 'character', 'characteris', 'characterist', 'charactor', 'charad', 'charat', 'charcat', 'charcoal', 'charcter', 'chare', 'charect', 'charector', 'charg', 'charger', 'charicatur', 'chariot', 'charisma', 'charismat', 'chariss', 'charit', 'chariti', 'charl', 'charlain', 'charlatan', 'charlen', 'charleston', 'charley', 'charli', 'charliz', 'charlott', 'charlton', 'charm', 'charmer', 'charmingli', 'chart', 'chartboost', 'charter', 'chase', 'chaser', 'chasm', 'chast', 'chastain', 'chastis', 'chat', 'chateau', 'chattel', 'chatter', 'chatterley', 'chatti', 'chauffeur', 'chauvinist', 'chavez', 'chboski', 'che', 'cheadl', 'cheap', 'cheapen', 'cheaper', 'cheapest', 'cheapli', 'cheapo', 'cheapskat', 'cheat', 'cheater', 'check', 'checkbook', 'checkbox', 'checker', 'checklist', 'checkout', 'checkpoint', 'cheech', 'cheek', 'cheeki', 'cheep', 'cheer', 'cheeri', 'cheerio', 'cheerlead', 'chees', 'cheeseburg', 'cheesecak', 'cheesey', 'cheesi', 'cheesier', 'cheesiest', 'cheetah', 'cheezi', 'chef', 'chekhov', 'chekov', 'chelsea', 'chem', 'chemic', 'chemist', 'chemisti', 'chemistri', 'chemo', 'chemotherapi', 'chen', 'cheney', 'cheng', 'chenoweth', 'cher', 'cheri', 'cherish', 'cherri', 'cherub', 'cheryl', 'cheshir', 'chesil', 'chess', 'chest', 'chester', 'chesterton', 'chestnut', 'chet', 'chevali', 'chevi', 'chew', 'chewbacca', 'chewi', 'cheyenn', 'chi', 'chia', 'chiang', 'chic', 'chica', 'chicago', 'chicaneri', 'chick', 'chicken', 'chickenfoot', 'chickenhawk', 'chide', 'chief', 'chiefli', 'chieftain', 'chihuahua', 'child', 'childbirth', 'childcar', 'childer', 'childern', 'childhood', 'childish', 'childishli', 'childless', 'childlik', 'children', 'chile', 'chilean', 'chili', 'chill', 'chiller', 'chilli', 'chillin', 'chillingli', 'chimamanda', 'chime', 'chimera', 'chimney', 'chimp', 'chimpanze', 'chin', 'china', 'chinaski', 'chinatown', 'chines', 'ching', 'chink', 'chino', 'chinua', 'chip', 'chipmunk', 'chipper', 'chiropractor', 'chirp', 'chisel', 'chit', 'chitti', 'chivalr', 'chivalri', 'chiwetel', 'chlo', 'chloe', 'cho', 'chock', 'chocol', 'chocolat', 'choic', 'choir', 'chois', 'choke', 'cholera', 'cholesterol', 'chomp', 'chomski', 'choos', 'chooser', 'chop', 'chopin', 'chopper', 'choppi', 'chopra', 'chopstick', 'choral', 'chord', 'chore', 'choreograph', 'choreographi', 'chortl', 'choru', 'chorus', 'chose', 'chosen', 'chow', 'chracter', 'chri', 'chrissi', 'christ', 'christa', 'christain', 'christan', 'christen', 'christensen', 'christi', 'christian', 'christin', 'christina', 'christma', 'christmas', 'christmastim', 'christop', 'christoph', 'chromat', 'chrome', 'chromebook', 'chromecast', 'chromosom', 'chronic', 'chronicl', 'chrono', 'chronolog', 'chrysali', 'chu', 'chua', 'chubbi', 'chuck', 'chucki', 'chuckl', 'chug', 'chum', 'chump', 'chun', 'chung', 'chunk', 'chunki', 'church', 'churchil', 'churn', 'chute', 'chutzpah', 'chvrche', 'ci', 'cia', 'ciao', 'ciaran', 'cicero', 'cid', 'cider', 'cigar', 'cigarett', 'cil', 'cillian', 'cimino', 'cinch', 'cincinnati', 'cinder', 'cinderella', 'cindi', 'cine', 'cinema', 'cinemascop', 'cinemat', 'cinematograph', 'cinematographi', 'cinephil', 'cinerama', 'cinna', 'cinnamon', 'cipher', 'circa', 'circl', 'circu', 'circuit', 'circuitri', 'circul', 'circular', 'circumcis', 'circumfer', 'circumst', 'circumstanti', 'circumv', 'circus', 'cirqu', 'cisco', 'citadel', 'citat', 'cite', 'citi', 'citizen', 'citizenri', 'citizenship', 'cityscap', 'cityvil', 'civic', 'civil', 'civilian', 'civilis', 'cixi', 'cixin', 'cj', 'ck', 'cl', 'clack', 'clad', 'claim', 'clair', 'clairmont', 'clairvoy', 'clam', 'clamber', 'clamor', 'clamp', 'clan', 'clancey', 'clanci', 'clandestin', 'clang', 'clank', 'clanton', 'clap', 'clapton', 'claptrap', 'clara', 'clare', 'clarenc', 'clari', 'clarif', 'clarifi', 'clarinet', 'clarion', 'clarissa', 'clariti', 'clark', 'clarkson', 'clash', 'clasic', 'clasp', 'class', 'classi', 'classic', 'classier', 'classif', 'classifi', 'classism', 'classmat', 'classroom', 'clatter', 'clau', 'claud', 'claudia', 'claudio', 'claudiu', 'claus', 'claustrophob', 'claustrophobia', 'clave', 'clavel', 'clavier', 'claw', 'clay', 'claymat', 'claypool', 'clayton', 'clean', 'cleaner', 'cleanest', 'cleanli', 'cleans', 'cleanser', 'cleanup', 'clear', 'clearanc', 'clearer', 'clearest', 'cleari', 'clearli', 'clearwat', 'cleav', 'cleavag', 'cleaver', 'cleef', 'clees', 'clef', 'clemen', 'clement', 'clementin', 'clemon', 'clench', 'cleopatra', 'clergi', 'clergyman', 'cleric', 'clerk', 'clermont', 'cleveland', 'clever', 'cleverest', 'cleverli', 'clich', 'click', 'clickabl', 'clicker', 'client', 'clientel', 'cliff', 'cliffhang', 'clifford', 'clifton', 'climact', 'climat', 'climax', 'climb', 'climber', 'clinch', 'clincher', 'cline', 'cling', 'clingi', 'clinic', 'clinician', 'clink', 'clinker', 'clint', 'clinton', 'clip', 'clipboard', 'clipper', 'cliqu', 'clive', 'cloak', 'clobber', 'clock', 'clockwis', 'clockwork', 'clog', 'cloister', 'clone', 'clooney', 'close', 'closer', 'closest', 'closet', 'closeup', 'closur', 'clot', 'cloth', 'cloud', 'cloudi', 'clout', 'clover', 'cloverfield', 'clown', 'cloy', 'clu', 'club', 'clue', 'clueless', 'clump', 'clumsi', 'clumsili', 'clung', 'clunk', 'clunker', 'clunki', 'cluster', 'clutch', 'clutter', 'cluviel', 'clyde', 'cm', 'cmon', 'cn', 'cnn', 'co', 'coach', 'coal', 'coalesc', 'coalit', 'coars', 'coast', 'coastal', 'coaster', 'coastlin', 'coat', 'coattail', 'coauthor', 'coax', 'cob', 'cobain', 'cobb', 'cobbl', 'cobbleston', 'coben', 'cobham', 'cobi', 'cobra', 'cobweb', 'coc', 'coca', 'cocain', 'cochran', 'cock', 'cockayn', 'cocker', 'cocki', 'cockney', 'cockpit', 'cockroach', 'cocktail', 'coco', 'cocoa', 'coconut', 'cocoon', 'cocteau', 'cod', 'coda', 'coddington', 'coddl', 'code', 'codec', 'codenam', 'codepend', 'coder', 'codex', 'codger', 'codi', 'codifi', 'coe', 'coehlo', 'coelho', 'coen', 'coerc', 'coercion', 'coeur', 'coexist', 'coff', 'coffe', 'coffer', 'coffin', 'cog', 'cogent', 'cognit', 'cogniz', 'cohabit', 'cohen', 'coher', 'cohes', 'cohf', 'cohn', 'coho', 'cohort', 'coil', 'coin', 'coinag', 'coincid', 'coincident', 'coke', 'col', 'cola', 'colabor', 'colantoni', 'colbert', 'colbi', 'cold', 'colder', 'coldest', 'coldli', 'coldplay', 'cole', 'colect', 'coleen', 'coleman', 'colfer', 'coli', 'colin', 'coliseum', 'coliti', 'collab', 'collabo', 'collabor', 'collag', 'collaps', 'collar', 'collat', 'collater', 'colleagu', 'collect', 'collectivist', 'collector', 'colleen', 'colleg', 'collegi', 'collegu', 'collen', 'collett', 'colli', 'collid', 'collier', 'collin', 'collis', 'colloqui', 'collud', 'collus', 'colm', 'colman', 'cologn', 'colombia', 'colombian', 'colon', 'colonel', 'coloni', 'colonialist', 'colonist', 'color', 'colorado', 'coloratura', 'colorblind', 'colorful', 'colorless', 'colornot', 'coloss', 'colosseum', 'colossu', 'colour', 'colt', 'coltran', 'colum', 'columbia', 'columbian', 'columbin', 'columbo', 'columbu', 'column', 'columnist', 'com', 'coma', 'comanch', 'comatos', 'comb', 'combat', 'combin', 'combo', 'combust', 'comcast', 'come', 'comeback', 'comed', 'comedi', 'comedian', 'coment', 'comentari', 'comer', 'comerci', 'comet', 'comeupp', 'comfi', 'comfort', 'comic', 'comicbook', 'comin', 'comm', 'comma', 'command', 'commando', 'commemor', 'commenc', 'commend', 'commensur', 'comment', 'commentari', 'commer', 'commerc', 'commerci', 'commi', 'commiser', 'commiss', 'commission', 'commit', 'committ', 'committe', 'commod', 'commodor', 'common', 'commonli', 'commonplac', 'commonsens', 'commonwealth', 'commot', 'commun', 'communion', 'communist', 'commut', 'como', 'comp', 'compact', 'compair', 'compani', 'companion', 'companionship', 'compar', 'comparis', 'comparison', 'compart', 'compartment', 'compass', 'compassion', 'compat', 'compatriot', 'compel', 'compellingli', 'compendium', 'compens', 'compet', 'competit', 'competitor', 'compil', 'complac', 'complain', 'complaint', 'complement', 'complementari', 'complet', 'completest', 'completionist', 'completist', 'completley', 'completli', 'complex', 'complexion', 'compli', 'complianc', 'compliant', 'compliat', 'complic', 'complicit', 'compliment', 'complimentari', 'compon', 'compos', 'composit', 'compost', 'composur', 'compound', 'compr', 'compra', 'comprar', 'comprehend', 'comprehens', 'compress', 'compris', 'compromis', 'compton', 'compuls', 'compulsori', 'compunct', 'comput', 'computer', 'comrad', 'comraderi', 'comun', 'comyenti', 'con', 'conan', 'conceal', 'conced', 'conceit', 'conceiv', 'concentr', 'concept', 'conceptu', 'concern', 'concert', 'concertgebouw', 'concerti', 'concerto', 'concess', 'conchord', 'concid', 'concierg', 'concierto', 'conciev', 'conciou', 'concious', 'concis', 'conclav', 'conclud', 'conclus', 'concoct', 'concord', 'concret', 'concubin', 'concur', 'concurr', 'concuss', 'condemn', 'condens', 'condescend', 'condescens', 'condi', 'condit', 'condition', 'conditon', 'condo', 'condol', 'condom', 'condon', 'condor', 'conduc', 'conduct', 'conductor', 'conduit', 'cone', 'conect', 'coney', 'confect', 'confeder', 'confederaci', 'confer', 'confess', 'confession', 'confessor', 'confetti', 'confid', 'confidant', 'confidenti', 'configur', 'confin', 'confirm', 'confisc', 'conflagr', 'conflat', 'conflict', 'confluenc', 'conform', 'conformist', 'confort', 'confound', 'confront', 'confus', 'confusingli', 'confuss', 'conga', 'congeni', 'congest', 'conglomer', 'congo', 'congrat', 'congratul', 'congratulatori', 'congreg', 'congress', 'congression', 'congressman', 'congressmen', 'congruent', 'conjectur', 'conjug', 'conjunct', 'conjur', 'conn', 'connect', 'connected', 'connecticut', 'connector', 'connel', 'connelli', 'conner', 'conneri', 'conni', 'connick', 'conniv', 'connoisseur', 'connolli', 'connor', 'connot', 'conquer', 'conqueror', 'conquest', 'conrad', 'conroy', 'conscienc', 'conscienti', 'consciou', 'conscious', 'conscript', 'consecut', 'consensu', 'consent', 'consequ', 'consequenti', 'conserv', 'conservat', 'conservatori', 'consid', 'consider', 'consign', 'consis', 'consist', 'consistantli', 'consol', 'consolid', 'conson', 'consort', 'conspicu', 'conspir', 'conspiraci', 'conspiratori', 'constanc', 'constant', 'constantin', 'constantli', 'constel', 'constern', 'constip', 'constitu', 'constitut', 'constrain', 'constraint', 'constrict', 'constru', 'construct', 'constructor', 'consult', 'consum', 'consumer', 'consumm', 'consumpt', 'cont', 'contact', 'contagi', 'contagion', 'contain', 'contamin', 'contempl', 'contemporan', 'contemporari', 'contempt', 'contemptu', 'contend', 'content', 'contenti', 'contest', 'context', 'contextu', 'conti', 'contigu', 'contin', 'continent', 'conting', 'continu', 'continuo', 'continuum', 'contort', 'contour', 'contra', 'contract', 'contractor', 'contractu', 'contradict', 'contradictori', 'contralto', 'contrapt', 'contrapunt', 'contrari', 'contrarian', 'contrast', 'contribut', 'contributor', 'contrit', 'contriv', 'control', 'controversi', 'conundrum', 'convalesc', 'conveni', 'convent', 'converg', 'convers', 'conversationalist', 'convert', 'convey', 'conveyor', 'convict', 'convien', 'convienc', 'convieni', 'convient', 'convinc', 'convincingli', 'convo', 'convolut', 'convoy', 'convuls', 'conway', 'coo', 'cooder', 'cook', 'cookbook', 'cooker', 'cooki', 'cookin', 'cool', 'cooldown', 'cooler', 'coolest', 'cooley', 'coolidg', 'coolio', 'coon', 'coop', 'cooper', 'coordin', 'cop', 'cope', 'copeland', 'copenhagen', 'copi', 'copier', 'copiou', 'copland', 'copley', 'copper', 'copperfield', 'coppola', 'copter', 'copul', 'copycat', 'copyright', 'copywrit', 'cor', 'cora', 'coral', 'coralin', 'corazon', 'corbin', 'cord', 'cordain', 'cordelia', 'cordial', 'core', 'corea', 'corelli', 'corey', 'corgan', 'cori', 'corin', 'corinn', 'corinthian', 'cork', 'corki', 'corkscrew', 'corleon', 'cormac', 'corn', 'cornbal', 'cornel', 'cornelia', 'corner', 'cornerston', 'corney', 'cornfield', 'corni', 'cornish', 'cornucopia', 'cornwal', 'cornwel', 'corollari', 'coron', 'coronado', 'coronari', 'corp', 'corpor', 'corps', 'corpu', 'corr', 'corral', 'correct', 'correctli', 'correl', 'correspond', 'correspondingli', 'corri', 'corridor', 'corrigan', 'corrin', 'corrobor', 'corros', 'corrupt', 'cors', 'corset', 'corso', 'cort', 'cortex', 'cortez', 'corvett', 'cosa', 'cosbi', 'cosega', 'cosett', 'cosi', 'cosmer', 'cosmet', 'cosmic', 'cosmo', 'cosmolog', 'cosmopoli', 'cosmopolitan', 'cosplay', 'cossett', 'cost', 'costa', 'costar', 'costco', 'costello', 'coster', 'costli', 'costner', 'costum', 'cote', 'cotillard', 'cotillion', 'cottag', 'cotton', 'couch', 'coud', 'coudn', 'cougar', 'cough', 'cought', 'coul', 'could', 'coulda', 'couldnt', 'couldv', 'couln', 'coulson', 'council', 'councillor', 'councilor', 'counsel', 'counselor', 'count', 'countdown', 'counten', 'counter', 'counteract', 'counterbal', 'countercultur', 'counterfeit', 'counterintuit', 'counterpart', 'counterpoint', 'counterproduct', 'countertenor', 'counterweight', 'countess', 'counti', 'countless', 'countri', 'countrifi', 'countrymen', 'countrysid', 'coup', 'coupl', 'coupon', 'courag', 'courier', 'cours', 'coursera', 'court', 'courtenay', 'courteou', 'courtesan', 'courtesi', 'courthous', 'courtier', 'courtli', 'courtney', 'courtroom', 'courtship', 'courtyard', 'cous', 'cousin', 'coutur', 'cove', 'coven', 'covent', 'cover', 'coverag', 'coverdal', 'covert', 'covertli', 'coverup', 'covet', 'covey', 'cow', 'coward', 'cowardic', 'cowardli', 'cowbel', 'cowboy', 'cowel', 'cower', 'cowgirl', 'cowl', 'cowork', 'cox', 'coy', 'coyl', 'coyn', 'coyot', 'coz', 'cozi', 'cp', 'cpr', 'cpt', 'cpu', 'cr', 'crab', 'crabbi', 'crack', 'cracker', 'crackerjack', 'crackl', 'crackli', 'crackpot', 'cradl', 'craft', 'crafter', 'crafti', 'craftili', 'craftmanship', 'craftsman', 'craftsmanship', 'craftsmen', 'craggi', 'craig', 'crake', 'craker', 'cram', 'cramp', 'cranberri', 'crane', 'cranford', 'crank', 'cranki', 'cranni', 'cranston', 'crap', 'crapi', 'crappi', 'crappiest', 'craptast', 'crash', 'crasher', 'crass', 'crate', 'crater', 'crave', 'craven', 'crawford', 'crawl', 'crawler', 'crawley', 'crawli', 'cray', 'crayon', 'craze', 'crazi', 'crazier', 'craziest', 'crazili', 'creak', 'creaki', 'cream', 'creami', 'creas', 'creat', 'creater', 'createspac', 'creation', 'creationist', 'creativ', 'creator', 'creatur', 'cred', 'credenc', 'credenti', 'credibl', 'credit', 'credo', 'credul', 'creed', 'creedenc', 'creek', 'creep', 'creeper', 'creepi', 'creepier', 'creepiest', 'creepili', 'creepshow', 'cremat', 'creme', 'creo', 'crepe', 'crept', 'crescendo', 'crescent', 'cress', 'crest', 'cretin', 'cretu', 'crevic', 'crew', 'crewman', 'crewmemb', 'cri', 'crib', 'crichton', 'cricket', 'crier', 'crime', 'crimea', 'crimin', 'crimson', 'cring', 'cringeworthi', 'crinkl', 'crippl', 'crise', 'crisi', 'crisp', 'crisper', 'crispi', 'crispin', 'crispli', 'criss', 'crisscross', 'cristina', 'cristo', 'criteria', 'criterion', 'critic', 'criticis', 'critiqu', 'critis', 'critiz', 'critter', 'crixu', 'cro', 'croak', 'croc', 'croce', 'crochet', 'crock', 'crockett', 'crocodil', 'croft', 'croissant', 'cromwel', 'crone', 'cronenberg', 'croni', 'crood', 'crook', 'croon', 'crooner', 'crop', 'crosbi', 'cross', 'crossan', 'crossbow', 'crossfir', 'crossfit', 'crosshair', 'crossi', 'crossm', 'crossov', 'crossroad', 'crosstalk', 'crossway', 'crossword', 'crotch', 'crotcheti', 'crouch', 'crow', 'crowd', 'crowley', 'crown', 'croz', 'crt', 'crucial', 'crucibl', 'crucifi', 'crucifix', 'crucifixion', 'crud', 'cruddi', 'crude', 'cruder', 'crudup', 'crue', 'cruel', 'cruelli', 'cruelti', 'cruis', 'cruiser', 'crumb', 'crumbl', 'crummi', 'crumpl', 'crunch', 'crunchi', 'crusad', 'cruse', 'crush', 'crusher', 'crushingli', 'cruso', 'crust', 'crusti', 'crutch', 'crux', 'cruz', 'crybabi', 'cryer', 'cryin', 'cryme', 'cryoburn', 'cryogen', 'crypt', 'cryptic', 'crypto', 'cryptograph', 'cryptographi', 'cryptolog', 'cryptologist', 'cryptonomicon', 'crystal', 'crystallin', 'cs', 'csi', 'csikszentmihalyi', 'csn', 'csni', 'cso', 'csr', 'css', 'ct', 'cta', 'cthulhu', 'cthulu', 'ctr', 'ctrl', 'cu', 'cual', 'cualquier', 'cuando', 'cuaron', 'cub', 'cuba', 'cuban', 'cube', 'cubic', 'cubicl', 'cubistri', 'cuckoo', 'cucumb', 'cud', 'cuddl', 'cuddli', 'cudi', 'cudo', 'cue', 'cuenta', 'cuff', 'cuisin', 'cuisinart', 'cujo', 'cul', 'cula', 'culinari', 'culkin', 'cull', 'cullen', 'culloden', 'culmin', 'culpa', 'culpabl', 'culprit', 'cult', 'cultish', 'cultiv', 'cultur', 'cum', 'cumberbatch', 'cumbersom', 'cumul', 'cun', 'cunard', 'cunningham', 'cunningli', 'cup', 'cupboard', 'cupcak', 'cupid', 'cuppa', 'cur', 'curabl', 'curat', 'curb', 'curdl', 'cure', 'curfew', 'curio', 'curios', 'curiou', 'curious', 'curl', 'curli', 'curmudgeon', 'curmudgeonli', 'currenc', 'current', 'curri', 'curriculum', 'curs', 'cursor', 'cursori', 'curt', 'curtail', 'curtain', 'curti', 'curv', 'curvatur', 'curvebal', 'curvi', 'cusack', 'cusak', 'cush', 'cushion', 'cusp', 'cuss', 'cussler', 'custard', 'custer', 'custodi', 'custom', 'customari', 'customis', 'customiz', 'cut', 'cutaway', 'cute', 'cuter', 'cutesi', 'cutest', 'cuthbert', 'cuti', 'cutoff', 'cutout', 'cutscen', 'cutter', 'cutthroat', 'cuz', 'cv', 'cw', 'cx', 'cy', 'cyanid', 'cyanogen', 'cyanogenmod', 'cyber', 'cybermen', 'cybernet', 'cyberpunk', 'cyberspac', 'cyborg', 'cycl', 'cyclic', 'cyclist', 'cyclon', 'cyclop', 'cyd', 'cygnu', 'cylind', 'cylon', 'cymbal', 'cyndi', 'cynic', 'cynthia', 'cypher', 'cyril', 'cyru', 'czar', 'czech', 'czechoslovakia', 'da', 'dab', 'dabbl', 'dac', 'dachau', 'dad', 'dada', 'daddi', 'daemon', 'daenari', 'daeneri', 'daffi', 'dafo', 'daft', 'dagger', 'dah', 'dahl', 'dahlia', 'daili', 'dainti', 'dairi', 'daisi', 'dakota', 'dalai', 'dale', 'dalek', 'dali', 'dalinar', 'dalla', 'dallianc', 'dalloway', 'dalmatian', 'dalton', 'daltrey', 'dam', 'damag', 'damascu', 'dame', 'damian', 'damien', 'damm', 'dammit', 'damn', 'damnat', 'damnit', 'damon', 'damp', 'dampen', 'damper', 'damrau', 'damsel', 'dan', 'dana', 'danaeri', 'danburi', 'danc', 'danceabl', 'dancefloor', 'dancehal', 'dancer', 'dancey', 'danci', 'dancin', 'dandelion', 'dandi', 'dane', 'daneri', 'dang', 'danger', 'dangl', 'dani', 'daniel', 'daniela', 'danielewski', 'daniken', 'danish', 'dank', 'danko', 'danni', 'dano', 'dant', 'danver', 'danzig', 'daphn', 'dapper', 'dar', 'darabont', 'darbi', 'darci', 'dare', 'daredevil', 'daresay', 'dari', 'daria', 'dario', 'dariu', 'darjeel', 'dark', 'darken', 'darker', 'darkest', 'darkli', 'darko', 'darkroom', 'darksid', 'darl', 'darlen', 'darlin', 'darn', 'darrel', 'darren', 'darrow', 'darryl', 'dart', 'darth', 'darwin', 'darwinian', 'daryl', 'dash', 'dashboard', 'dasher', 'dashiel', 'dashner', 'dashwood', 'dass', 'dastardli', 'dat', 'data', 'databas', 'dataviz', 'date', 'datelin', 'daugher', 'daughter', 'daughtri', 'daugther', 'daunt', 'dauntless', 'dave', 'davenport', 'davey', 'davi', 'david', 'davidson', 'davinci', 'davison', 'davo', 'daw', 'dawdl', 'dawg', 'dawkin', 'dawn', 'dawsey', 'dawson', 'dax', 'day', 'daybreak', 'daycar', 'daydream', 'daylight', 'daytim', 'dayton', 'daze', 'dazzl', 'db', 'dbz', 'dc', 'dcc', 'dcd', 'dcu', 'dd', 'ddd', 'de', 'dea', 'deacon', 'deactiv', 'dead', 'deadbeat', 'deaden', 'deadhead', 'deadli', 'deadliest', 'deadlift', 'deadlin', 'deadlock', 'deadmau', 'deadpan', 'deadpool', 'deadw', 'deadwood', 'deaf', 'deafen', 'deal', 'dealbreak', 'dealer', 'dealership', 'dealt', 'deamon', 'dean', 'deanna', 'dear', 'dearest', 'dearli', 'dearth', 'death', 'deathb', 'deathli', 'deathmatch', 'deathstrok', 'deb', 'debacl', 'debas', 'debat', 'debauch', 'debaucheri', 'debbi', 'debe', 'debilit', 'debit', 'debonair', 'deborah', 'debra', 'debri', 'debt', 'debug', 'debunk', 'debussi', 'debut', 'dec', 'decad', 'decal', 'decapit', 'decaprio', 'decay', 'decca', 'deceas', 'deceit', 'deceiv', 'decemb', 'decemberist', 'decenc', 'decend', 'decent', 'decept', 'decibel', 'decid', 'decidedli', 'decim', 'deciph', 'decir', 'decis', 'deck', 'deckard', 'decker', 'declar', 'declassifi', 'declin', 'declutt', 'deco', 'decod', 'decompos', 'decompress', 'deconstruct', 'decor', 'decorum', 'decoy', 'decre', 'decreas', 'decrepit', 'decri', 'decrib', 'decrypt', 'dectect', 'ded', 'dedic', 'deduc', 'deduct', 'dee', 'deed', 'deem', 'deen', 'deep', 'deepak', 'deepen', 'deeper', 'deepest', 'deepli', 'deer', 'def', 'defac', 'default', 'defeat', 'defec', 'defect', 'defector', 'defenc', 'defend', 'defenit', 'defenitli', 'defens', 'defenseless', 'defent', 'defer', 'deff', 'deffin', 'deffinatli', 'deffinetli', 'deffinit', 'deffinitli', 'defi', 'defianc', 'defiant', 'defiantli', 'defici', 'deficit', 'defil', 'defin', 'definantli', 'definatley', 'definatli', 'definet', 'definetli', 'definit', 'definitivament', 'definitley', 'definitli', 'defint', 'deflat', 'deflect', 'deflow', 'defo', 'deforest', 'deform', 'defraud', 'deft', 'deftli', 'defton', 'defunct', 'defus', 'deg', 'degarmo', 'degen', 'degener', 'degrad', 'degrass', 'degre', 'dehuman', 'dehydr', 'dei', 'deighton', 'deign', 'deist', 'deiti', 'deja', 'dejah', 'dejar', 'dejavu', 'deject', 'dekker', 'del', 'delain', 'delaney', 'delavi', 'delawar', 'delay', 'deleat', 'delect', 'deleg', 'delerium', 'delet', 'deli', 'delib', 'deliber', 'delic', 'delicaci', 'delici', 'deliev', 'delight', 'delilah', 'delillo', 'delin', 'delinqu', 'deliri', 'deliria', 'delirium', 'delish', 'deliv', 'deliver', 'deliveri', 'dell', 'della', 'delor', 'delorean', 'delp', 'delphi', 'delpi', 'delt', 'delta', 'delud', 'delug', 'delus', 'delusion', 'delux', 'delv', 'dem', 'demand', 'demandr', 'demanufactur', 'demean', 'demeanor', 'dement', 'dementia', 'demerit', 'demi', 'demick', 'demigod', 'demil', 'demis', 'demo', 'democraci', 'democrat', 'demograph', 'demolish', 'demolit', 'demon', 'demonstr', 'demor', 'demot', 'dempsey', 'demur', 'demystifi', 'den', 'denbi', 'dench', 'deng', 'denham', 'deni', 'denial', 'denier', 'denigr', 'denim', 'deniro', 'denis', 'denisof', 'denizen', 'denmark', 'denna', 'dennett', 'denni', 'denomin', 'denon', 'denot', 'denouement', 'denoument', 'denounc', 'dens', 'denser', 'densiti', 'dent', 'dental', 'dentist', 'denver', 'denzel', 'depalma', 'depardieu', 'depart', 'department', 'departur', 'depech', 'depend', 'depict', 'deplet', 'deplor', 'deploy', 'deport', 'depos', 'deposit', 'depositori', 'depot', 'depp', 'deprav', 'deprec', 'depreci', 'depress', 'depressingli', 'depriv', 'dept', 'depth', 'deputi', 'der', 'derail', 'derang', 'derbi', 'deregul', 'derek', 'derelict', 'derezz', 'derid', 'deris', 'deriv', 'dern', 'derogatori', 'derpi', 'derri', 'derrick', 'desatur', 'descend', 'descent', 'deschanel', 'descib', 'descipt', 'describ', 'descript', 'descriptor', 'desd', 'desecr', 'desegreg', 'deselect', 'desensit', 'desert', 'deserv', 'deservedli', 'desi', 'design', 'desir', 'desk', 'desktop', 'desmond', 'desol', 'despair', 'despar', 'desper', 'desperado', 'despic', 'despis', 'despit', 'desplat', 'despond', 'despot', 'despu', 'dessay', 'dessert', 'destabil', 'destin', 'destini', 'destitut', 'destress', 'destroy', 'destruct', 'det', 'detach', 'detail', 'detain', 'detal', 'detect', 'detector', 'detent', 'deter', 'deterior', 'determin', 'determinist', 'deterr', 'detest', 'dethron', 'deton', 'detour', 'detox', 'detract', 'detractor', 'detriment', 'detroit', 'deu', 'deuc', 'deutsch', 'deux', 'dev', 'deva', 'devacurl', 'devalu', 'devast', 'devastatingli', 'develop', 'development', 'dever', 'devest', 'devgru', 'devi', 'devianc', 'deviant', 'deviat', 'devic', 'devil', 'devilish', 'devilishli', 'devin', 'deviou', 'devious', 'devis', 'devist', 'devito', 'devlop', 'devo', 'devoid', 'devolut', 'devolv', 'devon', 'devop', 'devot', 'devote', 'devour', 'devout', 'devoutli', 'dew', 'dewar', 'dewey', 'dex', 'dexter', 'df', 'dftba', 'dfw', 'dg', 'dgg', 'dh', 'dhani', 'dharma', 'di', 'dia', 'diabet', 'diablo', 'diabol', 'diagnos', 'diagnosi', 'diagnost', 'diagon', 'diagram', 'dial', 'dialect', 'dialog', 'dialogu', 'dialoug', 'dialysi', 'diamet', 'diametr', 'diamond', 'dian', 'diana', 'diann', 'dianna', 'diaper', 'diappoint', 'diari', 'diarrhea', 'diaspora', 'diatrib', 'diaz', 'dib', 'dic', 'dicaprio', 'dice', 'dicey', 'dich', 'dichotomi', 'dick', 'dicken', 'dickensian', 'dickenson', 'dickey', 'dicki', 'dickinson', 'dictat', 'dictatori', 'dictatorship', 'diction', 'dictionari', 'dictum', 'didact', 'diddi', 'diddley', 'didnot', 'didnt', 'dido', 'die', 'diego', 'diehard', 'diem', 'diesel', 'dieskau', 'diet', 'dietari', 'dieter', 'dietrich', 'dietz', 'dif', 'difer', 'diferent', 'diff', 'diffenbaugh', 'diffent', 'differ', 'differenti', 'differnt', 'difficult', 'difficulti', 'difficultli', 'diffid', 'diffrent', 'diffus', 'dificult', 'dig', 'digest', 'digg', 'digger', 'diggin', 'diggiti', 'digi', 'digibook', 'digipack', 'digipak', 'digit', 'digitalchemi', 'dignifi', 'digniti', 'digress', 'dilapid', 'dilat', 'dilbert', 'dilema', 'dilemma', 'dilemna', 'dilig', 'dill', 'dillan', 'dilling', 'dillon', 'dilut', 'dim', 'dimaggio', 'dime', 'dimebag', 'dimens', 'dimension', 'diment', 'dimeola', 'diminish', 'diminut', 'dimitri', 'dimli', 'dimmer', 'dimpl', 'dimwit', 'din', 'dinah', 'dine', 'diner', 'dinero', 'ding', 'dingi', 'dinki', 'dinklag', 'dinner', 'dino', 'dinosaur', 'dint', 'dio', 'dion', 'dioxid', 'dip', 'diploma', 'diplomaci', 'diplomat', 'dippi', 'dir', 'dire', 'direct', 'direction', 'directionless', 'directli', 'director', 'directori', 'directv', 'direwolv', 'dirg', 'dirk', 'dirt', 'dirti', 'dirtier', 'disabl', 'disabus', 'disadvantag', 'disaffect', 'disagr', 'disagre', 'disallow', 'disapear', 'disapoint', 'disappear', 'disappiont', 'disappoin', 'disappoint', 'disappointingli', 'disappont', 'disapppoint', 'disapprov', 'disarm', 'disarmingli', 'disarray', 'disassembl', 'disassoci', 'disast', 'disaster', 'disastr', 'disavow', 'disband', 'disbar', 'disbelief', 'disbeliev', 'disc', 'discard', 'discern', 'discharg', 'discipl', 'disciplin', 'disciplinari', 'disclaim', 'disclos', 'disclosur', 'disco', 'discographi', 'discolor', 'discombobul', 'discomfort', 'disconcert', 'disconnect', 'discont', 'discontinu', 'discord', 'discount', 'discourag', 'discours', 'discov', 'discover', 'discoveri', 'discredit', 'discreet', 'discreetli', 'discrep', 'discret', 'discrib', 'discrimin', 'discript', 'discuss', 'discworld', 'disdain', 'diseas', 'disect', 'disembodi', 'disench', 'disenfranchis', 'disengag', 'disfigur', 'disfunct', 'disgrac', 'disgruntl', 'disguis', 'disgust', 'disgustingli', 'dish', 'dishearten', 'dishevel', 'dishonest', 'dishonesti', 'dishonor', 'dishwash', 'disillus', 'disillusion', 'disinform', 'disingenu', 'disintegr', 'disinterest', 'disjoint', 'disk', 'dislik', 'disloc', 'dislodg', 'disloy', 'dismal', 'dismantl', 'dismay', 'dismemb', 'dismember', 'dismiss', 'disney', 'disneyland', 'disobedi', 'disobey', 'disord', 'disorgan', 'disori', 'disorient', 'disown', 'dispair', 'dispar', 'disparag', 'dispassion', 'dispatch', 'dispel', 'dispens', 'dispers', 'dispic', 'dispit', 'displac', 'display', 'displeas', 'displeasur', 'dispos', 'disposit', 'dispossess', 'disppoint', 'disproportion', 'disprov', 'disput', 'disqualifi', 'disquiet', 'disra', 'disregard', 'disreput', 'disrespect', 'disrupt', 'diss', 'dissapear', 'dissapoint', 'dissappear', 'dissappoint', 'dissatisfact', 'dissatisfi', 'dissect', 'dissemin', 'dissent', 'dissert', 'disservic', 'dissid', 'dissimilar', 'dissip', 'dissoci', 'dissolut', 'dissolv', 'disson', 'dissuad', 'distain', 'distanc', 'distant', 'distast', 'distil', 'distinct', 'distinctli', 'distinguish', 'distopian', 'distort', 'distract', 'distractingli', 'distraught', 'distress', 'distribut', 'distributor', 'district', 'distrub', 'distruct', 'distrust', 'disturb', 'disturbingli', 'dit', 'ditch', 'dither', 'ditti', 'ditto', 'ditzi', 'div', 'diva', 'dive', 'diver', 'diverg', 'divers', 'diversif', 'diversifi', 'divert', 'divic', 'divid', 'dividend', 'divin', 'divis', 'divo', 'divorc', 'divorce', 'divulg', 'dixi', 'dixieland', 'dixon', 'diy', 'dizzi', 'dj', 'django', 'djimon', 'djokov', 'dk', 'dl', 'dlc', 'dlna', 'dlp', 'dlr', 'dm', 'dmitri', 'dmv', 'dmz', 'dn', 'dna', 'dnd', 'dnf', 'dnr', 'do', 'doa', 'doabl', 'doak', 'dobb', 'dobbi', 'dobrev', 'dobro', 'doc', 'docil', 'dock', 'dockeri', 'doco', 'doctor', 'doctrin', 'docu', 'docudrama', 'document', 'documentari', 'documentri', 'docx', 'dod', 'dodd', 'dodg', 'dodger', 'dodgi', 'dodo', 'doe', 'doen', 'doer', 'doerr', 'doesnt', 'dof', 'dog', 'dogberri', 'doge', 'dogfight', 'dogg', 'doggedli', 'doggi', 'doggon', 'dogma', 'dogmat', 'doh', 'dohr', 'doidg', 'doin', 'dokken', 'dolbi', 'dolc', 'doldrum', 'dole', 'doll', 'dollar', 'dollhous', 'dolli', 'dollop', 'dolor', 'dolph', 'dolphin', 'dolt', 'dom', 'domain', 'dome', 'domest', 'domhnal', 'domin', 'dominatrix', 'domingo', 'dominican', 'dominion', 'dominiqu', 'domino', 'don', 'donald', 'donaldson', 'donat', 'donatella', 'dond', 'done', 'donen', 'dong', 'donizetti', 'donkey', 'donn', 'donna', 'donnel', 'donner', 'donni', 'donoghu', 'donor', 'donovan', 'dont', 'donut', 'doo', 'doobi', 'doodl', 'doodler', 'doofu', 'doogi', 'doohan', 'dooki', 'dooley', 'doolittl', 'doom', 'doomi', 'doomsday', 'door', 'doorbel', 'doorman', 'doormat', 'doorstep', 'doorstop', 'doorway', 'doozi', 'dope', 'dopey', 'doppelgang', 'doppler', 'dor', 'dora', 'dorado', 'doreen', 'dori', 'dorian', 'dork', 'dorki', 'dorm', 'dorma', 'dormant', 'dormer', 'dorn', 'dornish', 'doro', 'dorothea', 'dorothi', 'dorrigo', 'dorrit', 'dorsey', 'dosag', 'dose', 'dosen', 'dosent', 'dosnt', 'dossier', 'dostoevski', 'dostoyevski', 'dot', 'dote', 'doth', 'dothraki', 'dotric', 'dotti', 'doubl', 'doubler', 'doubli', 'doubt', 'doubter', 'doubtfir', 'doubtless', 'doubtlessli', 'douch', 'douchebag', 'doug', 'dougal', 'dough', 'doughnut', 'dougla', 'douglass', 'dour', 'dous', 'dove', 'dover', 'dovetail', 'dovey', 'dow', 'dowag', 'dowd', 'dowdi', 'dowload', 'down', 'downabl', 'downbeat', 'downer', 'downey', 'downfal', 'downgrad', 'downhil', 'downi', 'downlaod', 'download', 'downplay', 'downpour', 'downright', 'downsid', 'downsiz', 'downstair', 'downstream', 'downtempo', 'downtim', 'downton', 'downtown', 'downtrodden', 'downturn', 'downward', 'downworld', 'dowton', 'doyl', 'doze', 'dozen', 'dozer', 'dp', 'dprk', 'dr', 'drab', 'draco', 'draconian', 'dracula', 'draft', 'drag', 'draggi', 'dragnet', 'drago', 'dragon', 'dragonbal', 'dragonfli', 'dragonforc', 'dragonl', 'dragonval', 'drain', 'drainer', 'drake', 'dram', 'drama', 'dramat', 'dramedi', 'drang', 'drank', 'drape', 'draper', 'drastic', 'draven', 'draw', 'drawback', 'drawer', 'drawl', 'drawn', 'dre', 'dread', 'dream', 'dreamcast', 'dreamer', 'dreamfev', 'dreamgirl', 'dreami', 'dreamland', 'dreamlik', 'dreamscap', 'dreamt', 'dreamwork', 'dreamworld', 'dreari', 'dreck', 'dredd', 'dredg', 'dreg', 'drek', 'drench', 'dresden', 'dress', 'dresser', 'drew', 'dreyfu', 'dreyfuss', 'dri', 'dribbl', 'drier', 'drift', 'drifter', 'drill', 'drink', 'drinker', 'drip', 'driscol', 'drive', 'drivel', 'driven', 'driver', 'driveway', 'drivin', 'drizzt', 'drm', 'drogo', 'droid', 'droidx', 'droll', 'drone', 'drool', 'droop', 'drop', 'dropbox', 'droplet', 'dropout', 'dropper', 'droppingli', 'dross', 'drought', 'drove', 'drover', 'drow', 'drown', 'drowsi', 'drucker', 'druckerman', 'drudg', 'drudgeri', 'drug', 'druggi', 'druid', 'drum', 'drumbeat', 'drumlin', 'drummer', 'drumstick', 'drunk', 'drunkard', 'drunken', 'dryer', 'dryli', 'dryness', 'ds', 'dsd', 'dsl', 'dslr', 'dsotm', 'dsp', 'dt', 'dtv', 'du', 'dual', 'dualdisc', 'dualiti', 'duan', 'duart', 'dub', 'dubai', 'dubiou', 'dublin', 'dubner', 'duboi', 'dubstep', 'ducard', 'duchess', 'duck', 'ducki', 'duckl', 'duct', 'dud', 'duda', 'dudamel', 'dude', 'dudley', 'due', 'duel', 'duet', 'duff', 'duffi', 'dug', 'dugard', 'duh', 'duhamel', 'duhigg', 'dujardin', 'dukan', 'duke', 'duli', 'dull', 'dullard', 'duller', 'dullest', 'dulli', 'dum', 'duma', 'dumauri', 'dumb', 'dumbbel', 'dumber', 'dumbest', 'dumbfound', 'dumbledor', 'dumbo', 'dumbstruck', 'dummi', 'dump', 'dumpster', 'dumpti', 'dun', 'dunaway', 'dunc', 'duncan', 'dune', 'dung', 'dungeon', 'dunham', 'dunk', 'dunkirk', 'dunn', 'dunnit', 'dunno', 'dunst', 'duo', 'duolingo', 'duophon', 'dupe', 'duper', 'duplic', 'duplicit', 'duquesn', 'dur', 'durabl', 'duran', 'durani', 'durant', 'durat', 'durden', 'duress', 'durham', 'durn', 'dursley', 'dusk', 'dust', 'dustbin', 'duster', 'dusti', 'dustin', 'dutch', 'duti', 'duval', 'dv', 'dvd', 'dvorak', 'dvr', 'dw', 'dwarf', 'dwarv', 'dwarven', 'dwayn', 'dweck', 'dweeb', 'dwell', 'dweller', 'dwelt', 'dwight', 'dwindl', 'dx', 'dy', 'dye', 'dyer', 'dyke', 'dylan', 'dynam', 'dynamit', 'dynamo', 'dynasti', 'dysfunct', 'dyslex', 'dyslexia', 'dyson', 'dystop', 'dystopia', 'dystopian', 'ea', 'eachoth', 'eacut', 'ead', 'eadi', 'eager', 'eagerli', 'eagl', 'ear', 'earbud', 'eardrum', 'eargasm', 'earl', 'earli', 'earlier', 'earliest', 'earmark', 'earn', 'earner', 'earnest', 'earnestli', 'earp', 'earphon', 'earth', 'earthbound', 'earthi', 'earthl', 'earthli', 'earthquak', 'earthsea', 'earthshak', 'earthworm', 'earworm', 'eas', 'easi', 'easier', 'easiest', 'easili', 'easli', 'east', 'easter', 'eastern', 'eastman', 'easton', 'eastwood', 'easygo', 'eat', 'eaten', 'eater', 'eaton', 'eavesdrop', 'eb', 'ebay', 'ebb', 'eben', 'ebenez', 'ebert', 'ebola', 'ebook', 'ebulli', 'ec', 'eccentr', 'ecclect', 'ecclesiast', 'eccleston', 'echelon', 'echo', 'eckhart', 'eclect', 'eclips', 'ecm', 'eco', 'ecolog', 'econ', 'econom', 'economi', 'economist', 'ecosystem', 'ecstaci', 'ecstasi', 'ecstat', 'ect', 'ed', 'eddard', 'eddi', 'eden', 'edg', 'edgar', 'edgerton', 'edgi', 'edgier', 'edi', 'edibl', 'edici', 'edicion', 'edict', 'edifi', 'edific', 'edinburgh', 'edison', 'edit', 'edith', 'editon', 'editor', 'editori', 'edm', 'edmond', 'edmund', 'edna', 'edtion', 'educ', 'edward', 'edwardian', 'edwin', 'ee', 'eee', 'eek', 'eel', 'een', 'eeri', 'eerili', 'ef', 'efect', 'eff', 'effac', 'effect', 'effemin', 'effervesc', 'effet', 'effi', 'efficaci', 'effici', 'effin', 'effort', 'effortless', 'effortlessli', 'effus', 'efron', 'eft', 'efx', 'eg', 'egalitarian', 'egan', 'egg', 'egger', 'eggplant', 'eggshel', 'ego', 'egocentr', 'egoist', 'egomaniac', 'egot', 'egotist', 'egrav', 'egregi', 'egwen', 'egypt', 'egyptian', 'eh', 'ehh', 'ehhh', 'ehhhh', 'ehl', 'ei', 'eichmann', 'eiffel', 'eight', 'eighteen', 'eighteenth', 'eighth', 'eighti', 'eileen', 'ein', 'einaudi', 'einstein', 'eisenberg', 'eisenhow', 'eisman', 'eith', 'either', 'ej', 'eject', 'ejiofor', 'ejoy', 'eke', 'eker', 'el', 'elabor', 'elain', 'elantri', 'elaps', 'elast', 'elat', 'elayn', 'elba', 'elbow', 'elder', 'elderli', 'eldest', 'ele', 'eleanor', 'elect', 'elector', 'electr', 'electra', 'electrician', 'electrifi', 'electro', 'electrocut', 'electromagnet', 'electron', 'electronica', 'electropop', 'eleg', 'elegantli', 'elegi', 'elegiac', 'elektra', 'element', 'elementari', 'elena', 'elend', 'eleph', 'elev', 'eleven', 'eleventh', 'elf', 'elfman', 'elgar', 'eli', 'elia', 'elicit', 'elig', 'elijah', 'elimin', 'elina', 'elinor', 'eliot', 'elis', 'elisabeth', 'elisha', 'elisir', 'elit', 'elitist', 'elixir', 'eliza', 'elizabeth', 'elizabethan', 'elk', 'elkel', 'ell', 'ella', 'ellen', 'elli', 'ellington', 'elliot', 'elliott', 'ellipt', 'ellison', 'elm', 'elmer', 'elmo', 'elmor', 'elo', 'elon', 'elong', 'elop', 'eloqu', 'elp', 'elphaba', 'elrod', 'elrond', 'els', 'elsa', 'elsewher', 'elton', 'elucid', 'elud', 'elus', 'elv', 'elven', 'elvi', 'elvin', 'elvira', 'elvish', 'elw', 'elwood', 'elysium', 'em', 'emaci', 'email', 'eman', 'emancip', 'emanuel', 'emascul', 'emb', 'embarass', 'embargo', 'embark', 'embarras', 'embarrass', 'embarrassingli', 'embassi', 'embed', 'embelish', 'embellish', 'ember', 'emberley', 'embitt', 'emblazon', 'emblem', 'emblemat', 'embodi', 'embolden', 'emboss', 'embrac', 'embroid', 'embroideri', 'embroil', 'embryo', 'embryon', 'emce', 'eme', 'emerald', 'emerg', 'emerick', 'emeritu', 'emers', 'emerson', 'emi', 'emigr', 'emiko', 'emil', 'emili', 'emilia', 'emin', 'eminem', 'emiss', 'emissari', 'emit', 'emma', 'emmanuel', 'emmerich', 'emmet', 'emmett', 'emmi', 'emmyl', 'emo', 'emoji', 'emot', 'emoticon', 'emotion', 'emotionless', 'empath', 'empathet', 'empathi', 'empathis', 'emperor', 'emphas', 'emphasi', 'emphasis', 'emphat', 'empir', 'employ', 'employe', 'empow', 'empower', 'empress', 'empti', 'emptor', 'emul', 'en', 'enabl', 'enact', 'enamor', 'enamour', 'encapsul', 'encas', 'enchant', 'enchantress', 'enclav', 'enclos', 'enclosur', 'encod', 'encompass', 'encor', 'encount', 'encourag', 'encroach', 'encrypt', 'encumb', 'encycloped', 'encyclopedia', 'end', 'endang', 'endear', 'endearingli', 'endeavor', 'endeavour', 'endem', 'ender', 'enderman', 'endermen', 'endgam', 'endless', 'endlessli', 'endnot', 'endo', 'endor', 'endorphin', 'endors', 'endow', 'endpoint', 'endur', 'ene', 'enema', 'enemi', 'energ', 'energet', 'energi', 'enfant', 'enfold', 'enforc', 'eng', 'engag', 'engagingli', 'engend', 'engin', 'engl', 'england', 'english', 'englishman', 'englishmen', 'engrain', 'engrav', 'engross', 'engulf', 'enhanc', 'enid', 'enigma', 'enigmat', 'enigmati', 'enix', 'enjoin', 'enjolra', 'enjoy', 'enlarg', 'enlight', 'enlighten', 'enlightn', 'enlist', 'enliven', 'enmesh', 'enmiti', 'enni', 'ennio', 'ennobl', 'ennui', 'eno', 'enoch', 'enorm', 'enough', 'enought', 'enoy', 'enquir', 'enquiri', 'enrag', 'enraptur', 'enrich', 'enrico', 'enriqu', 'enrol', 'enron', 'ensambl', 'ensconc', 'ensembl', 'enshrin', 'ensign', 'enslav', 'ensnar', 'ensu', 'ensur', 'ent', 'entail', 'entangl', 'entendr', 'enter', 'enterain', 'enterpris', 'enterta', 'entertain', 'entertainingli', 'entertan', 'entertwin', 'enthral', 'enthus', 'enthusiasm', 'enthusiast', 'entic', 'entir', 'entireti', 'entiti', 'entitl', 'entourag', 'entr', 'entrail', 'entral', 'entranc', 'entrap', 'entre', 'entreat', 'entrega', 'entrench', 'entrepeneur', 'entrepreneur', 'entrepreneuri', 'entrepreneurship', 'entri', 'entropi', 'entrust', 'entwhistl', 'entwin', 'entwistl', 'enuf', 'enuff', 'enumer', 'enunci', 'envelop', 'envi', 'enviabl', 'enviou', 'enviro', 'environ', 'environment', 'environmentalist', 'envis', 'envolv', 'envoy', 'enya', 'enzo', 'enzym', 'eo', 'eon', 'ep', 'ephemer', 'ephron', 'epic', 'epica', 'epicent', 'epicli', 'epicurean', 'epidem', 'epidemiolog', 'epigenet', 'epilepsi', 'epilept', 'epilog', 'epilogu', 'epiphani', 'episod', 'epistemolog', 'epistl', 'epistolari', 'epitaph', 'epithet', 'epitom', 'epl', 'epoch', 'eponin', 'eponym', 'epp', 'eprint', 'epson', 'epstein', 'epub', 'eq', 'equal', 'equat', 'equestria', 'equestrian', 'equilibrium', 'equinox', 'equip', 'equit', 'equiti', 'equival', 'equivoc', 'er', 'era', 'erad', 'eragon', 'eras', 'eraserhead', 'erasur', 'erb', 'erd', 'ere', 'eread', 'erebor', 'erect', 'ergo', 'eri', 'eric', 'erica', 'erich', 'erickson', 'erik', 'erika', 'erikson', 'erin', 'erm', 'ernest', 'erni', 'ernst', 'ero', 'erod', 'eroica', 'eros', 'erot', 'erotic', 'erotica', 'err', 'errand', 'errant', 'errat', 'errata', 'errol', 'erron', 'error', 'errr', 'ersatz', 'erstwhil', 'erudit', 'erupt', 'erwin', 'erykah', 'es', 'esa', 'esc', 'escal', 'escap', 'escapad', 'escape', 'escapist', 'escena', 'escher', 'eschew', 'escort', 'ese', 'esk', 'eskimo', 'esl', 'esm', 'eso', 'esoter', 'esp', 'espa', 'espcial', 'especailli', 'especi', 'especiali', 'espectacular', 'esperanza', 'espionag', 'espn', 'esposito', 'espous', 'espresso', 'esprit', 'esq', 'esqu', 'esquir', 'ess', 'essay', 'essayist', 'esselstyn', 'essenc', 'essens', 'essenti', 'essentialist', 'essi', 'esso', 'est', 'esta', 'establish', 'estat', 'esteem', 'esther', 'esthet', 'estim', 'esto', 'estoy', 'estrang', 'estrogen', 'esv', 'et', 'eta', 'etc', 'etcetera', 'etch', 'etern', 'eth', 'ethan', 'ethel', 'ether', 'etheri', 'ethic', 'ethiopia', 'ethnic', 'ethnocentr', 'etho', 'etienn', 'etiquett', 'etr', 'etta', 'etud', 'eu', 'eugen', 'eula', 'eulog', 'eunuch', 'euphem', 'euphor', 'euphoria', 'eurasia', 'eureka', 'euro', 'europ', 'europa', 'european', 'eurotrash', 'eurovis', 'eurythm', 'euthanasia', 'ev', 'eva', 'evacu', 'evad', 'evah', 'evalu', 'evan', 'evanesc', 'evangel', 'evangelin', 'evangelion', 'evangelist', 'evanovich', 'evapor', 'evar', 'evas', 'eve', 'evelyn', 'even', 'evenli', 'event', 'eventhough', 'eventu', 'ever', 'everbodi', 'everday', 'everdeen', 'everest', 'everett', 'evergreen', 'everi', 'everlast', 'everli', 'evermor', 'evernot', 'everon', 'everth', 'evervil', 'everwood', 'everybodi', 'everyday', 'everyman', 'everynight', 'everyon', 'everyt', 'everyth', 'everytim', 'everyway', 'everywher', 'evey', 'eveyon', 'eveyth', 'evi', 'evict', 'evid', 'evidenc', 'evil', 'evildo', 'evinc', 'eviscer', 'evita', 'evo', 'evoc', 'evok', 'evolut', 'evolutionari', 'evolutionist', 'evolv', 'ew', 'ewan', 'ewe', 'ewel', 'ewf', 'ewi', 'ewok', 'eww', 'ex', 'exacerb', 'exact', 'exactli', 'exager', 'exagger', 'exalt', 'exam', 'examin', 'exampl', 'exasper', 'excalibur', 'excav', 'exce', 'exceed', 'exceedingli', 'excel', 'excelent', 'excellet', 'excentr', 'except', 'exception', 'excercis', 'excerpt', 'excers', 'excersis', 'excess', 'exchang', 'excis', 'excit', 'excitedli', 'excitingli', 'exclaim', 'exclam', 'exclud', 'exclus', 'excori', 'excrement', 'excruci', 'excruciatingli', 'excurs', 'excus', 'exe', 'exec', 'execel', 'execr', 'execut', 'execution', 'exel', 'exemplar', 'exemplari', 'exemplifi', 'exempt', 'exept', 'exercis', 'exert', 'exhal', 'exhaust', 'exhibit', 'exhilar', 'exhiler', 'exhilir', 'exhort', 'exil', 'exist', 'existenti', 'existentialist', 'existenz', 'exit', 'exodu', 'exogenesi', 'exoner', 'exorbit', 'exorc', 'exorcis', 'exorcist', 'exot', 'exp', 'expand', 'expans', 'expat', 'expatri', 'expec', 'expeci', 'expect', 'expectantli', 'expedi', 'expedit', 'expediti', 'expel', 'expend', 'expenditur', 'expens', 'exper', 'experi', 'experiec', 'experienc', 'experienti', 'experiment', 'experinc', 'expert', 'expertis', 'expertli', 'expier', 'expir', 'expiri', 'explain', 'explan', 'explanatori', 'explet', 'explic', 'explicit', 'explicitli', 'explin', 'explod', 'exploit', 'explor', 'exploratori', 'explos', 'expo', 'expon', 'exponenti', 'export', 'expos', 'exposit', 'expositori', 'exposur', 'expound', 'express', 'expression', 'expressionist', 'expressionless', 'expressli', 'expung', 'exquisit', 'exsist', 'exspect', 'ext', 'extant', 'extem', 'extend', 'extens', 'extent', 'exterior', 'extermin', 'extern', 'extinct', 'extinguish', 'extol', 'extort', 'extra', 'extract', 'extran', 'extraordinair', 'extraordinari', 'extraordinarili', 'extrapol', 'extraterrestri', 'extravag', 'extravaganza', 'extravert', 'extreamli', 'extrem', 'extrememli', 'extremi', 'extremist', 'extremli', 'extric', 'extrins', 'extrodinari', 'extrovers', 'extrovert', 'exuber', 'exud', 'exult', 'exuperi', 'ey', 'eye', 'eyebal', 'eyebrow', 'eyelash', 'eyelid', 'eyelin', 'eyeopen', 'eyerol', 'eyesight', 'eyewit', 'eyr', 'ez', 'ezpdf', 'ezra', 'ezrin', 'fa', 'fab', 'faber', 'fabio', 'fabl', 'fabric', 'fabritiu', 'fabul', 'facad', 'face', 'facebook', 'faceless', 'facelift', 'facet', 'faceti', 'facial', 'facil', 'facilit', 'facin', 'facsimil', 'fact', 'faction', 'factionless', 'factli', 'facto', 'factoid', 'factor', 'factori', 'factual', 'faculti', 'fad', 'fade', 'fadeout', 'fae', 'faeri', 'fagan', 'fagen', 'fahrenheit', 'fail', 'failur', 'fain', 'faint', 'faintest', 'faintli', 'fair', 'fairbroth', 'fairer', 'fairest', 'fairfax', 'fairi', 'fairli', 'fairport', 'fairuza', 'fairway', 'fairweath', 'fairytal', 'fait', 'faith', 'faithful', 'faithless', 'fake', 'falcon', 'falk', 'fall', 'fallaci', 'fallen', 'fallibl', 'fallon', 'fallout', 'fallow', 'fallujah', 'fals', 'falsehood', 'falsetto', 'falsifi', 'falter', 'fam', 'fame', 'famer', 'famil', 'familar', 'famili', 'familia', 'familiar', 'famin', 'famk', 'famou', 'famous', 'fan', 'fanast', 'fanat', 'fanatic', 'fanbas', 'fanboy', 'fanci', 'fancier', 'fandango', 'fandom', 'fanfar', 'fanfic', 'fanfict', 'fang', 'fangirl', 'fanni', 'fanstast', 'fantabul', 'fantaci', 'fantas', 'fantasi', 'fantasia', 'fantast', 'fantasti', 'fantastica', 'fantin', 'faod', 'faotd', 'faq', 'far', 'faramir', 'faraway', 'farc', 'farcic', 'fare', 'farenheit', 'farewel', 'farfetch', 'fargo', 'fari', 'farm', 'farmer', 'farmhous', 'farmiga', 'farmland', 'farmvil', 'farrah', 'farrel', 'farrow', 'farscap', 'farseer', 'fart', 'farther', 'farthest', 'fartsi', 'fascin', 'fascinatingli', 'fascism', 'fascist', 'fashion', 'fashionista', 'fasin', 'fassbend', 'fast', 'fasten', 'faster', 'fastest', 'fastforward', 'fastidi', 'fat', 'fatal', 'fatalist', 'fate', 'father', 'fatherhood', 'fatherland', 'fatherli', 'fathom', 'fatigu', 'fatima', 'fatten', 'fatter', 'fatti', 'fatuou', 'fatwa', 'faucet', 'faulkner', 'fault', 'faulti', 'faultless', 'fauna', 'faust', 'faustian', 'faux', 'fav', 'fave', 'favor', 'favori', 'favorit', 'favorot', 'favorti', 'favour', 'favourit', 'favreau', 'fawcett', 'fawk', 'fawlti', 'fawn', 'fax', 'fay', 'fazbear', 'faze', 'fb', 'fbi', 'fc', 'fd', 'fda', 'fdp', 'fdr', 'fe', 'fear', 'fearless', 'fearlessli', 'fearsom', 'feasibl', 'feast', 'feat', 'feather', 'featur', 'featurett', 'feb', 'februari', 'fece', 'feckless', 'fed', 'feder', 'federico', 'fedex', 'fedora', 'fee', 'feebl', 'feed', 'feedback', 'feeder', 'feedli', 'feel', 'feelgood', 'feeli', 'feelin', 'feet', 'feign', 'feild', 'feint', 'feist', 'feisti', 'felder', 'feldman', 'felic', 'felicia', 'felin', 'felip', 'felix', 'fell', 'fella', 'fellini', 'fellow', 'fellowship', 'felon', 'feloni', 'felt', 'felton', 'felurian', 'fem', 'femal', 'femin', 'feminin', 'feminist', 'femm', 'fen', 'fenc', 'fend', 'fender', 'feng', 'fer', 'feral', 'ferb', 'ferdinand', 'fergi', 'fergu', 'ferguson', 'fermat', 'ferment', 'fermin', 'fern', 'fernando', 'feroc', 'feroci', 'ferrari', 'ferrazzi', 'ferrel', 'ferrer', 'ferret', 'ferri', 'ferrigno', 'ferriss', 'fertil', 'fervent', 'fervor', 'fess', 'fest', 'fester', 'festiv', 'fetal', 'fetch', 'fete', 'fetish', 'fett', 'fetu', 'feud', 'feudal', 'fever', 'feverish', 'feverishli', 'fewer', 'fewest', 'fey', 'feynman', 'fez', 'ff', 'ffdp', 'ffvii', 'fg', 'fi', 'fianc', 'fiance', 'fiasco', 'fiat', 'fiber', 'fibromyalgia', 'fic', 'fichtner', 'fickl', 'fiction', 'fictiti', 'fiddl', 'fiddler', 'fide', 'fidel', 'fidget', 'fie', 'field', 'fiend', 'fiendish', 'fiendishli', 'fienn', 'fierc', 'fieri', 'fiesta', 'fiesti', 'fifa', 'fifteen', 'fifteenth', 'fifth', 'fifti', 'fiftieth', 'fig', 'figaro', 'fight', 'fighter', 'figment', 'figur', 'figurehead', 'figurin', 'fil', 'file', 'filet', 'fill', 'filler', 'fillet', 'fillian', 'fillion', 'fillmor', 'film', 'filmak', 'filmgoer', 'filmic', 'filmmak', 'filmographi', 'filmor', 'filter', 'filth', 'filthi', 'fim', 'fimmel', 'fin', 'final', 'finali', 'finalist', 'financ', 'financi', 'finch', 'fincher', 'find', 'finder', 'fine', 'finer', 'finess', 'finest', 'finger', 'fingernail', 'fingerprint', 'fingersmith', 'fingertip', 'fini', 'finicki', 'finish', 'finit', 'finland', 'finley', 'finn', 'finnali', 'finney', 'finnick', 'finnish', 'finsh', 'fio', 'fiona', 'fir', 'fire', 'firearm', 'firebal', 'firebird', 'firecrack', 'firefight', 'firefli', 'firefox', 'firehd', 'firelight', 'fireman', 'fireplac', 'firepow', 'fireproof', 'firestart', 'firestick', 'firestorm', 'firetv', 'firewal', 'firework', 'firey', 'firm', 'firma', 'firmer', 'firmli', 'firmwar', 'first', 'firstborn', 'firsthand', 'firstli', 'firt', 'firth', 'fiscal', 'fischer', 'fish', 'fishburn', 'fishdom', 'fisher', 'fisherman', 'fishermen', 'fishi', 'fist', 'fistfight', 'fit', 'fitter', 'fittest', 'fittingli', 'fitz', 'fitzgerald', 'fitzpatrick', 'fitzwilliam', 'five', 'fiver', 'fix', 'fixabl', 'fixat', 'fixer', 'fixtur', 'fizz', 'fizzi', 'fizzl', 'fl', 'flab', 'flabbergast', 'flabbi', 'flac', 'flaccid', 'flack', 'flag', 'flagg', 'flagrant', 'flagship', 'flagstad', 'flail', 'flair', 'flak', 'flake', 'flakey', 'flaki', 'flamboy', 'flame', 'flamel', 'flamenco', 'flamethrow', 'flamingo', 'flanagan', 'flank', 'flannel', 'flanneri', 'flap', 'flapper', 'flappi', 'flare', 'flash', 'flashback', 'flashcard', 'flashdanc', 'flashforward', 'flashi', 'flashlight', 'flashpoint', 'flat', 'flatley', 'flatli', 'flatlin', 'flatscreen', 'flatten', 'flatter', 'flatteri', 'flaubert', 'flaunt', 'flavor', 'flavour', 'flaw', 'flawless', 'flawlessli', 'flax', 'flay', 'flea', 'fleck', 'fled', 'fledg', 'fledgl', 'flee', 'fleec', 'fleet', 'fleetingli', 'fleetwood', 'fleischer', 'fleksi', 'flem', 'fleme', 'flesh', 'fletcher', 'fleur', 'flew', 'flewel', 'flex', 'flexibl', 'fli', 'flic', 'flick', 'flicker', 'flickr', 'flier', 'flight', 'flighti', 'flik', 'flim', 'flimsi', 'flinch', 'fling', 'flint', 'flip', 'flipboard', 'flippant', 'flipper', 'flippin', 'flippix', 'flipsid', 'flirt', 'flirtat', 'flirtati', 'flirti', 'flit', 'flix', 'flixster', 'flixter', 'flo', 'float', 'floati', 'flock', 'flog', 'flogger', 'flood', 'floor', 'flop', 'floppi', 'flora', 'floral', 'florenc', 'florez', 'florian', 'florid', 'florida', 'florist', 'florrick', 'floss', 'flotsam', 'flounder', 'flour', 'flourish', 'flow', 'flower', 'floweri', 'flown', 'floyd', 'floydian', 'flu', 'flub', 'fluctuat', 'fluenci', 'fluent', 'fluentli', 'fluf', 'fluff', 'fluffi', 'fluid', 'fluiditi', 'fluidli', 'fluke', 'flung', 'flunk', 'fluoresc', 'flurri', 'flush', 'fluster', 'flute', 'flutter', 'fluttershi', 'flux', 'flw', 'flyer', 'flyladi', 'flyleaf', 'flynn', 'flywheel', 'fm', 'fn', 'fnaf', 'fnm', 'fo', 'foal', 'foam', 'fob', 'focal', 'focu', 'focus', 'focuss', 'fodder', 'foe', 'foer', 'fog', 'fogerti', 'foggi', 'foi', 'foibl', 'foil', 'foist', 'fold', 'folder', 'foldout', 'foley', 'foli', 'foliag', 'folio', 'folk', 'folki', 'folklor', 'folksi', 'follet', 'follett', 'folli', 'follow', 'followup', 'folow', 'folsom', 'fom', 'foment', 'fond', 'fonda', 'fondest', 'fondli', 'font', 'fontain', 'foo', 'food', 'foodi', 'fool', 'foolhardi', 'foolish', 'foolishli', 'foolproof', 'foot', 'footag', 'footbal', 'foothold', 'footloos', 'footman', 'footnot', 'footprint', 'footstep', 'footwear', 'fora', 'forag', 'foray', 'forb', 'forbad', 'forbid', 'forbidden', 'forbod', 'forc', 'forcast', 'forcibl', 'ford', 'fore', 'forearm', 'forebear', 'forebod', 'forecast', 'foreclos', 'foreclosur', 'forefath', 'forefront', 'forego', 'foregon', 'foreground', 'forehead', 'foreign', 'foreknowledg', 'foreman', 'foremost', 'forens', 'foreplay', 'forerunn', 'foresaw', 'forese', 'foreseen', 'foreshadow', 'foresight', 'forest', 'foretel', 'forethought', 'foretold', 'forev', 'forevermor', 'foreward', 'forewarn', 'foreword', 'forfeit', 'forg', 'forgav', 'forger', 'forgeri', 'forget', 'forgett', 'forgiv', 'forgiven', 'forgo', 'forgon', 'forgot', 'forgotten', 'fork', 'forkish', 'forlorn', 'form', 'forma', 'formal', 'forman', 'format', 'former', 'formerli', 'formid', 'formless', 'formul', 'formula', 'fornic', 'forrest', 'forsak', 'forsaken', 'forster', 'forsyth', 'fort', 'forth', 'forthcom', 'forthright', 'forti', 'fortifi', 'fortitud', 'fortress', 'fortuit', 'fortun', 'fortuna', 'forum', 'forward', 'forwarn', 'forza', 'foscam', 'foss', 'fossil', 'foster', 'fot', 'foto', 'fought', 'foul', 'found', 'foundat', 'founder', 'fount', 'fountain', 'fountainhead', 'four', 'fourplay', 'foursom', 'fourteen', 'fourteenth', 'fourth', 'fourti', 'foward', 'fowl', 'fowler', 'fox', 'foxhol', 'foxi', 'foxit', 'foxtrot', 'foxx', 'foy', 'fp', 'fr', 'frack', 'fractal', 'fraction', 'fractur', 'fragil', 'fragment', 'fragmentari', 'fragranc', 'frail', 'frailti', 'frake', 'frame', 'framer', 'framework', 'frampton', 'fran', 'franc', 'francesca', 'francesco', 'franchis', 'franci', 'francisco', 'franck', 'franco', 'francoi', 'francophil', 'frank', 'franka', 'frankenheim', 'frankenstein', 'frankenweeni', 'frankfurt', 'franki', 'frankl', 'frankli', 'franklin', 'frantic', 'franz', 'franzen', 'fraser', 'frasier', 'frat', 'fratern', 'frau', 'fraud', 'fraudul', 'fraught', 'fray', 'frazier', 'frazzl', 'freak', 'freaken', 'freaki', 'freakin', 'freakish', 'freakishli', 'freakonom', 'freckl', 'fred', 'freddi', 'freder', 'frederick', 'free', 'freebi', 'freebird', 'freecel', 'freed', 'freedi', 'freedom', 'freefal', 'freehand', 'freek', 'freelanc', 'freeli', 'freeman', 'freemason', 'freemasonri', 'freemium', 'freeplay', 'freer', 'freestyl', 'freethink', 'freetim', 'freewar', 'freeway', 'freewheel', 'freewil', 'freez', 'freezer', 'frehley', 'freight', 'freighter', 'freind', 'french', 'frenchman', 'frenet', 'freni', 'frenzi', 'frequenc', 'frequent', 'fresh', 'freshen', 'fresher', 'freshest', 'freshli', 'freshman', 'freshmen', 'fret', 'fretboard', 'freud', 'freudian', 'frey', 'freyda', 'fri', 'frick', 'fricken', 'frickin', 'fricsay', 'friction', 'frid', 'frida', 'friday', 'fridg', 'friedkin', 'friedman', 'friedrich', 'friend', 'friendless', 'friendli', 'friendlier', 'friendship', 'frig', 'frigat', 'friggen', 'friggin', 'fright', 'frighten', 'frighteningli', 'frigid', 'frill', 'frilli', 'fring', 'fripp', 'frisbe', 'frisel', 'friski', 'frisson', 'frist', 'fritz', 'frivol', 'frizz', 'frizzi', 'fro', 'frobish', 'frodo', 'frog', 'frogger', 'frolic', 'frolick', 'frome', 'fron', 'front', 'frontal', 'frontier', 'frontlin', 'frontman', 'frost', 'frosti', 'froth', 'frothi', 'froud', 'frown', 'froyo', 'froze', 'frozen', 'fructos', 'frugal', 'fruit', 'fruiti', 'fruition', 'fruitless', 'frusciant', 'frustat', 'fruster', 'frustrat', 'frustratingli', 'frye', 'fs', 'fsog', 'ft', 'ftp', 'ftw', 'fu', 'fudg', 'fue', 'fuel', 'fuell', 'fugit', 'fugu', 'fuhrer', 'fuhrman', 'ful', 'fulci', 'fulcrum', 'fulfil', 'full', 'fuller', 'fullest', 'fullfil', 'fulli', 'fullscreen', 'fumbl', 'fume', 'fun', 'function', 'fund', 'fundament', 'fundamentalist', 'fundrais', 'funer', 'funest', 'fungi', 'fungu', 'funhous', 'funim', 'funk', 'funki', 'funkier', 'funkiest', 'funn', 'funnel', 'funner', 'funnest', 'funni', 'funnier', 'funniest', 'funnili', 'funtast', 'fur', 'furi', 'furiou', 'furious', 'furnac', 'furnish', 'furnitur', 'furor', 'furri', 'furst', 'further', 'furthermor', 'furthest', 'furtw', 'furtwangl', 'fuse', 'fusion', 'fuss', 'fussi', 'fustrat', 'futher', 'futil', 'futur', 'futurama', 'futurist', 'fuzz', 'fuzzi', 'fv', 'fw', 'fwd', 'fwiw', 'fx', 'fy', 'fyde', 'fye', 'fyi', 'fz', 'ga', 'gab', 'gabaldon', 'gabbi', 'gabe', 'gabl', 'gabriel', 'gabriella', 'gad', 'gadget', 'gadgetri', 'gaea', 'gaelic', 'gaff', 'gag', 'gaga', 'gage', 'gaggl', 'gah', 'gahan', 'gaia', 'gail', 'gaiman', 'gain', 'gainsbourg', 'gait', 'gal', 'gala', 'galact', 'galactica', 'galadriel', 'galaga', 'galaxi', 'gale', 'galecki', 'galile', 'galileo', 'gall', 'gallactica', 'gallagh', 'gallant', 'galleri', 'galley', 'galli', 'gallifrey', 'gallo', 'gallon', 'gallop', 'gallow', 'galloway', 'gallowglass', 'gallup', 'galor', 'galvan', 'gam', 'gambit', 'gambl', 'gambler', 'gambon', 'game', 'gameboy', 'gamecircl', 'gameloft', 'gamemak', 'gamepad', 'gameplay', 'gamer', 'gamevil', 'gamma', 'gamut', 'gandalf', 'gander', 'gandhi', 'gane', 'gang', 'gangsta', 'gangstar', 'gangster', 'gannicu', 'gap', 'gape', 'gar', 'garag', 'garai', 'garanca', 'garb', 'garbag', 'garbl', 'garbo', 'garcia', 'gard', 'garden', 'gardin', 'gardner', 'gardot', 'gareth', 'garfield', 'garfunkel', 'gargantuan', 'gargoyl', 'gari', 'garish', 'garland', 'garlic', 'garment', 'garner', 'garnish', 'garr', 'garret', 'garrett', 'garri', 'garrido', 'garrison', 'garson', 'garth', 'garvi', 'gase', 'gash', 'gaskel', 'gaslight', 'gasolin', 'gasp', 'gaspar', 'gass', 'gaston', 'gat', 'gate', 'gatefold', 'gatekeep', 'gateway', 'gather', 'gatiss', 'gatl', 'gatlin', 'gator', 'gatsbi', 'gattaca', 'gaucho', 'gaudi', 'gaug', 'gaughran', 'gaunt', 'gauntlet', 'gaussian', 'gave', 'gavin', 'gavroch', 'gawain', 'gawand', 'gawd', 'gawk', 'gay', 'gayl', 'gaze', 'gazer', 'gazillion', 'gazillionair', 'gb', 'gc', 'gd', 'gdansk', 'gdp', 'ge', 'gear', 'gearhead', 'geat', 'ged', 'geddi', 'gee', 'geek', 'geekdom', 'geeki', 'geena', 'gees', 'geesh', 'geez', 'geezer', 'geffen', 'gehrig', 'geisha', 'geithner', 'gel', 'gell', 'gellar', 'gem', 'gemini', 'gemma', 'gemston', 'gen', 'gena', 'gender', 'gene', 'genealog', 'gener', 'genera', 'generos', 'genesi', 'genet', 'geneticist', 'geneva', 'geni', 'genial', 'geniou', 'genit', 'genitalia', 'geniu', 'genius', 'gennaro', 'genocid', 'genom', 'genova', 'genr', 'gent', 'genteel', 'gentil', 'gentl', 'gentleman', 'gentlemanli', 'gentlemen', 'gentler', 'gentli', 'gentri', 'genu', 'genui', 'genuin', 'geo', 'geoff', 'geoffrey', 'geograph', 'geographi', 'geolog', 'geologist', 'geometr', 'geometri', 'geopolit', 'geordi', 'georg', 'georgett', 'georgi', 'georgia', 'georgian', 'georgiana', 'ger', 'gerald', 'geraldin', 'gerard', 'gerber', 'gerd', 'gere', 'gergiev', 'geriatr', 'germ', 'germain', 'german', 'germani', 'geronimo', 'gerrard', 'gerri', 'gershon', 'gershwin', 'gerson', 'gerstner', 'gertrud', 'gesserit', 'gestalt', 'gestapo', 'gestat', 'gestur', 'get', 'getaway', 'gete', 'getter', 'getti', 'gettin', 'gettysburg', 'getz', 'gf', 'gg', 'gh', 'ghandi', 'ghast', 'ghastli', 'gheorghiu', 'ghetto', 'ghibli', 'ghost', 'ghostbust', 'ghostfac', 'ghosti', 'ghostli', 'ghosttown', 'ghostwrit', 'ghoul', 'ghoulish', 'ghul', 'ghz', 'gi', 'gia', 'giacchino', 'giamatti', 'giancarlo', 'giant', 'gibb', 'gibberish', 'gibbon', 'gibson', 'giddi', 'gideon', 'gielgud', 'gif', 'giffin', 'gift', 'giftset', 'gig', 'gigabyt', 'gigant', 'giger', 'giggl', 'giggli', 'gigolo', 'gil', 'gilbert', 'gilberto', 'gild', 'gilda', 'gile', 'gilel', 'gill', 'gillan', 'gillen', 'gilli', 'gilliam', 'gillian', 'gilligan', 'gilmor', 'gilmour', 'gilt', 'gimli', 'gimm', 'gimmick', 'gimmicki', 'gimmickri', 'gin', 'gina', 'ginger', 'gingerbread', 'ginni', 'ginnif', 'ginorm', 'ginsberg', 'giorgio', 'giovanni', 'giraff', 'giri', 'girl', 'girlboss', 'girlfriend', 'girli', 'girlish', 'girth', 'gisel', 'gish', 'gist', 'git', 'gita', 'giulini', 'giusepp', 'give', 'giveaway', 'given', 'giver', 'givin', 'gizmo', 'gl', 'glacial', 'glacier', 'glad', 'glade', 'glader', 'gladi', 'gladiat', 'gladiatori', 'gladli', 'gladwel', 'glam', 'glamor', 'glamour', 'glanc', 'gland', 'glare', 'glaringli', 'glasgow', 'glasper', 'glass', 'glassi', 'glau', 'glaze', 'glazer', 'gleam', 'glean', 'gleason', 'glee', 'gleeful', 'gleefulli', 'gleek', 'gleeson', 'glen', 'glenda', 'glengarri', 'glenn', 'glib', 'glich', 'glide', 'glider', 'glimmer', 'glimp', 'glimps', 'glinda', 'glint', 'glisten', 'glitch', 'glitchi', 'glitter', 'glitteri', 'glitz', 'glitzi', 'gloat', 'glob', 'global', 'globalist', 'globe', 'glockenspiel', 'glokta', 'gloom', 'gloomi', 'glori', 'gloria', 'glorif', 'glorifi', 'gloriou', 'glorious', 'gloss', 'glossari', 'glossi', 'glove', 'glover', 'glow', 'glu', 'glucos', 'glue', 'glum', 'glut', 'gluten', 'glutton', 'gluttoni', 'glycem', 'glyndebourn', 'gm', 'gma', 'gmail', 'gmat', 'gmo', 'gn', 'gnarl', 'gnarli', 'gnash', 'gnat', 'gnaw', 'gnome', 'gnostic', 'gnr', 'go', 'goa', 'goad', 'goal', 'goat', 'gob', 'gobbl', 'gobi', 'goblet', 'goblin', 'gobsmack', 'god', 'godard', 'godaw', 'godbless', 'godd', 'goddamn', 'goddard', 'goddaught', 'goddess', 'godess', 'godfath', 'godfrey', 'godin', 'godless', 'godli', 'godlik', 'godmoth', 'godsend', 'godsmack', 'godson', 'godspe', 'godzilla', 'goe', 'goer', 'goeth', 'gof', 'goggl', 'gogh', 'gohast', 'goin', 'gojira', 'goku', 'gold', 'goldacr', 'goldberg', 'goldblum', 'golden', 'goldeney', 'goldfinch', 'goldfing', 'goldfish', 'goldfrapp', 'goldi', 'goldilock', 'goldman', 'goldmin', 'goldratt', 'goldsmith', 'goldstein', 'golem', 'golf', 'golfer', 'goliath', 'golightli', 'golli', 'gollum', 'gomez', 'gon', 'gondor', 'gone', 'goner', 'gong', 'gonna', 'gonzo', 'goo', 'good', 'goodby', 'gooder', 'goodfella', 'goodi', 'goodkind', 'goodli', 'goodman', 'goodnight', 'goodread', 'goodwil', 'goodwin', 'gooey', 'goof', 'goofbal', 'goofi', 'goog', 'googl', 'gook', 'goon', 'gooni', 'goood', 'gooood', 'goooood', 'goop', 'goos', 'goosebump', 'gopher', 'gorbachev', 'gordi', 'gordon', 'gordonston', 'gore', 'gorey', 'gorg', 'gorgeou', 'gorgeous', 'gorham', 'gori', 'gorier', 'gorilla', 'gorillaz', 'gosford', 'gosh', 'gosl', 'gospel', 'goss', 'gossam', 'gossip', 'gossipi', 'got', 'gotcha', 'goth', 'gotham', 'gothic', 'goto', 'gotta', 'gotten', 'goty', 'goug', 'gough', 'gould', 'gourd', 'gourmet', 'gousseva', 'gout', 'gov', 'govan', 'gover', 'govern', 'government', 'governor', 'govt', 'gown', 'goyer', 'gp', 'gpa', 'gq', 'gr', 'gra', 'grab', 'grabber', 'grabe', 'grabl', 'grace', 'gracel', 'graceland', 'gracepoint', 'graci', 'gracia', 'graciou', 'gracious', 'grad', 'grade', 'grader', 'gradi', 'gradient', 'gradual', 'graduat', 'graeber', 'graem', 'graet', 'graff', 'graffic', 'graffiti', 'grafic', 'graft', 'graham', 'grail', 'grain', 'graini', 'gram', 'gramma', 'grammar', 'grammat', 'grammer', 'grammi', 'grammophon', 'gramophon', 'gran', 'grand', 'grandaught', 'grandbabi', 'grandchild', 'grandchildren', 'granddaddi', 'granddaught', 'grander', 'grandest', 'grandeur', 'grandfath', 'grandin', 'grandios', 'grandkid', 'grandli', 'grandma', 'grandmast', 'grandmoth', 'grandpa', 'grandpar', 'grandson', 'grandstand', 'grang', 'granger', 'granit', 'granni', 'granola', 'grant', 'grantham', 'granular', 'granvil', 'grape', 'grapevin', 'graph', 'graphic', 'grapic', 'grappl', 'grasp', 'grass', 'grasshopp', 'grassi', 'grassroot', 'grat', 'grate', 'gratif', 'gratifi', 'gratitud', 'gratuit', 'gratuiti', 'grave', 'gravedigg', 'gravel', 'gravelli', 'graveyard', 'gravi', 'gravit', 'gravita', 'graviti', 'gray', 'grayson', 'graze', 'grea', 'greaney', 'greas', 'greasi', 'great', 'greater', 'greatest', 'greatli', 'greay', 'grecian', 'greco', 'greec', 'greed', 'greedi', 'greedili', 'greedo', 'greek', 'green', 'greenblatt', 'greenday', 'greener', 'greengrass', 'greenhous', 'greenish', 'greenland', 'greenspan', 'greenwich', 'greenwood', 'greer', 'greet', 'greg', 'gregari', 'gregg', 'gregor', 'gregori', 'gregorian', 'gregson', 'gremlin', 'grenad', 'grendel', 'gresham', 'grest', 'gret', 'greta', 'gretel', 'grew', 'grey', 'greyjoy', 'grid', 'grief', 'grieg', 'griev', 'grievanc', 'griever', 'grievou', 'griffin', 'griffith', 'grifter', 'grill', 'grim', 'grimac', 'grime', 'grimi', 'grimk', 'grimli', 'grimm', 'grin', 'grinch', 'grind', 'grinder', 'grindhous', 'gringo', 'grint', 'grip', 'gripe', 'gripper', 'grippingli', 'grisham', 'grisli', 'grissom', 'grist', 'griswold', 'grit', 'gritti', 'grittier', 'grizzl', 'grizzli', 'groan', 'groban', 'grocer', 'groceri', 'groggi', 'grohl', 'groin', 'groom', 'groot', 'groov', 'groovi', 'groovin', 'grope', 'gross', 'grossli', 'grossman', 'grotesqu', 'grouch', 'grouchi', 'ground', 'groundbreak', 'groundhog', 'groundwork', 'group', 'groupi', 'groupthink', 'grous', 'grout', 'grove', 'grovel', 'grover', 'grow', 'grower', 'growl', 'growli', 'grown', 'grownup', 'growth', 'grr', 'grrm', 'grrr', 'grrrr', 'grrrrr', 'grrrrrr', 'gru', 'grub', 'grubbi', 'gruber', 'gruberova', 'grudg', 'grudgingli', 'gruel', 'gruesom', 'gruff', 'gruffalo', 'grumbl', 'grump', 'grumpi', 'grung', 'grungi', 'grunt', 'gs', 'gsaw', 'gt', 'gta', 'gtablet', 'gtd', 'gtr', 'gu', 'guadalcan', 'guano', 'guantanamo', 'guarante', 'guard', 'guardian', 'guarente', 'guatemala', 'guerilla', 'guernsey', 'guerra', 'guerrilla', 'guess', 'guesswork', 'guest', 'guetta', 'guff', 'guffaw', 'gui', 'guid', 'guidanc', 'guidebook', 'guidelin', 'guidepost', 'guil', 'guild', 'guileless', 'guillebeau', 'guillermo', 'guillotin', 'guilt', 'guilti', 'guin', 'guinea', 'guiness', 'guinever', 'guis', 'guitar', 'guitarist', 'guitarwork', 'gulag', 'gulf', 'gullibl', 'gulp', 'gum', 'gumbal', 'gumbo', 'gummi', 'gump', 'gumption', 'gumsho', 'gun', 'gunfight', 'gunfir', 'gung', 'gunman', 'gunn', 'gunna', 'gunner', 'gunplay', 'gunpoint', 'gunpowd', 'gunship', 'gunshot', 'gunsling', 'gunsmok', 'gunter', 'gunther', 'gurgl', 'gurl', 'gurney', 'guru', 'gush', 'gushi', 'gust', 'gusta', 'gustav', 'gustavo', 'gusto', 'gut', 'gutenberg', 'guthri', 'gutless', 'gutsi', 'gutter', 'guttur', 'guy', 'guzzl', 'gw', 'gwen', 'gweneth', 'gwenn', 'gwenyth', 'gwyneth', 'gwynn', 'gy', 'gyllenha', 'gym', 'gymnast', 'gyp', 'gypsi', 'gyrat', 'gyro', 'gyroscop', 'ha', 'haa', 'haanel', 'haarp', 'hab', 'habe', 'haber', 'habit', 'habitat', 'habitu', 'hace', 'hacer', 'hachi', 'hack', 'hacker', 'hackett', 'hackman', 'hackney', 'haddon', 'hade', 'haden', 'hadley', 'hadnt', 'hae', 'hag', 'hagar', 'hagen', 'haggard', 'hagiographi', 'hagrid', 'hah', 'haha', 'hahaha', 'hahahaha', 'hahahahaha', 'hahn', 'hai', 'haiku', 'hail', 'hailey', 'haim', 'hair', 'haircut', 'hairdo', 'hairdress', 'hairi', 'hairspray', 'hairstyl', 'haiti', 'haitink', 'hal', 'halari', 'halberstam', 'halcyon', 'haldeman', 'hale', 'halen', 'halestorm', 'haley', 'half', 'halfbrick', 'halford', 'halftim', 'halfway', 'hall', 'hallelujah', 'haller', 'halliday', 'hallmark', 'halloran', 'hallorann', 'hallow', 'halloween', 'hallucin', 'hallucinatori', 'hallucinogen', 'hallway', 'halo', 'halt', 'halv', 'ham', 'hamburg', 'hamid', 'hamil', 'hamilton', 'hamlet', 'hamlisch', 'hamm', 'hammer', 'hammerhead', 'hammersmith', 'hammerstein', 'hammett', 'hammi', 'hammil', 'hammock', 'hammond', 'hamper', 'hampshir', 'hampton', 'hamster', 'han', 'hana', 'hancock', 'hand', 'handbag', 'handbook', 'handcuf', 'handcuff', 'handed', 'handedli', 'handel', 'handful', 'handgun', 'handheld', 'handi', 'handicap', 'handili', 'handkerchief', 'handl', 'handler', 'handmad', 'handmaid', 'handout', 'handshak', 'handsom', 'handstand', 'handwrit', 'handwritten', 'handyman', 'hanff', 'hang', 'hangar', 'hanger', 'hangin', 'hangman', 'hangout', 'hangov', 'hangup', 'hank', 'hanker', 'hanki', 'hanna', 'hannah', 'hannib', 'hannigan', 'hansard', 'hansel', 'hansen', 'hanson', 'hap', 'haphazard', 'haphazardli', 'hapless', 'happen', 'happend', 'happenst', 'happi', 'happier', 'happiest', 'happili', 'happy', 'haptic', 'har', 'hara', 'harari', 'harass', 'harbing', 'harbor', 'harbour', 'hard', 'hardback', 'hardbound', 'hardcopi', 'hardcor', 'hardcov', 'harden', 'harder', 'hardest', 'hardi', 'hardli', 'hardmod', 'hardscrabbl', 'hardship', 'hardwar', 'hardwir', 'hardwork', 'hare', 'harem', 'hari', 'hark', 'harken', 'harker', 'harkonnen', 'harlan', 'harlem', 'harlequin', 'harley', 'harm', 'harman', 'harmless', 'harmon', 'harmoni', 'harmonica', 'harnoncourt', 'harold', 'harp', 'harper', 'harpi', 'harpsichord', 'harrass', 'harrelson', 'harri', 'harriet', 'harrington', 'harrison', 'harrow', 'harryhausen', 'harsh', 'harsher', 'harshest', 'harshli', 'hart', 'hartford', 'hartley', 'hartman', 'hartnel', 'hartnett', 'hartwig', 'haruki', 'harum', 'harv', 'harvard', 'harvest', 'harvey', 'hasbro', 'hash', 'haskel', 'hasnt', 'hassan', 'hassel', 'hassl', 'hast', 'hasta', 'hasten', 'hasti', 'hastili', 'hat', 'hatari', 'hatch', 'hatcher', 'hatchet', 'hate', 'hater', 'hath', 'hathaway', 'hathcock', 'hatr', 'hatter', 'hatti', 'hauer', 'haughti', 'haul', 'haunt', 'hauntingli', 'haut', 'hav', 'hava', 'havana', 'have', 'haven', 'havent', 'havilland', 'havn', 'havnt', 'havoc', 'havok', 'haw', 'hawaii', 'hawaiian', 'hawk', 'hawkey', 'hawkin', 'hawkwind', 'hawn', 'hawt', 'hawthorn', 'hay', 'hayao', 'hayday', 'hayden', 'haydn', 'hayek', 'hayley', 'haymitch', 'hayn', 'haystack', 'hayward', 'haywir', 'hayworth', 'hazard', 'haze', 'hazel', 'hazi', 'hazlitt', 'hb', 'hbo', 'hc', 'hd', 'hdcd', 'hddvd', 'hdl', 'hdmi', 'hdr', 'hdtv', 'hdx', 'he', 'hea', 'head', 'headach', 'headbang', 'header', 'headey', 'headfirst', 'headhunt', 'headi', 'headless', 'headley', 'headlight', 'headlin', 'headlong', 'headmast', 'headphon', 'headquart', 'headroom', 'headset', 'headshot', 'headspac', 'headstrong', 'headway', 'heal', 'healer', 'health', 'healthcar', 'healthi', 'healthier', 'healthiest', 'heap', 'hear', 'heard', 'hearken', 'hearn', 'hears', 'hearsay', 'hearst', 'heart', 'heartach', 'heartbeat', 'heartbreak', 'heartbreakingli', 'heartbroken', 'heartburn', 'hearted', 'heartedli', 'hearten', 'heartfelt', 'hearth', 'hearthston', 'hearti', 'heartili', 'heartland', 'heartless', 'heartrend', 'heartstr', 'heartthrob', 'heartwarm', 'heartwrench', 'heat', 'heater', 'heath', 'heathcliff', 'heathen', 'heather', 'heav', 'heaven', 'heavenli', 'heavi', 'heavier', 'heaviest', 'heavili', 'heavyweight', 'hebrew', 'hebrid', 'hecho', 'heck', 'hectic', 'hector', 'hedg', 'hedgehog', 'hedlund', 'hedon', 'hedonist', 'hedren', 'hedwig', 'hee', 'heed', 'heel', 'heep', 'heffley', 'heft', 'hefti', 'hegemoni', 'heh', 'hehe', 'heheh', 'heidi', 'heifetz', 'height', 'heighten', 'heil', 'heinlein', 'heinou', 'heinrich', 'heinz', 'heir', 'heiress', 'heirloom', 'heisenberg', 'heist', 'hel', 'hela', 'held', 'helen', 'helena', 'helicopt', 'helium', 'helix', 'hell', 'hella', 'hellbent', 'hellboy', 'hellen', 'hellenth', 'heller', 'hellfir', 'hellip', 'hellish', 'hello', 'helloween', 'hellrais', 'helluva', 'hellyeah', 'helm', 'helmet', 'helmut', 'helo', 'help', 'helper', 'helpful', 'helpless', 'helplessli', 'hels', 'helter', 'hem', 'hemi', 'hemingway', 'hemispher', 'hemmingway', 'hemorrhag', 'hempstock', 'hemsworth', 'hen', 'henc', 'henceforth', 'henchman', 'henchmen', 'henderson', 'hendrick', 'hendrix', 'henley', 'henri', 'henrietta', 'henrik', 'henson', 'hepburn', 'her', 'hera', 'herald', 'herb', 'herbal', 'herbert', 'herbi', 'herbivor', 'hercul', 'herculean', 'herd', 'herder', 'here', 'hereaft', 'herebi', 'hereditari', 'herein', 'heresi', 'heret', 'heretofor', 'hergest', 'heritag', 'herki', 'herm', 'herman', 'hermann', 'hermet', 'hermion', 'hermit', 'hero', 'herobrin', 'herod', 'heroic', 'heroin', 'heroism', 'heron', 'herr', 'herriot', 'herrmann', 'herschel', 'hershel', 'hershey', 'herzog', 'hesist', 'hesit', 'hesitantli', 'hess', 'hester', 'hestit', 'heston', 'het', 'hetero', 'heterosexu', 'hetfield', 'hetti', 'heughan', 'heurist', 'hew', 'hewitt', 'hewlett', 'hewn', 'hex', 'hexagon', 'hey', 'heyday', 'heyer', 'hf', 'hft', 'hg', 'hh', 'hi', 'hiatt', 'hiatu', 'hibern', 'hibiscu', 'hiccup', 'hick', 'hid', 'hidden', 'hiddleston', 'hide', 'hideaway', 'hidef', 'hideou', 'hideous', 'hideout', 'hierarch', 'hierarchi', 'hieronymu', 'hifi', 'higg', 'higgin', 'high', 'highbrow', 'highcler', 'higher', 'highest', 'highland', 'highli', 'highlight', 'highmor', 'highpoint', 'highschool', 'highscor', 'highsmith', 'hight', 'highway', 'higli', 'hijack', 'hijink', 'hike', 'hiker', 'hilar', 'hilari', 'hill', 'hillari', 'hillbilli', 'hilli', 'hillman', 'hillsid', 'hilt', 'hilton', 'himalaya', 'himmel', 'himym', 'hind', 'hinder', 'hindi', 'hindranc', 'hindsight', 'hindu', 'hinduism', 'hine', 'hing', 'hint', 'hinton', 'hip', 'hipe', 'hiphop', 'hippi', 'hippo', 'hipster', 'hiragana', 'hire', 'hiromi', 'hiroshima', 'hirsch', 'hirsi', 'hispan', 'hiss', 'hissi', 'hist', 'histoir', 'histor', 'histori', 'historia', 'historian', 'histrion', 'hit', 'hitch', 'hitchcock', 'hitchcockian', 'hitchen', 'hitchhik', 'hitherto', 'hitler', 'hitmak', 'hitman', 'hitter', 'hiv', 'hive', 'hk', 'hl', 'hm', 'hmm', 'hmmm', 'hmmmm', 'hmmmmm', 'hmmmmmm', 'ho', 'hoaki', 'hoard', 'hoarder', 'hoars', 'hoax', 'hob', 'hobb', 'hobbi', 'hobbit', 'hobbl', 'hobbyist', 'hobi', 'hobo', 'hoc', 'hochschild', 'hock', 'hockey', 'hocu', 'hodg', 'hodgepodg', 'hodgin', 'hodgson', 'hoe', 'hoff', 'hoffman', 'hoffmann', 'hog', 'hogan', 'hogg', 'hoglan', 'hogwart', 'hogwash', 'hogwe', 'hoist', 'hokey', 'hoki', 'holbrook', 'hold', 'holden', 'holder', 'holdov', 'hole', 'holi', 'holiday', 'holier', 'holist', 'holland', 'holler', 'holley', 'holli', 'holliday', 'hollow', 'holloway', 'hollyweird', 'hollywood', 'holm', 'holmesian', 'holocaust', 'hologram', 'holograph', 'holopainen', 'holst', 'holston', 'holt', 'holywood', 'homag', 'hombr', 'home', 'homebrew', 'homecom', 'homegrown', 'homeland', 'homeless', 'homemad', 'homemak', 'homeown', 'homepag', 'homer', 'homerun', 'homeschool', 'homescreen', 'homesick', 'homespun', 'homestead', 'hometown', 'homework', 'homeworld', 'homey', 'homi', 'homicid', 'hominem', 'homm', 'hommag', 'homo', 'homoerot', 'homogen', 'homophob', 'homophobia', 'homosexu', 'honcho', 'honda', 'hone', 'honest', 'honesti', 'honestli', 'honey', 'honeycomb', 'honeymoon', 'hong', 'honi', 'honk', 'honki', 'honolulu', 'honor', 'honorari', 'honoria', 'honour', 'hoo', 'hood', 'hoodi', 'hoodlum', 'hoodwink', 'hoof', 'hook', 'hooker', 'hooki', 'hookup', 'hooligan', 'hoop', 'hooper', 'hoopl', 'hoopla', 'hoorah', 'hooray', 'hoot', 'hooti', 'hoov', 'hoover', 'hooyah', 'hop', 'hope', 'hopeful', 'hopeless', 'hopelessli', 'hopkin', 'hopper', 'hor', 'horac', 'horan', 'horatio', 'horcrux', 'hord', 'horizon', 'horizont', 'hormon', 'horn', 'hornbi', 'hornblow', 'horner', 'hornet', 'horni', 'horoscop', 'horowitz', 'horrend', 'horribl', 'horrid', 'horrif', 'horrifi', 'horrifyingli', 'horror', 'hors', 'horseback', 'horseman', 'horsemen', 'horsepow', 'horton', 'hose', 'hoskin', 'hospic', 'hospit', 'hosseini', 'host', 'hostag', 'hostel', 'hostess', 'hostil', 'hot', 'hotb', 'hotdog', 'hotel', 'hoth', 'hotmail', 'hotspot', 'hott', 'hotter', 'hottest', 'hotti', 'houdini', 'hough', 'houghton', 'hoult', 'hound', 'hounsou', 'hour', 'hourglass', 'hourli', 'hous', 'household', 'housekeep', 'housew', 'housewif', 'housework', 'houston', 'houten', 'hover', 'hoverboard', 'hovercraft', 'how', 'howard', 'howdi', 'howe', 'howel', 'howev', 'howey', 'howi', 'howl', 'howler', 'howlin', 'hoy', 'hozier', 'hp', 'hq', 'hr', 'hs', 'hsieh', 'hsp', 'ht', 'htc', 'hte', 'hti', 'html', 'htpc', 'http', 'httyd', 'hu', 'hub', 'hubbard', 'hubbi', 'hubbl', 'hubbub', 'hubermann', 'hubert', 'hubri', 'huck', 'huckleberri', 'huckster', 'hud', 'huddl', 'hudson', 'hue', 'huey', 'huf', 'huff', 'huffington', 'huffman', 'hug', 'huge', 'hugest', 'hugger', 'hugh', 'hugo', 'huh', 'hulc', 'hulk', 'hull', 'hullabaloo', 'hulu', 'hum', 'human', 'humanist', 'humanitarian', 'humankind', 'humanli', 'humanoid', 'humbl', 'humbug', 'humdrum', 'hume', 'humer', 'humid', 'humil', 'humili', 'humm', 'hummabl', 'hummingbird', 'hummm', 'humong', 'humor', 'humorist', 'humorless', 'humour', 'hump', 'humpback', 'humphrey', 'humpti', 'humve', 'hun', 'hunch', 'hunchback', 'hund', 'hundr', 'hundredth', 'hung', 'hungari', 'hungarian', 'hunger', 'hungri', 'hungrier', 'hungrili', 'hunk', 'hunker', 'hunki', 'hunnam', 'hunt', 'hunter', 'huntington', 'huntress', 'huntsman', 'hur', 'hurd', 'hurdl', 'hurl', 'hurley', 'hurrah', 'hurray', 'hurri', 'hurrican', 'hurriedli', 'hurst', 'hurt', 'hurtl', 'husband', 'hush', 'husk', 'huski', 'hussein', 'hussey', 'hustl', 'hustler', 'huston', 'hut', 'hutch', 'hutcherson', 'hutton', 'huxley', 'huzzah', 'hv', 'hve', 'hvorostovski', 'hw', 'hww', 'hy', 'hybrid', 'hyde', 'hydra', 'hydrat', 'hydraul', 'hydro', 'hydrogen', 'hydropon', 'hyena', 'hygien', 'hymn', 'hymnal', 'hypatia', 'hype', 'hyper', 'hyperact', 'hyperbol', 'hyperion', 'hyperlink', 'hyperspac', 'hypertens', 'hyperventil', 'hyphen', 'hypnobirth', 'hypnosi', 'hypnot', 'hypnotherapist', 'hypnotist', 'hypochondriac', 'hypocrisi', 'hypocrit', 'hypothes', 'hypothesi', 'hypothet', 'hyrul', 'hyster', 'hysteria', 'hz', 'ia', 'iacut', 'iad', 'iain', 'iam', 'ian', 'iap', 'ib', 'ibm', 'ibook', 'ic', 'ican', 'icaru', 'icbm', 'ice', 'iceberg', 'iceland', 'iceman', 'ich', 'ichabod', 'ichi', 'ici', 'ick', 'icki', 'icloud', 'icon', 'iconia', 'iconoclast', 'iconographi', 'icu', 'id', 'ida', 'idaho', 'ide', 'idea', 'ideal', 'idealist', 'ideat', 'ident', 'identif', 'identifi', 'ideolog', 'ideologu', 'idevic', 'idgi', 'idina', 'idioci', 'idiom', 'idiomat', 'idiosyncraci', 'idiosyncrasi', 'idiosyncrat', 'idiot', 'idk', 'idl', 'idli', 'idol', 'idri', 'idyl', 'ie', 'ielt', 'iex', 'iexcl', 'if', 'ifan', 'ifemelu', 'iffi', 'ifi', 'ifyou', 'ig', 'igbo', 'igg', 'iggi', 'ign', 'ignatiu', 'ignit', 'ignor', 'ignorantli', 'igor', 'ihav', 'iheart', 'iheartradio', 'ii', 'iii', 'iik', 'iit', 'ij', 'ik', 'ike', 'ikea', 'iko', 'il', 'ildebrando', 'ile', 'iliad', 'ilik', 'ilk', 'ill', 'illea', 'illeg', 'illegitim', 'illicit', 'illinoi', 'illiter', 'illiteraci', 'illmat', 'illog', 'illumin', 'illuminati', 'illus', 'illusionist', 'illusori', 'illustr', 'illustri', 'ilm', 'ilov', 'ilsa', 'im', 'ima', 'imac', 'imag', 'imagen', 'imageri', 'imagin', 'imaginaerum', 'imaginari', 'imaginit', 'imangi', 'imax', 'imbal', 'imbecil', 'imbed', 'imbib', 'imbu', 'imdb', 'ime', 'imedi', 'imelda', 'imf', 'imform', 'imho', 'imit', 'imma', 'immacul', 'immagin', 'immateri', 'immatur', 'immeasur', 'immedi', 'immediaci', 'immediatley', 'immediatli', 'immens', 'immensli', 'immers', 'immigr', 'immin', 'immobil', 'immol', 'immor', 'immort', 'immun', 'immut', 'imo', 'imogen', 'imp', 'impact', 'impair', 'impal', 'impala', 'impart', 'imparti', 'impass', 'impati', 'impec', 'impecc', 'imped', 'impedi', 'impel', 'impend', 'impenetr', 'imper', 'impercept', 'imperfect', 'imperfectli', 'imperi', 'imperialist', 'imperson', 'impervi', 'impetu', 'imping', 'impish', 'implac', 'implant', 'implaus', 'implement', 'impli', 'implic', 'implicit', 'implicitli', 'implod', 'implor', 'implos', 'import', 'important', 'importantli', 'impos', 'imposit', 'imposs', 'impost', 'impot', 'impoverish', 'impract', 'imprecis', 'impregn', 'impres', 'impresionant', 'impress', 'impression', 'impressionist', 'imprint', 'imprison', 'improb', 'impromptu', 'improp', 'improperli', 'improv', 'improvis', 'impuls', 'impun', 'imput', 'in', 'ina', 'inabl', 'inaccess', 'inaccur', 'inaccuraci', 'inact', 'inadequ', 'inadequaci', 'inadvert', 'inan', 'inanim', 'inapp', 'inappropri', 'inara', 'inargu', 'inarticul', 'inasmuch', 'inat', 'inattent', 'inaud', 'inaugur', 'inauthent', 'inbetween', 'inborn', 'inbox', 'inbr', 'inc', 'inca', 'incalcul', 'incandesc', 'incant', 'incap', 'incapac', 'incapacit', 'incarcer', 'incarn', 'incas', 'incendiari', 'incens', 'incent', 'incept', 'incess', 'incessantli', 'incest', 'incestu', 'inch', 'incid', 'incident', 'inciner', 'incis', 'incit', 'incl', 'inclin', 'includ', 'inclus', 'incognito', 'incoher', 'incom', 'incompar', 'incompat', 'incompet', 'incomplet', 'incomprehens', 'inconceiv', 'inconclus', 'incongru', 'inconsequenti', 'inconsider', 'inconsist', 'inconspicu', 'incontrovert', 'inconveni', 'incorpor', 'incorrect', 'incorrectli', 'incorrig', 'incread', 'increas', 'increasingli', 'incred', 'incredi', 'incredul', 'increibl', 'increment', 'incrimin', 'incub', 'incubu', 'inculc', 'incumb', 'incur', 'incurs', 'ind', 'inde', 'indebt', 'indec', 'indecipher', 'indecis', 'indefatig', 'indefens', 'indefin', 'indefinit', 'indel', 'indent', 'indentur', 'independ', 'indepth', 'indescrib', 'indespens', 'indestruct', 'indetermin', 'index', 'indi', 'india', 'indian', 'indiana', 'indianapoli', 'indic', 'indict', 'indiffer', 'indigen', 'indigest', 'indign', 'indigo', 'indirect', 'indirectli', 'indiscret', 'indiscrimin', 'indispens', 'indisput', 'indistinct', 'indistinguish', 'individu', 'individualist', 'indoctrin', 'indomit', 'indonesia', 'indonesian', 'indoor', 'induc', 'induct', 'indulg', 'industri', 'industrialist', 'ine', 'inebri', 'ineff', 'ineffect', 'ineffectu', 'ineffici', 'inept', 'ineptitud', 'inequ', 'inert', 'inertia', 'inescap', 'inevit', 'inexcus', 'inexhaust', 'inexor', 'inexpens', 'inexperi', 'inexperienc', 'inexplic', 'inextric', 'infact', 'infal', 'infam', 'infami', 'infanc', 'infant', 'infantil', 'infantri', 'infantryman', 'infatu', 'infect', 'infecti', 'infer', 'inferior', 'infern', 'inferno', 'infertil', 'infest', 'infidel', 'infight', 'infiltr', 'infin', 'infinit', 'infinitesim', 'infinitum', 'infirm', 'infirmari', 'inflam', 'inflamm', 'inflammatori', 'inflat', 'inflect', 'inflex', 'inflict', 'influenc', 'influenti', 'influx', 'info', 'infom', 'infomerci', 'inform', 'infract', 'infrar', 'infrastructur', 'infrequ', 'infring', 'infront', 'infuri', 'infuriatingli', 'infus', 'ing', 'ingam', 'ingeni', 'ingeniu', 'ingenu', 'ingest', 'ingl', 'inglori', 'inglouri', 'ingmar', 'ingrain', 'ingram', 'ingrati', 'ingredi', 'ingrid', 'inhabit', 'inhal', 'inher', 'inherit', 'inhibit', 'inhospit', 'inhuman', 'inimit', 'init', 'initi', 'inject', 'injoy', 'injur', 'injuri', 'injustic', 'ink', 'inki', 'inkl', 'inland', 'inlay', 'inlcud', 'inlin', 'inlov', 'inman', 'inmat', 'inn', 'innapropri', 'innard', 'innat', 'inner', 'innermost', 'innkeep', 'innoc', 'innocu', 'innov', 'innuendo', 'innumer', 'inoffens', 'inoper', 'inopportun', 'inordin', 'inov', 'inpati', 'inpir', 'input', 'inquir', 'inquiri', 'inquisit', 'inquisitor', 'insan', 'insati', 'inscrib', 'inscript', 'inscrut', 'insect', 'insecur', 'insensit', 'insepar', 'insert', 'inset', 'insid', 'insidi', 'insight', 'insignia', 'insignific', 'insincer', 'insinu', 'insipid', 'insist', 'insit', 'insofar', 'insomnia', 'insomniac', 'insomnium', 'inspect', 'inspector', 'inspir', 'inspit', 'inst', 'insta', 'instabl', 'instagram', 'instal', 'instanc', 'instant', 'instantan', 'instantli', 'instead', 'instig', 'instil', 'instinct', 'instinctu', 'institut', 'institution', 'instruct', 'instructor', 'instrument', 'instrumentalist', 'instuct', 'instument', 'insubstanti', 'insuffer', 'insuffici', 'insul', 'insular', 'insulin', 'insult', 'insultingli', 'insur', 'insurg', 'insurgent', 'insurmount', 'insurrect', 'int', 'intact', 'intak', 'intang', 'integr', 'intel', 'intelig', 'intellect', 'intellectu', 'intelleg', 'intellig', 'intend', 'intens', 'intensifi', 'intent', 'inter', 'interact', 'intercept', 'interchang', 'interconnect', 'interconnected', 'intercours', 'intercultur', 'intercut', 'interdepend', 'interes', 'interesant', 'interest', 'interestingli', 'interf', 'interfac', 'interfer', 'intergalact', 'intergr', 'interim', 'interior', 'interject', 'interlac', 'interleav', 'interlink', 'interlock', 'interlud', 'intermedi', 'intermin', 'intermingl', 'intermiss', 'intermitt', 'intermix', 'intern', 'internet', 'internship', 'interperson', 'interplanetari', 'interplay', 'interpol', 'interpret', 'interraci', 'interrel', 'interrelationship', 'interrest', 'interrog', 'interrupt', 'intersect', 'interset', 'interspers', 'interst', 'interstellar', 'intertain', 'intertwin', 'interupt', 'interv', 'interven', 'intervent', 'interventionist', 'interview', 'interviewe', 'interweav', 'interwoven', 'intestin', 'inth', 'intial', 'intic', 'intim', 'intimaci', 'intimid', 'intoler', 'inton', 'intouch', 'intox', 'intra', 'intract', 'intreg', 'intregu', 'intrepid', 'intrest', 'intric', 'intricaci', 'intrig', 'intrigu', 'intriguingli', 'intrins', 'intriqu', 'intro', 'introduc', 'introduct', 'introductori', 'introspect', 'introvers', 'introvert', 'intrud', 'intruig', 'intrument', 'intrus', 'intuit', 'inuendo', 'inund', 'invad', 'invalid', 'invalu', 'invari', 'invas', 'invent', 'inventor', 'inventori', 'invers', 'invert', 'invest', 'investig', 'investor', 'inveter', 'invictu', 'invigor', 'invinc', 'invis', 'invit', 'invoc', 'invoic', 'invok', 'involuntari', 'involuntarili', 'involv', 'invulner', 'inward', 'inwardli', 'io', 'ioi', 'iommi', 'ion', 'iota', 'iov', 'iowa', 'ip', 'ipad', 'ipanema', 'iphon', 'ipno', 'ipo', 'ipod', 'iq', 'iquest', 'ir', 'ira', 'iran', 'iranian', 'iraq', 'iraqi', 'irasc', 'irat', 'ire', 'ireal', 'ireland', 'iren', 'irglova', 'iri', 'irish', 'irishman', 'irk', 'irksom', 'irl', 'iron', 'ironclad', 'ironi', 'ironman', 'ironsid', 'irrat', 'irration', 'irredeem', 'irreduc', 'irrefut', 'irregardless', 'irregular', 'irrelev', 'irrepar', 'irreplac', 'irrepress', 'irresist', 'irrespect', 'irrespons', 'irretriev', 'irrever', 'irrevers', 'irrevoc', 'irrit', 'irritatingli', 'irv', 'irvin', 'irwin', 'isa', 'isaac', 'isaacson', 'isaak', 'isabel', 'isabella', 'isaiah', 'isbn', 'ise', 'ish', 'ishiguro', 'ishmael', 'isi', 'isl', 'isla', 'islam', 'islamist', 'island', 'ism', 'isnt', 'iso', 'isobel', 'isol', 'isolationist', 'isold', 'isometr', 'isp', 'isra', 'israel', 'israelit', 'iss', 'issac', 'issacson', 'issu', 'ist', 'istanbul', 'ital', 'itali', 'italian', 'italic', 'itch', 'itchi', 'ite', 'item', 'iter', 'ith', 'iti', 'itiner', 'itinerari', 'itm', 'itouch', 'itt', 'itti', 'itun', 'itv', 'iu', 'iv', 'ivan', 'ive', 'iver', 'ivi', 'ivori', 'iwa', 'iwo', 'iwould', 'ix', 'iy', 'iz', 'ize', 'izzard', 'izzi', 'ja', 'jab', 'jabba', 'jabber', 'jace', 'jack', 'jackal', 'jackass', 'jackdaw', 'jacket', 'jacki', 'jackman', 'jackpot', 'jackson', 'jaco', 'jacob', 'jacobi', 'jacqu', 'jacquelin', 'jade', 'jaden', 'jaeger', 'jag', 'jagger', 'jaguar', 'jah', 'jahn', 'jai', 'jail', 'jailbreak', 'jailer', 'jailhous', 'jaim', 'jaimi', 'jain', 'jake', 'jam', 'jamaica', 'jamaican', 'jamal', 'jame', 'jameson', 'jami', 'jamiroquai', 'jammi', 'jammin', 'jan', 'jana', 'jane', 'janeiro', 'janeit', 'janel', 'janet', 'janeway', 'jangl', 'jangli', 'jani', 'janic', 'janin', 'janitor', 'janowitz', 'jansen', 'janssen', 'januari', 'janvier', 'jap', 'japan', 'japanes', 'jar', 'jardin', 'jare', 'jargon', 'jarhead', 'jarousski', 'jarr', 'jarrett', 'jarringli', 'jarvi', 'jasmin', 'jasnah', 'jason', 'jasper', 'jaundic', 'jaunt', 'jaunti', 'java', 'javascript', 'javert', 'javier', 'jaw', 'jax', 'jay', 'jayce', 'jayn', 'jazz', 'jazzi', 'jazzier', 'jb', 'jbl', 'jc', 'jd', 'je', 'jealou', 'jealous', 'jealousi', 'jean', 'jeanett', 'jeanin', 'jeann', 'jeanni', 'jeb', 'jed', 'jedi', 'jeep', 'jeet', 'jeev', 'jeez', 'jeff', 'jeffer', 'jefferi', 'jefferson', 'jeffrey', 'jeffri', 'jehovah', 'jekyl', 'jell', 'jelli', 'jello', 'jellybean', 'jellyfish', 'jem', 'jemima', 'jen', 'jena', 'jenif', 'jenkin', 'jenn', 'jenna', 'jenner', 'jenni', 'jennif', 'jensen', 'jeopard', 'jeopardi', 'jeph', 'jeremi', 'jeremiah', 'jericho', 'jerk', 'jerker', 'jerki', 'jermain', 'jerom', 'jerri', 'jersey', 'jerusalem', 'jess', 'jessi', 'jessica', 'jest', 'jester', 'jesu', 'jesuit', 'jet', 'jethro', 'jetpack', 'jett', 'jettison', 'jeunet', 'jevaughn', 'jew', 'jewel', 'jewelri', 'jewish', 'jf', 'jfk', 'jg', 'jgl', 'jh', 'jhumpa', 'jibe', 'jig', 'jiggl', 'jigsaw', 'jihad', 'jihadist', 'jill', 'jillian', 'jilt', 'jim', 'jima', 'jimi', 'jimini', 'jimmi', 'jin', 'jingl', 'jingoist', 'jink', 'jinx', 'jip', 'jiro', 'jist', 'jitter', 'jitteri', 'jive', 'jj', 'jk', 'jkr', 'jl', 'jla', 'jlo', 'jm', 'jn', 'jo', 'joad', 'joan', 'joann', 'joanna', 'joaquin', 'job', 'jobim', 'jobless', 'jocelyn', 'jochum', 'jock', 'jockey', 'jodi', 'joe', 'joel', 'joey', 'joffrey', 'jog', 'johan', 'johann', 'johanna', 'johannesburg', 'johannsen', 'johannson', 'johansen', 'johanson', 'johanssen', 'johansson', 'johhni', 'john', 'johnathan', 'johnni', 'johnson', 'johnston', 'joie', 'join', 'joint', 'jointli', 'jojo', 'joke', 'joker', 'jokey', 'jokingli', 'jolen', 'joli', 'jolli', 'jolt', 'jon', 'jona', 'jonah', 'jonasson', 'jonathan', 'jonathon', 'jone', 'jones', 'jonesi', 'jong', 'joni', 'jonni', 'jool', 'joon', 'joplin', 'jor', 'jordan', 'jordon', 'jorg', 'jort', 'jose', 'josef', 'joseph', 'josephin', 'josephu', 'josh', 'joshua', 'josi', 'joss', 'jostl', 'jot', 'jour', 'journal', 'journalist', 'journey', 'journeyman', 'joust', 'jovi', 'jovial', 'jovovich', 'joy', 'joyc', 'joyland', 'joyless', 'joyou', 'joyous', 'joyrid', 'joystick', 'jp', 'jpeg', 'jpg', 'jpj', 'jpl', 'jr', 'jrpg', 'jrr', 'js', 'jsut', 'jt', 'ju', 'juan', 'jubil', 'jubile', 'juda', 'judaism', 'judd', 'jude', 'judea', 'judemac', 'judeo', 'judg', 'judgement', 'judgment', 'judi', 'judici', 'judith', 'judt', 'jug', 'juggernaut', 'juggl', 'jugular', 'juic', 'juicer', 'juici', 'juilliard', 'juke', 'jukebox', 'jule', 'juli', 'julia', 'julian', 'juliann', 'julianna', 'julien', 'juliet', 'juliett', 'julio', 'juliu', 'jullian', 'julliard', 'jumanji', 'jumbl', 'jumbo', 'jump', 'jumper', 'jumpi', 'jumpin', 'jumpscar', 'jumpstart', 'jumpsuit', 'jun', 'junction', 'junctur', 'june', 'jung', 'jungian', 'jungl', 'junior', 'junk', 'junki', 'junkyard', 'juno', 'jupit', 'jurass', 'jurek', 'jurgen', 'juri', 'jurisdict', 'juror', 'jurras', 'just', 'justic', 'justif', 'justifi', 'justin', 'justli', 'jut', 'jutta', 'juvenil', 'juvi', 'juxtapos', 'juxtaposit', 'jvc', 'jw', 'ka', 'kabat', 'kabul', 'kafka', 'kahlan', 'kahlo', 'kahn', 'kahneman', 'kai', 'kaiju', 'kairosoft', 'kaiser', 'kaku', 'kakuro', 'kal', 'kaladin', 'kale', 'kaleb', 'kaleidoscop', 'kalinda', 'kamakiriad', 'kamelot', 'kamen', 'kami', 'kamikaz', 'kamkwamba', 'kampf', 'kane', 'kang', 'kangaroo', 'kanji', 'kansa', 'kant', 'kany', 'kaplan', 'kar', 'kara', 'karajan', 'karaok', 'karat', 'kardashian', 'karen', 'karenina', 'karevik', 'karimloo', 'karin', 'karl', 'karla', 'karloff', 'karlsson', 'karma', 'karmic', 'karn', 'karol', 'kart', 'kasdan', 'kashmir', 'kat', 'katakana', 'katana', 'kate', 'katey', 'kath', 'katharin', 'katherin', 'kathi', 'kathleen', 'kathryn', 'kati', 'katic', 'katni', 'katniss', 'kato', 'katrina', 'katsa', 'katsuyama', 'katz', 'kaufman', 'kaufmann', 'kawasaki', 'kay', 'kayak', 'kayla', 'kayle', 'kazuo', 'kb', 'kbp', 'kc', 'kd', 'kdp', 'ke', 'kean', 'keanu', 'kearn', 'keat', 'keaton', 'keb', 'ked', 'keef', 'keel', 'keen', 'keenan', 'keener', 'keenli', 'keep', 'keepcas', 'keeper', 'keepin', 'keepsak', 'kefira', 'keg', 'keifer', 'keiji', 'keira', 'keitel', 'keith', 'kel', 'kelbi', 'keli', 'keller', 'kellerman', 'kelley', 'kelli', 'kelsier', 'keltner', 'kelvin', 'kemp', 'kempff', 'ken', 'kendal', 'kendl', 'kendrick', 'kennedi', 'kenneth', 'kenney', 'kenni', 'kenobi', 'kent', 'kentucki', 'kenya', 'kenzi', 'kept', 'ker', 'keri', 'kerman', 'kermit', 'kern', 'kernel', 'kerouac', 'kerpen', 'kerr', 'kerri', 'kesha', 'ketchup', 'kettl', 'kettlebel', 'kevin', 'kevyn', 'kewl', 'key', 'keyboard', 'keyboardist', 'keychain', 'keyhol', 'keyn', 'keynesian', 'keynot', 'keypad', 'keyston', 'keystrok', 'keyword', 'kf', 'kfhd', 'kfire', 'kg', 'kgb', 'khaki', 'khale', 'khalid', 'khalifa', 'khan', 'khz', 'ki', 'kia', 'kibbl', 'kick', 'kickass', 'kickbox', 'kicker', 'kickin', 'kickstart', 'kid', 'kidd', 'kidder', 'kiddi', 'kiddish', 'kiddo', 'kidman', 'kidnap', 'kidnapp', 'kidney', 'kiedi', 'kiefer', 'kiera', 'kik', 'kiki', 'kili', 'kill', 'killer', 'killin', 'killjoy', 'killswitch', 'kilmer', 'kilo', 'kilomet', 'kiloo', 'kilt', 'kilter', 'kim', 'kimbal', 'kimberli', 'kimbra', 'kimmel', 'kin', 'kind', 'kinda', 'kindal', 'kindel', 'kinder', 'kindergarten', 'kindergartn', 'kindest', 'kindl', 'kindlefir', 'kindli', 'kindof', 'kindr', 'kinet', 'king', 'kingdom', 'kingkil', 'kingmak', 'kingpin', 'kingsbridg', 'kingsley', 'kingsoft', 'kingsolv', 'kingston', 'kink', 'kinki', 'kinkier', 'kinnaman', 'kinnear', 'kinney', 'kino', 'kinsella', 'kinship', 'kinski', 'kip', 'kipl', 'kipp', 'kira', 'kirbi', 'kirk', 'kirkman', 'kirsten', 'kirsti', 'kisk', 'kiss', 'kissing', 'kistler', 'kit', 'kitchen', 'kite', 'kitkat', 'kitsch', 'kitschi', 'kitsey', 'kitt', 'kitten', 'kitti', 'kiwi', 'kiyosaki', 'kjv', 'kk', 'kkk', 'klan', 'klau', 'kleenex', 'kleiber', 'klein', 'klemper', 'kleon', 'kleypa', 'kline', 'klingon', 'klipsch', 'klondik', 'klux', 'km', 'kmm', 'kn', 'knack', 'knave', 'knead', 'knebworth', 'knee', 'kneel', 'knew', 'knick', 'knife', 'knight', 'knightfal', 'knightley', 'knightli', 'knit', 'knitter', 'knive', 'kno', 'knob', 'knock', 'knockin', 'knockoff', 'knockout', 'knoll', 'knopf', 'knopfler', 'knot', 'know', 'knowingli', 'knowledg', 'knowleg', 'known', 'knox', 'knoxvil', 'knuckl', 'knucklehead', 'ko', 'kobayashi', 'koch', 'kodak', 'kodi', 'koenig', 'koffe', 'kohn', 'koi', 'kol', 'kolbert', 'kombat', 'kon', 'kondo', 'kong', 'konmari', 'kook', 'kooki', 'kool', 'koontz', 'kooper', 'koran', 'korea', 'korean', 'korn', 'kosher', 'kosinski', 'kote', 'kotter', 'kotzen', 'kovac', 'kowalski', 'koyaanisqatsi', 'kp', 'kr', 'kraft', 'kraftwerk', 'krakauer', 'kraken', 'krall', 'kramer', 'kranz', 'krasinski', 'krauss', 'kravitz', 'kreator', 'kreb', 'krell', 'kremlin', 'kresley', 'kri', 'kringl', 'kripk', 'krishna', 'kriss', 'kristen', 'kristi', 'kristin', 'kristoff', 'kristofferson', 'krono', 'krueger', 'krug', 'kruger', 'krugman', 'krychek', 'krypton', 'kryptonian', 'kryptonit', 'krystal', 'ks', 'kse', 'kt', 'ku', 'kubelik', 'kubrick', 'kuddo', 'kudo', 'kuhn', 'kulick', 'kumar', 'kung', 'kungfu', 'kuni', 'kurosawa', 'kurt', 'kurtz', 'kurylenko', 'kush', 'kushner', 'kutcher', 'kvoth', 'kw', 'kwai', 'ky', 'kyle', 'kyli', 'kyoto', 'kyro', 'kyuss', 'la', 'lab', 'label', 'labeouf', 'labl', 'labor', 'laboratori', 'labori', 'labour', 'labri', 'labyrinth', 'labyrinthin', 'lace', 'lacey', 'laci', 'lack', 'lackadais', 'lackey', 'lacklust', 'lacon', 'lactos', 'lacuna', 'lad', 'ladd', 'ladder', 'laden', 'ladi', 'ladin', 'lado', 'ladyhawk', 'ladyland', 'lafayett', 'lag', 'lagg', 'laggi', 'lago', 'lagoon', 'laguerta', 'laguna', 'lahiri', 'lai', 'laid', 'laidback', 'laila', 'lain', 'lair', 'laissez', 'lake', 'lala', 'lam', 'lama', 'lamar', 'lamb', 'lambast', 'lambert', 'lamborghini', 'lame', 'lament', 'lamest', 'lamia', 'lamin', 'lamm', 'lamont', 'lamontagn', 'lamora', 'lamp', 'lampoon', 'lan', 'lana', 'lanc', 'lancast', 'lancelot', 'land', 'landa', 'landau', 'landay', 'lander', 'landfil', 'landi', 'landladi', 'landlord', 'landmark', 'landon', 'landown', 'landreth', 'landri', 'landscap', 'landslid', 'lane', 'lanegan', 'lang', 'langaug', 'langdon', 'langella', 'languag', 'languid', 'languish', 'languor', 'lani', 'lanka', 'lanki', 'lannist', 'lanoi', 'lansburi', 'lantern', 'lanth', 'lanyon', 'lanza', 'lao', 'lap', 'lapd', 'lapel', 'laps', 'laptop', 'laquo', 'lar', 'lara', 'lard', 'larg', 'larger', 'largest', 'largo', 'lark', 'larkin', 'larri', 'larrson', 'larsen', 'larson', 'larsson', 'lascivi', 'laser', 'laserdisc', 'lash', 'lass', 'lasset', 'lassi', 'lasso', 'last', 'lastest', 'lastli', 'lastpass', 'lat', 'latch', 'late', 'latecom', 'latenc', 'latent', 'later', 'lateralu', 'latest', 'latex', 'lather', 'latifah', 'latin', 'latina', 'latino', 'latitud', 'latorr', 'latt', 'latter', 'laud', 'lauda', 'laudabl', 'laugh', 'laughabl', 'laught', 'laughter', 'launch', 'launcher', 'launder', 'laundri', 'lauper', 'laur', 'laura', 'laureat', 'laurel', 'laurelin', 'lauren', 'laurenc', 'laurent', 'lauri', 'lauryn', 'lava', 'lavend', 'lavign', 'lavinia', 'lavish', 'lavishli', 'law', 'lawer', 'lawless', 'lawman', 'lawn', 'lawrenc', 'lawson', 'lawsuit', 'lawyer', 'lax', 'lay', 'layer', 'layken', 'layla', 'layman', 'laymen', 'layn', 'layni', 'layoff', 'layout', 'layperson', 'lazaru', 'lazenbi', 'lazer', 'lazi', 'laziest', 'lazili', 'lb', 'lbj', 'lbum', 'lc', 'lcd', 'ld', 'ldl', 'ldquo', 'ldr', 'le', 'lea', 'leach', 'leachman', 'lead', 'leaden', 'leader', 'leaderboard', 'leadership', 'leaf', 'leafi', 'leaflet', 'leagu', 'leah', 'leak', 'leaki', 'lean', 'leander', 'leandersson', 'leaner', 'leann', 'leant', 'leap', 'leapt', 'lear', 'leari', 'learn', 'learner', 'learnt', 'leas', 'leash', 'least', 'leather', 'leav', 'leavel', 'leaven', 'lebanon', 'leblanc', 'lebowski', 'lebron', 'lecarr', 'lecher', 'lecki', 'lecter', 'lector', 'lectur', 'lectura', 'led', 'ledg', 'ledger', 'lee', 'leech', 'leed', 'leer', 'leeri', 'leeway', 'left', 'lefti', 'leftist', 'leftov', 'leg', 'legaci', 'legal', 'legales', 'legato', 'legen', 'legend', 'legendari', 'legg', 'legibl', 'legion', 'legisl', 'legit', 'legitim', 'legitimaci', 'lego', 'legola', 'leguin', 'leguizamo', 'legum', 'lehan', 'lehman', 'leia', 'leigh', 'leila', 'leinsdorf', 'leipzig', 'leisel', 'leisur', 'leitmotif', 'lem', 'lemaitr', 'leman', 'lemay', 'lemm', 'lemmi', 'lemmon', 'lemon', 'lemonad', 'lemoni', 'len', 'lena', 'lenard', 'lend', 'lender', 'lenght', 'length', 'lengthen', 'lengthi', 'lengthier', 'lenient', 'lenin', 'leningrad', 'lenni', 'lennon', 'lennox', 'leno', 'lenovo', 'lens', 'lenski', 'lent', 'lenticular', 'lentil', 'leo', 'leon', 'leona', 'leonard', 'leonardo', 'leoni', 'leonida', 'leopard', 'leopold', 'lep', 'lepag', 'leper', 'leporello', 'leppard', 'leprechaun', 'ler', 'lerman', 'leroy', 'lesbian', 'lesli', 'less', 'lessen', 'lesser', 'lesson', 'lessor', 'lest', 'lestat', 'lester', 'lestrad', 'let', 'letdown', 'lethal', 'letharg', 'lethargi', 'leto', 'letter', 'letterbox', 'letterman', 'letti', 'lettuc', 'leukemia', 'leung', 'lev', 'leve', 'level', 'lever', 'leverag', 'levi', 'leviathan', 'levin', 'levinson', 'levit', 'levithan', 'leviti', 'levitt', 'levon', 'lew', 'lewd', 'lewi', 'lewin', 'lex', 'lexi', 'lexicon', 'lexington', 'lexu', 'lez', 'lf', 'lfe', 'lg', 'lgbt', 'lh', 'li', 'liabil', 'liabl', 'liaison', 'liam', 'lian', 'liann', 'liar', 'lib', 'libbi', 'libel', 'liber', 'liberac', 'libertarian', 'liberti', 'libido', 'librari', 'librarian', 'libretti', 'libretto', 'libro', 'lice', 'licenc', 'licens', 'lick', 'lid', 'lie', 'lieb', 'lieder', 'liek', 'liesel', 'liesl', 'lieu', 'lieuten', 'liev', 'life', 'lifeboat', 'lifechang', 'lifeform', 'lifeless', 'lifelik', 'lifelin', 'lifelong', 'lifesav', 'lifeson', 'lifespan', 'lifestyl', 'lifetim', 'lift', 'lifter', 'light', 'lightbulb', 'lighten', 'lighter', 'lightest', 'lightheart', 'lighthearted', 'lighthous', 'lightli', 'lightn', 'lightroom', 'lightsab', 'lightweight', 'lightwood', 'lightyear', 'liitl', 'lik', 'likabl', 'like', 'likeabl', 'likelihood', 'liken', 'likewis', 'likey', 'lil', 'lila', 'lili', 'lilith', 'lilli', 'lilo', 'lilt', 'lima', 'limb', 'limbo', 'lime', 'limelight', 'limit', 'limitless', 'limo', 'limousin', 'limp', 'limpid', 'lin', 'lina', 'linchpin', 'lincoln', 'linda', 'lindberg', 'lindbergh', 'lindelof', 'lindi', 'lindsay', 'lindsey', 'line', 'lineag', 'linear', 'linen', 'liner', 'lineup', 'ling', 'linger', 'lingo', 'linguist', 'link', 'linkag', 'linkedin', 'linkin', 'linklat', 'linney', 'lint', 'linu', 'linux', 'lion', 'lionel', 'lioness', 'lionheart', 'lioniz', 'lionsgat', 'liotta', 'lip', 'lipid', 'lipstick', 'lipton', 'lipwig', 'liquid', 'liquor', 'lirael', 'lisa', 'lisbeth', 'lisbon', 'lise', 'lisey', 'lisitsa', 'lisp', 'lissa', 'list', 'listen', 'lister', 'listless', 'listn', 'liszt', 'lit', 'lita', 'litani', 'lite', 'liter', 'literaci', 'literali', 'literalist', 'literari', 'literarili', 'literati', 'literatur', 'lith', 'lithgow', 'lithium', 'lithograph', 'litig', 'litl', 'litmu', 'litt', 'litter', 'littl', 'littlefing', 'littler', 'littlest', 'liu', 'liv', 'livabl', 'live', 'liveli', 'livelihood', 'liven', 'liver', 'liverpool', 'livestock', 'livid', 'livin', 'livingston', 'livr', 'livro', 'liz', 'liza', 'lizard', 'lizbeth', 'lizzi', 'lj', 'lk', 'llama', 'llc', 'lli', 'lll', 'llosa', 'lloyd', 'lm', 'lmao', 'lmfao', 'ln', 'lo', 'loa', 'load', 'loader', 'loaf', 'loan', 'loath', 'loathsom', 'loav', 'lob', 'lobbi', 'lobbyist', 'lobe', 'lobo', 'lobotomi', 'lobster', 'local', 'locat', 'lock', 'locker', 'lockhart', 'lockout', 'locksmith', 'lockup', 'lockwood', 'loco', 'locomot', 'locust', 'lode', 'lodg', 'lodger', 'loeb', 'loft', 'lofti', 'log', 'logan', 'loge', 'logen', 'loggia', 'loggin', 'logic', 'login', 'logist', 'logitech', 'logo', 'logon', 'logotherapi', 'logu', 'lohan', 'lohengrin', 'loi', 'loin', 'loke', 'loki', 'lol', 'lola', 'lolita', 'lollipop', 'lomax', 'lombardo', 'lommel', 'lon', 'london', 'lone', 'loneli', 'loneliest', 'loner', 'lonesom', 'long', 'longbourn', 'longer', 'longest', 'longev', 'longish', 'longmir', 'longshot', 'longstand', 'longstreet', 'longtim', 'longwind', 'lonli', 'lonni', 'loo', 'look', 'lookalik', 'looker', 'lookin', 'lookout', 'lookup', 'loom', 'loomi', 'loompa', 'loon', 'looney', 'looni', 'looong', 'loooong', 'looooong', 'loooooong', 'looooooov', 'loooooov', 'looooov', 'loooov', 'looov', 'loop', 'looper', 'loophol', 'loopi', 'loos', 'loosen', 'looser', 'loot', 'loov', 'lop', 'lope', 'lopez', 'lopsid', 'lor', 'lorax', 'lord', 'lordi', 'lore', 'loreena', 'lorelai', 'lorelei', 'loren', 'lorenzo', 'loretta', 'lori', 'lorin', 'lorr', 'lorrain', 'lose', 'loser', 'loss', 'lossi', 'lossless', 'lost', 'lot', 'lotion', 'lotr', 'lotsa', 'lott', 'lotta', 'lotteri', 'lotti', 'lotu', 'lou', 'loud', 'louder', 'loudest', 'loudli', 'loudspeak', 'loughlin', 'loui', 'louie', 'louis', 'louisa', 'louisiana', 'louisvil', 'loung', 'lous', 'lousi', 'lout', 'louvr', 'lov', 'lovabl', 'lovato', 'love', 'loveabl', 'lovebird', 'lovecraft', 'lovecraftian', 'lovee', 'loveee', 'loveeee', 'lovel', 'lovelac', 'loveless', 'loveli', 'loveliest', 'lovelorn', 'lovemak', 'lover', 'lovesick', 'lovestori', 'lovestruck', 'lovett', 'lovey', 'lovin', 'lovingli', 'low', 'lowbrow', 'lowdown', 'lowel', 'lower', 'lowest', 'lowli', 'lowlif', 'lowlight', 'lowri', 'loyal', 'loyalist', 'loyalti', 'loz', 'lp', 'lpcm', 'lr', 'ls', 'lsd', 'lso', 'lt', 'ltd', 'lte', 'lu', 'lua', 'lubric', 'luc', 'luca', 'lucasfilm', 'luce', 'luci', 'lucia', 'lucian', 'luciano', 'lucid', 'lucidli', 'lucien', 'lucif', 'lucil', 'lucinda', 'lucio', 'luciu', 'luck', 'lucki', 'luckier', 'luckiest', 'luckili', 'lucr', 'lucretia', 'lucretiu', 'ludacri', 'luddit', 'lude', 'ludicr', 'ludlow', 'ludlum', 'ludwig', 'luftwaff', 'lug', 'luggag', 'lugosi', 'lugubri', 'luhrman', 'luhrmann', 'lui', 'luisa', 'luka', 'lukath', 'luke', 'lukewarm', 'lull', 'lullabi', 'lullaby', 'lulu', 'lumber', 'lumberjack', 'lumet', 'lumin', 'luminari', 'lump', 'lumpi', 'luna', 'lunaci', 'lunar', 'lunat', 'lunch', 'lunchbox', 'lunchtim', 'lundgren', 'lune', 'lung', 'lupin', 'lupita', 'lupton', 'lupu', 'lurch', 'lure', 'lurid', 'lurk', 'lusciou', 'lush', 'lushli', 'lusitania', 'lust', 'luster', 'lusti', 'lustr', 'lute', 'luther', 'lutheran', 'luthor', 'lutrel', 'luttrel', 'luv', 'luve', 'lux', 'luxembourg', 'luxuri', 'lv', 'lvl', 'lw', 'ly', 'lycan', 'lydia', 'lyle', 'lymphoma', 'lyn', 'lynch', 'lynd', 'lynda', 'lyndon', 'lyne', 'lynn', 'lynott', 'lynyrd', 'lyon', 'lyra', 'lyric', 'lyricist', 'lz', 'lzzi', 'ma', 'maazel', 'mabel', 'mabey', 'mabi', 'mac', 'macabr', 'macarthur', 'macbeth', 'macbook', 'macca', 'macchio', 'macdonald', 'macdowel', 'mace', 'macfadyen', 'macfarlan', 'macfayden', 'macgregor', 'macguffin', 'macgyv', 'mach', 'machet', 'machiavelli', 'machiavellian', 'machin', 'machina', 'machineri', 'machinist', 'machismo', 'macho', 'macht', 'maci', 'macintosh', 'macintyr', 'mack', 'mackayla', 'mackenzi', 'mackerra', 'macki', 'mackintosh', 'macklemor', 'maclachlan', 'maclain', 'maclean', 'macleod', 'macomb', 'macon', 'macro', 'macroeconom', 'mad', 'madagascar', 'madam', 'madcap', 'madd', 'maddaddam', 'madden', 'maddeningli', 'madder', 'maddi', 'maddox', 'made', 'madelein', 'madelin', 'madg', 'madison', 'madli', 'madman', 'madmen', 'madoff', 'madonna', 'madr', 'madrid', 'madrig', 'madsen', 'mae', 'maelstrom', 'maer', 'maersk', 'maester', 'maestro', 'maev', 'mafia', 'mag', 'magazin', 'magdalen', 'mage', 'maggi', 'maggot', 'magi', 'magic', 'magician', 'magick', 'magik', 'magisteri', 'magistr', 'magma', 'magna', 'magnanim', 'magnat', 'magnet', 'magneto', 'magnif', 'magnifi', 'magnific', 'magnifici', 'magnifiqu', 'magnitud', 'magnolia', 'magnu', 'magnum', 'magpi', 'maguir', 'mah', 'mahal', 'maharaj', 'mahavishnu', 'maher', 'mahjong', 'mahjongg', 'mahler', 'mahogani', 'mai', 'maia', 'maid', 'maiden', 'maier', 'mail', 'mailbox', 'mailer', 'mailman', 'maim', 'main', 'mainland', 'mainli', 'mainlin', 'mainstay', 'mainstream', 'maintain', 'mainten', 'mairead', 'maj', 'majest', 'majesti', 'majong', 'major', 'majora', 'majorli', 'mak', 'make', 'makeov', 'maker', 'makeshift', 'makeup', 'makin', 'mako', 'mal', 'maladi', 'malais', 'malala', 'malarkey', 'malawi', 'malaysia', 'malazan', 'malcolm', 'malcom', 'malcont', 'malcovich', 'malden', 'male', 'malefic', 'malevol', 'malfeas', 'malfoy', 'malfunct', 'malibu', 'malic', 'malici', 'malick', 'malign', 'malik', 'malkovich', 'mall', 'mallard', 'malleabl', 'mallet', 'malley', 'mallori', 'malmsteen', 'malnourish', 'malnutrit', 'malo', 'malon', 'malpractic', 'malt', 'maltes', 'maltin', 'malwar', 'malwarebyt', 'mama', 'mamah', 'mamet', 'mamma', 'mammal', 'mammoth', 'man', 'mana', 'manag', 'manageri', 'manassa', 'manc', 'manchest', 'manchurian', 'mancini', 'mandarin', 'mandat', 'mandatori', 'mandel', 'mandela', 'mandelbrot', 'manderley', 'mandi', 'mandolin', 'mane', 'manera', 'maneuv', 'maneuver', 'manfr', 'mang', 'manga', 'manger', 'mangini', 'mangl', 'mango', 'mangold', 'manhattan', 'manhood', 'manhunt', 'mani', 'mania', 'maniac', 'manic', 'manicur', 'manifest', 'manifesto', 'manifold', 'manila', 'manilow', 'manipul', 'mankel', 'mankind', 'manli', 'mann', 'mannequin', 'manner', 'manni', 'mano', 'manoeuvr', 'manon', 'manor', 'manowar', 'manpow', 'mansfield', 'mansion', 'manson', 'manticor', 'mantl', 'mantra', 'manu', 'manual', 'manuel', 'manufactur', 'manur', 'manuscript', 'manuv', 'mao', 'maori', 'map', 'mapl', 'mapplethorp', 'mar', 'mara', 'marantz', 'marathon', 'maraud', 'marbl', 'marc', 'marceau', 'marcel', 'marcelin', 'marcello', 'march', 'marci', 'marcia', 'marco', 'marcu', 'mardi', 'mare', 'marg', 'margaret', 'margarin', 'margarita', 'margin', 'margo', 'margot', 'margret', 'marguli', 'mari', 'maria', 'mariachi', 'mariah', 'mariam', 'marian', 'marianelli', 'mariann', 'marigold', 'marijuana', 'marillion', 'marilyn', 'marimba', 'marin', 'marina', 'marino', 'mario', 'marion', 'marionett', 'marisa', 'marissa', 'marit', 'maritim', 'mariu', 'marjan', 'marjori', 'mark', 'markedli', 'marker', 'market', 'marketa', 'marketplac', 'marki', 'markipli', 'marko', 'marksman', 'marku', 'marl', 'marla', 'marle', 'marlen', 'marley', 'marlin', 'marlon', 'marlow', 'marmalad', 'maroon', 'marpl', 'marque', 'marquez', 'marqui', 'marr', 'marri', 'marriag', 'marrin', 'marrow', 'marsali', 'marsden', 'marsh', 'marshal', 'marshmallow', 'mart', 'marta', 'martel', 'martha', 'marti', 'martial', 'martian', 'martin', 'martina', 'martinez', 'martini', 'martis', 'marton', 'martyr', 'martyrdom', 'maru', 'marv', 'marvel', 'marvin', 'marx', 'marxism', 'marxist', 'maryland', 'mascara', 'mascot', 'masculin', 'mash', 'mashup', 'mask', 'maslani', 'maslow', 'masoch', 'masochist', 'mason', 'masquerad', 'mass', 'massachusett', 'massacr', 'massag', 'massenet', 'massey', 'massiv', 'mast', 'master', 'masterclass', 'masteri', 'masterli', 'mastermind', 'masterpeic', 'masterpiec', 'masterson', 'masterstrok', 'mastertap', 'masterwork', 'mastodon', 'masturb', 'mat', 'match', 'matchbox', 'matcher', 'matchless', 'matchmak', 'matchup', 'mate', 'mater', 'materi', 'materialist', 'matern', 'math', 'mathemat', 'mathematician', 'mather', 'matheson', 'mathew', 'mathi', 'mathieu', 'mathilda', 'matilda', 'matine', 'matriarch', 'matrimoni', 'matrix', 'matron', 'matt', 'matter', 'matthew', 'matthia', 'matti', 'mattress', 'matur', 'maturin', 'mau', 'maud', 'maudlin', 'maugham', 'maul', 'maureen', 'maurer', 'mauri', 'mauric', 'maurier', 'maurizio', 'mav', 'maven', 'maverick', 'mavi', 'mawkish', 'max', 'maxi', 'maxim', 'maximu', 'maximum', 'maxon', 'maxwel', 'maxx', 'may', 'maya', 'mayal', 'mayan', 'mayb', 'mayberri', 'maycomb', 'mayday', 'mayer', 'mayfield', 'mayhap', 'mayhem', 'mayhew', 'maynard', 'mayo', 'mayonnais', 'mayor', 'maysa', 'maz', 'maze', 'mazurka', 'mazzi', 'mb', 'mba', 'mbp', 'mc', 'mca', 'mcadam', 'mcafe', 'mcavoy', 'mcbeal', 'mcbride', 'mcc', 'mccall', 'mccandless', 'mccann', 'mccarthi', 'mccartney', 'mcclain', 'mcclane', 'mccloud', 'mcconaghey', 'mcconaughey', 'mcconaughi', 'mcconnel', 'mccourt', 'mccoy', 'mccreari', 'mccreeri', 'mcculler', 'mccullough', 'mcdermott', 'mcdonald', 'mcdormand', 'mcdougal', 'mcdowel', 'mcewan', 'mcfarlan', 'mcfli', 'mcgann', 'mcgee', 'mcgonig', 'mcgovern', 'mcgowan', 'mcgrath', 'mcgraw', 'mcgregor', 'mcguffin', 'mcguinn', 'mcguir', 'mcgyver', 'mcintyr', 'mckay', 'mckean', 'mckee', 'mckellan', 'mckellen', 'mckenna', 'mckennitt', 'mckenzi', 'mckeown', 'mckinsey', 'mclachlan', 'mclaughlin', 'mclean', 'mclintock', 'mcmaster', 'mcmurtri', 'mcnalli', 'mcnamara', 'mcpe', 'mcphee', 'mcpherson', 'mcqueen', 'mcr', 'mcu', 'mcvicar', 'mcvie', 'md', 'mdna', 'me', 'mea', 'mead', 'meadow', 'meager', 'meal', 'mean', 'meander', 'meaner', 'meani', 'meaning', 'meaningless', 'meant', 'meantim', 'meanwhil', 'measli', 'measur', 'meat', 'meatbal', 'meati', 'meatier', 'meatloaf', 'meav', 'mecca', 'mech', 'mecha', 'mechan', 'mechanist', 'med', 'medal', 'meddl', 'media', 'median', 'mediat', 'medic', 'medicar', 'medicin', 'mediev', 'mediocr', 'medit', 'mediterranean', 'medium', 'medley', 'medusa', 'meek', 'meena', 'meereen', 'meet', 'meg', 'mega', 'megabuck', 'megabyt', 'megadeth', 'megalodon', 'megalomania', 'megalomaniac', 'megamind', 'megan', 'megapoli', 'megastar', 'meghan', 'megumi', 'meh', 'mehldau', 'mehta', 'meier', 'mein', 'meister', 'meistersing', 'mejor', 'mel', 'melanchol', 'melancholi', 'melancholia', 'melang', 'melani', 'melbourn', 'melchior', 'meld', 'mele', 'melinda', 'melisandr', 'melissa', 'mellark', 'mellencamp', 'melliflu', 'mellon', 'mellotron', 'mellow', 'melod', 'melodi', 'melodrama', 'melodramat', 'melon', 'melt', 'meltdown', 'melvil', 'melvin', 'mem', 'member', 'membership', 'membran', 'meme', 'memeb', 'memento', 'meming', 'memnoch', 'memo', 'memoir', 'memor', 'memorabilia', 'memori', 'memoris', 'memphi', 'men', 'menac', 'menageri', 'mend', 'mendelssohn', 'mendez', 'mendler', 'menial', 'mening', 'menken', 'meno', 'menopaus', 'mensa', 'menstrual', 'ment', 'mental', 'mentalist', 'mention', 'mentor', 'menu', 'menzel', 'menzi', 'meola', 'meow', 'mephisto', 'mer', 'merc', 'merced', 'mercenari', 'mercer', 'merch', 'merchandis', 'merchant', 'merci', 'merciless', 'mercilessli', 'mercuri', 'mercy', 'mere', 'meredith', 'mereen', 'merg', 'merger', 'merida', 'meridian', 'merit', 'meritocraci', 'merl', 'merlin', 'mermaid', 'merri', 'merriam', 'merrick', 'merril', 'merrili', 'merriment', 'merthin', 'meryl', 'mesa', 'mesh', 'meshuggah', 'mesmer', 'mesmeris', 'mesmor', 'mess', 'messag', 'messeg', 'messeng', 'messi', 'messiah', 'messian', 'messier', 'messin', 'messina', 'messr', 'met', 'meta', 'metabol', 'metadata', 'metafict', 'metal', 'metalcor', 'metalhead', 'metallica', 'metamorphos', 'metamorphosi', 'metaphor', 'metaphys', 'metastas', 'metcalf', 'mete', 'meteor', 'meteora', 'meteorit', 'meteorolog', 'meteorologist', 'meter', 'meth', 'metheni', 'methink', 'method', 'methodist', 'methodolog', 'methuselah', 'meticul', 'metric', 'metro', 'metronom', 'metropoli', 'metropolitan', 'mettl', 'meursault', 'mew', 'mexican', 'mexico', 'meyer', 'mezmer', 'mezzo', 'mf', 'mfa', 'mfsl', 'mg', 'mgm', 'mgmt', 'mh', 'mhc', 'mhz', 'mi', 'mia', 'miami', 'mib', 'mic', 'mice', 'mich', 'michael', 'michal', 'micheal', 'michel', 'michelangelo', 'michelin', 'michen', 'michigan', 'michio', 'michonn', 'mick', 'mickey', 'micki', 'micro', 'microb', 'microbiolog', 'microcosm', 'micromanag', 'microphon', 'microscop', 'microsoft', 'microtransact', 'microwav', 'mid', 'mida', 'middl', 'middleman', 'middot', 'midevil', 'midget', 'midi', 'midland', 'midler', 'midlif', 'midnight', 'midpoint', 'midrang', 'midsect', 'midst', 'midstream', 'midsumm', 'midtempo', 'midway', 'midwest', 'midwestern', 'midwif', 'midwint', 'miett', 'mif', 'mifun', 'might', 'mighti', 'mightier', 'mightili', 'mignon', 'migrain', 'migrant', 'migrat', 'miguel', 'mihali', 'mika', 'mikael', 'mike', 'mikey', 'mikhail', 'mikkelsen', 'mikkelson', 'miklo', 'mil', 'mila', 'milan', 'mild', 'milder', 'mildli', 'mildr', 'mile', 'mileag', 'mileston', 'miley', 'milieu', 'milit', 'militar', 'militari', 'militarili', 'militarist', 'militia', 'milk', 'milki', 'milkshak', 'mill', 'milla', 'millar', 'milleni', 'millenia', 'millenium', 'millenni', 'millennia', 'millennium', 'miller', 'milli', 'millimet', 'million', 'millionair', 'millionth', 'millisecond', 'milo', 'milquetoast', 'milton', 'milwauke', 'mime', 'mimi', 'mimic', 'mimick', 'mimicri', 'min', 'mina', 'minaj', 'minc', 'mincemeat', 'mincraft', 'mind', 'mindbend', 'mindblow', 'mindboggl', 'mindcraft', 'mindcrim', 'minded', 'minder', 'mindi', 'mindless', 'mindlessli', 'mindset', 'mine', 'minecart', 'minecraft', 'minefield', 'minelli', 'miner', 'minerva', 'mineshaft', 'minesweep', 'ming', 'mingl', 'mingu', 'minho', 'mini', 'miniatur', 'miniaturist', 'miniclip', 'minifigur', 'minigam', 'minim', 'minimalist', 'minimum', 'minion', 'miniscul', 'miniseri', 'minist', 'ministri', 'minivan', 'mink', 'minneapoli', 'minnelli', 'minnesota', 'minni', 'minogu', 'minon', 'minor', 'minotaur', 'minstrel', 'mint', 'mintu', 'minu', 'minuet', 'minus', 'minuscul', 'minut', 'minutia', 'mio', 'mir', 'mira', 'miracl', 'miracul', 'mirag', 'miramax', 'miranda', 'mire', 'miriam', 'mirren', 'mirror', 'mirrormask', 'mirth', 'misadventur', 'misalign', 'misanthrop', 'misbegotten', 'misbehav', 'misbehavior', 'misc', 'miscalcul', 'miscarriag', 'miscast', 'miscellan', 'mischief', 'mischiev', 'miscommun', 'misconcept', 'misconstru', 'miscreant', 'misde', 'misdemeanor', 'misdirect', 'mise', 'miser', 'miseri', 'miserli', 'misfir', 'misfit', 'misfortun', 'misgiv', 'misguid', 'mish', 'misha', 'mishandl', 'mishap', 'mishmash', 'misinform', 'misinterpret', 'misjudg', 'misl', 'mislabel', 'mislead', 'mismanag', 'mismatch', 'mismo', 'misnom', 'misogyni', 'misogynist', 'mispercept', 'misplac', 'misprint', 'misquot', 'misread', 'misrememb', 'misrepres', 'misrepresent', 'miss', 'misshapen', 'missi', 'missil', 'mission', 'missionari', 'mississippi', 'missl', 'missouri', 'misspel', 'misspent', 'misstat', 'misstep', 'mist', 'mistak', 'mistaken', 'mistakenli', 'mistborn', 'mister', 'misteri', 'misti', 'mistook', 'mistreat', 'mistress', 'mistrust', 'misunderstand', 'misunderstood', 'misus', 'mit', 'mitch', 'mitchel', 'mitchum', 'mite', 'mitig', 'mitsubishi', 'mitt', 'mitten', 'mitti', 'mix', 'mixer', 'mixtap', 'mixtur', 'miyagi', 'miyamoto', 'miyazaki', 'miz', 'mj', 'mk', 'mkv', 'ml', 'mlb', 'mlk', 'mlodinow', 'mlp', 'mm', 'mma', 'mme', 'mmlp', 'mmm', 'mmmm', 'mmmmm', 'mmo', 'mmorpg', 'mmt', 'mn', 'mnemon', 'mo', 'moan', 'moat', 'mob', 'mobi', 'mobigrow', 'mobil', 'mobilitywar', 'mobo', 'mobster', 'mocha', 'mock', 'mockeri', 'mockingbird', 'mockingjay', 'mockinjay', 'mockumentari', 'mod', 'modal', 'mode', 'model', 'modem', 'moder', 'modern', 'modernist', 'modest', 'modesti', 'modestli', 'modicum', 'modif', 'modifi', 'modu', 'modul', 'modular', 'moe', 'moffat', 'moffatt', 'mofi', 'mofo', 'moga', 'mogadishu', 'mogget', 'mogul', 'moham', 'mohammad', 'mohawk', 'mohican', 'moi', 'moin', 'moira', 'moist', 'moistur', 'moiv', 'mojang', 'mojav', 'mojo', 'molass', 'mold', 'moldi', 'mole', 'molecul', 'molecular', 'moleskin', 'molest', 'moli', 'molina', 'moll', 'molli', 'molten', 'mom', 'moment', 'momentari', 'momentarili', 'momento', 'momentum', 'momma', 'mommi', 'momo', 'momoa', 'mon', 'mona', 'monaco', 'monaghan', 'monarch', 'monarchi', 'monasteri', 'monaur', 'mond', 'monday', 'mone', 'monet', 'monetari', 'money', 'moneybal', 'moneymak', 'moneypenni', 'monger', 'mongolia', 'moni', 'monica', 'monik', 'monitor', 'monk', 'monke', 'monkey', 'mono', 'monochrom', 'monochromat', 'monogam', 'monogami', 'monogram', 'monograph', 'monolith', 'monolog', 'monologu', 'mononok', 'monopol', 'monopoli', 'monopolist', 'monotheist', 'monoton', 'monotoni', 'monro', 'monsanto', 'monsieur', 'monsoon', 'monster', 'monstros', 'monstrou', 'monstrous', 'mont', 'montag', 'montalban', 'montana', 'monterey', 'monteux', 'monteverdi', 'montezuma', 'montgomeri', 'month', 'monthli', 'monti', 'montreal', 'montreux', 'monument', 'moo', 'mood', 'moodi', 'moodier', 'moog', 'moon', 'moondanc', 'moonless', 'moonlight', 'moonlit', 'moonris', 'moonshin', 'moonston', 'moonwalk', 'moor', 'moorjani', 'moos', 'moot', 'mop', 'mope', 'mopey', 'mor', 'moral', 'moralist', 'moran', 'morani', 'morass', 'moraz', 'morbid', 'morbidli', 'morbiu', 'mordor', 'more', 'morel', 'morello', 'morena', 'moreno', 'moreov', 'moreso', 'moretz', 'morgan', 'morgana', 'morgenstern', 'morgu', 'mori', 'moria', 'moriar', 'moriarti', 'moriati', 'moribund', 'morissett', 'morita', 'morland', 'mormon', 'morn', 'moroccan', 'morocco', 'morod', 'moron', 'moros', 'morph', 'morpheu', 'morphin', 'morpork', 'morri', 'morricon', 'morrison', 'morrissey', 'morrow', 'mors', 'morsel', 'mort', 'mortal', 'mortar', 'mortem', 'morten', 'mortensen', 'mortenson', 'mortgag', 'mortifi', 'morton', 'mosaic', 'moscow', 'mose', 'mosh', 'moslem', 'mosley', 'mosquito', 'moss', 'mossad', 'mostli', 'mot', 'mote', 'motel', 'moth', 'mothbal', 'mother', 'motherhood', 'motherland', 'motherless', 'motherli', 'mothership', 'mothra', 'motif', 'motion', 'motionless', 'motiv', 'motley', 'moto', 'motor', 'motorbik', 'motorcycl', 'motorcyclist', 'motorhead', 'motorola', 'motown', 'mott', 'motto', 'mould', 'moulin', 'mound', 'mount', 'mountain', 'mountaintop', 'mourn', 'mous', 'mousi', 'moustach', 'mouth', 'mouthi', 'mouthpiec', 'mouthwat', 'mov', 'movabl', 'move', 'moveabl', 'movei', 'movement', 'mover', 'movi', 'moviego', 'moviemak', 'moviemar', 'moview', 'movin', 'movingli', 'mow', 'mower', 'mowgli', 'moxi', 'moy', 'moyer', 'moz', 'mozart', 'mp', 'mpaa', 'mpeg', 'mph', 'mpoint', 'mr', 'mraz', 'mri', 'ms', 'msecur', 'msg', 'msn', 'msnbc', 'mst', 'mt', 'mtg', 'mth', 'mtv', 'mu', 'much', 'mucha', 'mucho', 'muck', 'mud', 'mudd', 'muddi', 'muddl', 'mudslid', 'muffin', 'muffl', 'mug', 'muggl', 'muhammad', 'muito', 'mukherje', 'mulan', 'mule', 'mulgrew', 'mulholland', 'mull', 'mullen', 'muller', 'mullet', 'mulligan', 'mult', 'multi', 'multichannel', 'multicolor', 'multicultur', 'multidimension', 'multifacet', 'multilay', 'multilingu', 'multimedia', 'multimillion', 'multimillionair', 'multin', 'multipl', 'multiplay', 'multipli', 'multitask', 'multitrack', 'multitud', 'multivers', 'mum', 'mumbai', 'mumbl', 'mumbo', 'mumford', 'mummer', 'mummi', 'munch', 'munchi', 'munchkin', 'mundan', 'mundi', 'mundo', 'munich', 'munit', 'munro', 'munsch', 'muppet', 'murakami', 'mural', 'murder', 'murdoch', 'murdock', 'murk', 'murki', 'murmur', 'murnau', 'murph', 'murphi', 'murray', 'murtagh', 'muscial', 'muscian', 'muscianship', 'muscl', 'muscular', 'muse', 'musetta', 'museum', 'mush', 'mushi', 'mushroom', 'music', 'musica', 'musican', 'musici', 'musician', 'musicianship', 'musicolog', 'musicologist', 'musk', 'musket', 'muslim', 'muso', 'muss', 'mussolini', 'mussorgski', 'must', 'mustach', 'mustain', 'mustang', 'mustard', 'muster', 'musti', 'mutant', 'mutat', 'mutch', 'mute', 'muti', 'mutil', 'mutini', 'muto', 'mutt', 'mutter', 'mutual', 'muy', 'muzak', 'muzzl', 'mv', 'mvp', 'mvula', 'mw', 'mx', 'mycroft', 'myelin', 'myer', 'myle', 'mylo', 'myopic', 'myriad', 'myrtl', 'myspac', 'myst', 'mysteri', 'mysteryvil', 'mystic', 'mystifi', 'mystiqu', 'myth', 'mythbust', 'mythic', 'mytho', 'mytholog', 'mytouch', 'myung', 'mz', 'na', 'naacp', 'naasir', 'nab', 'nabi', 'nabisco', 'nabokov', 'nack', 'nad', 'nada', 'nadal', 'nadia', 'nadir', 'nag', 'nagasaki', 'nah', 'nail', 'naiv', 'naivet', 'naiveti', 'najimi', 'nake', 'naked', 'nalini', 'nam', 'namast', 'name', 'nameless', 'namesak', 'nan', 'nana', 'nanci', 'nank', 'nanni', 'nano', 'nanosecond', 'nanotechnolog', 'nao', 'naomi', 'nap', 'napalm', 'napkin', 'napl', 'napoleon', 'napster', 'naptim', 'nar', 'narciss', 'narcissist', 'narcot', 'nari', 'narnia', 'narr', 'narrat', 'narrow', 'narrowli', 'nasa', 'nasal', 'nasb', 'nascar', 'nascent', 'nash', 'nashvil', 'nassau', 'nassim', 'nasti', 'nastier', 'nastiest', 'nat', 'natal', 'natali', 'natalia', 'natasha', 'natasja', 'natch', 'nate', 'nathan', 'nathaniel', 'nation', 'nationalist', 'nationwid', 'nativ', 'nato', 'natti', 'natur', 'naturalist', 'naught', 'naughti', 'nausea', 'nauseam', 'nauseat', 'nauseatingli', 'nauseou', 'nauseum', 'nausicaa', 'nautic', 'nav', 'naval', 'navarro', 'nave', 'navel', 'navi', 'navidson', 'navig', 'naw', 'naxo', 'nay', 'naysay', 'nazareth', 'nazi', 'nazism', 'nb', 'nba', 'nbc', 'nbsp', 'nc', 'nci', 'nd', 'nde', 'ne', 'neal', 'neanderth', 'near', 'nearbi', 'nearer', 'nearest', 'nearli', 'neat', 'neater', 'neatest', 'neatli', 'nebraska', 'nebul', 'nebula', 'neccesari', 'neccessari', 'necess', 'necessari', 'necessarili', 'necessit', 'neck', 'necklac', 'necroa', 'necromanc', 'nectar', 'ned', 'nee', 'need', 'needi', 'needl', 'needless', 'needlessli', 'neeson', 'nefari', 'neg', 'negat', 'negit', 'neglect', 'neglig', 'negoti', 'negro', 'neic', 'neighbor', 'neighborhood', 'neighbour', 'neighbourhood', 'neil', 'neill', 'neither', 'nell', 'nella', 'nelli', 'nelson', 'nemesi', 'nemo', 'nemoy', 'neo', 'neoclass', 'neocortex', 'neoliber', 'neon', 'neophyt', 'nephew', 'nephilim', 'neptun', 'ner', 'nerd', 'nerdfight', 'nerdi', 'nerf', 'nero', 'nerv', 'nervosa', 'nervou', 'nervous', 'nesbitt', 'nesbo', 'ness', 'nessi', 'nest', 'nestl', 'net', 'netbook', 'netflick', 'netflix', 'nether', 'netherfield', 'netherland', 'netherworld', 'netrebko', 'nettl', 'network', 'neural', 'neuro', 'neurolog', 'neurologist', 'neuromanc', 'neuron', 'neuroplast', 'neuros', 'neurosci', 'neuroscientist', 'neurosi', 'neurosurgeon', 'neurot', 'neuter', 'neutral', 'neutron', 'nev', 'nevada', 'neve', 'never', 'neverend', 'neverland', 'nevermind', 'nevermor', 'nevertheless', 'neverwher', 'nevil', 'nevosoft', 'new', 'newark', 'newb', 'newberri', 'newbi', 'newborn', 'newcom', 'newer', 'newest', 'newfound', 'newish', 'newli', 'newlyw', 'newman', 'newport', 'news', 'newscast', 'newsfe', 'newsflash', 'newslett', 'newspap', 'newsreel', 'newst', 'newsweek', 'newt', 'newton', 'newtonian', 'next', 'nexu', 'nf', 'nfl', 'ng', 'ngler', 'ngo', 'ngozi', 'nh', 'ni', 'niagara', 'niall', 'niamh', 'nib', 'nibbl', 'nibelungen', 'nic', 'nica', 'nice', 'nicer', 'nicest', 'niceti', 'nich', 'nichel', 'nichol', 'nichola', 'nicholson', 'nicht', 'nick', 'nickel', 'nickelback', 'nickelodeon', 'nicki', 'nickl', 'nickleback', 'nicknam', 'nicko', 'nico', 'nicol', 'nicola', 'nicotin', 'niec', 'niel', 'nielsen', 'nielson', 'nietzsch', 'niev', 'nifti', 'nigel', 'nigella', 'nigeria', 'nigerian', 'niggl', 'nigh', 'nighi', 'night', 'nightclub', 'nightcrawl', 'nighter', 'nightfal', 'nightfli', 'nightingal', 'nightli', 'nightlif', 'nightmar', 'nightmarish', 'nightstand', 'nighttim', 'nightw', 'nightwish', 'nihil', 'nihilist', 'nik', 'nike', 'niki', 'nikita', 'nikki', 'nikola', 'nikolai', 'nikon', 'nil', 'nile', 'nilli', 'nilsson', 'nimbl', 'nimoy', 'nimrod', 'nin', 'nina', 'nine', 'ninefing', 'nineteen', 'nineteenth', 'nineti', 'ning', 'ninja', 'ninjago', 'ninni', 'nino', 'nintendo', 'ninth', 'nip', 'nippl', 'niro', 'nirvana', 'nisargadatta', 'nit', 'nita', 'nite', 'nitpick', 'nitpicki', 'nitro', 'nitrogen', 'nitrou', 'nitti', 'nitwit', 'niv', 'niven', 'nix', 'nixon', 'nj', 'nk', 'nkjv', 'nkotb', 'nlt', 'nm', 'no', 'noaa', 'noah', 'nobel', 'nobil', 'nobl', 'nobleman', 'nobli', 'nobodi', 'noch', 'nocturn', 'nod', 'node', 'noe', 'noel', 'noetic', 'noggin', 'noir', 'nois', 'noisi', 'nokia', 'nola', 'nolan', 'nolt', 'nom', 'nomad', 'nomenclatur', 'nomin', 'nomine', 'non', 'nonbeliev', 'nonchal', 'nondescript', 'none', 'nonessenti', 'nonetheless', 'nonexist', 'nonfict', 'nonlinear', 'nonogram', 'nonpluss', 'nonprofit', 'nonsens', 'nonstop', 'nontheless', 'nontradit', 'nonverb', 'nonviol', 'noob', 'noodl', 'noodlecak', 'nook', 'noomi', 'noon', 'noonien', 'nooo', 'noooo', 'nooooo', 'noooooo', 'nooooooo', 'noooooooo', 'noos', 'nope', 'nora', 'norah', 'nordic', 'norm', 'norma', 'normal', 'normalci', 'normali', 'norman', 'normandi', 'norri', 'nors', 'north', 'northam', 'northang', 'northeast', 'northern', 'northup', 'northwest', 'norton', 'norway', 'norwegian', 'nose', 'nosed', 'nosey', 'nosferatu', 'nosi', 'nostalg', 'nostalgia', 'nostradamu', 'nostril', 'not', 'nota', 'notabl', 'notat', 'notch', 'note', 'notebook', 'notepad', 'notetak', 'noteworthi', 'noth', 'nother', 'nothin', 'nothing', 'notic', 'notif', 'notifi', 'notion', 'notori', 'notorieti', 'notr', 'nottingham', 'notw', 'notwithstand', 'nou', 'noun', 'nourish', 'nouveau', 'nov', 'nova', 'novak', 'novel', 'novela', 'novelett', 'novelist', 'novella', 'novelti', 'novemb', 'novic', 'nowaday', 'nowday', 'nowher', 'noy', 'nozz', 'np', 'npc', 'nph', 'npr', 'nr', 'nra', 'ns', 'nsa', 'nt', 'nth', 'ntild', 'ntsc', 'nu', 'nuanc', 'nub', 'nucci', 'nucki', 'nuclear', 'nucleu', 'nude', 'nudg', 'nuditi', 'nueva', 'nuevo', 'nuf', 'nuff', 'nugent', 'nugget', 'nuisanc', 'nuke', 'null', 'nullifi', 'numb', 'number', 'numbingli', 'numer', 'numero', 'nun', 'nunca', 'nurs', 'nurseri', 'nurtur', 'nut', 'nutcas', 'nutcrack', 'nuthin', 'nutrient', 'nutrit', 'nutriti', 'nutritionist', 'nutshel', 'nutter', 'nutti', 'nvc', 'nvidia', 'nw', 'nwobhm', 'ny', 'nyan', 'nyc', 'nye', 'nylon', 'nymph', 'nympho', 'nymphomaniac', 'nypd', 'nyt', 'nytim', 'nyu', 'nz', 'oa', 'oacut', 'oahu', 'oak', 'oakenshield', 'oakland', 'oakley', 'oasi', 'oat', 'oath', 'oatmeal', 'ob', 'obama', 'obamacar', 'obdur', 'obe', 'obedi', 'oberon', 'obes', 'obey', 'obfusc', 'obi', 'obinz', 'obituari', 'object', 'objectifi', 'objection', 'obl', 'oblig', 'obligatori', 'obliqu', 'obliter', 'oblivi', 'oblivion', 'obnoxi', 'obo', 'obra', 'obscen', 'obscur', 'observ', 'obsess', 'obsidian', 'obsolet', 'obssess', 'obstacl', 'obsticl', 'obstin', 'obstruct', 'obtain', 'obtrus', 'obtus', 'obviou', 'obvious', 'oc', 'ocarina', 'ocassion', 'occam', 'occas', 'occasion', 'occass', 'occassion', 'occult', 'occup', 'occupi', 'occur', 'occurr', 'ocd', 'ocean', 'oceania', 'ocelot', 'ocr', 'oct', 'octan', 'octav', 'octavarium', 'octavia', 'octavian', 'octob', 'octogenarian', 'octopu', 'od', 'odd', 'oddbal', 'odder', 'oddest', 'odditi', 'oddli', 'ode', 'odeon', 'oder', 'odessa', 'odin', 'odiou', 'odor', 'odu', 'odyssey', 'oe', 'oedip', 'oem', 'oeuvr', 'of', 'ofcours', 'off', 'offbeat', 'offenc', 'offend', 'offens', 'offer', 'offhand', 'offic', 'officesuit', 'offici', 'offlin', 'offput', 'offscreen', 'offset', 'offshoot', 'offshor', 'offspr', 'offstag', 'oft', 'often', 'oftentim', 'ofth', 'og', 'ogden', 'ogilvi', 'ogl', 'ogr', 'oh', 'oher', 'ohh', 'ohhh', 'ohhhh', 'ohhhhh', 'ohio', 'oi', 'oil', 'oili', 'ointment', 'oistrakh', 'oitnb', 'oj', 'ok', 'okay', 'oki', 'okinawa', 'oklahoma', 'okonkwo', 'ol', 'olaf', 'old', 'olden', 'older', 'oldest', 'oldfield', 'oldham', 'oldi', 'oldman', 'oldschool', 'oldster', 'ole', 'oleg', 'olga', 'oligarchi', 'olin', 'oliv', 'olivi', 'olivia', 'olli', 'olmo', 'olog', 'olsen', 'olson', 'olstead', 'olymp', 'olympia', 'olympian', 'olympu', 'olyph', 'olzon', 'om', 'omaha', 'omar', 'omd', 'ome', 'omega', 'omelet', 'omen', 'omfg', 'omg', 'omgosh', 'omgpop', 'omin', 'omiss', 'omit', 'ommadawn', 'omnibu', 'omnipot', 'omnipres', 'omnisci', 'omnivor', 'omnom', 'on', 'onboard', 'oncolog', 'oncologist', 'oncom', 'ond', 'one', 'onedr', 'onegin', 'onenot', 'oner', 'onerepubl', 'oneself', 'ong', 'ongo', 'oni', 'onion', 'onkyo', 'onlin', 'onlook', 'ono', 'onscreen', 'onset', 'onslaught', 'onstag', 'ont', 'ontario', 'onth', 'onto', 'ontolog', 'onward', 'oo', 'ood', 'oodl', 'ooh', 'ook', 'oompa', 'oomph', 'ooo', 'oooh', 'oooo', 'ooooh', 'ooop', 'oop', 'ooz', 'op', 'opac', 'opaqu', 'ope', 'open', 'openfeint', 'openli', 'oper', 'opera', 'operandi', 'operat', 'opeth', 'ophelia', 'opi', 'opiat', 'opin', 'opinion', 'opinon', 'opion', 'opium', 'opp', 'oppenheim', 'oppinion', 'oppo', 'oppon', 'opportun', 'opportunist', 'oppos', 'opposit', 'oppress', 'oppressor', 'oppurtun', 'oprah', 'opt', 'optic', 'optim', 'optimist', 'optimu', 'optimum', 'option', 'opu', 'opul', 'ora', 'oracl', 'oral', 'orang', 'orangutan', 'orat', 'orb', 'orbison', 'orbit', 'orc', 'orca', 'orchard', 'orchestr', 'orchestra', 'orchid', 'orci', 'ord', 'ordain', 'ordeal', 'order', 'orderd', 'orderli', 'ordin', 'ordinari', 'ordinarili', 'ore', 'oregon', 'oren', 'oreo', 'org', 'organ', 'organis', 'organist', 'organiz', 'orgasm', 'orgi', 'orgin', 'orgini', 'ori', 'oria', 'orianthi', 'orient', 'orig', 'origami', 'origan', 'origin', 'originali', 'origion', 'orign', 'orion', 'ork', 'orlando', 'orlean', 'ormandi', 'ormond', 'ornament', 'ornat', 'orphan', 'orphanag', 'orpheu', 'orr', 'orreri', 'orson', 'ortega', 'orthodox', 'orthodoxi', 'orthoped', 'orton', 'orwel', 'orwellian', 'oryx', 'os', 'osama', 'osborn', 'osbourn', 'osc', 'oscar', 'oscil', 'ose', 'osho', 'oskar', 'oslo', 'osment', 'osmo', 'osmond', 'osmosi', 'ost', 'ostens', 'ostentati', 'osteoporosi', 'osteosarcoma', 'ostrac', 'ostrich', 'oswald', 'oswalt', 'ot', 'otaku', 'otello', 'oth', 'othello', 'other', 'othersid', 'otherwis', 'otherworld', 'otherworldli', 'oti', 'otra', 'otro', 'ott', 'otter', 'otto', 'ottolenghi', 'ottoman', 'ou', 'ouch', 'ought', 'oughta', 'ouija', 'ouml', 'ounc', 'ourself', 'oust', 'oustand', 'out', 'outag', 'outak', 'outback', 'outbreak', 'outburst', 'outcast', 'outclass', 'outcom', 'outcri', 'outdat', 'outdid', 'outdo', 'outdon', 'outdoor', 'outdoorsman', 'outer', 'outerspac', 'outfit', 'outgo', 'outgrew', 'outgrow', 'outgrown', 'outgun', 'outin', 'outing', 'outkast', 'outland', 'outlandish', 'outlast', 'outlaw', 'outlay', 'outlet', 'outli', 'outlier', 'outlin', 'outliv', 'outlook', 'outloud', 'outmod', 'outmov', 'outnumb', 'outpac', 'outperform', 'outpost', 'outpour', 'output', 'outrag', 'outright', 'outro', 'outrun', 'outsel', 'outset', 'outshin', 'outsid', 'outsiz', 'outskirt', 'outsmart', 'outsourc', 'outspoken', 'outstand', 'outstandingli', 'outstrip', 'outta', 'outtak', 'outter', 'outview', 'outward', 'outwardli', 'outweigh', 'outwit', 'oval', 'ovarian', 'ovat', 'ove', 'oven', 'over', 'overabund', 'overachiev', 'overact', 'overal', 'overarch', 'overbear', 'overblown', 'overboard', 'overburden', 'overcam', 'overcast', 'overcharg', 'overcom', 'overcompens', 'overcompl', 'overconfid', 'overcook', 'overcrowd', 'overdid', 'overdo', 'overdon', 'overdos', 'overdr', 'overdramat', 'overdrawn', 'overdu', 'overdub', 'overeat', 'overemphas', 'overestim', 'overexpos', 'overflow', 'overgrown', 'overh', 'overhaul', 'overhead', 'overhear', 'overheard', 'overhyp', 'overindulg', 'overjoy', 'overkil', 'overlaid', 'overland', 'overlap', 'overlay', 'overli', 'overload', 'overlong', 'overlook', 'overlord', 'overnight', 'overpaid', 'overplay', 'overpopul', 'overpow', 'overpr', 'overproduc', 'overproduct', 'overprotect', 'overr', 'overreach', 'overreact', 'overrid', 'overrul', 'overrun', 'overs', 'oversatur', 'oversaw', 'overse', 'oversea', 'overseen', 'oversel', 'oversex', 'overshadow', 'oversight', 'oversimplif', 'oversimplifi', 'oversleep', 'oversold', 'overst', 'overstat', 'overstay', 'overstep', 'overstimul', 'overstuf', 'overt', 'overtak', 'overtaken', 'overthink', 'overthrow', 'overthrown', 'overtim', 'overtli', 'overton', 'overtook', 'overtur', 'overturn', 'overus', 'overvalu', 'overview', 'overweight', 'overwhelm', 'overwhelmingli', 'overwork', 'overwrit', 'overwritten', 'overwrought', 'overzeal', 'ow', 'owe', 'owen', 'owl', 'own', 'owner', 'ownership', 'ox', 'oxford', 'oxid', 'oxygen', 'oxymoron', 'oy', 'oye', 'oyster', 'oz', 'ozark', 'ozeki', 'ozz', 'ozzi', 'pa', 'paabo', 'pablo', 'pablum', 'pac', 'pace', 'paci', 'pacif', 'pacifi', 'pacifist', 'pacino', 'pack', 'packag', 'packer', 'packet', 'pacman', 'paco', 'pact', 'pad', 'padalecki', 'padawan', 'paddi', 'paddington', 'paddl', 'paddock', 'padlock', 'paean', 'pagan', 'paganini', 'page', 'pageant', 'pageantri', 'pager', 'paget', 'pageturn', 'pagford', 'pai', 'paic', 'paich', 'paid', 'paig', 'pain', 'painkil', 'painless', 'painlessli', 'painstak', 'painstakingli', 'paint', 'paintbrush', 'painter', 'painterli', 'pair', 'paisley', 'paizo', 'pajama', 'pak', 'pakistan', 'pakistani', 'pal', 'palac', 'palacio', 'paladin', 'palahniuk', 'palanc', 'palat', 'pale', 'paleo', 'paleolith', 'paleontolog', 'paleontologist', 'palestin', 'palestinian', 'palett', 'pali', 'palin', 'pall', 'palladia', 'palladino', 'pallet', 'palli', 'palm', 'palma', 'palmer', 'palo', 'palpabl', 'palpatin', 'palpit', 'palsi', 'paltri', 'paltrow', 'pam', 'pamela', 'pamina', 'pamper', 'pamphlet', 'pan', 'panacea', 'panach', 'panama', 'panason', 'panavis', 'pancak', 'pancreat', 'panda', 'pandem', 'pandemonium', 'pander', 'pandigit', 'pandora', 'pandorum', 'pane', 'panel', 'panem', 'pang', 'panic', 'panick', 'panicki', 'panoram', 'panorama', 'pansi', 'pant', 'pantera', 'pantheist', 'pantheon', 'panther', 'panti', 'pantoliano', 'pantomim', 'pantri', 'panzer', 'paolini', 'paolo', 'pap', 'papa', 'papageno', 'papal', 'paparazzi', 'papazian', 'paper', 'paperback', 'paperless', 'paperwhit', 'paperwork', 'papillon', 'pappano', 'paquin', 'par', 'para', 'parabl', 'parachut', 'paracord', 'parad', 'paradigm', 'paradis', 'paradiso', 'paradox', 'paragon', 'paragraph', 'paraleg', 'parallax', 'parallel', 'paralysi', 'paralyz', 'paramed', 'paramet', 'paramor', 'paramount', 'paramour', 'paranoia', 'paranoid', 'paranorm', 'paranorman', 'paraphernalia', 'paraphras', 'parapleg', 'parasit', 'parasol', 'parasprit', 'paratroop', 'parcel', 'parchment', 'pardon', 'pare', 'parec', 'parent', 'parentag', 'parenthes', 'parenthesi', 'parenthet', 'parenthood', 'pareto', 'pari', 'pariah', 'parish', 'parisian', 'pariti', 'park', 'parker', 'parkinson', 'parkour', 'parlanc', 'parlay', 'parliament', 'parlophon', 'parlor', 'parochi', 'parodi', 'parol', 'parri', 'parrot', 'pars', 'parshendi', 'parsif', 'parson', 'part', 'partak', 'parter', 'parti', 'partial', 'particip', 'participatori', 'participl', 'particl', 'particuarli', 'particular', 'particulari', 'particularili', 'particularli', 'partisan', 'partit', 'partli', 'partner', 'partnership', 'parton', 'partway', 'parziv', 'pasadena', 'pascal', 'pase', 'pashtun', 'paso', 'pasolini', 'pasqual', 'pass', 'passabl', 'passag', 'passageway', 'passcod', 'passeng', 'passer', 'passion', 'passionless', 'passiv', 'passport', 'passtim', 'password', 'past', 'pasta', 'pastel', 'pasteur', 'pasti', 'pastich', 'pastim', 'pastor', 'pastri', 'pasttim', 'pastur', 'pat', 'patch', 'patchi', 'patchwork', 'patel', 'patent', 'patern', 'paternalist', 'path', 'pathet', 'pathetiqu', 'pathfind', 'patho', 'pathogen', 'patholog', 'pathologist', 'pathway', 'patienc', 'patient', 'patina', 'patinkin', 'patio', 'patmor', 'patriarch', 'patriarchi', 'patric', 'patricelli', 'patricia', 'patrician', 'patrick', 'patriot', 'patrol', 'patron', 'patronag', 'patsi', 'patter', 'pattern', 'patterson', 'patti', 'pattinson', 'patton', 'pauciti', 'paul', 'paula', 'pauli', 'paulin', 'paulina', 'paulo', 'paulson', 'paus', 'pausini', 'pavarotti', 'pave', 'pavel', 'pavement', 'pavilion', 'paw', 'pawn', 'paxton', 'pay', 'payback', 'paycheck', 'payday', 'payer', 'payment', 'payn', 'payoff', 'payout', 'paypal', 'payphon', 'payrol', 'payton', 'paywal', 'pb', 'pc', 'pcm', 'pct', 'pd', 'pda', 'pdf', 'pe', 'pea', 'peac', 'peaceabl', 'peacekeep', 'peacemak', 'peach', 'peachi', 'peacock', 'peak', 'peal', 'peanut', 'pear', 'pearc', 'pearl', 'pearli', 'pearson', 'peart', 'peasant', 'peasi', 'pebbl', 'pecan', 'peck', 'peckinpah', 'peculiar', 'peculiarli', 'pedagog', 'pedal', 'pedant', 'peddl', 'pedest', 'pedestrian', 'pediatr', 'pediatrician', 'pedigre', 'pedophil', 'pedophilia', 'pedro', 'pee', 'peed', 'peek', 'peel', 'peep', 'peer', 'peerless', 'peeta', 'peev', 'pefect', 'peform', 'peg', 'pegasist', 'pegasu', 'pegg', 'peggi', 'peic', 'peke', 'pel', 'peleliu', 'pelican', 'pelicula', 'pelion', 'pell', 'pelt', 'pemberley', 'pemberli', 'pen', 'pena', 'penal', 'penalti', 'penanc', 'penchant', 'pencil', 'pend', 'pendant', 'pendergast', 'pendulum', 'penelop', 'penetr', 'penguin', 'peni', 'peninsula', 'penis', 'penitentiari', 'penman', 'penmanship', 'penn', 'penni', 'penniless', 'pennsylvania', 'pennywis', 'penri', 'pension', 'pensiv', 'pent', 'pentacl', 'pentagon', 'pentaton', 'pentatonix', 'penthous', 'penultim', 'penumbra', 'peoni', 'peopl', 'pep', 'peppard', 'pepper', 'peppermint', 'peppi', 'pepsi', 'per', 'perahia', 'percabeth', 'perceiv', 'percent', 'percentag', 'percentil', 'percept', 'perceptu', 'perch', 'perci', 'perciev', 'perciv', 'percol', 'percuss', 'percussionist', 'perdit', 'peregrin', 'perelman', 'perenni', 'perez', 'perf', 'perfect', 'perfection', 'perfectionist', 'perfectli', 'perfecto', 'perfer', 'perfom', 'perfor', 'perform', 'performac', 'perfum', 'perfunctori', 'perhap', 'peril', 'perimet', 'period', 'peripher', 'peripheri', 'perish', 'perk', 'perki', 'perkin', 'perl', 'perlman', 'perlmutt', 'perm', 'perman', 'permeat', 'permiss', 'permit', 'permut', 'pernici', 'pero', 'peron', 'perp', 'perpect', 'perpetr', 'perpetu', 'perplex', 'perri', 'perrin', 'persecut', 'persepoli', 'perserv', 'perserver', 'perseu', 'persev', 'persever', 'persia', 'persian', 'persist', 'person', 'persona', 'personag', 'personaj', 'personali', 'personalis', 'personalti', 'personel', 'personhood', 'personif', 'personifi', 'personn', 'personna', 'personnel', 'perspect', 'persu', 'persuad', 'persuas', 'pert', 'pertain', 'perth', 'pertin', 'perturb', 'peru', 'perus', 'perv', 'pervad', 'pervas', 'pervers', 'pervert', 'perviou', 'pesci', 'peski', 'pessim', 'pessimist', 'pest', 'pester', 'pesticid', 'pestil', 'pet', 'peta', 'petal', 'pete', 'peter', 'petersburg', 'petersen', 'peterson', 'petit', 'petra', 'petri', 'petrifi', 'petroleum', 'petrucci', 'petti', 'pettigrew', 'pettson', 'pettyf', 'petul', 'pew', 'pewdiepi', 'peyroux', 'peyton', 'pf', 'pfc', 'pfeiffer', 'pfennig', 'pffft', 'pfft', 'pg', 'ph', 'phan', 'phantasm', 'phantasmagor', 'phantom', 'pharaoh', 'pharma', 'pharmaceut', 'pharmaci', 'pharoah', 'pharrel', 'phase', 'phaser', 'phd', 'phelp', 'phenom', 'phenomen', 'phenomena', 'phenomenon', 'phenomin', 'pheonix', 'phew', 'phil', 'philadelphia', 'philand', 'philanthropist', 'philbi', 'phile', 'philharmon', 'philharmonia', 'philharmonik', 'philip', 'philipp', 'philippa', 'philippin', 'philisoph', 'philistin', 'philli', 'phillip', 'phillipa', 'phillipp', 'philosoph', 'philosophi', 'philosph', 'philosphi', 'phinea', 'phish', 'phobia', 'phobic', 'phoeb', 'phoenix', 'phone', 'phonet', 'phoney', 'phoni', 'phonic', 'phono', 'phonograph', 'phooey', 'photo', 'photocopi', 'photogen', 'photograph', 'photographi', 'photon', 'photoshop', 'php', 'phrase', 'phraseolog', 'phylli', 'physic', 'physician', 'physicist', 'physiolog', 'physiqu', 'pi', 'pia', 'piaf', 'pianissimo', 'pianist', 'piano', 'pic', 'picard', 'picaresqu', 'picasa', 'picasso', 'piccolo', 'piccoult', 'pice', 'pick', 'pickax', 'picken', 'picker', 'picket', 'pickett', 'picketti', 'picki', 'pickin', 'pickl', 'pickup', 'picnic', 'picoult', 'picross', 'picsart', 'picshop', 'pict', 'pictionari', 'pictori', 'pictur', 'picturesqu', 'pidg', 'pidgeon', 'pie', 'piec', 'piecem', 'pier', 'pierc', 'pierr', 'pieti', 'pig', 'pigeon', 'pigeonhol', 'piggi', 'piggyback', 'pigmen', 'pigment', 'pike', 'piketti', 'pilat', 'pile', 'pilgrim', 'pilgrimag', 'pill', 'pillag', 'pillar', 'pillow', 'pilot', 'pimp', 'pimpl', 'pin', 'pina', 'pinbal', 'pinch', 'pinder', 'pine', 'pineappl', 'ping', 'pinhead', 'pink', 'pinker', 'pinkerton', 'pinki', 'pinnacl', 'pinner', 'pino', 'pinocchio', 'pinochet', 'pinpoint', 'pint', 'pinterest', 'pinto', 'pintrest', 'pinwheel', 'pioneer', 'piotr', 'piou', 'pip', 'pipe', 'pipelin', 'piper', 'pippa', 'pippin', 'piqu', 'piraci', 'piranha', 'pirat', 'pirriwe', 'pirsig', 'piscin', 'piss', 'pissi', 'pistol', 'piston', 'pit', 'pita', 'pitbul', 'pitch', 'pitcher', 'pitchfork', 'pitfal', 'pithi', 'piti', 'pitiabl', 'pitt', 'pittanc', 'pitti', 'pittsburgh', 'pivot', 'pix', 'pixar', 'pixel', 'pixi', 'pixil', 'piz', 'pizazz', 'pizza', 'pizzazz', 'pizzeria', 'pj', 'pjo', 'pk', 'pkd', 'pkg', 'pl', 'pla', 'placat', 'place', 'placebo', 'placehold', 'placement', 'placid', 'placido', 'plagiar', 'plagu', 'plaid', 'plain', 'plainli', 'plaintiv', 'plan', 'plane', 'planet', 'planetari', 'plank', 'planner', 'plant', 'plantagenet', 'plantat', 'plaqu', 'plasma', 'plaster', 'plastic', 'plat', 'plate', 'plateau', 'platform', 'plath', 'platinum', 'platitud', 'plato', 'platon', 'platoon', 'platt', 'platter', 'platypu', 'plaudit', 'plausabl', 'plausibl', 'play', 'playa', 'playabl', 'playback', 'playbook', 'playboy', 'player', 'playground', 'playin', 'playlist', 'playmat', 'playoff', 'playrix', 'playroom', 'playstat', 'playstor', 'playth', 'playthrough', 'playtim', 'playwright', 'plaza', 'plea', 'plead', 'pleanti', 'pleas', 'pleasanc', 'pleasant', 'pleasantli', 'pleasantvil', 'pleasent', 'pleaser', 'pleasingli', 'pleasur', 'pledg', 'plenti', 'plethora', 'plex', 'pli', 'plight', 'pll', 'plod', 'plop', 'plot', 'plothol', 'plotless', 'plotlin', 'plotter', 'plough', 'plow', 'ploy', 'plu', 'pluck', 'plucki', 'plug', 'plugin', 'plum', 'plumb', 'plumber', 'plume', 'plummer', 'plummet', 'plump', 'plunder', 'plung', 'plunk', 'plural', 'pluse', 'plush', 'plutarch', 'pluto', 'plymouth', 'plz', 'pm', 'pmbok', 'pmg', 'pmp', 'pneumonia', 'png', 'pnr', 'po', 'poach', 'poca', 'pocahonta', 'pocket', 'pocketbook', 'pocketinveditor', 'poco', 'pocu', 'pod', 'podcast', 'poder', 'podg', 'podium', 'poe', 'poem', 'poepl', 'poet', 'poetic', 'poetri', 'poggio', 'pogo', 'pogu', 'poignanc', 'poignant', 'poignantli', 'point', 'pointedli', 'pointer', 'pointi', 'pointless', 'pointlessli', 'poirot', 'pois', 'poison', 'poke', 'pokemon', 'poker', 'pol', 'poland', 'polanski', 'polar', 'polari', 'polaroid', 'pole', 'poledouri', 'polem', 'poli', 'polic', 'policeman', 'policemen', 'polici', 'polio', 'polish', 'polit', 'politic', 'politican', 'politician', 'politick', 'politico', 'polk', 'polka', 'poll', 'pollack', 'pollan', 'pollen', 'polley', 'polli', 'pollin', 'pollini', 'pollut', 'pollyanna', 'polo', 'polonais', 'poltergeist', 'polydor', 'polyfac', 'polym', 'polyphon', 'polyrhythm', 'pom', 'pomegran', 'pomp', 'pompeii', 'pompos', 'pompou', 'pon', 'pond', 'ponder', 'pong', 'poni', 'pont', 'ponti', 'pontif', 'pontiu', 'ponyo', 'ponytail', 'ponyvil', 'poo', 'pooch', 'poodl', 'poof', 'pooh', 'pooka', 'pool', 'poolsid', 'poop', 'poopi', 'poor', 'poorer', 'poorest', 'poorli', 'pop', 'popcap', 'popcorn', 'pope', 'popey', 'popper', 'poppi', 'poppier', 'poppin', 'poppycock', 'popul', 'populac', 'popular', 'popularli', 'populist', 'popup', 'por', 'porcaro', 'porcelain', 'porch', 'porco', 'porcupin', 'pore', 'porgi', 'pork', 'porki', 'porn', 'porno', 'pornograph', 'pornographi', 'porqu', 'porsch', 'port', 'portabl', 'portal', 'portay', 'portend', 'portent', 'porter', 'portfolio', 'portia', 'portion', 'portishead', 'portland', 'portman', 'portnoy', 'portofino', 'portrail', 'portrait', 'portray', 'portrayl', 'portug', 'portuges', 'portugues', 'pose', 'poseidon', 'poser', 'posess', 'poseur', 'posh', 'posibl', 'posit', 'poss', 'posses', 'possess', 'possibl', 'possit', 'possum', 'post', 'postag', 'postal', 'postcard', 'poster', 'posterior', 'posthum', 'postiv', 'postman', 'postmodern', 'postpon', 'postscript', 'postul', 'postur', 'postwar', 'pot', 'potato', 'potboil', 'potenc', 'potent', 'potenti', 'pothol', 'potion', 'poto', 'potray', 'pott', 'potter', 'potterhead', 'potteri', 'potti', 'potu', 'pou', 'pouch', 'poultri', 'pounc', 'pound', 'pounder', 'pour', 'pout', 'pouti', 'pov', 'poverti', 'pow', 'powder', 'powel', 'power', 'powerdvd', 'powerful', 'powerhous', 'powerless', 'powerpivot', 'powerpoint', 'powerslav', 'powerup', 'pox', 'pp', 'ppl', 'ppt', 'ppv', 'pq', 'pr', 'practic', 'practis', 'practition', 'prada', 'pragmat', 'pragmatist', 'pragu', 'prairi', 'prais', 'praiseworthi', 'pranc', 'prank', 'prankster', 'pratchet', 'pratchett', 'pratfal', 'pratic', 'pratt', 'prattl', 'prawn', 'pray', 'prayer', 'pre', 'preach', 'preacher', 'preachi', 'preaker', 'preambl', 'preamp', 'precari', 'precaut', 'preced', 'preceed', 'precept', 'precinct', 'precio', 'preciou', 'precipic', 'precipit', 'precis', 'preclud', 'precoci', 'precognit', 'preconceiv', 'preconcept', 'precursor', 'predat', 'predatori', 'predecessor', 'predefin', 'predestin', 'predetermin', 'predic', 'predica', 'predicat', 'predict', 'predictor', 'predilect', 'predispos', 'predisposit', 'predjudic', 'predomin', 'predominantli', 'preemin', 'preemptiv', 'preen', 'preexist', 'prefac', 'prefect', 'prefer', 'preform', 'pregnanc', 'pregnant', 'prehistor', 'preinstal', 'prejud', 'prejudg', 'prejudic', 'preliminari', 'preload', 'prelud', 'premarit', 'prematur', 'premedit', 'premi', 'premier', 'preming', 'premis', 'premiss', 'premium', 'premonit', 'prenat', 'prendergast', 'preoccup', 'preoccupi', 'preorder', 'prep', 'prepar', 'prepared', 'preponder', 'preposit', 'preposter', 'prepper', 'preppi', 'prepubesc', 'prequal', 'prequel', 'prequil', 'prerequisit', 'prerog', 'presag', 'preschool', 'prescienc', 'prescient', 'prescott', 'prescrib', 'prescript', 'presenc', 'present', 'preserv', 'preset', 'presid', 'presidenti', 'presley', 'prespect', 'press', 'pressfield', 'pressur', 'prestig', 'prestigi', 'presto', 'preston', 'presum', 'presumpt', 'presumptu', 'presuppos', 'preteen', 'pretend', 'pretens', 'pretenti', 'preternatur', 'pretext', 'pretti', 'prettier', 'prettiest', 'pretzel', 'prevail', 'preval', 'prevent', 'preview', 'previn', 'previou', 'previous', 'prewar', 'prey', 'prez', 'pri', 'price', 'priceless', 'pricetag', 'pricey', 'prici', 'pricier', 'prick', 'prickli', 'pride', 'priest', 'priestess', 'priesthood', 'prig', 'prim', 'prima', 'primaci', 'primal', 'primari', 'primarili', 'primat', 'prime', 'primer', 'primera', 'primetim', 'primev', 'primit', 'primo', 'primordi', 'primros', 'primu', 'princ', 'princess', 'princeton', 'princip', 'principl', 'prine', 'print', 'printbot', 'printer', 'printershar', 'printout', 'prior', 'priori', 'priorit', 'prioriti', 'priscilla', 'prision', 'prism', 'prison', 'prisrob', 'prissi', 'pristin', 'privaci', 'privat', 'privi', 'priviledg', 'privileg', 'prix', 'prize', 'pro', 'proactiv', 'prob', 'probabilist', 'probabl', 'probal', 'probali', 'probat', 'probe', 'problem', 'problema', 'problemat', 'probli', 'proce', 'procedur', 'proceed', 'process', 'processor', 'prochnow', 'proclaim', 'proclam', 'procliv', 'procol', 'procrastin', 'procreat', 'proctor', 'procur', 'prod', 'prodig', 'prodigi', 'produc', 'product', 'producto', 'prof', 'profan', 'profess', 'profession', 'professor', 'proffer', 'profici', 'profil', 'profit', 'profound', 'profoundli', 'profund', 'profus', 'prog', 'progeni', 'progenitor', 'progess', 'proggi', 'prognosi', 'program', 'programm', 'progress', 'prohibit', 'project', 'projectil', 'projector', 'prokofiev', 'prolif', 'prolifer', 'prolli', 'prolog', 'prologu', 'prolong', 'prom', 'prometheu', 'promin', 'promis', 'promiscu', 'promisingli', 'promiss', 'promo', 'promot', 'prompt', 'promptli', 'promulg', 'prone', 'prong', 'pronoun', 'pronounc', 'pronto', 'pronunci', 'proof', 'proofread', 'prop', 'propag', 'propaganda', 'propagandist', 'propel', 'propens', 'proper', 'properli', 'properti', 'propheci', 'prophesi', 'prophet', 'propoganda', 'propon', 'proport', 'proportion', 'propos', 'proposit', 'proprietari', 'proprieti', 'proprietor', 'propuls', 'prosaic', 'prose', 'prosecut', 'prosecutor', 'proselyt', 'prospect', 'prospector', 'prosper', 'prospera', 'prospero', 'prostat', 'prosthet', 'prostitut', 'prot', 'protag', 'protaganist', 'protagonist', 'protect', 'protector', 'proteg', 'protein', 'protest', 'proto', 'protocol', 'proton', 'prototyp', 'protract', 'protray', 'protrud', 'proud', 'prouder', 'proudli', 'proust', 'provac', 'prove', 'proven', 'provenc', 'proverb', 'proverbi', 'provid', 'provinc', 'provinci', 'provis', 'proviso', 'provoc', 'provok', 'prowess', 'prowl', 'proxi', 'proxim', 'prozac', 'pruchas', 'prude', 'prudenc', 'prudent', 'prudish', 'prune', 'prurient', 'pryce', 'pryor', 'ps', 'psalm', 'psb', 'pseudo', 'pseudonym', 'pseudosci', 'psh', 'psi', 'psp', 'psuedo', 'psych', 'psychadel', 'psychedel', 'psychedelia', 'psychiatr', 'psychiatri', 'psychiatrist', 'psychic', 'psycho', 'psychoanalysi', 'psychoanalyst', 'psychoanalyz', 'psychobabbl', 'psycholog', 'psychologist', 'psychopath', 'psychopathi', 'psychosi', 'psychot', 'psychotherapi', 'psychotherapist', 'psycolog', 'pt', 'pta', 'ptsd', 'ptx', 'pu', 'pub', 'puberti', 'pubesc', 'pubic', 'public', 'publicist', 'publicli', 'publish', 'puccini', 'puchas', 'puck', 'pud', 'puddl', 'pudgi', 'pue', 'pued', 'pueril', 'puerto', 'puf', 'puff', 'puffi', 'pug', 'puh', 'puke', 'pulitz', 'pull', 'puller', 'pullman', 'pulp', 'pulpi', 'pulpit', 'puls', 'pulsat', 'pulver', 'pummel', 'pump', 'pumpkin', 'pun', 'punch', 'punchi', 'punchier', 'punchlin', 'punctual', 'punctuat', 'punctur', 'pundit', 'pungent', 'puni', 'punish', 'punk', 'punki', 'punt', 'punto', 'pup', 'pupil', 'puppet', 'puppetri', 'puppi', 'pur', 'purchac', 'purchas', 'purchs', 'pure', 'purefoy', 'purer', 'purest', 'purg', 'purgatori', 'purifi', 'purist', 'puritan', 'puriti', 'purloin', 'purpl', 'purport', 'purportedli', 'purpos', 'purposeless', 'purr', 'purs', 'pursu', 'pursuer', 'pursuit', 'purveyor', 'puscif', 'push', 'pusheen', 'pusher', 'pushi', 'pushov', 'pushup', 'puss', 'pussi', 'put', 'putdown', 'pute', 'putin', 'putrid', 'putt', 'putter', 'putti', 'puzo', 'puzzel', 'puzzl', 'puzzlement', 'puzzler', 'pvp', 'pvz', 'pw', 'px', 'pyle', 'pynchon', 'pyongyang', 'pyramid', 'pyro', 'pyromania', 'pyrotechn', 'python', 'qa', 'qaeda', 'qc', 'qe', 'qid', 'qo', 'qotsa', 'qr', 'qt', 'qu', 'qua', 'quaalud', 'quack', 'quad', 'quadrant', 'quadraphon', 'quadrilog', 'quadripleg', 'quadrophenia', 'quadrupl', 'quagmir', 'quaid', 'quailiti', 'quailti', 'quaint', 'quak', 'quaker', 'qualif', 'qualifi', 'qualit', 'qualiti', 'qualm', 'qualman', 'quandari', 'quandri', 'quant', 'quantifi', 'quantit', 'quantiti', 'quantum', 'quarantin', 'quark', 'quarrel', 'quarri', 'quart', 'quarter', 'quarterback', 'quartet', 'quash', 'quasi', 'quast', 'que', 'queasi', 'quebec', 'queen', 'queeni', 'queensrych', 'queer', 'quel', 'quell', 'quench', 'quentin', 'quentyn', 'queri', 'quest', 'question', 'questionnair', 'queu', 'queue', 'qui', 'quibbl', 'quick', 'quicken', 'quicker', 'quickest', 'quicki', 'quickli', 'quickoffic', 'quicksand', 'quicksilv', 'quid', 'quidditch', 'quien', 'quiet', 'quieter', 'quietest', 'quietli', 'quill', 'quilt', 'quilter', 'quinci', 'quinn', 'quinoa', 'quintess', 'quintessenti', 'quintet', 'quinto', 'quinton', 'quip', 'quippi', 'quirk', 'quirki', 'quirkiest', 'quit', 'quitter', 'quiver', 'quixot', 'quiz', 'quizz', 'quo', 'quoi', 'quot', 'quota', 'quotabl', 'quotat', 'quotient', 'qur', 'quran', 'ra', 'rabbi', 'rabbit', 'rabbl', 'rabe', 'rabid', 'rabidli', 'rabin', 'rabl', 'raccoon', 'race', 'racecar', 'racer', 'racetrack', 'racey', 'rach', 'rachael', 'rachel', 'rachmaninoff', 'rachmaninov', 'raci', 'racial', 'racism', 'racist', 'rack', 'racket', 'rackham', 'raconteur', 'racoon', 'rad', 'radagast', 'radar', 'radcliff', 'radianc', 'radiant', 'radiat', 'radic', 'radio', 'radioact', 'radiohead', 'radiu', 'radley', 'radu', 'rae', 'raf', 'rafa', 'rafael', 'raff', 'rafferti', 'raft', 'rafter', 'rag', 'rage', 'raggedi', 'ragnar', 'ragtag', 'ragtim', 'rah', 'rahl', 'raid', 'raider', 'rail', 'railroad', 'railway', 'raimi', 'rain', 'rainbow', 'raincoat', 'raindrop', 'rainfal', 'rainforest', 'raini', 'rainmak', 'rainstorm', 'rais', 'raiser', 'raisin', 'raison', 'raitt', 'raj', 'rake', 'rakel', 'rakish', 'raleigh', 'ralli', 'ralph', 'ralston', 'ram', 'rama', 'ramada', 'rambaldi', 'rambl', 'rambler', 'rambo', 'rambuncti', 'rami', 'ramif', 'ramin', 'rammstein', 'ramon', 'ramona', 'ramotsw', 'ramp', 'rampag', 'rampant', 'ramrod', 'ramsay', 'ramsey', 'ramshackl', 'ran', 'ranch', 'rancher', 'rancid', 'rand', 'randa', 'randal', 'randi', 'randolph', 'random', 'randomli', 'rang', 'ranger', 'rango', 'rank', 'rankin', 'ransack', 'ransom', 'rant', 'raoul', 'rap', 'rapac', 'rapaci', 'rape', 'raphael', 'rapid', 'rapidli', 'rapier', 'rapist', 'rapp', 'rapper', 'rapport', 'rapt', 'raptor', 'raptur', 'rapunzel', 'raquo', 'rare', 'rarefi', 'rarer', 'rarest', 'rariti', 'rascal', 'rash', 'rashomon', 'rasp', 'raspberri', 'raspi', 'rasputin', 'rat', 'ratatouil', 'ratchet', 'rate', 'rater', 'ratey', 'rath', 'rathbon', 'rather', 'ratio', 'ration', 'rational', 'ratm', 'ratt', 'rattl', 'rattlesnak', 'raucou', 'raul', 'raunch', 'raunchi', 'ravag', 'rave', 'ravel', 'raven', 'ravenwood', 'ravi', 'ravin', 'ravish', 'raw', 'rawer', 'rawest', 'rawicz', 'rawk', 'rawl', 'ray', 'rayman', 'raymond', 'rayon', 'razor', 'razorblad', 'razr', 'razzi', 'razzl', 'rb', 'rc', 'rca', 'rd', 'rda', 'rdj', 'rdp', 're', 'rea', 'reach', 'reachabl', 'reacher', 'reacquaint', 'react', 'reaction', 'reactionari', 'reactiv', 'reactor', 'read', 'readabl', 'reader', 'readership', 'readi', 'readili', 'readin', 'readjust', 'readout', 'reaffirm', 'reagan', 'real', 'realeas', 'reali', 'realign', 'realis', 'realism', 'realist', 'realiti', 'realiz', 'reall', 'realli', 'reallli', 'realm', 'realment', 'realti', 'realtionship', 'ream', 'reamd', 'reanim', 'reap', 'reaper', 'reappear', 'rear', 'rearrang', 'rearview', 'reasearch', 'reason', 'reassembl', 'reassert', 'reassess', 'reassur', 'reat', 'reattach', 'reaver', 'reawaken', 'reb', 'reba', 'rebal', 'rebat', 'rebecca', 'rebel', 'rebelli', 'rebellion', 'rebirth', 'reboot', 'reborn', 'rebound', 'rebu', 'rebuild', 'rebuilt', 'rebuk', 'rebut', 'rebutt', 'rebuy', 'rec', 'recal', 'recalibr', 'recamend', 'recant', 'recap', 'recapitul', 'recaptur', 'recast', 'reccomend', 'reccommend', 'reced', 'receip', 'receipt', 'receiv', 'recent', 'recept', 'receptionist', 'receptor', 'recess', 'recharg', 'recheck', 'reciev', 'recip', 'recipi', 'reciproc', 'recit', 'reciv', 'reckless', 'recklessli', 'reckon', 'reclaim', 'reclin', 'reclus', 'recod', 'recogn', 'recognis', 'recognit', 'recogniz', 'recoil', 'recollect', 'recolor', 'recom', 'recomand', 'recombin', 'recomemd', 'recomen', 'recomend', 'recoment', 'recomiendo', 'recommand', 'recommed', 'recommen', 'recommend', 'recommmend', 'recon', 'reconcil', 'reconcili', 'reconfigur', 'reconnect', 'reconsid', 'reconstitut', 'reconstruct', 'record', 'recount', 'recoup', 'recours', 'recov', 'recoveri', 'recreat', 'recrimin', 'recruit', 'rectangl', 'rectangular', 'rectifi', 'recuper', 'recur', 'recurr', 'recurs', 'recut', 'recycl', 'red', 'redact', 'redbook', 'redbox', 'redbreast', 'reddit', 'rede', 'redecor', 'redeem', 'redefin', 'redempt', 'redesign', 'redfield', 'redford', 'redgrav', 'redhead', 'redicul', 'redid', 'redirect', 'rediscov', 'rediscoveri', 'redistribut', 'redlin', 'redman', 'redmayn', 'redneck', 'redo', 'redol', 'redon', 'redownload', 'redress', 'redrum', 'redshirt', 'redston', 'reduc', 'reduct', 'reductionist', 'redund', 'redux', 'redw', 'redwood', 'ree', 'reed', 'reedit', 'reedu', 'reef', 'reek', 'reel', 'reelect', 'reemerg', 'reenact', 'reenter', 'rees', 'reestablish', 'reev', 'reevalu', 'reexamin', 'ref', 'refactor', 'refer', 'refere', 'referenc', 'referenti', 'referr', 'refil', 'refin', 'reflect', 'reflektor', 'reflex', 'reflow', 'reflux', 'refn', 'refocu', 'reform', 'reformat', 'refract', 'refrain', 'refram', 'refrenc', 'refresh', 'refreshingli', 'refriger', 'refuel', 'refug', 'refuge', 'refund', 'refurbish', 'refus', 'refut', 'reg', 'rega', 'regain', 'regal', 'regan', 'regard', 'regardless', 'regen', 'regenc', 'regener', 'regent', 'regga', 'reggi', 'regim', 'regimen', 'regiment', 'regina', 'reginald', 'region', 'regist', 'registr', 'registri', 'regress', 'regret', 'regrett', 'regroup', 'regul', 'regular', 'regularli', 'regulatori', 'regurgit', 'rehab', 'rehabilit', 'rehash', 'rehears', 'rei', 'reich', 'reichenbach', 'reid', 'reign', 'reignit', 'reilli', 'reimagin', 'reimburs', 'rein', 'reincarn', 'reindeer', 'reiner', 'reinforc', 'reinhardt', 'reinhart', 'reinsert', 'reinstal', 'reinstat', 'reintegr', 'reinterpret', 'reintroduc', 'reintroduct', 'reinvent', 'reinvest', 'reinvigor', 'reissu', 'reiter', 'reitman', 'reject', 'rejoic', 'rejoin', 'rejuven', 'rekindl', 'rel', 'relaps', 'relas', 'relat', 'relationship', 'relativ', 'relativist', 'relaunch', 'relav', 'relax', 'relay', 'relearn', 'releas', 'releg', 'relent', 'relentless', 'relentlessli', 'relev', 'reli', 'reliabl', 'relianc', 'reliant', 'relic', 'relief', 'reliev', 'relig', 'religi', 'religion', 'religios', 'relinquish', 'relish', 'reliv', 'reliz', 'relli', 'reload', 'reloc', 'reluct', 'reluctantli', 'rem', 'remad', 'remain', 'remaind', 'remak', 'remark', 'remarri', 'remast', 'remasterd', 'rematch', 'rember', 'rembrandt', 'remeb', 'remedi', 'rememb', 'remember', 'remembr', 'rememeb', 'remi', 'remick', 'remind', 'reminesc', 'reminic', 'reminisc', 'remiss', 'remix', 'remnant', 'remodel', 'remors', 'remot', 'remov', 'ren', 'renaiss', 'renam', 'renard', 'renata', 'rench', 'rend', 'render', 'rendezv', 'rendit', 'rene', 'renegad', 'renesme', 'renew', 'renfield', 'renli', 'renner', 'reno', 'renounc', 'renov', 'renown', 'rent', 'rental', 'renter', 'reo', 'reoccur', 'reopen', 'reorder', 'reorgan', 'reorient', 'rep', 'repackag', 'repaid', 'repaint', 'repair', 'repar', 'reparte', 'repay', 'repeal', 'repeat', 'repeatedli', 'repel', 'repent', 'repercuss', 'repertoir', 'repertori', 'repet', 'repetet', 'repetit', 'repetiti', 'rephras', 'repin', 'repitit', 'replac', 'replay', 'replenish', 'replet', 'repli', 'replic', 'replica', 'repopul', 'report', 'reportag', 'reportedli', 'reposit', 'repositori', 'repost', 'reprehens', 'repres', 'represent', 'repress', 'repriev', 'reprimand', 'reprint', 'repris', 'reproach', 'reprob', 'reproduc', 'reproduct', 'reprogram', 'reptil', 'reptilian', 'republ', 'republican', 'republish', 'repudi', 'repugn', 'repuls', 'repurchas', 'repurpos', 'reput', 'request', 'requiem', 'requir', 'requisit', 'reread', 'rerecord', 'rereleas', 'rerout', 'rerun', 'resal', 'reschedul', 'rescu', 'rescuer', 'reseal', 'research', 'resel', 'resembl', 'resend', 'resent', 'reserv', 'reservoir', 'reset', 'reshap', 'reshuffl', 'resid', 'residenti', 'residu', 'resign', 'resili', 'resin', 'resist', 'resiz', 'resold', 'resolut', 'resolv', 'reson', 'resort', 'resound', 'resoundingli', 'resourc', 'respawn', 'respect', 'respiratori', 'respit', 'resplend', 'respond', 'respons', 'ressurect', 'rest', 'restart', 'restat', 'restaur', 'restitut', 'restless', 'restock', 'restor', 'restrain', 'restraint', 'restrict', 'restroom', 'restructur', 'result', 'resum', 'resurfac', 'resurg', 'resurrect', 'resuscit', 'ret', 'retail', 'retain', 'retak', 'retali', 'retard', 'retch', 'retcon', 'retel', 'retent', 'rethink', 'rethought', 'retic', 'retina', 'retir', 'retire', 'retitl', 'retold', 'retool', 'retort', 'retouch', 'retrac', 'retract', 'retrain', 'retread', 'retreat', 'retri', 'retribut', 'retriev', 'retro', 'retroact', 'retrospect', 'retun', 'return', 'retyp', 'reuben', 'reunion', 'reunit', 'reus', 'reusabl', 'rev', 'revamp', 'reve', 'reveal', 'reveiw', 'revel', 'revelatori', 'reveng', 'revenu', 'rever', 'reverb', 'reverber', 'reverend', 'reverenti', 'reveri', 'revers', 'revert', 'revew', 'review', 'revil', 'revis', 'revision', 'revisionist', 'revisit', 'revist', 'revit', 'reviv', 'reviw', 'revok', 'revolt', 'revolut', 'revolution', 'revolutionari', 'revolv', 'revu', 'revuls', 'reward', 'rewatch', 'rewind', 'rewir', 'reword', 'rework', 'rewrit', 'rewritten', 'rewrot', 'rex', 'rey', 'reyna', 'reynold', 'rez', 'reza', 'reznor', 'rezound', 'rf', 'rg', 'rh', 'rhapsod', 'rhapsodi', 'rhcp', 'rhe', 'rheingold', 'rhetor', 'rhett', 'rheumatoid', 'rhi', 'rhianna', 'rhiannon', 'rhine', 'rhino', 'rhoad', 'rhode', 'rhonda', 'rhyme', 'rhythm', 'rhythmic', 'ri', 'rib', 'ribald', 'ribbon', 'ribisi', 'ric', 'rica', 'rican', 'ricardo', 'riccardo', 'ricci', 'rice', 'rich', 'richard', 'richardson', 'richel', 'richer', 'richest', 'richi', 'richli', 'richmond', 'richter', 'rick', 'ricketi', 'ricki', 'rickman', 'rickon', 'rico', 'ricochet', 'rid', 'riddanc', 'ridden', 'riddick', 'riddl', 'riddler', 'ride', 'rider', 'ridg', 'ridicul', 'ridley', 'rie', 'rien', 'rieu', 'rif', 'rife', 'riff', 'riffag', 'rifl', 'rift', 'rig', 'rigbi', 'rigg', 'right', 'righteou', 'righteous', 'rightli', 'rigid', 'rigidli', 'rigoletto', 'rigor', 'rihanna', 'riker', 'rile', 'riley', 'rilisoft', 'rill', 'rim', 'rime', 'rimski', 'rincewind', 'ring', 'ringer', 'ringlead', 'ringo', 'rington', 'ringwald', 'rink', 'rins', 'rintoul', 'rinzler', 'rio', 'riordan', 'riot', 'riotou', 'rip', 'ripe', 'ripen', 'ripley', 'ripoff', 'ripper', 'rippl', 'riptid', 'rise', 'riseborough', 'risen', 'risk', 'riski', 'risqu', 'rita', 'ritalin', 'ritchi', 'rite', 'ritenour', 'ritter', 'ritual', 'ritualist', 'rival', 'rivalri', 'riven', 'rivendel', 'river', 'rivera', 'riverd', 'riversid', 'riverton', 'rivet', 'riviera', 'rivit', 'rivot', 'rizzo', 'rj', 'rjd', 'rjr', 'rk', 'rko', 'rl', 'rlli', 'rm', 'rn', 'rnb', 'ro', 'roach', 'road', 'roadblock', 'roadhous', 'roadi', 'roadmap', 'roadrunn', 'roadshow', 'roadsid', 'roadtrip', 'roadway', 'roald', 'roam', 'roar', 'roark', 'roast', 'rob', 'robard', 'robb', 'robben', 'robber', 'robberi', 'robbi', 'robbin', 'robe', 'robert', 'roberta', 'roberto', 'robertson', 'robi', 'robicheaux', 'robin', 'robinson', 'robo', 'robocop', 'robot', 'robust', 'robyn', 'roc', 'rocco', 'rochest', 'rock', 'rockabilli', 'rocker', 'rocket', 'rockferri', 'rockford', 'rocki', 'rockier', 'rockin', 'rockstar', 'rockumentari', 'rockwel', 'rod', 'roddenberri', 'roddi', 'rode', 'rodent', 'rodeo', 'roderick', 'rodger', 'rodman', 'rodney', 'rodolfo', 'rodrick', 'rodrigo', 'rodriguez', 'rodriquez', 'roe', 'rofl', 'rogan', 'rogen', 'roger', 'rogu', 'roguish', 'rohan', 'roi', 'roil', 'roku', 'roland', 'rolando', 'role', 'roleplay', 'rolf', 'roll', 'rolla', 'roller', 'rollercoast', 'rollick', 'rollin', 'rollo', 'rom', 'roma', 'roman', 'romanc', 'romania', 'romanian', 'romano', 'romant', 'romantic', 'romat', 'romcom', 'rome', 'romeo', 'romero', 'rommel', 'romney', 'romola', 'romp', 'romulan', 'ron', 'ronald', 'ronan', 'rondo', 'ronin', 'ronni', 'ronson', 'ronstadt', 'roof', 'rooftop', 'rook', 'rooki', 'room', 'roomat', 'roomi', 'roommat', 'rooney', 'roosevelt', 'roost', 'rooster', 'root', 'rope', 'rori', 'rorschach', 'rorto', 'rosa', 'rosali', 'rosalind', 'rosamund', 'rosann', 'rosanna', 'rosari', 'rosario', 'rosco', 'rose', 'roseann', 'rosebud', 'roseland', 'rosemari', 'rosenberg', 'rosenth', 'rosetta', 'roshar', 'rosi', 'rosnay', 'ross', 'rossi', 'rossini', 'rosso', 'rossum', 'roster', 'rostropovich', 'roswel', 'rot', 'rotari', 'rotat', 'rote', 'roth', 'rothfuss', 'rothstein', 'rotj', 'rotten', 'rottentomato', 'roug', 'rough', 'rougher', 'roughli', 'roulett', 'round', 'roundabout', 'rounder', 'roundtabl', 'roundup', 'rourk', 'rous', 'rouser', 'rout', 'router', 'routh', 'routin', 'roux', 'rove', 'rover', 'rovio', 'row', 'rowan', 'rowboat', 'rowdi', 'rowel', 'rowl', 'rowland', 'rowley', 'rox', 'roxann', 'roxett', 'roxi', 'roy', 'royal', 'royalti', 'royc', 'roz', 'rozsa', 'rp', 'rpg', 'rpm', 'rpn', 'rr', 'rs', 'rsquo', 'rss', 'rst', 'rt', 'rtf', 'ru', 'rub', 'rubato', 'rubber', 'rubberi', 'rubbish', 'rubbl', 'rube', 'ruben', 'rubi', 'rubik', 'rubin', 'rubinstein', 'rubric', 'rucker', 'rucku', 'rudd', 'rudder', 'rude', 'rudess', 'rudi', 'rudimentari', 'rudolf', 'rudolph', 'rue', 'ruess', 'ruff', 'ruffalo', 'ruffl', 'rufu', 'rug', 'rugbi', 'ruin', 'ruiz', 'rule', 'rulebook', 'ruler', 'rum', 'rumbl', 'rumin', 'rummag', 'rumor', 'rumour', 'rumpl', 'rumsfeld', 'run', 'runaround', 'runaway', 'rundgren', 'rundown', 'rune', 'rung', 'runner', 'runnin', 'runt', 'runtim', 'runway', 'rupert', 'ruptur', 'rural', 'ruse', 'rush', 'rushdi', 'rushmor', 'russ', 'russel', 'russia', 'russian', 'russinovich', 'russo', 'rust', 'rusti', 'rustic', 'rustl', 'rut', 'rutger', 'ruth', 'rutherford', 'rutherfurd', 'ruthless', 'ruthlessli', 'rutsey', 'rv', 'rw', 'rwanda', 'rx', 'ry', 'ryan', 'rych', 'ryder', 'rye', 'ryosuk', 'rythem', 'rythm', 'rythmic', 'rythmn', 'rythym', 'rza', 'sa', 'sab', 'sabaton', 'sabbat', 'sabbath', 'saber', 'sabin', 'sabotag', 'sabr', 'sabretooth', 'sabriel', 'sabrina', 'sac', 'saccharin', 'sacco', 'sacd', 'sach', 'sacha', 'sachi', 'sack', 'sacr', 'sacrafic', 'sacramento', 'sacrif', 'sacrific', 'sacrifici', 'sacrileg', 'sacrilegi', 'sad', 'saddam', 'sadden', 'sadder', 'saddest', 'saddl', 'sade', 'sadi', 'sadism', 'sadist', 'sadli', 'sado', 'sadomasochist', 'safari', 'safe', 'safeguard', 'safer', 'safest', 'safeti', 'safran', 'sag', 'saga', 'sagal', 'sagan', 'sage', 'sahara', 'saharan', 'sai', 'said', 'saigon', 'sail', 'sailboat', 'sailor', 'saint', 'sainthood', 'saintli', 'sake', 'sakurazaka', 'sal', 'salaci', 'salad', 'saladin', 'saland', 'salari', 'saldana', 'sale', 'salem', 'salesman', 'salesmen', 'salespeopl', 'salesperson', 'salgado', 'salient', 'salieri', 'salina', 'saling', 'salisburi', 'saliv', 'salli', 'salma', 'salman', 'salmon', 'salo', 'salom', 'salon', 'salonga', 'saloon', 'salsa', 'salt', 'salti', 'salut', 'salv', 'salvador', 'salvag', 'salvat', 'salvator', 'salvo', 'salzburg', 'sam', 'samantha', 'samaritan', 'samba', 'sambora', 'samcro', 'same', 'sameth', 'samey', 'sammi', 'sammo', 'sampl', 'sampler', 'samsara', 'samson', 'samsung', 'samuel', 'samurai', 'samwel', 'san', 'sanchez', 'sanctimoni', 'sanction', 'sanctiti', 'sanctuari', 'sand', 'sandal', 'sandberg', 'sandbox', 'sandel', 'sander', 'sanderson', 'sandford', 'sandi', 'sandler', 'sandman', 'sandpap', 'sandra', 'sandstorm', 'sandwich', 'sane', 'sanford', 'sang', 'sanguin', 'sanit', 'sanitarium', 'saniti', 'sank', 'sansa', 'sanskrit', 'santa', 'santana', 'santiago', 'santo', 'sao', 'saoirs', 'sap', 'sapien', 'sapphir', 'sappi', 'sara', 'saracen', 'sarah', 'sarandon', 'sarastro', 'sarcasm', 'sarcast', 'sardin', 'sardon', 'sarek', 'sargent', 'sartr', 'sarum', 'saruman', 'sascha', 'sasha', 'sass', 'sassi', 'sat', 'satan', 'satanist', 'satc', 'satch', 'sate', 'satellit', 'satiat', 'satifi', 'satin', 'satir', 'satisfact', 'satisfactori', 'satisfactorili', 'satisfi', 'satisfyingli', 'satrapi', 'satriani', 'satur', 'saturday', 'saturn', 'satyr', 'sauc', 'saucer', 'sauci', 'saudi', 'saul', 'saunder', 'saunter', 'sauron', 'sausag', 'savag', 'savageri', 'savannah', 'savant', 'save', 'saver', 'savi', 'savini', 'savior', 'saviour', 'savor', 'savori', 'savour', 'savoy', 'savvi', 'saw', 'sawdust', 'sawyer', 'sax', 'saxon', 'saxophon', 'saxophonist', 'say', 'sayer', 'sayin', 'sb', 'sc', 'scad', 'scaffold', 'scagg', 'scala', 'scalabl', 'scale', 'scallop', 'scalp', 'scalpel', 'scalzi', 'scam', 'scammer', 'scan', 'scandal', 'scandinavia', 'scandinavian', 'scanner', 'scant', 'scantili', 'scape', 'scapegoat', 'scar', 'scarc', 'scarciti', 'scare', 'scarecrow', 'scaredi', 'scarey', 'scarf', 'scarfac', 'scari', 'scarier', 'scariest', 'scarili', 'scarjo', 'scarlatti', 'scarlet', 'scarlett', 'scarpetta', 'scarpia', 'scarri', 'scarv', 'scat', 'scath', 'scatolog', 'scatter', 'scatterbrain', 'scattershot', 'scaveng', 'scean', 'sceen', 'scenari', 'scenario', 'scenc', 'scene', 'sceneri', 'scenerio', 'scenic', 'scent', 'sceptic', 'scfi', 'sch', 'schaffer', 'schedul', 'scheherazad', 'scheider', 'schell', 'schema', 'schemat', 'scheme', 'schemer', 'schenker', 'scherzo', 'schiff', 'schindler', 'schism', 'schizoid', 'schizophren', 'schizophrenia', 'schlock', 'schlocki', 'schlosser', 'schmaltz', 'schmaltzi', 'schmidt', 'schmuck', 'schneider', 'scholar', 'scholarli', 'scholarship', 'scholast', 'scholz', 'schon', 'school', 'schoolboy', 'schooler', 'schoolgirl', 'schoolmat', 'schoolteach', 'schoolwork', 'schoolyard', 'schreiber', 'schtick', 'schubert', 'schultz', 'schulz', 'schumach', 'schumann', 'schuster', 'schwartz', 'schwartzman', 'schwarzenegg', 'schwarzkopf', 'sci', 'scienc', 'scientif', 'scientist', 'scientolog', 'scifi', 'scintil', 'scion', 'scissor', 'scissorhand', 'scof', 'scoff', 'scofield', 'scold', 'scone', 'scoobi', 'scoop', 'scoot', 'scooter', 'scope', 'scorces', 'scorch', 'score', 'scoreboard', 'scorecard', 'scorn', 'scorp', 'scorpio', 'scorpion', 'scorses', 'scot', 'scotch', 'scotland', 'scotsman', 'scott', 'scotti', 'scottish', 'scotto', 'scoundrel', 'scour', 'scourg', 'scout', 'scowl', 'scrabbl', 'scrambl', 'scrap', 'scrapbook', 'scrape', 'scrappi', 'scrat', 'scratch', 'scratcher', 'scratchi', 'scrawl', 'scrawni', 'scream', 'screamer', 'screamo', 'screech', 'screechi', 'screed', 'screen', 'screenplay', 'screensav', 'screenshot', 'screentim', 'screenwrit', 'screw', 'screwbal', 'screwdriv', 'screwi', 'scriabin', 'scribbl', 'scribblenaut', 'scribe', 'scrip', 'script', 'scriptur', 'scriptwrit', 'scroll', 'scroller', 'scroog', 'scroung', 'scrub', 'scruff', 'scruffi', 'scrumptiou', 'scrupl', 'scrupul', 'scrutin', 'scrutini', 'scuba', 'scuf', 'scuff', 'scuffl', 'sculli', 'sculpt', 'sculptor', 'sculptur', 'scum', 'scumbag', 'scurri', 'scuttl', 'scyth', 'sd', 'sdcard', 'sdh', 'sdk', 'se', 'sea', 'seabiscuit', 'seafar', 'seafood', 'seagal', 'seagul', 'seal', 'seam', 'seaman', 'seami', 'seamless', 'seamlessli', 'seamstress', 'seamu', 'sean', 'seanc', 'seaon', 'sear', 'search', 'searchabl', 'searcher', 'seasick', 'seasid', 'season', 'seat', 'seatbelt', 'seattl', 'seawe', 'seaworld', 'sebastian', 'sebold', 'sec', 'secdef', 'seclud', 'seclus', 'second', 'secondari', 'secondhand', 'secondli', 'secreci', 'secret', 'secretari', 'secretariat', 'secretli', 'sect', 'section', 'sector', 'secular', 'secur', 'sed', 'sedari', 'sedat', 'sedentari', 'sedit', 'seduc', 'seduct', 'seductress', 'see', 'seed', 'seedi', 'seeger', 'seek', 'seeker', 'seeli', 'seem', 'seemingli', 'seemless', 'seemlessli', 'seen', 'seep', 'seer', 'seesaw', 'seeth', 'seether', 'sega', 'segal', 'segel', 'seger', 'segment', 'segreg', 'segregationist', 'segu', 'segundo', 'segway', 'sehr', 'sei', 'sein', 'seinfeld', 'seismic', 'seiz', 'seizur', 'selbi', 'seldom', 'select', 'selector', 'selen', 'selena', 'self', 'selfi', 'selfish', 'selfishli', 'selfless', 'selflessli', 'selick', 'selina', 'sell', 'sellar', 'selleck', 'seller', 'sellout', 'selma', 'selv', 'selznick', 'sem', 'semant', 'sematari', 'semblanc', 'semest', 'semetari', 'semi', 'semicolon', 'semin', 'seminar', 'seminari', 'semit', 'semper', 'sempr', 'sen', 'senario', 'senat', 'senc', 'send', 'sender', 'seneca', 'senil', 'senior', 'senna', 'sennheis', 'senor', 'sens', 'sensat', 'sensation', 'sensationalist', 'sensei', 'senseless', 'senselessli', 'sensibl', 'sensic', 'sensit', 'sensor', 'sensori', 'sensual', 'sensuou', 'sent', 'sentanc', 'sentenc', 'sentienc', 'sentient', 'sentiment', 'sentinel', 'seoul', 'sep', 'separ', 'seper', 'sephiroth', 'sepia', 'sept', 'septemb', 'sepultura', 'sequ', 'sequal', 'sequel', 'sequenc', 'sequenti', 'sequil', 'sequitur', 'ser', 'sera', 'serafini', 'serb', 'serbia', 'serbian', 'seren', 'serena', 'serenad', 'serendip', 'serendipit', 'serg', 'sergeant', 'sergei', 'sergey', 'sergio', 'seri', 'serial', 'serif', 'seriou', 'serious', 'serj', 'serki', 'serkin', 'serl', 'sermon', 'serpent', 'serpentin', 'serra', 'serum', 'serv', 'servant', 'server', 'servic', 'serviceman', 'servicemen', 'servil', 'servitud', 'sesam', 'session', 'set', 'setback', 'seth', 'seti', 'setlist', 'setpiec', 'setter', 'setterfield', 'settl', 'settlement', 'settler', 'setup', 'setzer', 'seuss', 'seven', 'sevenev', 'sevenfold', 'seventeen', 'seventeenth', 'seventh', 'seventi', 'sever', 'severli', 'sevil', 'sew', 'sewag', 'seward', 'sewel', 'sewer', 'sewn', 'sex', 'sexcapad', 'sexi', 'sexier', 'sexiest', 'sexism', 'sexist', 'sextet', 'sexual', 'sexxx', 'seyfri', 'seymor', 'seymour', 'sf', 'sfx', 'sg', 'sgt', 'sgu', 'sh', 'sha', 'shabbi', 'shack', 'shackl', 'shade', 'shadi', 'shadow', 'shadowfev', 'shadowhunt', 'shadowi', 'shaffer', 'shaft', 'shag', 'shaggi', 'shah', 'shai', 'shailen', 'shake', 'shaken', 'shaker', 'shakespear', 'shakespearean', 'shakespearian', 'shakey', 'shaki', 'shakin', 'shakira', 'shall', 'shallan', 'shallow', 'sham', 'shaman', 'shambl', 'shame', 'shameless', 'shamelessli', 'shampoo', 'shane', 'shanghai', 'shangri', 'shania', 'shank', 'shankar', 'shannon', 'shantaram', 'shanti', 'shaolin', 'shape', 'shapeless', 'shapeshift', 'shaq', 'shard', 'share', 'sharehold', 'sharia', 'sharif', 'shark', 'sharknado', 'sharlto', 'sharma', 'sharon', 'sharp', 'sharpen', 'sharper', 'sharpest', 'sharpi', 'sharpli', 'shat', 'shatner', 'shatter', 'shaun', 'shave', 'shaven', 'shaw', 'shawl', 'shawn', 'shawshank', 'shay', 'shazam', 'she', 'shea', 'shear', 'shearer', 'sheath', 'shebang', 'shed', 'sheehan', 'sheen', 'sheep', 'sheepl', 'sheer', 'sheeran', 'sheesh', 'sheet', 'sheik', 'sheila', 'shelbi', 'sheldon', 'shelf', 'shell', 'shelley', 'shelli', 'shelter', 'shelton', 'shelv', 'shem', 'shenanigan', 'shep', 'shepard', 'shepherd', 'shepley', 'sheppard', 'sheridan', 'sherif', 'sheriff', 'sherinian', 'sherlock', 'sherlockian', 'sherman', 'sherri', 'sherwood', 'sheryl', 'shh', 'shhh', 'shi', 'shia', 'shield', 'shift', 'shifter', 'shifti', 'shigeru', 'shill', 'shimmer', 'shimmi', 'shin', 'shindig', 'shine', 'shinedown', 'shini', 'shinier', 'shinji', 'shinoda', 'shinto', 'ship', 'shipment', 'shipper', 'shipwreck', 'shipyard', 'shire', 'shirk', 'shirley', 'shirt', 'shirtless', 'shit', 'shitti', 'shiver', 'shlock', 'shm', 'sho', 'shoah', 'shoal', 'shock', 'shocker', 'shockingli', 'shockwav', 'shod', 'shoddi', 'shoddili', 'shoe', 'shoegaz', 'shoehorn', 'shoestr', 'shogun', 'shone', 'shoo', 'shook', 'shoot', 'shooter', 'shootout', 'shop', 'shopahol', 'shopper', 'shore', 'short', 'shortag', 'shortchang', 'shortcom', 'shortcut', 'shorten', 'shorter', 'shortest', 'shortfal', 'shorthand', 'shorti', 'shortli', 'shortlist', 'shortsight', 'shostakovich', 'shot', 'shotgun', 'shoud', 'shoulda', 'shoulder', 'shouldnt', 'shouldv', 'shout', 'shouti', 'shoutout', 'shove', 'shovel', 'show', 'showbiz', 'showboat', 'showcas', 'showdown', 'shower', 'showgirl', 'showi', 'showman', 'showmanship', 'shown', 'showpiec', 'showrunn', 'showstopp', 'showtim', 'shrapnel', 'shred', 'shredder', 'shrek', 'shrew', 'shrewd', 'shrewish', 'shriek', 'shrift', 'shrill', 'shrimp', 'shrine', 'shrink', 'shrinkwrap', 'shrivel', 'shriver', 'shroud', 'shrug', 'shrunk', 'shrunken', 'shtick', 'shubin', 'shuck', 'shudder', 'shue', 'shuffl', 'shui', 'shulman', 'shun', 'shure', 'shut', 'shutdown', 'shutter', 'shuttl', 'shyamalan', 'shyness', 'si', 'sia', 'siam', 'siames', 'sibeliu', 'siberia', 'siberian', 'sibl', 'sic', 'sica', 'sicili', 'sicilian', 'sick', 'sicken', 'sickeningli', 'sicker', 'sickest', 'sickli', 'sicko', 'sico', 'sid', 'siddhartha', 'side', 'sidebar', 'sidekick', 'sidelin', 'sideload', 'sideman', 'sidemen', 'sidenot', 'sideshow', 'sidestep', 'sidetrack', 'sidewalk', 'sideway', 'sidney', 'sido', 'sie', 'sieg', 'siegel', 'siegfri', 'sieglind', 'siegmund', 'siempr', 'sienna', 'siepi', 'sierra', 'sifi', 'sift', 'sigh', 'sight', 'sigil', 'sigma', 'sigmund', 'sign', 'signal', 'signatur', 'signifi', 'signific', 'significantli', 'signpost', 'sigourney', 'sigur', 'sii', 'siii', 'silenc', 'silent', 'silhara', 'silhouett', 'silicon', 'silk', 'silki', 'sill', 'silli', 'sillier', 'silliest', 'silmarillion', 'silo', 'silva', 'silver', 'silverado', 'silveri', 'silverlight', 'silverman', 'silverston', 'silverthorn', 'silvestri', 'silvia', 'sim', 'simba', 'simciti', 'simian', 'simil', 'similar', 'similarli', 'similiar', 'simmer', 'simmon', 'simon', 'simper', 'simpl', 'simplement', 'simpler', 'simplest', 'simpleton', 'simpli', 'simplic', 'simplif', 'simplifi', 'simplist', 'simpson', 'simsion', 'simul', 'simular', 'simultan', 'sin', 'sinatra', 'sinbad', 'sinc', 'sincer', 'sincerest', 'sincerli', 'sinclair', 'sine', 'sinead', 'sinestro', 'sinfonia', 'sing', 'singabl', 'singalong', 'singapor', 'singer', 'singh', 'singin', 'singl', 'singlehandedli', 'singleton', 'singli', 'singular', 'singularli', 'sinis', 'sinist', 'sink', 'sinker', 'sinner', 'sino', 'sinu', 'siobhan', 'sip', 'siphon', 'sir', 'sire', 'siren', 'siri', 'siriu', 'sissi', 'sister', 'sisterhood', 'sisterli', 'sit', 'sitar', 'sitcom', 'site', 'sith', 'sitter', 'sittin', 'situat', 'siver', 'six', 'sixteen', 'sixteenth', 'sixth', 'sixti', 'sixto', 'sixx', 'sizabl', 'size', 'sizeabl', 'sizzl', 'sj', 'sk', 'ska', 'skarsg', 'skarsgard', 'skate', 'skateboard', 'skater', 'skeeter', 'skelet', 'skeleton', 'skellington', 'skelter', 'skeptic', 'sketch', 'sketchbook', 'sketcher', 'sketchi', 'sketchnot', 'skew', 'skewer', 'ski', 'skid', 'skil', 'skill', 'skim', 'skimp', 'skimpi', 'skin', 'skinhead', 'skinner', 'skinni', 'skip', 'skippabl', 'skipper', 'skirmish', 'skirt', 'skit', 'skitch', 'skitter', 'skittish', 'skloot', 'skolnick', 'skool', 'skrillex', 'skulk', 'skull', 'skunk', 'sky', 'skydiv', 'skydriv', 'skye', 'skyfal', 'skylar', 'skyler', 'skylin', 'skynet', 'skynyrd', 'skype', 'skyrim', 'skyrocket', 'skyscrap', 'skywalk', 'skyward', 'skyworld', 'sl', 'slab', 'slack', 'slacker', 'slade', 'slag', 'slain', 'slam', 'slammer', 'slander', 'slane', 'slang', 'slant', 'slap', 'slapdash', 'slapstick', 'slash', 'slasher', 'slate', 'slater', 'slather', 'slaughter', 'slaughterhous', 'slave', 'slaver', 'slaveri', 'slavic', 'slavish', 'slavishli', 'slay', 'slayer', 'sleaz', 'sleazi', 'sled', 'sledg', 'sledgehamm', 'sleek', 'sleeker', 'sleep', 'sleeper', 'sleepi', 'sleepless', 'sleepov', 'sleepwalk', 'sleev', 'sleezi', 'sleigh', 'sleight', 'slender', 'slenderman', 'slendi', 'slept', 'sleuth', 'slew', 'sli', 'slice', 'slick', 'slicker', 'slickli', 'slid', 'slide', 'slider', 'slideshow', 'slight', 'slightest', 'slighti', 'slightli', 'slim', 'slime', 'slimey', 'slimi', 'slimmer', 'sling', 'slinger', 'slingshot', 'slink', 'slinki', 'slip', 'slipcas', 'slipcov', 'slipknot', 'slipper', 'slipperi', 'slipstream', 'slit', 'slither', 'sliver', 'slo', 'sloan', 'slob', 'slobber', 'slog', 'slogan', 'slop', 'slope', 'sloppi', 'sloppili', 'slot', 'sloth', 'slouch', 'slovenli', 'slow', 'slowdown', 'slower', 'slowest', 'slowhand', 'slowli', 'slr', 'sludg', 'sludgi', 'slug', 'sluggish', 'slum', 'slumber', 'slumdog', 'slump', 'slur', 'slurp', 'slush', 'slut', 'slutti', 'slyli', 'sm', 'smack', 'small', 'smaller', 'smallest', 'smallish', 'smallpox', 'smallvil', 'smarmi', 'smart', 'smartass', 'smarter', 'smartest', 'smarti', 'smartli', 'smartphon', 'smash', 'smatter', 'smaug', 'smeagol', 'smear', 'smell', 'smelli', 'smh', 'smidg', 'smidgen', 'smile', 'smiley', 'smirk', 'smit', 'smith', 'smithereen', 'smithsonian', 'smitten', 'smog', 'smoke', 'smoker', 'smokey', 'smoki', 'smokin', 'smolder', 'smolin', 'smooch', 'smooth', 'smoother', 'smoothest', 'smoothi', 'smoothli', 'smorgasbord', 'smother', 'smoulder', 'smudg', 'smug', 'smuggl', 'smuggler', 'smugli', 'smulder', 'smurf', 'smut', 'smutti', 'smyth', 'sn', 'snack', 'snafu', 'snag', 'snail', 'snake', 'snap', 'snape', 'snappi', 'snapshot', 'snare', 'snark', 'snarki', 'snarl', 'snatch', 'snatcher', 'snazzi', 'snd', 'sne', 'sneak', 'sneaker', 'sneaki', 'sneek', 'sneer', 'sneez', 'snicker', 'snicket', 'snide', 'snif', 'sniff', 'sniffl', 'snip', 'snipe', 'sniper', 'snippet', 'snitch', 'snivel', 'snl', 'snob', 'snobberi', 'snobbi', 'snobbish', 'snooker', 'snoop', 'snooti', 'snooz', 'snoozefest', 'snoozer', 'snore', 'snort', 'snot', 'snotti', 'snow', 'snowbal', 'snowblind', 'snowboard', 'snowden', 'snowfal', 'snowflak', 'snowi', 'snowman', 'snowmen', 'snowpierc', 'snowstorm', 'snub', 'snuck', 'snuf', 'snuff', 'snug', 'snuggl', 'snuggli', 'snugli', 'snyder', 'so', 'soa', 'soad', 'soak', 'soap', 'soapbox', 'soapi', 'soar', 'sob', 'sober', 'sobr', 'sobrieti', 'socal', 'soccer', 'sociabl', 'social', 'socialist', 'socialit', 'socialnom', 'societ', 'societi', 'socio', 'socioeconom', 'sociolog', 'sociologist', 'sociopath', 'sociopolit', 'sock', 'socket', 'socrat', 'sod', 'soda', 'soderbergh', 'sodium', 'sodom', 'sofa', 'sofia', 'soft', 'softbal', 'softcov', 'soften', 'softer', 'softest', 'softi', 'softli', 'softwar', 'sog', 'soggi', 'soil', 'soilwork', 'sojourn', 'sol', 'sola', 'solac', 'solar', 'solari', 'sold', 'solder', 'soldier', 'sole', 'soleil', 'solemn', 'solemnli', 'soley', 'solicit', 'solid', 'solidar', 'solidifi', 'solidli', 'soliloqui', 'soliloquy', 'solitair', 'solitar', 'solitari', 'solitud', 'solo', 'soloist', 'solomon', 'solstic', 'solti', 'solut', 'solv', 'solvabl', 'solver', 'som', 'somali', 'somalia', 'somalian', 'somber', 'sombra', 'somebodi', 'someday', 'somehow', 'someon', 'someplac', 'somerhald', 'somerset', 'somet', 'someth', 'somethin', 'sometim', 'someway', 'somewhat', 'somewher', 'somm', 'sommer', 'somon', 'somth', 'somtim', 'son', 'sonata', 'sondheim', 'sone', 'song', 'songbird', 'songbook', 'songcraft', 'songstress', 'songwrit', 'soni', 'sonia', 'sonic', 'sonido', 'sonja', 'sonmi', 'sonnet', 'sonni', 'sono', 'sonor', 'sont', 'sonya', 'soo', 'sooki', 'soon', 'sooner', 'soong', 'sooo', 'soooo', 'sooooo', 'soooooo', 'sooooooo', 'soooooooo', 'sooooooooo', 'soooooooooo', 'sooooooooooo', 'soooooooooooo', 'sooooooooooooo', 'sooth', 'sop', 'sophi', 'sophia', 'sophist', 'sophmor', 'sophomor', 'soporif', 'soppi', 'soprano', 'sorcer', 'sorceress', 'sorceri', 'sordid', 'sore', 'sorkin', 'sorna', 'soro', 'soror', 'sorri', 'sorrow', 'sort', 'sorta', 'sorvino', 'soso', 'soto', 'sou', 'souffl', 'sought', 'soul', 'sould', 'soulless', 'soulmat', 'sound', 'soundbit', 'soundboard', 'soundcloud', 'soundgarden', 'soundhound', 'soundli', 'soundscap', 'soundstag', 'soundtrack', 'soundwis', 'sountrack', 'soup', 'sour', 'sourc', 'sourdough', 'south', 'southbound', 'southeast', 'southern', 'southport', 'southwest', 'southwestern', 'souvenir', 'sovereign', 'sovereignti', 'soviet', 'sow', 'sown', 'sox', 'soy', 'soylent', 'sp', 'spa', 'space', 'spacebal', 'spacecraft', 'spacek', 'spaceman', 'spaceship', 'spacesuit', 'spacetim', 'spacex', 'spacey', 'spaci', 'spacial', 'spaciou', 'spacious', 'spade', 'spader', 'spaghetti', 'spain', 'spall', 'spam', 'span', 'spandex', 'spangl', 'spaniard', 'spanish', 'spank', 'spar', 'spare', 'sparingli', 'spark', 'sparki', 'sparkl', 'sparkli', 'sparrow', 'spars', 'sparta', 'spartacu', 'spartan', 'spastic', 'spat', 'spate', 'spatial', 'spatter', 'spawn', 'spawner', 'spazz', 'speach', 'speacial', 'speak', 'speaker', 'spear', 'spearhead', 'spec', 'speci', 'special', 'specialist', 'specialti', 'specif', 'specifi', 'specimen', 'speciou', 'speck', 'speckl', 'spectacl', 'spectacular', 'spectacularli', 'spectat', 'specter', 'spector', 'spectr', 'spectral', 'spectrum', 'specul', 'sped', 'speech', 'speechless', 'speed', 'speedi', 'speedili', 'speedway', 'speilberg', 'spektor', 'spell', 'spellbind', 'spellbound', 'spellcheck', 'speller', 'spelt', 'spenc', 'spencer', 'spend', 'spender', 'spendi', 'spenser', 'spent', 'sperm', 'spew', 'sphere', 'spi', 'spice', 'spici', 'spider', 'spiderman', 'spiderweb', 'spidey', 'spiegelman', 'spiel', 'spielberg', 'spielburg', 'spiffi', 'spike', 'spiki', 'spill', 'spiller', 'spilt', 'spin', 'spinach', 'spinal', 'spindl', 'spine', 'spineless', 'spiner', 'spinner', 'spinoff', 'spinster', 'spiral', 'spire', 'spirit', 'spiritu', 'spiritualist', 'spirt', 'spirtual', 'spit', 'spite', 'spitfir', 'splash', 'splashi', 'splashtop', 'splat', 'splatter', 'splendid', 'splendidli', 'splendor', 'splendour', 'splice', 'splinter', 'split', 'splitter', 'splurg', 'spn', 'spock', 'spoil', 'spoiler', 'spoileri', 'spoilt', 'spoke', 'spoken', 'spokesman', 'spokesperson', 'spolier', 'spong', 'spongebob', 'sponsor', 'spontan', 'spoof', 'spook', 'spooki', 'spool', 'spoon', 'sporad', 'spore', 'sport', 'sportsmanship', 'spot', 'spotifi', 'spotless', 'spotlight', 'spotti', 'spous', 'spousal', 'spout', 'sprain', 'sprang', 'sprawl', 'spray', 'spread', 'spreadsheet', 'spree', 'spren', 'sprightli', 'spring', 'springboard', 'springer', 'springfield', 'springsteen', 'springtim', 'springtrap', 'sprinkl', 'sprint', 'sprite', 'spritual', 'sprout', 'spruce', 'sprung', 'spss', 'spun', 'spunk', 'spunki', 'spur', 'spuriou', 'spurn', 'spurt', 'sputnik', 'sputter', 'spyglass', 'spywar', 'sq', 'sql', 'squabbl', 'squad', 'squadron', 'squalid', 'squalor', 'squander', 'squar', 'squash', 'squat', 'squawk', 'squeak', 'squeaki', 'squeal', 'squeamish', 'squee', 'squeez', 'squelch', 'squid', 'squint', 'squir', 'squirm', 'squirrel', 'squirt', 'squish', 'squishi', 'sr', 'sri', 'srv', 'ss', 'ssh', 'st', 'stab', 'stabil', 'stabl', 'staccato', 'stacey', 'staci', 'stack', 'stackhous', 'stade', 'stadium', 'staf', 'staff', 'staffer', 'stafford', 'stag', 'stage', 'stagger', 'staggeringli', 'stagnant', 'stagnat', 'stahl', 'staid', 'stain', 'stainless', 'stair', 'staircas', 'stairway', 'stairwel', 'stait', 'stake', 'stale', 'stalem', 'staley', 'stalin', 'stalingrad', 'stalinist', 'stalk', 'stalker', 'stalkerish', 'stall', 'stallion', 'stallon', 'stalon', 'stalwart', 'stamina', 'stammer', 'stamp', 'stamped', 'stamper', 'stan', 'stana', 'stanc', 'stand', 'standalon', 'standard', 'standbi', 'stander', 'standoff', 'standoffish', 'standout', 'standpoint', 'standstil', 'standup', 'stanford', 'stank', 'stanley', 'stanni', 'stansfield', 'stanton', 'stanza', 'stapl', 'stapler', 'stapleton', 'star', 'starblaz', 'starbuck', 'starch', 'starchi', 'starcraft', 'stardom', 'stardust', 'stare', 'starfight', 'starfish', 'starfleet', 'starfruit', 'stargat', 'stargaz', 'stark', 'starker', 'starkey', 'starkli', 'starl', 'starless', 'starlet', 'starlight', 'starman', 'starr', 'starri', 'starship', 'starski', 'starstruck', 'start', 'starter', 'startin', 'startl', 'startlingli', 'startrek', 'startup', 'starv', 'starvat', 'starwar', 'starz', 'stash', 'stasi', 'stat', 'state', 'statement', 'statesid', 'statesman', 'statesmen', 'statham', 'static', 'statin', 'station', 'stationari', 'statist', 'statistician', 'statu', 'statur', 'status', 'statut', 'staunch', 'stave', 'stax', 'stay', 'stayin', 'std', 'ste', 'stead', 'steadfast', 'steadfastli', 'steadi', 'steadili', 'steak', 'steal', 'stealer', 'stealth', 'stealthi', 'steam', 'steami', 'steamier', 'steampunk', 'steamrol', 'stearn', 'steed', 'steel', 'steelbook', 'steelheart', 'steeli', 'steenburgen', 'steep', 'steer', 'stefan', 'stefani', 'steig', 'stein', 'steinbeck', 'steiner', 'steinman', 'steinway', 'stella', 'stellan', 'stellar', 'stellarium', 'steller', 'stem', 'stench', 'step', 'stepdad', 'stepdaught', 'stepfath', 'stepford', 'steph', 'stephan', 'stephani', 'stephen', 'stepheni', 'stephenson', 'stepmom', 'stepmoth', 'stepsist', 'stepson', 'stereo', 'stereophon', 'stereoscop', 'stereotyp', 'steril', 'steriod', 'sterl', 'stern', 'steroid', 'sterotyp', 'steve', 'steven', 'stevenson', 'stevi', 'stew', 'steward', 'stewardship', 'stewart', 'sti', 'stich', 'stick', 'sticker', 'sticki', 'stickler', 'stickman', 'stiefvat', 'stieg', 'stiff', 'stifl', 'stigler', 'stiglitz', 'stigma', 'stigmat', 'stigmata', 'stil', 'stile', 'stiletto', 'still', 'stiller', 'stilt', 'stimul', 'stimuli', 'stimulu', 'sting', 'stinger', 'stingi', 'stink', 'stinker', 'stinki', 'stinkin', 'stinson', 'stint', 'stipe', 'stipul', 'stir', 'stirl', 'stitch', 'stm', 'stng', 'stock', 'stockbrok', 'stockholm', 'stockpil', 'stockwel', 'stodgi', 'stoic', 'stoicism', 'stoke', 'stoker', 'stokowski', 'stole', 'stolen', 'stolid', 'stomach', 'stomp', 'stomper', 'stone', 'stoneheng', 'stoner', 'stonewal', 'stong', 'stood', 'stoog', 'stool', 'stoop', 'stop', 'stope', 'stopper', 'stopwatch', 'storag', 'store', 'storefront', 'storey', 'stori', 'storm', 'stormi', 'stormlight', 'stormtroop', 'storyboard', 'storybook', 'storybrook', 'storylin', 'storytel', 'storytim', 'storywis', 'stout', 'stove', 'stow', 'stowaway', 'stoy', 'stp', 'straddl', 'straight', 'straightaway', 'straighten', 'straightforward', 'strain', 'strait', 'strand', 'strang', 'strangelov', 'stranger', 'strangest', 'strangl', 'strap', 'strat', 'strata', 'strateg', 'strategi', 'strategist', 'strathairn', 'stratocast', 'stratospher', 'stratovariu', 'stratton', 'strauss', 'stravinski', 'straw', 'strawberri', 'strax', 'stray', 'streak', 'stream', 'streamer', 'streamlin', 'strech', 'streep', 'street', 'streetcar', 'streisand', 'strenght', 'strength', 'strengthen', 'strengthsfind', 'strenuou', 'stress', 'stressor', 'stretch', 'stretcher', 'stretchi', 'strewn', 'stricken', 'strict', 'stricter', 'strictest', 'strictli', 'strictur', 'stride', 'strident', 'strife', 'strike', 'strikingli', 'string', 'stringent', 'strip', 'stripe', 'stripper', 'stripteas', 'strive', 'strobe', 'strode', 'stroke', 'stroll', 'strong', 'stronger', 'strongest', 'stronghold', 'strongli', 'strori', 'stroud', 'stroustrup', 'strout', 'strove', 'stroy', 'struck', 'structur', 'struggl', 'strum', 'strummer', 'strung', 'strunk', 'strut', 'stryper', 'stu', 'stuart', 'stub', 'stubbl', 'stubborn', 'stubbornli', 'stuck', 'stud', 'student', 'studi', 'studio', 'studiou', 'stuf', 'stuff', 'stuffer', 'stuffi', 'stuggl', 'stultifi', 'stumbl', 'stump', 'stun', 'stung', 'stunk', 'stunner', 'stunningli', 'stunt', 'stuntman', 'stupefi', 'stupend', 'stupid', 'stupidest', 'stupidli', 'stupor', 'sturdi', 'sturdier', 'sturgess', 'sturgil', 'sturm', 'stutter', 'style', 'stylish', 'stylishli', 'stylist', 'styliz', 'stylu', 'stymi', 'styrofoam', 'styx', 'su', 'suarez', 'suav', 'sub', 'subconci', 'subconsci', 'subcultur', 'subdivis', 'subdu', 'suberb', 'subgenr', 'subhuman', 'subject', 'subjug', 'sublim', 'sublimin', 'submarin', 'submerg', 'submers', 'submiss', 'submit', 'subordin', 'subpar', 'subplot', 'subprim', 'subscrib', 'subscript', 'subsect', 'subsequ', 'subservi', 'subset', 'subsid', 'subsidi', 'subsidiari', 'subsist', 'substanc', 'substandard', 'substant', 'substanti', 'substitut', 'subsum', 'subt', 'subterfug', 'subterranean', 'subtext', 'subtitl', 'subtl', 'subtler', 'subtleti', 'subtli', 'subtract', 'suburb', 'suburban', 'suburbia', 'subvers', 'subvert', 'subway', 'subwoof', 'succ', 'succe', 'succeed', 'succes', 'success', 'successor', 'succinct', 'succinctli', 'succubu', 'succul', 'succumb', 'sucess', 'suchet', 'suck', 'sucker', 'sucki', 'sudan', 'sudden', 'suddenli', 'sudoku', 'sue', 'sued', 'suess', 'sufer', 'suffer', 'suffic', 'suffici', 'suffoc', 'suffrag', 'suffragett', 'suffus', 'sufjan', 'sugar', 'sugarco', 'sugarcoat', 'sugari', 'sugarland', 'sugarman', 'sugest', 'suggest', 'sui', 'suicid', 'suit', 'suitabl', 'suitcas', 'suitor', 'sulfur', 'sulk', 'sullen', 'sulli', 'sullivan', 'sultan', 'sultri', 'sulu', 'sum', 'summar', 'summari', 'summarili', 'summaris', 'summat', 'summer', 'summeri', 'summertim', 'summit', 'summon', 'sumptuou', 'sun', 'sunburn', 'sunda', 'sundanc', 'sunday', 'sundown', 'sundri', 'sunflow', 'sung', 'sunglass', 'sunk', 'sunken', 'sunlight', 'sunn', 'sunni', 'sunris', 'sunset', 'sunshin', 'sup', 'supe', 'super', 'superb', 'superbad', 'superbit', 'superbl', 'superbowl', 'superboy', 'supercalifragilisticexpialidoci', 'superced', 'supercharg', 'superfan', 'superfast', 'superfici', 'superflu', 'supergroup', 'superhero', 'superhuman', 'superimpos', 'superior', 'superl', 'superman', 'supermarket', 'supermen', 'supermodel', 'supernatur', 'supernova', 'superpow', 'supersed', 'superson', 'superstar', 'superstardom', 'superstit', 'superstiti', 'supertramp', 'superunknown', 'supervillain', 'supervis', 'supervisor', 'supper', 'suppl', 'supplant', 'supplement', 'supplementari', 'suppli', 'supplier', 'suppliment', 'support', 'suppos', 'supposedli', 'supposit', 'suppress', 'suppris', 'suprem', 'supremaci', 'supress', 'supris', 'suprisingli', 'supriz', 'supurb', 'sur', 'sure', 'surefir', 'surf', 'surfac', 'surfboard', 'surfer', 'surg', 'surgeon', 'surgeri', 'surgic', 'surli', 'surmis', 'surmount', 'surnam', 'surpass', 'surpis', 'surpisingli', 'surplu', 'surpris', 'surprisingli', 'surpriz', 'surreal', 'surrealist', 'surrend', 'surreptiti', 'surrog', 'surround', 'surveil', 'survey', 'surveyor', 'surviv', 'survivalcraft', 'survivalist', 'survivor', 'susan', 'susann', 'susanna', 'susannah', 'suscept', 'sushi', 'susi', 'suspect', 'suspen', 'suspenc', 'suspend', 'suspens', 'suspici', 'suspicion', 'suspiria', 'suss', 'sussex', 'sustain', 'susten', 'sutherland', 'sutter', 'suv', 'sux', 'suzann', 'suzanna', 'suzi', 'suzuki', 'sv', 'sven', 'svu', 'sw', 'swag', 'swagger', 'swallow', 'swam', 'swamp', 'swampi', 'swan', 'swank', 'swanson', 'swansong', 'swap', 'swarm', 'swash', 'swashbuckl', 'swastika', 'swat', 'swatch', 'swath', 'sway', 'swayz', 'swear', 'sweat', 'sweater', 'sweati', 'sweatshirt', 'swede', 'sweden', 'swedish', 'sweeney', 'sweep', 'sweet', 'sweeten', 'sweeter', 'sweetest', 'sweetheart', 'sweeti', 'sweetli', 'swell', 'swelter', 'swept', 'swerv', 'swift', 'swifti', 'swiftkey', 'swiftli', 'swill', 'swim', 'swimmer', 'swindl', 'swindler', 'swine', 'swing', 'swinger', 'swingin', 'swinton', 'swipe', 'swirl', 'swish', 'swiss', 'switch', 'switzerland', 'swivel', 'swollen', 'swoon', 'swooni', 'swoop', 'sword', 'swordfight', 'swordplay', 'swordsman', 'swore', 'sworn', 'swung', 'swype', 'sx', 'sy', 'sybil', 'sycamor', 'sycoph', 'sycophant', 'syd', 'sydney', 'sydow', 'syfi', 'syke', 'syl', 'syllabl', 'sylvan', 'sylvest', 'sylvia', 'sym', 'symbiot', 'symbol', 'symbolog', 'symmetr', 'symmetri', 'sympath', 'sympathet', 'sympathi', 'sympathis', 'symphon', 'symphoni', 'symptom', 'symptomat', 'synagogu', 'synaps', 'sync', 'synch', 'synchron', 'syncop', 'synder', 'syndic', 'syndrom', 'syne', 'synergi', 'synergist', 'synonym', 'synops', 'synopsi', 'syntax', 'synth', 'synthes', 'synthesi', 'synthet', 'synthpop', 'syracus', 'syria', 'syriana', 'syrup', 'syrupi', 'system', 'systemat', 'szell', 'szeth', 'ta', 'taab', 'tab', 'tabbi', 'tabitha', 'tabl', 'tablatur', 'tableau', 'tablespoon', 'tablet', 'tabletop', 'tabloid', 'taboo', 'tac', 'tacit', 'taciturn', 'tack', 'tacki', 'tackl', 'taco', 'tact', 'tactic', 'tactician', 'tactil', 'tad', 'tag', 'taglin', 'tahiti', 'taho', 'taht', 'tai', 'tail', 'tailor', 'tailspin', 'taint', 'taiwan', 'taj', 'tak', 'takashi', 'take', 'takeaway', 'takei', 'taken', 'takeoff', 'takeov', 'taker', 'takeshi', 'takin', 'tal', 'talbot', 'tale', 'taleb', 'talent', 'talentless', 'talia', 'taliban', 'talisman', 'talk', 'talker', 'talki', 'talkin', 'tall', 'tallent', 'taller', 'tallest', 'talli', 'talon', 'tam', 'tamara', 'tambi', 'tambourin', 'tame', 'tamer', 'tamino', 'tammi', 'tampa', 'tamper', 'tampon', 'tan', 'tana', 'tandem', 'tandi', 'tang', 'tangent', 'tangenti', 'tangerin', 'tangibl', 'tangl', 'tango', 'tangram', 'tank', 'tanker', 'tanner', 'tantal', 'tantalizingli', 'tantamount', 'tanto', 'tantrum', 'tanya', 'tao', 'taoism', 'tap', 'tape', 'taper', 'tapestri', 'tapper', 'tappin', 'tar', 'tara', 'tarahumara', 'tarantino', 'tarantula', 'tard', 'tardi', 'tarentino', 'targaryen', 'target', 'tarja', 'tarku', 'tarnish', 'tarot', 'tarrantino', 'tart', 'tartaru', 'tarth', 'tartin', 'tartt', 'tarzan', 'task', 'tast', 'tasteless', 'tasti', 'tastic', 'tat', 'tate', 'tatiana', 'tatoo', 'tatter', 'tattoo', 'tatum', 'taub', 'taught', 'taunt', 'taupin', 'tauriel', 'taut', 'tautou', 'tavern', 'tavi', 'tawdri', 'tawni', 'tax', 'taxat', 'taxi', 'taxman', 'taxpay', 'tay', 'taya', 'taylor', 'taymor', 'tazaki', 'tb', 'tbbt', 'tbe', 'tbh', 'tbi', 'tbr', 'tc', 'tcg', 'tch', 'tchaikovski', 'tcm', 'td', 'tdk', 'tdkr', 'te', 'tea', 'teach', 'teachabl', 'teacher', 'teacup', 'teal', 'team', 'teamlava', 'teammat', 'teamview', 'teamwork', 'teapot', 'tear', 'teardrop', 'teari', 'tearjerk', 'teas', 'teaser', 'teaspoon', 'teatro', 'tech', 'techi', 'technic', 'technica', 'technician', 'technicolor', 'techniqu', 'techno', 'technocrat', 'technolog', 'technologist', 'techo', 'tecton', 'ted', 'tedder', 'teddi', 'tedeschi', 'tediou', 'tedious', 'tedium', 'tee', 'teem', 'teen', 'teenag', 'teeni', 'teensi', 'teeter', 'teeth', 'tegan', 'tegra', 'teh', 'tehran', 'tej', 'tel', 'tele', 'telecast', 'telegram', 'telegraph', 'telekinesi', 'telekinet', 'telepath', 'telepathi', 'telephon', 'telepod', 'teleport', 'telescop', 'televis', 'televison', 'tell', 'teller', 'telli', 'tellingli', 'telltal', 'tem', 'tema', 'temp', 'temper', 'tempera', 'temperament', 'temperatur', 'tempest', 'tempestu', 'tempi', 'templ', 'templar', 'templat', 'templerun', 'templeton', 'tempo', 'tempor', 'temporari', 'temporarili', 'tempt', 'temptat', 'tempu', 'ten', 'tenac', 'tenaci', 'tenant', 'tend', 'tendanc', 'tendenc', 'tender', 'tenderli', 'tendon', 'tendril', 'tenement', 'tenenbaum', 'tener', 'tenet', 'tenfold', 'tengo', 'tennant', 'tennesse', 'tenni', 'tenor', 'tens', 'tension', 'tent', 'tentacl', 'tenterhook', 'tenth', 'tenuou', 'tenur', 'tepid', 'tequila', 'ter', 'terenc', 'teresa', 'terfel', 'teri', 'teriff', 'term', 'termin', 'terminolog', 'terra', 'terrac', 'terraform', 'terrain', 'terranc', 'terraria', 'terrenc', 'terrestri', 'terri', 'terribl', 'terrier', 'terrif', 'terriff', 'terrifi', 'terrifyingli', 'territori', 'terror', 'terrorist', 'ters', 'tertiari', 'tesla', 'tess', 'tessa', 'tesseract', 'test', 'testabl', 'testament', 'tester', 'testicl', 'testifi', 'testiment', 'testimoni', 'testosteron', 'tet', 'tether', 'tetri', 'teuton', 'tex', 'texa', 'texan', 'text', 'textbook', 'textil', 'textual', 'textur', 'tf', 'tfio', 'tg', 'tge', 'th', 'tha', 'thackeray', 'thaddeu', 'thai', 'thailand', 'thalia', 'thame', 'thang', 'thank', 'thankless', 'thanksgiv', 'thankyou', 'thano', 'thanx', 'thar', 'thark', 'that', 'thatcher', 'thati', 'thaw', 'thay', 'thayer', 'the', 'thea', 'theater', 'theather', 'theatr', 'theatric', 'thebook', 'thee', 'theft', 'thei', 'theif', 'theism', 'theist', 'theistic', 'thelma', 'themat', 'theme', 'themself', 'thenardi', 'theo', 'theodor', 'theolog', 'theologian', 'theon', 'theorem', 'theoret', 'theori', 'theorist', 'theoriz', 'ther', 'therapeut', 'therapi', 'therapist', 'there', 'thereabout', 'thereaft', 'therebi', 'therefor', 'therein', 'thereof', 'theresa', 'therfor', 'thermodynam', 'thermomet', 'thermopyla', 'thern', 'theron', 'thesauru', 'these', 'thesi', 'thespian', 'thet', 'theta', 'thewli', 'theyr', 'thg', 'thi', 'thia', 'thick', 'thicken', 'thicker', 'thickest', 'thickfreak', 'thid', 'thie', 'thied', 'thief', 'thiel', 'thier', 'thiev', 'thieveri', 'thigh', 'thii', 'thiller', 'thilman', 'thin', 'thine', 'thing', 'thingi', 'think', 'thinker', 'thinkin', 'thinli', 'thinner', 'thinnest', 'third', 'thirdli', 'thirlbi', 'thirst', 'thirsti', 'thirteen', 'thirteenth', 'thirti', 'thise', 'thisi', 'thnk', 'thnx', 'tho', 'thoe', 'thom', 'thoma', 'thompson', 'thomson', 'thon', 'thong', 'thor', 'thora', 'thoreau', 'thori', 'thorin', 'thorn', 'thornfield', 'thorni', 'thornton', 'thorough', 'thoroughli', 'thorougli', 'thorp', 'thorson', 'thorton', 'thoth', 'thou', 'though', 'thoughli', 'thoughout', 'thought', 'thoughtless', 'thougt', 'thougth', 'thouroughli', 'thousand', 'thr', 'thrall', 'thrash', 'thrasher', 'thrashi', 'thre', 'thread', 'threadbar', 'threat', 'threaten', 'three', 'threesom', 'threshold', 'threw', 'thrice', 'thrid', 'thrift', 'thrifti', 'thrill', 'thriller', 'thrillingli', 'thrive', 'throat', 'throati', 'throb', 'throe', 'throne', 'throng', 'throno', 'throttl', 'through', 'throughli', 'throughout', 'throught', 'throughtout', 'througout', 'throw', 'throwaway', 'throwback', 'thrower', 'thrown', 'thru', 'thrum', 'thrust', 'thse', 'thsi', 'thst', 'tht', 'thu', 'thud', 'thug', 'thuggish', 'thumb', 'thumbnail', 'thump', 'thumper', 'thunder', 'thunderbal', 'thunderbird', 'thunderbolt', 'thunderdom', 'thunderstorm', 'thunderstruck', 'thunk', 'thur', 'thurber', 'thurman', 'thursday', 'thusli', 'thw', 'thwart', 'thx', 'thyroid', 'thyself', 'ti', 'tia', 'tiana', 'tiberiu', 'tibet', 'tibetan', 'tic', 'tick', 'ticker', 'ticket', 'tickl', 'tico', 'tid', 'tidal', 'tidbit', 'tide', 'tidi', 'tidili', 'tie', 'tiempo', 'tien', 'tienen', 'tienn', 'tier', 'tiffani', 'tiger', 'tight', 'tighten', 'tighter', 'tightest', 'tightli', 'tightrop', 'til', 'tilda', 'tile', 'tilikum', 'till', 'tilli', 'tillman', 'tilney', 'tilt', 'tim', 'timbaland', 'timber', 'timberlak', 'timbr', 'time', 'timefram', 'timekeep', 'timekil', 'timeless', 'timelessli', 'timeli', 'timelin', 'timeout', 'timer', 'timet', 'timewast', 'timey', 'timid', 'timm', 'timo', 'timothi', 'timpani', 'tin', 'tina', 'tine', 'tinfoot', 'ting', 'tingl', 'tingli', 'tini', 'tiniest', 'tink', 'tinker', 'tinkerbel', 'tinkl', 'tinni', 'tinnitu', 'tint', 'tintin', 'tion', 'tip', 'tipo', 'tippi', 'tipto', 'tirad', 'tire', 'tired', 'tireless', 'tirelessli', 'tiresom', 'tissu', 'tit', 'titan', 'titanium', 'titil', 'titl', 'tito', 'tittl', 'titu', 'titular', 'tivo', 'tj', 'tk', 'tkam', 'tl', 'tlc', 'tldr', 'tm', 'tme', 'tmi', 'tmnt', 'tmobil', 'tmp', 'tn', 'tng', 'tnt', 'to', 'toad', 'toast', 'toaster', 'tobacco', 'tobe', 'tobey', 'tobi', 'tobia', 'tobin', 'toc', 'toca', 'toccata', 'tock', 'tod', 'toda', 'today', 'todd', 'toddler', 'todo', 'toe', 'toefl', 'toenail', 'tofu', 'togeth', 'toggl', 'togther', 'toho', 'toibin', 'toil', 'toilet', 'tok', 'toke', 'token', 'tokyo', 'told', 'toler', 'tolkein', 'tolken', 'tolkien', 'toll', 'tolstoy', 'toltec', 'tom', 'toma', 'tomato', 'tomb', 'tomboy', 'tombston', 'tome', 'tomei', 'tomlinson', 'tommi', 'tommyknock', 'tomorrow', 'ton', 'tonal', 'tone', 'tong', 'tongu', 'toni', 'tonic', 'tonight', 'tonit', 'tonk', 'tonn', 'took', 'tool', 'toolbar', 'toolbox', 'toolkit', 'toon', 'tooo', 'toooo', 'tooooo', 'toot', 'tooth', 'toothbrush', 'toothless', 'toothpast', 'toothpick', 'tootl', 'tootsi', 'top', 'topher', 'topic', 'topless', 'topnotch', 'topograph', 'topper', 'toppl', 'topsi', 'tor', 'tora', 'torah', 'torch', 'torchwood', 'tore', 'tori', 'torino', 'tormato', 'torment', 'tormentor', 'torn', 'tornado', 'toro', 'toronto', 'torpedo', 'torr', 'torranc', 'torrenc', 'torrent', 'torrenti', 'torrid', 'torso', 'tort', 'tortilla', 'tortois', 'tortuou', 'tortur', 'torv', 'tosca', 'toscanini', 'tosh', 'toshiba', 'toshiro', 'toss', 'tot', 'total', 'totali', 'totalitarian', 'tote', 'totem', 'toth', 'toto', 'totoro', 'tou', 'touch', 'touchi', 'touchingli', 'touchpad', 'touchscreen', 'touchston', 'tough', 'toughen', 'tougher', 'toughest', 'tought', 'toulous', 'toung', 'tour', 'tourism', 'tourist', 'tournament', 'tourney', 'toussaint', 'tout', 'tow', 'toward', 'towatch', 'towel', 'tower', 'town', 'towni', 'townsend', 'townsfolk', 'townshend', 'township', 'townsmen', 'townspeopl', 'toxic', 'toxin', 'toy', 'toyota', 'tp', 'tpb', 'tr', 'tra', 'trabajo', 'trace', 'tracey', 'traci', 'track', 'tracker', 'tracklist', 'tract', 'traction', 'tractor', 'trade', 'trademark', 'tradeoff', 'trader', 'tradit', 'traditionalist', 'traffic', 'traffick', 'tragedi', 'tragic', 'trail', 'trailblaz', 'trailer', 'trailor', 'train', 'traine', 'trainer', 'trainor', 'trainspot', 'trainwreck', 'trainyard', 'traips', 'trait', 'traitor', 'trajectori', 'tram', 'trama', 'tramel', 'trammel', 'tramp', 'trampl', 'trampolin', 'tran', 'tranc', 'trane', 'tranfer', 'tranform', 'tranquil', 'transact', 'transatlant', 'transcend', 'transcendent', 'transcod', 'transcrib', 'transcript', 'transfer', 'transfix', 'transform', 'transfus', 'transgend', 'transgress', 'transient', 'transistor', 'transit', 'transitori', 'translat', 'transluc', 'transmiss', 'transmit', 'transmitt', 'transmut', 'transpar', 'transpir', 'transplant', 'transport', 'transpos', 'transposit', 'transsexu', 'transvestit', 'transylvania', 'trap', 'trapez', 'trapp', 'trash', 'trashcan', 'trashi', 'trask', 'trauma', 'traumat', 'trav', 'travail', 'travel', 'travelogu', 'traver', 'travers', 'travesti', 'travi', 'traviata', 'travolta', 'trax', 'tray', 'traynor', 'tre', 'treacher', 'treacheri', 'treacl', 'treacli', 'tread', 'treadmil', 'treadston', 'treason', 'treasur', 'treasuri', 'treat', 'treati', 'treatis', 'treatment', 'trebl', 'tree', 'trejo', 'trek', 'treki', 'trekker', 'trekki', 'trello', 'trembl', 'tremend', 'tremolo', 'tremonti', 'tremor', 'trench', 'trenchant', 'trend', 'trendi', 'trendsett', 'trent', 'trepid', 'trespass', 'trevor', 'trey', 'tri', 'triad', 'trial', 'triangl', 'triangular', 'triathlet', 'triathlon', 'tribal', 'tribbl', 'tribe', 'tribesmen', 'tribul', 'tribun', 'tribut', 'trick', 'trickeri', 'tricki', 'trickier', 'trickl', 'trickster', 'trident', 'trifecta', 'trifl', 'trigger', 'triglycerid', 'triliogi', 'trill', 'trillion', 'trillog', 'trilog', 'trim', 'trimest', 'triniti', 'trinket', 'trio', 'triolgi', 'triolog', 'trip', 'tripadvisor', 'tripe', 'tripl', 'triplet', 'tripod', 'tripper', 'trippi', 'trippin', 'tripwir', 'trish', 'trist', 'tristan', 'trite', 'triumph', 'triumphant', 'triumphantli', 'triumvir', 'trivia', 'trivial', 'trivium', 'trixi', 'trod', 'trodden', 'troi', 'trojan', 'troll', 'trollop', 'trombon', 'tromp', 'tron', 'troop', 'trooper', 'trope', 'trophi', 'tropic', 'tropper', 'trot', 'troubadour', 'troubl', 'troublemak', 'troubleshoot', 'troublesom', 'trough', 'trounc', 'troup', 'trouper', 'trouser', 'trout', 'trovator', 'trove', 'trower', 'troy', 'tru', 'truant', 'truce', 'truck', 'trucker', 'truckin', 'truckload', 'trudg', 'true', 'trueblood', 'truehd', 'trueli', 'truer', 'truest', 'truffl', 'truism', 'truley', 'truli', 'trulli', 'truman', 'trumbul', 'trump', 'trumpet', 'truncal', 'truncat', 'trunk', 'truss', 'trust', 'trusti', 'trustworthi', 'truth', 'tryin', 'tryst', 'ts', 'tsar', 'tsfh', 'tsk', 'tsukuru', 'tsunami', 'tt', 'tthe', 'tthi', 'tu', 'tub', 'tuba', 'tube', 'tubem', 'tuberculosi', 'tubular', 'tucci', 'tuchman', 'tuck', 'tucker', 'tuco', 'tucson', 'tudor', 'tudyk', 'tue', 'tuesday', 'tuf', 'tuff', 'tug', 'tuition', 'tulip', 'tull', 'tulli', 'tulo', 'tulsa', 'tumbl', 'tumbler', 'tumblewe', 'tumblin', 'tumblr', 'tummi', 'tumor', 'tumult', 'tumultu', 'tun', 'tuna', 'tundra', 'tune', 'tunein', 'tuner', 'tunnel', 'tuoma', 'tupac', 'tupperwar', 'turandot', 'turbo', 'turbul', 'turd', 'ture', 'turf', 'turgid', 'turin', 'turk', 'turkey', 'turkish', 'turmoil', 'turn', 'turnaround', 'turner', 'turni', 'turnip', 'turnoff', 'turnov', 'turntabl', 'turow', 'turret', 'turtl', 'turturro', 'turunen', 'turvi', 'tuscani', 'tush', 'tusk', 'tuskege', 'tutelag', 'tutor', 'tutori', 'tutti', 'tutu', 'tuxedo', 'tv', 'tvd', 'tverski', 'tw', 'twa', 'twaddl', 'twain', 'twang', 'twangi', 'twc', 'twd', 'tweak', 'twee', 'tweedi', 'tweek', 'tween', 'tweener', 'tweet', 'tweeter', 'twelfth', 'twelv', 'twenti', 'twentieth', 'twi', 'twice', 'twiddl', 'twig', 'twighlight', 'twihard', 'twilight', 'twin', 'twine', 'twing', 'twinki', 'twinkl', 'twirl', 'twist', 'twister', 'twisti', 'twit', 'twitch', 'twitchi', 'twitter', 'twlight', 'two', 'twoflow', 'twofold', 'twok', 'tx', 'txt', 'ty', 'tycoon', 'tye', 'tyler', 'tyner', 'type', 'typecast', 'typefac', 'typeset', 'typewrit', 'typic', 'typifi', 'typo', 'typograph', 'typographi', 'tyr', 'tyrann', 'tyranni', 'tyrannosauru', 'tyrant', 'tyre', 'tyrel', 'tyres', 'tyrion', 'tyron', 'tyson', 'tywin', 'tzu', 'ua', 'uacut', 'ub', 'uber', 'ubik', 'ubiqu', 'ubiquit', 'ubisoft', 'ubl', 'uc', 'uchida', 'ucla', 'ud', 'udder', 'udo', 'ue', 'uf', 'ufc', 'ufo', 'ug', 'ugh', 'ughh', 'ugli', 'uglier', 'ugliest', 'uh', 'uhd', 'uhh', 'uhhh', 'uhhhh', 'uhm', 'uhura', 'ui', 'uk', 'ukelel', 'ukrain', 'ukrainian', 'ukulel', 'ul', 'ulcer', 'uld', 'uli', 'ulrich', 'ulterior', 'ultim', 'ultima', 'ultimatum', 'ultra', 'ultraman', 'ultramarathon', 'ultrarun', 'ultraviol', 'ultraviolet', 'ultravox', 'ultron', 'ulyss', 'um', 'uma', 'umberto', 'umbrella', 'umd', 'umm', 'ummagumma', 'ummm', 'ummmm', 'ummmmm', 'umph', 'umpteen', 'umpteenth', 'un', 'una', 'unabash', 'unabashedli', 'unabl', 'unabridg', 'unaccept', 'unaccount', 'unaccustom', 'unacknowledg', 'unadorn', 'unadulter', 'unaffect', 'unafraid', 'unair', 'unalt', 'unambigu', 'unanim', 'unannounc', 'unansw', 'unanswer', 'unanticip', 'unapologet', 'unapp', 'unappreci', 'unargu', 'unarm', 'unasham', 'unashamedli', 'unassail', 'unassum', 'unattach', 'unattain', 'unattend', 'unattract', 'unauthor', 'unavail', 'unavoid', 'unawar', 'unbalanc', 'unbear', 'unbeat', 'unbeknownst', 'unbeleiv', 'unbeliev', 'unbeliv', 'unbend', 'unbias', 'unblemish', 'unborn', 'unbound', 'unbox', 'unbreak', 'unbridl', 'unbroken', 'uncal', 'uncanni', 'uncannili', 'uncar', 'uncensor', 'unceremoni', 'uncertain', 'uncertainti', 'unchain', 'unchalleng', 'unchang', 'uncharacterist', 'unchart', 'uncheck', 'uncivil', 'uncl', 'unclassifi', 'unclean', 'unclear', 'unclutt', 'uncomfort', 'uncommon', 'uncommonli', 'uncompel', 'uncompl', 'uncomplet', 'uncompress', 'uncompromis', 'uncompromisingli', 'unconcern', 'uncondit', 'unconnect', 'unconsci', 'unconscion', 'uncontrol', 'unconvent', 'unconvinc', 'unconvincingli', 'uncool', 'uncount', 'uncouth', 'uncov', 'uncr', 'uncredit', 'uncrit', 'uncur', 'uncut', 'und', 'undamag', 'undaunt', 'undead', 'undecid', 'undef', 'undefin', 'undemand', 'undeni', 'under', 'underachiev', 'underag', 'underappreci', 'underbelli', 'underclass', 'undercov', 'undercurr', 'undercut', 'underdevelop', 'underdog', 'underestim', 'underfoot', 'undergo', 'undergon', 'undergrad', 'undergradu', 'underground', 'underhand', 'underl', 'underli', 'underlin', 'undermin', 'underneath', 'underperform', 'underpin', 'underplay', 'underpow', 'underprivileg', 'underr', 'underscor', 'undersea', 'undersid', 'underst', 'understand', 'understat', 'understood', 'undertak', 'undertaken', 'undertand', 'underton', 'undertook', 'undertow', 'underus', 'underutil', 'undervalu', 'underw', 'underwat', 'underway', 'underwear', 'underwhelm', 'underwood', 'underworld', 'underwritten', 'undeserv', 'undesir', 'undestand', 'undetect', 'undevelop', 'undi', 'undiagnos', 'undilut', 'undiminish', 'undisciplin', 'undisclos', 'undiscov', 'undisput', 'undistinguish', 'undivid', 'undo', 'undomest', 'undon', 'undoubt', 'undoubtedli', 'undress', 'undu', 'undul', 'unduli', 'une', 'unearth', 'unearthli', 'uneas', 'uneasi', 'unecessari', 'unedit', 'uneduc', 'unemot', 'unemploy', 'unencumb', 'unend', 'unengag', 'unenjoy', 'unenlighten', 'unenvi', 'unequ', 'unequal', 'unequivoc', 'uner', 'uneth', 'unev', 'uneven', 'unevenli', 'unexamin', 'unexcept', 'unexcit', 'unexpect', 'unexpected', 'unexpectedli', 'unexplain', 'unexplor', 'unfail', 'unfailingli', 'unfair', 'unfairli', 'unfaith', 'unfamiliar', 'unfathom', 'unfavor', 'unfeel', 'unfett', 'unfilm', 'unfilt', 'unfinish', 'unfit', 'unflapp', 'unflatt', 'unflinch', 'unflinchingli', 'unfocus', 'unfold', 'unforc', 'unforese', 'unforeseen', 'unforget', 'unforgett', 'unforgiv', 'unforgiven', 'unfortun', 'unfortunatley', 'unfortunatli', 'unfound', 'unfreez', 'unfriendli', 'unfulfil', 'unfunni', 'unfurl', 'unglu', 'ungodli', 'ungrat', 'unhappi', 'unhappili', 'unharm', 'unhealthi', 'unheard', 'unhelp', 'unherald', 'unhing', 'unholi', 'unhurri', 'uni', 'unicorn', 'unidentifi', 'unif', 'unifi', 'uniform', 'uniformli', 'unihors', 'unilater', 'unimagin', 'unimport', 'unimpress', 'uninform', 'uninhabit', 'uninhibit', 'uniniti', 'uninspir', 'uninstal', 'unintellig', 'unintend', 'unintent', 'uninterest', 'uninterrupt', 'unintuit', 'uninvit', 'uninvolv', 'union', 'uniqu', 'unison', 'unistal', 'unit', 'uniti', 'univ', 'univers', 'unix', 'unjust', 'unjustifi', 'unjustli', 'unkempt', 'unkind', 'unknow', 'unknowingli', 'unknown', 'unlearn', 'unleash', 'unless', 'unlik', 'unlimit', 'unlisten', 'unload', 'unlock', 'unlov', 'unlucki', 'unmanag', 'unmark', 'unmarri', 'unmask', 'unmatch', 'unmemor', 'unment', 'unmet', 'unmiss', 'unmistak', 'unmitig', 'unmotiv', 'unmount', 'unmov', 'unnam', 'unnatur', 'unneccesari', 'unneccessari', 'unnecessari', 'unnecessarili', 'unneed', 'unnerv', 'unnot', 'unnotic', 'uno', 'unobtain', 'unobtrus', 'unoffici', 'unopen', 'unorgan', 'unorigin', 'unorthodox', 'unpack', 'unpaid', 'unpalat', 'unparal', 'unparallel', 'unplan', 'unplay', 'unpleas', 'unpleasantli', 'unplug', 'unpolish', 'unpopular', 'unpreced', 'unpredict', 'unprepar', 'unpretenti', 'unproduct', 'unprofession', 'unprotect', 'unproven', 'unprovok', 'unpublish', 'unpunish', 'unputdown', 'unqualifi', 'unquest', 'unquestion', 'unrat', 'unravel', 'unreach', 'unread', 'unreal', 'unrealist', 'unreason', 'unrecogn', 'unrecogniz', 'unredeem', 'unrefin', 'unregul', 'unrel', 'unrelat', 'unreleas', 'unrelentingli', 'unreli', 'unremark', 'unremit', 'unrepent', 'unrequit', 'unreservedli', 'unresolv', 'unrespons', 'unrest', 'unrestrain', 'unrestrict', 'unreward', 'unriv', 'unrol', 'unruli', 'unsaf', 'unsaid', 'unsatisfactori', 'unsatisfi', 'unsavori', 'unscath', 'unscientif', 'unscratch', 'unscript', 'unscrupul', 'unseat', 'unsecur', 'unseeli', 'unseemli', 'unseen', 'unselfish', 'unsentiment', 'unsettl', 'unsexi', 'unshak', 'unsightli', 'unskil', 'unsolicit', 'unsolv', 'unsophist', 'unsound', 'unspar', 'unspeak', 'unspecifi', 'unspectacular', 'unspoil', 'unspoken', 'unstabl', 'unsteadi', 'unstopp', 'unstructur', 'unstuck', 'unsubstanti', 'unsuccess', 'unsuit', 'unsung', 'unsupervis', 'unsupport', 'unsur', 'unsurpass', 'unsurpris', 'unsurprisingli', 'unsuspect', 'unsustain', 'unsympathet', 'untaint', 'untal', 'untam', 'untangl', 'untap', 'unten', 'untest', 'unthink', 'unti', 'untidi', 'until', 'untim', 'untitl', 'unto', 'untold', 'untouch', 'untradit', 'untrain', 'untreat', 'untru', 'untrust', 'untrustworthi', 'untruth', 'unturn', 'unus', 'unusu', 'unvarnish', 'unveil', 'unwant', 'unwarr', 'unwash', 'unwatch', 'unwav', 'unwel', 'unwelcom', 'unwieldi', 'unwil', 'unwilling', 'unwillingli', 'unwind', 'unwis', 'unwit', 'unwittingli', 'unworldli', 'unworthi', 'unwound', 'unwrap', 'unwritten', 'unyield', 'unzip', 'uo', 'up', 'upbeat', 'upbring', 'upc', 'upcom', 'upconvert', 'updat', 'updik', 'upend', 'upfront', 'upgrad', 'upheav', 'upheld', 'uphil', 'uphold', 'upkeep', 'uplift', 'upload', 'upon', 'upper', 'uppiti', 'upright', 'upris', 'uproar', 'uproari', 'uproot', 'upscal', 'upset', 'upshot', 'upsid', 'upstag', 'upstair', 'upstand', 'upstart', 'upstat', 'uptak', 'uptempo', 'uptight', 'upto', 'upton', 'uptown', 'upward', 'ur', 'urban', 'urbervil', 'urchin', 'ure', 'urg', 'urgenc', 'urgent', 'uri', 'uriah', 'urin', 'url', 'urn', 'urquhart', 'ursula', 'uruguay', 'us', 'usa', 'usabl', 'usaf', 'usag', 'usal', 'usb', 'usc', 'usd', 'usda', 'use', 'useabl', 'useful', 'useless', 'user', 'usernam', 'usher', 'usmc', 'usn', 'usp', 'uss', 'ussr', 'ust', 'ustinov', 'ustwo', 'usual', 'usurp', 'usus', 'ut', 'utah', 'ute', 'utensil', 'utero', 'utf', 'uther', 'util', 'utilis', 'utilitarian', 'utmost', 'utopia', 'utopian', 'utter', 'utterli', 'utub', 'uuml', 'uv', 'uw', 'ux', 'va', 'vacanc', 'vacant', 'vacat', 'vaccin', 'vacil', 'vacuou', 'vacuum', 'vader', 'vadi', 'vaelin', 'vagabond', 'vagari', 'vagina', 'vagrant', 'vagu', 'vai', 'vain', 'val', 'valanc', 'valdez', 'vale', 'valentin', 'valentina', 'valeri', 'valet', 'valhalla', 'valiant', 'valiantli', 'valid', 'valium', 'valjean', 'valkyri', 'valley', 'valli', 'valor', 'valu', 'valuabl', 'valuat', 'valv', 'vamp', 'vampir', 'vampyr', 'van', 'vanc', 'vancouv', 'vandal', 'vanderbilt', 'vanderm', 'vane', 'vanessa', 'vang', 'vanger', 'vanguard', 'vanilla', 'vanish', 'vaniti', 'vanquish', 'vantag', 'vanzetti', 'vapid', 'vapor', 'var', 'varga', 'vari', 'variabl', 'varianc', 'variant', 'variat', 'varieti', 'variou', 'various', 'varnish', 'vase', 'vasic', 'vast', 'vastli', 'vat', 'vatican', 'vaudevil', 'vaughan', 'vaughn', 'vault', 'vaunt', 'vaynerchuk', 'vb', 'vba', 'vc', 'vcr', 'vd', 've', 'vece', 'vector', 'veda', 'vedder', 'vee', 'veer', 'veg', 'vega', 'vegan', 'veget', 'vegetarian', 'veggi', 'vehement', 'vehicl', 'veil', 'vein', 'veiw', 'vel', 'veloc', 'velociraptor', 'velvet', 'velveti', 'venal', 'vend', 'vender', 'vendetta', 'vendor', 'veneer', 'vener', 'venetia', 'venezuela', 'veng', 'venganc', 'vengeanc', 'vengenc', 'veni', 'venic', 'venom', 'vent', 'ventil', 'ventur', 'ventura', 'venu', 'ver', 'vera', 'verac', 'verb', 'verbag', 'verbal', 'verbatim', 'verbiag', 'verbos', 'verdad', 'verdi', 'verdict', 'verg', 'verhoeven', 'verif', 'verifi', 'verion', 'verisimilitud', 'verison', 'verit', 'verita', 'veriti', 'verizon', 'vermeer', 'vermont', 'vern', 'vernacular', 'vernon', 'verona', 'veronica', 'verri', 'vers', 'versa', 'versail', 'versatil', 'versi', 'version', 'versitil', 'verson', 'versu', 'vert', 'vertic', 'vertigo', 'verv', 'vesper', 'vessel', 'vest', 'vestig', 'vesuviu', 'vet', 'veteran', 'veterinarian', 'vetinari', 'vevo', 'vex', 'vey', 'vez', 'vfx', 'vg', 'vh', 'vi', 'via', 'viabil', 'viabl', 'viagra', 'vibe', 'viber', 'vibram', 'vibranc', 'vibrant', 'vibrantli', 'vibrat', 'vibrato', 'vic', 'vicari', 'vice', 'vici', 'vicin', 'viciou', 'vicious', 'vicissitud', 'vick', 'vicker', 'vicki', 'victarion', 'victim', 'victor', 'victori', 'victoria', 'victorian', 'vid', 'vida', 'vidal', 'video', 'videodrom', 'videogam', 'videograph', 'videographi', 'videoid', 'videophil', 'videotap', 'vidi', 'vido', 'vie', 'vien', 'vienna', 'viennes', 'viet', 'vietnam', 'vietnames', 'view', 'viewabl', 'viewer', 'viewership', 'viewpoint', 'viewson', 'vig', 'viggo', 'vigil', 'vigilant', 'vignett', 'vigor', 'vii', 'viii', 'vike', 'viktor', 'vile', 'vilifi', 'vill', 'villa', 'villag', 'villai', 'villain', 'villaini', 'villan', 'villazon', 'villian', 'vime', 'vin', 'vinc', 'vincent', 'vinci', 'vindic', 'vindict', 'vine', 'vinegar', 'vineyard', 'ving', 'vinni', 'vintag', 'vinyl', 'viola', 'violat', 'violenc', 'violent', 'violet', 'violetta', 'violin', 'violinist', 'vip', 'viper', 'viral', 'virgil', 'virgin', 'virginia', 'viril', 'virtu', 'virtual', 'virtuos', 'virtuoso', 'virtuou', 'viru', 'virul', 'virus', 'visa', 'visag', 'viscer', 'visconti', 'viscou', 'vise', 'visibl', 'vision', 'visionari', 'visit', 'visitor', 'vist', 'vista', 'visto', 'visual', 'visualis', 'vita', 'vital', 'vitalog', 'vitamin', 'vito', 'vitriol', 'viv', 'viva', 'vivac', 'vivaci', 'vivaldi', 'vive', 'vivian', 'vivid', 'vividli', 'vivien', 'vivo', 'vivr', 'vixen', 'viz', 'vizio', 'vj', 'vlad', 'vladimir', 'vlc', 'vlog', 'vlogbroth', 'vm', 'vma', 'vnc', 'vo', 'vocab', 'vocabulari', 'vocal', 'vocalist', 'vocat', 'voce', 'vocod', 'vod', 'vodka', 'vogel', 'vogu', 'voic', 'voiceov', 'void', 'voight', 'voila', 'vol', 'volatil', 'volbeat', 'volcan', 'volcano', 'voldemort', 'volit', 'volleybal', 'volo', 'volt', 'volta', 'voltag', 'voltair', 'volturi', 'volum', 'volumin', 'volumn', 'volunt', 'voluntari', 'voluntarili', 'voluptu', 'volver', 'vomit', 'von', 'vonnegut', 'voodoo', 'vor', 'voraci', 'vorkosigan', 'vorpatril', 'vortex', 'vote', 'voter', 'vou', 'vouch', 'voucher', 'vow', 'vowel', 'vox', 'voyag', 'voyeur', 'voyeurist', 'voz', 'vp', 'vpo', 'vr', 'vs', 'vt', 'vtube', 'vu', 'vudu', 'vulcan', 'vulgar', 'vulner', 'vultur', 'vuner', 'vw', 'vy', 'vynil', 'wa', 'waa', 'waaaaaaay', 'waaaaaay', 'waaaaay', 'waaaay', 'waaay', 'wach', 'wachowski', 'wack', 'wacken', 'wacki', 'wacko', 'wad', 'wade', 'waffl', 'waft', 'wag', 'wage', 'wager', 'wagner', 'wagnerian', 'wagon', 'wah', 'wahlberg', 'waht', 'wai', 'waif', 'wail', 'wailer', 'wain', 'wainwright', 'waist', 'waister', 'waistlin', 'wait', 'waiter', 'waitin', 'waitress', 'waitzkin', 'waiv', 'waiver', 'waka', 'wake', 'wakeman', 'wakeup', 'wal', 'walberg', 'walden', 'waldo', 'waldorf', 'wale', 'walhberg', 'walk', 'walkabout', 'walken', 'walker', 'walki', 'walkin', 'walkman', 'walkthrough', 'walkur', 'walkway', 'wall', 'wallac', 'wallach', 'walland', 'wallbang', 'wallend', 'waller', 'wallet', 'wallflow', 'walli', 'wallop', 'wallow', 'wallpap', 'wallstreet', 'walmart', 'walnut', 'walru', 'walsh', 'walt', 'walter', 'walton', 'waltz', 'wan', 'wand', 'wanda', 'wander', 'wanderlust', 'wane', 'wang', 'wank', 'wanna', 'wannab', 'wannabe', 'want', 'wanton', 'war', 'warbl', 'warbreak', 'warchild', 'warcraft', 'ward', 'warden', 'wardrob', 'ware', 'warehous', 'warfar', 'warg', 'wargam', 'warhead', 'warhol', 'warhors', 'wari', 'warlock', 'warlord', 'warm', 'warmer', 'warmest', 'warmli', 'warmong', 'warmth', 'warmup', 'warn', 'warner', 'warp', 'warrant', 'warranti', 'warren', 'warrior', 'warsaw', 'warship', 'wart', 'wartim', 'warwick', 'wash', 'washer', 'washi', 'washington', 'wasikowska', 'wasnt', 'wasp', 'wast', 'wasteland', 'waster', 'wat', 'watanab', 'watch', 'watchabl', 'watcher', 'watchin', 'watchlist', 'watchmak', 'watchman', 'watchmen', 'watchtow', 'wate', 'water', 'waterboy', 'watercolor', 'waterfal', 'waterfront', 'waterg', 'waterhous', 'wateri', 'waterloo', 'watermark', 'watermelon', 'waterproof', 'watersh', 'watership', 'waterwork', 'wath', 'wathc', 'watkin', 'watley', 'watney', 'watson', 'watt', 'watterson', 'waugh', 'wav', 'wave', 'waveform', 'wavelength', 'waver', 'wavi', 'wax', 'waxi', 'way', 'wayan', 'waylon', 'wayn', 'waysid', 'wayward', 'wayyy', 'wayyyi', 'wayyyyy', 'waze', 'wazoo', 'wb', 'wbid', 'wc', 'wd', 'we', 'wea', 'weak', 'weaken', 'weaker', 'weakest', 'weakl', 'weakli', 'wealth', 'wealthi', 'wealthier', 'wealthiest', 'wean', 'weapon', 'weaponri', 'wear', 'wearabl', 'weari', 'wearisom', 'weasel', 'weasley', 'weather', 'weatherbug', 'weatherman', 'weav', 'weaver', 'web', 'webb', 'webber', 'webcam', 'weber', 'webisod', 'webpag', 'websit', 'webster', 'wed', 'wedg', 'wedlock', 'wednesday', 'wee', 'weed', 'weedon', 'week', 'weekday', 'weekend', 'weekli', 'weeknd', 'ween', 'weeni', 'weep', 'weepi', 'weevil', 'weezer', 'wei', 'weigh', 'weight', 'weighti', 'weightless', 'weightlift', 'weightloss', 'weinberg', 'weiner', 'weinstein', 'weir', 'weird', 'weirder', 'weirdest', 'weirdli', 'weirdo', 'weiss', 'weissenstein', 'weisz', 'wel', 'welch', 'welcom', 'weld', 'welfar', 'well', 'wellb', 'weller', 'wellington', 'welll', 'welp', 'welsh', 'welti', 'wembley', 'wen', 'wench', 'wend', 'wendel', 'wender', 'wendi', 'went', 'wentworth', 'wept', 'werent', 'werewolf', 'werewolv', 'werner', 'werther', 'wesley', 'wessel', 'west', 'westenra', 'westerfeld', 'western', 'westero', 'westminst', 'weston', 'westward', 'westworld', 'wet', 'weta', 'wether', 'wetton', 'weyland', 'wh', 'wha', 'whack', 'whacki', 'whale', 'wham', 'whammi', 'wharton', 'what', 'whatch', 'whatev', 'whatney', 'whatnot', 'whatsoev', 'whe', 'wheadon', 'wheat', 'wheather', 'wheaton', 'whedon', 'wheel', 'wheelchair', 'wheeler', 'wheelhous', 'wheez', 'whelm', 'whenc', 'whenev', 'where', 'wherea', 'whereabout', 'wherebi', 'whereev', 'wherefor', 'wherein', 'whereupon', 'wherev', 'wherewith', 'whet', 'whether', 'whew', 'whey', 'whi', 'whichev', 'whiff', 'whig', 'while', 'whilst', 'whim', 'whimper', 'whimpi', 'whimsi', 'whimsic', 'whin', 'whine', 'whiner', 'whiney', 'whini', 'whinni', 'whip', 'whiplash', 'whirl', 'whirlpool', 'whirlwind', 'whisk', 'whisker', 'whiskey', 'whiski', 'whisper', 'whispersync', 'whistl', 'whit', 'whitak', 'white', 'whitehead', 'whitehous', 'whitesnak', 'whitewash', 'whitey', 'whitfield', 'whitford', 'whith', 'whither', 'whitman', 'whitney', 'whittak', 'whitti', 'whittl', 'whiz', 'whizz', 'who', 'whoa', 'whodunit', 'whodunnit', 'whoever', 'whole', 'wholeheartedli', 'wholesal', 'wholesom', 'wholli', 'whomev', 'whoo', 'whoop', 'whoopi', 'whoosh', 'whop', 'whopper', 'whore', 'whose', 'whovian', 'wi', 'wicca', 'wiccan', 'wich', 'wick', 'wicked', 'wickedli', 'wicker', 'wickham', 'wide', 'widen', 'wider', 'widescreen', 'widespread', 'widest', 'widget', 'widow', 'width', 'wield', 'wiener', 'wierd', 'wife', 'wifi', 'wig', 'wiggin', 'wiggl', 'wight', 'wih', 'wii', 'wiig', 'wiki', 'wikipedia', 'wil', 'wilberforc', 'wilbur', 'wilburi', 'wilco', 'wild', 'wildcard', 'wilder', 'wildest', 'wildfir', 'wildflow', 'wildl', 'wildli', 'wildlif', 'wile', 'wiley', 'wilfr', 'wilhelm', 'wili', 'wilk', 'wilki', 'wilkinson', 'will', 'willard', 'willem', 'willi', 'william', 'williamsburg', 'williamson', 'willing', 'willingham', 'willingli', 'willl', 'willoughbi', 'willow', 'willpow', 'wilma', 'wilson', 'wilt', 'wilton', 'wim', 'wimp', 'wimpi', 'win', 'winc', 'winchest', 'wind', 'windfal', 'windi', 'windmil', 'window', 'windshield', 'windsor', 'windup', 'wine', 'winehous', 'wineri', 'winfrey', 'wing', 'winger', 'wink', 'winnabl', 'winner', 'winni', 'winona', 'winslet', 'winslett', 'winslow', 'winsom', 'winstead', 'winston', 'winter', 'winterfel', 'winteri', 'winterland', 'wintersun', 'wintour', 'wintri', 'winwood', 'wipe', 'wiper', 'wire', 'wiredweird', 'wireless', 'wirelessli', 'wisconsin', 'wisdom', 'wise', 'wisecrack', 'wiseman', 'wiser', 'wisest', 'wish', 'wishbon', 'wishi', 'wishlist', 'wisp', 'wispi', 'wist', 'wisteria', 'wit', 'witch', 'witchcraft', 'witchi', 'with', 'witha', 'withdraw', 'withdrawl', 'withdrawn', 'withdrew', 'wither', 'witherspoon', 'withheld', 'withhold', 'within', 'without', 'withstand', 'withstood', 'witht', 'withth', 'witless', 'witt', 'witti', 'wittic', 'wittier', 'wittiest', 'wive', 'wiz', 'wizard', 'wizardri', 'wizen', 'wk', 'wll', 'wm', 'wmd', 'wmv', 'wn', 'wo', 'woa', 'woah', 'wobbl', 'wodehous', 'woe', 'woeful', 'woefulli', 'wok', 'woke', 'woken', 'wold', 'wolf', 'wolff', 'wolfgang', 'wolfhound', 'wolfi', 'wolfman', 'wolfmoth', 'wolfram', 'wolstenholm', 'wolv', 'wolverin', 'womack', 'woman', 'womanhood', 'womb', 'women', 'wond', 'wonder', 'wonderful', 'wonderland', 'wondrou', 'wondrous', 'wong', 'wonk', 'wonka', 'wonki', 'wont', 'woo', 'wood', 'woodburi', 'wooden', 'woodhous', 'woodi', 'woodland', 'woodley', 'woodroof', 'woodrow', 'woodruff', 'woodstock', 'woodvil', 'woodward', 'woodwind', 'woodwork', 'woof', 'woofer', 'woogi', 'woohoo', 'wool', 'woola', 'woolf', 'woolfson', 'wooo', 'woooo', 'woop', 'wooster', 'woot', 'wooten', 'wop', 'wor', 'word', 'wordi', 'wordless', 'wordli', 'wordplay', 'wordpress', 'wordsmith', 'wore', 'worf', 'work', 'workabl', 'workahol', 'workaround', 'workbook', 'workday', 'worker', 'workflow', 'workforc', 'workin', 'workload', 'workman', 'workmanlik', 'workmanship', 'workout', 'workplac', 'workprint', 'worksheet', 'workshop', 'workspac', 'workweek', 'worl', 'world', 'worldbuild', 'worldli', 'worldview', 'worldwid', 'worm', 'wormhol', 'worn', 'worri', 'worrisom', 'wors', 'worsen', 'worship', 'worshipp', 'worst', 'wort', 'worth', 'worthi', 'worthington', 'worthless', 'worthwhil', 'worthwil', 'wot', 'wotan', 'wotc', 'wote', 'woth', 'woud', 'wouk', 'woul', 'would', 'woulda', 'wouldnt', 'wouldv', 'wound', 'wounder', 'wove', 'woven', 'wow', 'wowza', 'wowzer', 'woz', 'wozniak', 'wp', 'wrack', 'wraith', 'wrangl', 'wrap', 'wrape', 'wrapper', 'wrath', 'wray', 'wreak', 'wreath', 'wreck', 'wreckag', 'wrecker', 'wren', 'wrench', 'wrenchingli', 'wrest', 'wrestl', 'wrestler', 'wretch', 'wri', 'wriggl', 'wright', 'wring', 'wringer', 'wrinkl', 'wrist', 'writ', 'write', 'writen', 'writer', 'writh', 'written', 'writter', 'wrong', 'wrongdo', 'wrongli', 'wrote', 'wrought', 'wrung', 'wryli', 'ws', 'wsj', 'wt', 'wtc', 'wtf', 'wth', 'wtih', 'wu', 'wunderlist', 'wuss', 'wussi', 'wuther', 'ww', 'wwe', 'wwi', 'wwii', 'wwll', 'www', 'wwz', 'wyatt', 'wyld', 'wyman', 'wynn', 'wynton', 'wyom', 'wyr', 'xanadu', 'xander', 'xandria', 'xavier', 'xbmc', 'xbox', 'xd', 'xena', 'xenocid', 'xenomorph', 'xenophobia', 'xer', 'xerox', 'xerx', 'xi', 'xiii', 'xindi', 'xiv', 'xl', 'xm', 'xma', 'xmen', 'xo', 'xoom', 'xoxo', 'xp', 'xperia', 'xs', 'xscape', 'xt', 'xtc', 'xtina', 'xtra', 'xtreme', 'xvi', 'xx', 'xxx', 'xy', 'xylophon', 'xyloto', 'xyz', 'ya', 'yac', 'yacht', 'yada', 'yadda', 'yah', 'yahoo', 'yahweh', 'yak', 'yakuza', 'yale', 'yall', 'yamaha', 'yamato', 'yammer', 'yang', 'yank', 'yanke', 'yann', 'yanni', 'yap', 'yard', 'yardbird', 'yardstick', 'yarn', 'yate', 'yawn', 'yawner', 'yay', 'ye', 'yea', 'yeah', 'year', 'yearbook', 'yearli', 'yearn', 'yeast', 'yeat', 'yeesh', 'yeezu', 'yeh', 'yelchin', 'yell', 'yeller', 'yellow', 'yellowston', 'yelp', 'yemen', 'yemeni', 'yen', 'yentl', 'yeoman', 'yep', 'yer', 'yergin', 'yessong', 'yesss', 'yessss', 'yesterday', 'yesteryear', 'yet', 'yeti', 'yhe', 'yi', 'yield', 'yike', 'yin', 'ying', 'yip', 'yipe', 'yippe', 'yippi', 'ymmv', 'yngwie', 'yo', 'yoda', 'yodel', 'yoga', 'yogi', 'yogurt', 'yoke', 'yoko', 'yolo', 'yon', 'yonker', 'yor', 'yore', 'york', 'yorker', 'yorkshir', 'yosemit', 'you', 'youll', 'young', 'youngblood', 'younger', 'youngest', 'youngin', 'youngster', 'your', 'youself', 'youth', 'youthanasia', 'youtub', 'youv', 'youvers', 'yoy', 'yoyo', 'ypu', 'yr', 'ys', 'ysabeau', 'yt', 'yu', 'yuck', 'yucki', 'yuja', 'yuk', 'yukon', 'yul', 'yule', 'yum', 'yuma', 'yummi', 'yup', 'yuppi', 'yuri', 'yve', 'yvonn', 'yyz', 'yz', 'za', 'zac', 'zach', 'zachari', 'zachariah', 'zack', 'zaf', 'zafon', 'zag', 'zahn', 'zak', 'zakk', 'zander', 'zandt', 'zane', 'zani', 'zap', 'zappa', 'zappo', 'zarathustra', 'zaz', 'zbrush', 'ze', 'zeal', 'zealand', 'zealot', 'zealotri', 'zealou', 'zeb', 'zebra', 'zed', 'zedd', 'zeffirelli', 'zeitgeist', 'zelah', 'zelazni', 'zelda', 'zellweg', 'zemecki', 'zen', 'zenith', 'zentangl', 'zep', 'zepp', 'zeppelin', 'zepplin', 'zeptolab', 'zero', 'zest', 'zeta', 'zeu', 'zhang', 'zhivago', 'zi', 'zig', 'ziggi', 'zigzag', 'zilch', 'zillion', 'zimbabw', 'zimmer', 'zimmerman', 'zinc', 'zing', 'zinger', 'zinn', 'zion', 'zip', 'ziplin', 'zipper', 'zippi', 'ziva', 'ziyi', 'zm', 'zo', 'zod', 'zodiac', 'zoe', 'zoey', 'zombi', 'zombieland', 'zombifi', 'zomg', 'zone', 'zoo', 'zooey', 'zookeep', 'zooland', 'zoolog', 'zoom', 'zooropa', 'zorro', 'zu', 'zuckerberg', 'zulu', 'zuma', 'zumba', 'zune', 'zurich', 'zusak', 'zweig', 'zynga', 'zz', 'zzz', 'zzzzzzz']\n"
          ],
          "name": "stdout"
        }
      ]
    },
    {
      "cell_type": "markdown",
      "metadata": {
        "id": "kQmnBCTvyQs5",
        "colab_type": "text"
      },
      "source": [
        "# Label classification"
      ]
    },
    {
      "cell_type": "code",
      "metadata": {
        "id": "Bvvw1V-ByWYI",
        "colab_type": "code",
        "outputId": "d022e3f5-4c3c-4220-e23d-1ef517846dae",
        "colab": {
          "base_uri": "https://localhost:8080/",
          "height": 1000
        }
      },
      "source": [
        "# Create the model with 1000 trees\n",
        "category_model = RandomForestClassifier(n_estimators=512, \n",
        "                               max_depth = 32,\n",
        "                               min_samples_leaf = 8,\n",
        "                               max_features = 'sqrt',\n",
        "                               verbose = 10,\n",
        "                               n_jobs=-1)\n",
        "# Fit on training data\n",
        "category_model.fit(X_train, train['product_category'])"
      ],
      "execution_count": 53,
      "outputs": [
        {
          "output_type": "stream",
          "text": [
            "[Parallel(n_jobs=-1)]: Using backend ThreadingBackend with 2 concurrent workers.\n"
          ],
          "name": "stderr"
        },
        {
          "output_type": "stream",
          "text": [
            "building tree 1 of 512building tree 2 of 512\n",
            "\n"
          ],
          "name": "stdout"
        },
        {
          "output_type": "stream",
          "text": [
            "[Parallel(n_jobs=-1)]: Done   1 tasks      | elapsed:    7.2s\n"
          ],
          "name": "stderr"
        },
        {
          "output_type": "stream",
          "text": [
            "building tree 3 of 512\n",
            "building tree 4 of 512\n",
            "building tree 5 of 512\n",
            "building tree 6 of 512\n"
          ],
          "name": "stdout"
        },
        {
          "output_type": "stream",
          "text": [
            "[Parallel(n_jobs=-1)]: Done   4 tasks      | elapsed:   17.2s\n"
          ],
          "name": "stderr"
        },
        {
          "output_type": "stream",
          "text": [
            "building tree 7 of 512\n",
            "building tree 8 of 512\n",
            "building tree 9 of 512\n",
            "building tree 10 of 512\n"
          ],
          "name": "stdout"
        },
        {
          "output_type": "stream",
          "text": [
            "[Parallel(n_jobs=-1)]: Done   9 tasks      | elapsed:   39.3s\n"
          ],
          "name": "stderr"
        },
        {
          "output_type": "stream",
          "text": [
            "building tree 11 of 512\n",
            "building tree 12 of 512\n",
            "building tree 13 of 512\n",
            "building tree 14 of 512\n",
            "building tree 15 of 512\n"
          ],
          "name": "stdout"
        },
        {
          "output_type": "stream",
          "text": [
            "[Parallel(n_jobs=-1)]: Done  14 tasks      | elapsed:   54.4s\n"
          ],
          "name": "stderr"
        },
        {
          "output_type": "stream",
          "text": [
            "building tree 16 of 512\n",
            "building tree 17 of 512\n",
            "building tree 18 of 512\n",
            "building tree 19 of 512\n",
            "building tree 20 of 512\n",
            "building tree 21 of 512\n",
            "building tree 22 of 512\n",
            "building tree 23 of 512\n"
          ],
          "name": "stdout"
        },
        {
          "output_type": "stream",
          "text": [
            "[Parallel(n_jobs=-1)]: Done  21 tasks      | elapsed:  1.4min\n"
          ],
          "name": "stderr"
        },
        {
          "output_type": "stream",
          "text": [
            "building tree 24 of 512\n",
            "building tree 25 of 512\n",
            "building tree 26 of 512\n",
            "building tree 27 of 512\n",
            "building tree 28 of 512\n",
            "building tree 29 of 512\n",
            "building tree 30 of 512\n"
          ],
          "name": "stdout"
        },
        {
          "output_type": "stream",
          "text": [
            "[Parallel(n_jobs=-1)]: Done  28 tasks      | elapsed:  1.9min\n"
          ],
          "name": "stderr"
        },
        {
          "output_type": "stream",
          "text": [
            "building tree 31 of 512\n",
            "building tree 32 of 512\n",
            "building tree 33 of 512\n",
            "building tree 34 of 512\n",
            "building tree 35 of 512\n",
            "building tree 36 of 512\n",
            "building tree 37 of 512\n",
            "building tree 38 of 512\n",
            "building tree 39 of 512\n"
          ],
          "name": "stdout"
        },
        {
          "output_type": "stream",
          "text": [
            "[Parallel(n_jobs=-1)]: Done  37 tasks      | elapsed:  2.4min\n"
          ],
          "name": "stderr"
        },
        {
          "output_type": "stream",
          "text": [
            "building tree 40 of 512\n",
            "building tree 41 of 512\n",
            "building tree 42 of 512\n",
            "building tree 43 of 512\n",
            "building tree 44 of 512\n",
            "building tree 45 of 512\n",
            "building tree 46 of 512\n",
            "building tree 47 of 512\n"
          ],
          "name": "stdout"
        },
        {
          "output_type": "stream",
          "text": [
            "[Parallel(n_jobs=-1)]: Done  46 tasks      | elapsed:  3.1min\n"
          ],
          "name": "stderr"
        },
        {
          "output_type": "stream",
          "text": [
            "building tree 48 of 512\n",
            "building tree 49 of 512\n",
            "building tree 50 of 512\n",
            "building tree 51 of 512\n",
            "building tree 52 of 512\n",
            "building tree 53 of 512\n",
            "building tree 54 of 512\n",
            "building tree 55 of 512\n",
            "building tree 56 of 512\n",
            "building tree 57 of 512\n",
            "building tree 58 of 512\n"
          ],
          "name": "stdout"
        },
        {
          "output_type": "stream",
          "text": [
            "[Parallel(n_jobs=-1)]: Done  57 tasks      | elapsed:  3.7min\n"
          ],
          "name": "stderr"
        },
        {
          "output_type": "stream",
          "text": [
            "building tree 59 of 512\n",
            "building tree 60 of 512\n",
            "building tree 61 of 512\n",
            "building tree 62 of 512\n",
            "building tree 63 of 512\n",
            "building tree 64 of 512\n",
            "building tree 65 of 512\n",
            "building tree 66 of 512\n",
            "building tree 67 of 512\n",
            "building tree 68 of 512\n",
            "building tree 69 of 512\n",
            "building tree 70 of 512\n"
          ],
          "name": "stdout"
        },
        {
          "output_type": "stream",
          "text": [
            "[Parallel(n_jobs=-1)]: Done  68 tasks      | elapsed:  4.5min\n"
          ],
          "name": "stderr"
        },
        {
          "output_type": "stream",
          "text": [
            "building tree 71 of 512\n",
            "building tree 72 of 512\n",
            "building tree 73 of 512\n",
            "building tree 74 of 512\n",
            "building tree 75 of 512\n",
            "building tree 76 of 512\n",
            "building tree 77 of 512\n",
            "building tree 78 of 512\n",
            "building tree 79 of 512\n",
            "building tree 80 of 512\n",
            "building tree 81 of 512\n",
            "building tree 82 of 512\n"
          ],
          "name": "stdout"
        },
        {
          "output_type": "stream",
          "text": [
            "[Parallel(n_jobs=-1)]: Done  81 tasks      | elapsed:  5.4min\n"
          ],
          "name": "stderr"
        },
        {
          "output_type": "stream",
          "text": [
            "building tree 83 of 512\n",
            "building tree 84 of 512\n",
            "building tree 85 of 512\n",
            "building tree 86 of 512\n",
            "building tree 87 of 512\n",
            "building tree 88 of 512\n",
            "building tree 89 of 512\n",
            "building tree 90 of 512\n",
            "building tree 91 of 512\n",
            "building tree 92 of 512\n",
            "building tree 93 of 512\n",
            "building tree 94 of 512\n",
            "building tree 95 of 512\n"
          ],
          "name": "stdout"
        },
        {
          "output_type": "stream",
          "text": [
            "[Parallel(n_jobs=-1)]: Done  94 tasks      | elapsed:  6.3min\n"
          ],
          "name": "stderr"
        },
        {
          "output_type": "stream",
          "text": [
            "building tree 96 of 512\n",
            "building tree 97 of 512\n",
            "building tree 98 of 512\n",
            "building tree 99 of 512\n",
            "building tree 100 of 512\n",
            "building tree 101 of 512\n",
            "building tree 102 of 512\n",
            "building tree 103 of 512\n",
            "building tree 104 of 512\n",
            "building tree 105 of 512\n",
            "building tree 106 of 512\n",
            "building tree 107 of 512\n",
            "building tree 108 of 512\n",
            "building tree 109 of 512\n",
            "building tree 110 of 512\n"
          ],
          "name": "stdout"
        },
        {
          "output_type": "stream",
          "text": [
            "[Parallel(n_jobs=-1)]: Done 109 tasks      | elapsed:  7.2min\n"
          ],
          "name": "stderr"
        },
        {
          "output_type": "stream",
          "text": [
            "building tree 111 of 512\n",
            "building tree 112 of 512\n",
            "building tree 113 of 512\n",
            "building tree 114 of 512\n",
            "building tree 115 of 512\n",
            "building tree 116 of 512\n",
            "building tree 117 of 512\n",
            "building tree 118 of 512\n",
            "building tree 119 of 512\n",
            "building tree 120 of 512\n",
            "building tree 121 of 512\n",
            "building tree 122 of 512\n",
            "building tree 123 of 512\n",
            "building tree 124 of 512\n",
            "building tree 125 of 512\n"
          ],
          "name": "stdout"
        },
        {
          "output_type": "stream",
          "text": [
            "[Parallel(n_jobs=-1)]: Done 124 tasks      | elapsed:  8.3min\n"
          ],
          "name": "stderr"
        },
        {
          "output_type": "stream",
          "text": [
            "building tree 126 of 512\n",
            "building tree 127 of 512\n",
            "building tree 128 of 512\n",
            "building tree 129 of 512\n",
            "building tree 130 of 512\n",
            "building tree 131 of 512\n",
            "building tree 132 of 512\n",
            "building tree 133 of 512\n",
            "building tree 134 of 512\n",
            "building tree 135 of 512\n",
            "building tree 136 of 512\n",
            "building tree 137 of 512\n",
            "building tree 138 of 512\n",
            "building tree 139 of 512\n",
            "building tree 140 of 512\n",
            "building tree 141 of 512\n",
            "building tree 142 of 512\n"
          ],
          "name": "stdout"
        },
        {
          "output_type": "stream",
          "text": [
            "[Parallel(n_jobs=-1)]: Done 141 tasks      | elapsed:  9.4min\n"
          ],
          "name": "stderr"
        },
        {
          "output_type": "stream",
          "text": [
            "building tree 143 of 512\n",
            "building tree 144 of 512\n",
            "building tree 145 of 512\n",
            "building tree 146 of 512\n",
            "building tree 147 of 512\n",
            "building tree 148 of 512\n",
            "building tree 149 of 512\n",
            "building tree 150 of 512\n",
            "building tree 151 of 512\n",
            "building tree 152 of 512\n",
            "building tree 153 of 512\n",
            "building tree 154 of 512\n",
            "building tree 155 of 512\n",
            "building tree 156 of 512\n",
            "building tree 157 of 512\n",
            "building tree 158 of 512\n",
            "building tree 159 of 512\n"
          ],
          "name": "stdout"
        },
        {
          "output_type": "stream",
          "text": [
            "[Parallel(n_jobs=-1)]: Done 158 tasks      | elapsed: 10.7min\n"
          ],
          "name": "stderr"
        },
        {
          "output_type": "stream",
          "text": [
            "building tree 160 of 512\n",
            "building tree 161 of 512\n",
            "building tree 162 of 512\n",
            "building tree 163 of 512\n",
            "building tree 164 of 512\n",
            "building tree 165 of 512\n",
            "building tree 166 of 512\n",
            "building tree 167 of 512\n",
            "building tree 168 of 512\n",
            "building tree 169 of 512\n",
            "building tree 170 of 512\n",
            "building tree 171 of 512\n",
            "building tree 172 of 512\n",
            "building tree 173 of 512\n",
            "building tree 174 of 512\n",
            "building tree 175 of 512\n",
            "building tree 176 of 512\n",
            "building tree 177 of 512\n",
            "building tree 178 of 512\n",
            "building tree 179 of 512\n"
          ],
          "name": "stdout"
        },
        {
          "output_type": "stream",
          "text": [
            "[Parallel(n_jobs=-1)]: Done 177 tasks      | elapsed: 12.0min\n"
          ],
          "name": "stderr"
        },
        {
          "output_type": "stream",
          "text": [
            "building tree 180 of 512\n",
            "building tree 181 of 512\n",
            "building tree 182 of 512\n",
            "building tree 183 of 512\n",
            "building tree 184 of 512\n",
            "building tree 185 of 512\n",
            "building tree 186 of 512\n",
            "building tree 187 of 512\n",
            "building tree 188 of 512\n",
            "building tree 189 of 512\n",
            "building tree 190 of 512\n",
            "building tree 191 of 512\n",
            "building tree 192 of 512\n",
            "building tree 193 of 512\n",
            "building tree 194 of 512\n",
            "building tree 195 of 512\n",
            "building tree 196 of 512\n",
            "building tree 197 of 512\n"
          ],
          "name": "stdout"
        },
        {
          "output_type": "stream",
          "text": [
            "[Parallel(n_jobs=-1)]: Done 196 tasks      | elapsed: 13.3min\n"
          ],
          "name": "stderr"
        },
        {
          "output_type": "stream",
          "text": [
            "building tree 198 of 512\n",
            "building tree 199 of 512\n",
            "building tree 200 of 512\n",
            "building tree 201 of 512\n",
            "building tree 202 of 512\n",
            "building tree 203 of 512\n",
            "building tree 204 of 512\n",
            "building tree 205 of 512\n",
            "building tree 206 of 512\n",
            "building tree 207 of 512\n",
            "building tree 208 of 512\n",
            "building tree 209 of 512\n",
            "building tree 210 of 512\n",
            "building tree 211 of 512\n",
            "building tree 212 of 512\n",
            "building tree 213 of 512\n",
            "building tree 214 of 512\n",
            "building tree 215 of 512\n",
            "building tree 216 of 512\n",
            "building tree 217 of 512\n",
            "building tree 218 of 512\n"
          ],
          "name": "stdout"
        },
        {
          "output_type": "stream",
          "text": [
            "[Parallel(n_jobs=-1)]: Done 217 tasks      | elapsed: 14.7min\n"
          ],
          "name": "stderr"
        },
        {
          "output_type": "stream",
          "text": [
            "building tree 219 of 512\n",
            "building tree 220 of 512\n",
            "building tree 221 of 512\n",
            "building tree 222 of 512\n",
            "building tree 223 of 512\n",
            "building tree 224 of 512\n",
            "building tree 225 of 512\n",
            "building tree 226 of 512\n",
            "building tree 227 of 512\n",
            "building tree 228 of 512\n",
            "building tree 229 of 512\n",
            "building tree 230 of 512\n",
            "building tree 231 of 512\n",
            "building tree 232 of 512\n",
            "building tree 233 of 512\n",
            "building tree 234 of 512\n",
            "building tree 235 of 512\n",
            "building tree 236 of 512\n",
            "building tree 237 of 512\n",
            "building tree 238 of 512\n",
            "building tree 239 of 512\n",
            "building tree 240 of 512\n"
          ],
          "name": "stdout"
        },
        {
          "output_type": "stream",
          "text": [
            "[Parallel(n_jobs=-1)]: Done 238 tasks      | elapsed: 16.3min\n"
          ],
          "name": "stderr"
        },
        {
          "output_type": "stream",
          "text": [
            "building tree 241 of 512\n",
            "building tree 242 of 512\n",
            "building tree 243 of 512\n",
            "building tree 244 of 512\n",
            "building tree 245 of 512\n",
            "building tree 246 of 512\n",
            "building tree 247 of 512\n",
            "building tree 248 of 512\n",
            "building tree 249 of 512\n",
            "building tree 250 of 512\n",
            "building tree 251 of 512\n",
            "building tree 252 of 512\n",
            "building tree 253 of 512\n",
            "building tree 254 of 512\n",
            "building tree 255 of 512\n",
            "building tree 256 of 512\n",
            "building tree 257 of 512\n",
            "building tree 258 of 512\n",
            "building tree 259 of 512\n",
            "building tree 260 of 512\n",
            "building tree 261 of 512\n",
            "building tree 262 of 512\n",
            "building tree 263 of 512\n"
          ],
          "name": "stdout"
        },
        {
          "output_type": "stream",
          "text": [
            "[Parallel(n_jobs=-1)]: Done 261 tasks      | elapsed: 17.7min\n"
          ],
          "name": "stderr"
        },
        {
          "output_type": "stream",
          "text": [
            "building tree 264 of 512\n",
            "building tree 265 of 512\n",
            "building tree 266 of 512\n",
            "building tree 267 of 512\n",
            "building tree 268 of 512\n",
            "building tree 269 of 512\n",
            "building tree 270 of 512\n",
            "building tree 271 of 512\n",
            "building tree 272 of 512\n",
            "building tree 273 of 512\n",
            "building tree 274 of 512\n",
            "building tree 275 of 512\n",
            "building tree 276 of 512\n",
            "building tree 277 of 512\n",
            "building tree 278 of 512\n",
            "building tree 279 of 512\n",
            "building tree 280 of 512\n",
            "building tree 281 of 512\n",
            "building tree 282 of 512\n",
            "building tree 283 of 512\n",
            "building tree 284 of 512\n",
            "building tree 285 of 512\n"
          ],
          "name": "stdout"
        },
        {
          "output_type": "stream",
          "text": [
            "[Parallel(n_jobs=-1)]: Done 284 tasks      | elapsed: 19.3min\n"
          ],
          "name": "stderr"
        },
        {
          "output_type": "stream",
          "text": [
            "building tree 286 of 512\n",
            "building tree 287 of 512\n",
            "building tree 288 of 512\n",
            "building tree 289 of 512\n",
            "building tree 290 of 512\n",
            "building tree 291 of 512\n",
            "building tree 292 of 512\n",
            "building tree 293 of 512\n",
            "building tree 294 of 512\n",
            "building tree 295 of 512\n",
            "building tree 296 of 512\n",
            "building tree 297 of 512\n",
            "building tree 298 of 512\n",
            "building tree 299 of 512\n",
            "building tree 300 of 512\n",
            "building tree 301 of 512\n",
            "building tree 302 of 512\n",
            "building tree 303 of 512\n",
            "building tree 304 of 512\n",
            "building tree 305 of 512\n",
            "building tree 306 of 512\n",
            "building tree 307 of 512\n",
            "building tree 308 of 512\n",
            "building tree 309 of 512\n",
            "building tree 310 of 512\n"
          ],
          "name": "stdout"
        },
        {
          "output_type": "stream",
          "text": [
            "[Parallel(n_jobs=-1)]: Done 309 tasks      | elapsed: 21.1min\n"
          ],
          "name": "stderr"
        },
        {
          "output_type": "stream",
          "text": [
            "building tree 311 of 512\n",
            "building tree 312 of 512\n",
            "building tree 313 of 512\n",
            "building tree 314 of 512\n",
            "building tree 315 of 512\n",
            "building tree 316 of 512\n",
            "building tree 317 of 512\n",
            "building tree 318 of 512\n",
            "building tree 319 of 512\n",
            "building tree 320 of 512\n",
            "building tree 321 of 512\n",
            "building tree 322 of 512\n",
            "building tree 323 of 512\n",
            "building tree 324 of 512\n",
            "building tree 325 of 512\n",
            "building tree 326 of 512\n",
            "building tree 327 of 512\n",
            "building tree 328 of 512\n",
            "building tree 329 of 512\n",
            "building tree 330 of 512\n",
            "building tree 331 of 512\n",
            "building tree 332 of 512\n",
            "building tree 333 of 512\n",
            "building tree 334 of 512\n",
            "building tree 335 of 512\n",
            "building tree 336 of 512\n"
          ],
          "name": "stdout"
        },
        {
          "output_type": "stream",
          "text": [
            "[Parallel(n_jobs=-1)]: Done 334 tasks      | elapsed: 22.7min\n"
          ],
          "name": "stderr"
        },
        {
          "output_type": "stream",
          "text": [
            "building tree 337 of 512\n",
            "building tree 338 of 512\n",
            "building tree 339 of 512\n",
            "building tree 340 of 512\n",
            "building tree 341 of 512\n",
            "building tree 342 of 512\n",
            "building tree 343 of 512\n",
            "building tree 344 of 512\n",
            "building tree 345 of 512\n",
            "building tree 346 of 512\n",
            "building tree 347 of 512\n",
            "building tree 348 of 512\n",
            "building tree 349 of 512\n",
            "building tree 350 of 512\n",
            "building tree 351 of 512\n",
            "building tree 352 of 512\n",
            "building tree 353 of 512\n",
            "building tree 354 of 512\n",
            "building tree 355 of 512\n",
            "building tree 356 of 512\n",
            "building tree 357 of 512\n",
            "building tree 358 of 512\n",
            "building tree 359 of 512\n",
            "building tree 360 of 512\n",
            "building tree 361 of 512\n",
            "building tree 362 of 512\n"
          ],
          "name": "stdout"
        },
        {
          "output_type": "stream",
          "text": [
            "[Parallel(n_jobs=-1)]: Done 361 tasks      | elapsed: 24.7min\n"
          ],
          "name": "stderr"
        },
        {
          "output_type": "stream",
          "text": [
            "building tree 363 of 512\n",
            "building tree 364 of 512\n",
            "building tree 365 of 512\n",
            "building tree 366 of 512\n",
            "building tree 367 of 512\n",
            "building tree 368 of 512\n",
            "building tree 369 of 512\n",
            "building tree 370 of 512\n",
            "building tree 371 of 512\n",
            "building tree 372 of 512\n",
            "building tree 373 of 512\n",
            "building tree 374 of 512\n",
            "building tree 375 of 512\n",
            "building tree 376 of 512\n",
            "building tree 377 of 512\n",
            "building tree 378 of 512\n",
            "building tree 379 of 512\n",
            "building tree 380 of 512\n",
            "building tree 381 of 512\n",
            "building tree 382 of 512\n",
            "building tree 383 of 512\n",
            "building tree 384 of 512\n",
            "building tree 385 of 512\n",
            "building tree 386 of 512\n",
            "building tree 387 of 512\n",
            "building tree 388 of 512\n",
            "building tree 389 of 512\n"
          ],
          "name": "stdout"
        },
        {
          "output_type": "stream",
          "text": [
            "[Parallel(n_jobs=-1)]: Done 388 tasks      | elapsed: 26.5min\n"
          ],
          "name": "stderr"
        },
        {
          "output_type": "stream",
          "text": [
            "building tree 390 of 512\n",
            "building tree 391 of 512\n",
            "building tree 392 of 512\n",
            "building tree 393 of 512\n",
            "building tree 394 of 512\n",
            "building tree 395 of 512\n",
            "building tree 396 of 512\n",
            "building tree 397 of 512\n",
            "building tree 398 of 512\n",
            "building tree 399 of 512\n",
            "building tree 400 of 512\n",
            "building tree 401 of 512\n",
            "building tree 402 of 512\n",
            "building tree 403 of 512\n",
            "building tree 404 of 512\n",
            "building tree 405 of 512\n",
            "building tree 406 of 512\n",
            "building tree 407 of 512\n",
            "building tree 408 of 512\n",
            "building tree 409 of 512\n",
            "building tree 410 of 512\n",
            "building tree 411 of 512\n",
            "building tree 412 of 512\n",
            "building tree 413 of 512\n",
            "building tree 414 of 512\n",
            "building tree 415 of 512\n",
            "building tree 416 of 512\n",
            "building tree 417 of 512\n",
            "building tree 418 of 512\n"
          ],
          "name": "stdout"
        },
        {
          "output_type": "stream",
          "text": [
            "[Parallel(n_jobs=-1)]: Done 417 tasks      | elapsed: 28.4min\n"
          ],
          "name": "stderr"
        },
        {
          "output_type": "stream",
          "text": [
            "building tree 419 of 512\n",
            "building tree 420 of 512\n",
            "building tree 421 of 512\n",
            "building tree 422 of 512\n",
            "building tree 423 of 512\n",
            "building tree 424 of 512\n",
            "building tree 425 of 512\n",
            "building tree 426 of 512\n",
            "building tree 427 of 512\n",
            "building tree 428 of 512\n",
            "building tree 429 of 512\n",
            "building tree 430 of 512\n",
            "building tree 431 of 512\n",
            "building tree 432 of 512\n",
            "building tree 433 of 512\n",
            "building tree 434 of 512\n",
            "building tree 435 of 512\n",
            "building tree 436 of 512\n",
            "building tree 437 of 512\n",
            "building tree 438 of 512\n",
            "building tree 439 of 512\n",
            "building tree 440 of 512\n",
            "building tree 441 of 512\n",
            "building tree 442 of 512\n",
            "building tree 443 of 512\n",
            "building tree 444 of 512\n",
            "building tree 445 of 512\n",
            "building tree 446 of 512\n",
            "building tree 447 of 512\n",
            "building tree 448 of 512\n"
          ],
          "name": "stdout"
        },
        {
          "output_type": "stream",
          "text": [
            "[Parallel(n_jobs=-1)]: Done 446 tasks      | elapsed: 30.3min\n"
          ],
          "name": "stderr"
        },
        {
          "output_type": "stream",
          "text": [
            "building tree 449 of 512\n",
            "building tree 450 of 512\n",
            "building tree 451 of 512\n",
            "building tree 452 of 512\n",
            "building tree 453 of 512\n",
            "building tree 454 of 512\n",
            "building tree 455 of 512\n",
            "building tree 456 of 512\n",
            "building tree 457 of 512\n",
            "building tree 458 of 512\n",
            "building tree 459 of 512\n",
            "building tree 460 of 512\n",
            "building tree 461 of 512\n",
            "building tree 462 of 512\n",
            "building tree 463 of 512\n",
            "building tree 464 of 512\n",
            "building tree 465 of 512\n",
            "building tree 466 of 512\n",
            "building tree 467 of 512\n",
            "building tree 468 of 512\n",
            "building tree 469 of 512\n",
            "building tree 470 of 512\n",
            "building tree 471 of 512\n",
            "building tree 472 of 512\n",
            "building tree 473 of 512\n",
            "building tree 474 of 512\n",
            "building tree 475 of 512\n",
            "building tree 476 of 512\n",
            "building tree 477 of 512\n",
            "building tree 478 of 512\n"
          ],
          "name": "stdout"
        },
        {
          "output_type": "stream",
          "text": [
            "[Parallel(n_jobs=-1)]: Done 477 tasks      | elapsed: 32.4min\n"
          ],
          "name": "stderr"
        },
        {
          "output_type": "stream",
          "text": [
            "building tree 479 of 512\n",
            "building tree 480 of 512\n",
            "building tree 481 of 512\n",
            "building tree 482 of 512\n",
            "building tree 483 of 512\n",
            "building tree 484 of 512\n",
            "building tree 485 of 512\n",
            "building tree 486 of 512\n",
            "building tree 487 of 512\n",
            "building tree 488 of 512\n",
            "building tree 489 of 512\n",
            "building tree 490 of 512\n",
            "building tree 491 of 512\n",
            "building tree 492 of 512\n",
            "building tree 493 of 512\n",
            "building tree 494 of 512\n",
            "building tree 495 of 512\n",
            "building tree 496 of 512\n",
            "building tree 497 of 512\n",
            "building tree 498 of 512\n",
            "building tree 499 of 512\n",
            "building tree 500 of 512\n",
            "building tree 501 of 512\n",
            "building tree 502 of 512\n",
            "building tree 503 of 512\n",
            "building tree 504 of 512\n",
            "building tree 505 of 512\n",
            "building tree 506 of 512\n",
            "building tree 507 of 512\n",
            "building tree 508 of 512\n",
            "building tree 509 of 512\n"
          ],
          "name": "stdout"
        },
        {
          "output_type": "stream",
          "text": [
            "[Parallel(n_jobs=-1)]: Done 508 tasks      | elapsed: 34.5min\n"
          ],
          "name": "stderr"
        },
        {
          "output_type": "stream",
          "text": [
            "building tree 510 of 512\n",
            "building tree 511 of 512\n",
            "building tree 512 of 512\n"
          ],
          "name": "stdout"
        },
        {
          "output_type": "stream",
          "text": [
            "[Parallel(n_jobs=-1)]: Done 512 out of 512 | elapsed: 34.7min finished\n"
          ],
          "name": "stderr"
        },
        {
          "output_type": "execute_result",
          "data": {
            "text/plain": [
              "RandomForestClassifier(bootstrap=True, ccp_alpha=0.0, class_weight=None,\n",
              "                       criterion='gini', max_depth=32, max_features='sqrt',\n",
              "                       max_leaf_nodes=None, max_samples=None,\n",
              "                       min_impurity_decrease=0.0, min_impurity_split=None,\n",
              "                       min_samples_leaf=8, min_samples_split=2,\n",
              "                       min_weight_fraction_leaf=0.0, n_estimators=512,\n",
              "                       n_jobs=-1, oob_score=False, random_state=None,\n",
              "                       verbose=10, warm_start=False)"
            ]
          },
          "metadata": {
            "tags": []
          },
          "execution_count": 53
        }
      ]
    },
    {
      "cell_type": "code",
      "metadata": {
        "id": "qE5tmpq5yaJM",
        "colab_type": "code",
        "outputId": "50c16183-ae76-4f79-9cf7-5f542fb9484e",
        "colab": {
          "base_uri": "https://localhost:8080/",
          "height": 561
        }
      },
      "source": [
        "# Prediction\n",
        "rf_predictions = category_model.predict(X_test)"
      ],
      "execution_count": 54,
      "outputs": [
        {
          "output_type": "stream",
          "text": [
            "[Parallel(n_jobs=2)]: Using backend ThreadingBackend with 2 concurrent workers.\n",
            "[Parallel(n_jobs=2)]: Done   1 tasks      | elapsed:    0.1s\n",
            "[Parallel(n_jobs=2)]: Done   4 tasks      | elapsed:    0.2s\n",
            "[Parallel(n_jobs=2)]: Done   9 tasks      | elapsed:    0.5s\n",
            "[Parallel(n_jobs=2)]: Done  14 tasks      | elapsed:    0.6s\n",
            "[Parallel(n_jobs=2)]: Done  21 tasks      | elapsed:    1.0s\n",
            "[Parallel(n_jobs=2)]: Done  28 tasks      | elapsed:    1.3s\n",
            "[Parallel(n_jobs=2)]: Done  37 tasks      | elapsed:    1.7s\n",
            "[Parallel(n_jobs=2)]: Done  46 tasks      | elapsed:    2.1s\n",
            "[Parallel(n_jobs=2)]: Done  57 tasks      | elapsed:    2.6s\n",
            "[Parallel(n_jobs=2)]: Done  68 tasks      | elapsed:    3.1s\n",
            "[Parallel(n_jobs=2)]: Done  81 tasks      | elapsed:    3.6s\n",
            "[Parallel(n_jobs=2)]: Done  94 tasks      | elapsed:    4.2s\n",
            "[Parallel(n_jobs=2)]: Done 109 tasks      | elapsed:    4.9s\n",
            "[Parallel(n_jobs=2)]: Done 124 tasks      | elapsed:    5.6s\n",
            "[Parallel(n_jobs=2)]: Done 141 tasks      | elapsed:    6.3s\n",
            "[Parallel(n_jobs=2)]: Done 158 tasks      | elapsed:    7.1s\n",
            "[Parallel(n_jobs=2)]: Done 177 tasks      | elapsed:    8.0s\n",
            "[Parallel(n_jobs=2)]: Done 196 tasks      | elapsed:    8.8s\n",
            "[Parallel(n_jobs=2)]: Done 217 tasks      | elapsed:    9.8s\n",
            "[Parallel(n_jobs=2)]: Done 238 tasks      | elapsed:   10.7s\n",
            "[Parallel(n_jobs=2)]: Done 261 tasks      | elapsed:   11.7s\n",
            "[Parallel(n_jobs=2)]: Done 284 tasks      | elapsed:   12.8s\n",
            "[Parallel(n_jobs=2)]: Done 309 tasks      | elapsed:   13.9s\n",
            "[Parallel(n_jobs=2)]: Done 334 tasks      | elapsed:   14.9s\n",
            "[Parallel(n_jobs=2)]: Done 361 tasks      | elapsed:   16.2s\n",
            "[Parallel(n_jobs=2)]: Done 388 tasks      | elapsed:   17.4s\n",
            "[Parallel(n_jobs=2)]: Done 417 tasks      | elapsed:   18.7s\n",
            "[Parallel(n_jobs=2)]: Done 446 tasks      | elapsed:   19.9s\n",
            "[Parallel(n_jobs=2)]: Done 477 tasks      | elapsed:   21.3s\n",
            "[Parallel(n_jobs=2)]: Done 508 tasks      | elapsed:   22.7s\n",
            "[Parallel(n_jobs=2)]: Done 512 out of 512 | elapsed:   22.8s finished\n"
          ],
          "name": "stderr"
        }
      ]
    },
    {
      "cell_type": "code",
      "metadata": {
        "id": "ODU6SMdDX4n1",
        "colab_type": "code",
        "outputId": "1074a30a-138f-4d3b-8a05-d562f0d99181",
        "colab": {
          "base_uri": "https://localhost:8080/",
          "height": 204
        }
      },
      "source": [
        "# Acuuracy\n",
        "\n",
        "print(classification_report(test['product_category'], rf_predictions))"
      ],
      "execution_count": 56,
      "outputs": [
        {
          "output_type": "stream",
          "text": [
            "              precision    recall  f1-score   support\n",
            "\n",
            "       Books       0.89      0.99      0.94     83020\n",
            "    Films_TV       0.96      0.87      0.92     54503\n",
            " Mobile_Apps       0.98      0.96      0.97     50887\n",
            "       Music       0.97      0.82      0.89     21017\n",
            "\n",
            "    accuracy                           0.93    209427\n",
            "   macro avg       0.95      0.91      0.93    209427\n",
            "weighted avg       0.94      0.93      0.93    209427\n",
            "\n"
          ],
          "name": "stdout"
        }
      ]
    },
    {
      "cell_type": "code",
      "metadata": {
        "id": "o7srFtlV1Uj4",
        "colab_type": "code",
        "outputId": "610f9867-c49c-4a0b-e0ac-29d32f87c7b8",
        "colab": {
          "base_uri": "https://localhost:8080/",
          "height": 139
        }
      },
      "source": [
        "test['product_category_prediction'] = rf_predictions"
      ],
      "execution_count": 57,
      "outputs": [
        {
          "output_type": "stream",
          "text": [
            "/usr/local/lib/python3.6/dist-packages/ipykernel_launcher.py:1: SettingWithCopyWarning: \n",
            "A value is trying to be set on a copy of a slice from a DataFrame.\n",
            "Try using .loc[row_indexer,col_indexer] = value instead\n",
            "\n",
            "See the caveats in the documentation: http://pandas.pydata.org/pandas-docs/stable/user_guide/indexing.html#returning-a-view-versus-a-copy\n",
            "  \"\"\"Entry point for launching an IPython kernel.\n"
          ],
          "name": "stderr"
        }
      ]
    },
    {
      "cell_type": "markdown",
      "metadata": {
        "id": "YaArInAWym1Z",
        "colab_type": "text"
      },
      "source": [
        "# Sentiment analysis"
      ]
    },
    {
      "cell_type": "code",
      "metadata": {
        "id": "c2P_8Yf5ypC6",
        "colab_type": "code",
        "outputId": "9ef67eaf-5aac-488b-9b26-05e0447ade80",
        "colab": {
          "base_uri": "https://localhost:8080/",
          "height": 85
        }
      },
      "source": [
        "# Create the model with 500 trees\n",
        "sentiment_analysis_model = LinearSVC(verbose=10)\n",
        "\n",
        "# Fit on training data\n",
        "sentiment_analysis_model.fit(X_train, train['sentiment'])"
      ],
      "execution_count": 64,
      "outputs": [
        {
          "output_type": "stream",
          "text": [
            "[LibLinear]"
          ],
          "name": "stdout"
        },
        {
          "output_type": "execute_result",
          "data": {
            "text/plain": [
              "LinearSVC(C=1.0, class_weight=None, dual=True, fit_intercept=True,\n",
              "          intercept_scaling=1, loss='squared_hinge', max_iter=1000,\n",
              "          multi_class='ovr', penalty='l2', random_state=None, tol=0.0001,\n",
              "          verbose=10)"
            ]
          },
          "metadata": {
            "tags": []
          },
          "execution_count": 64
        }
      ]
    },
    {
      "cell_type": "code",
      "metadata": {
        "id": "G1vv8tB0ysvN",
        "colab_type": "code",
        "colab": {}
      },
      "source": [
        "# Prediction\n",
        "svm_predictions = sentiment_analysis_model.predict(X_test)"
      ],
      "execution_count": 0,
      "outputs": []
    },
    {
      "cell_type": "code",
      "metadata": {
        "id": "XWgxQgCq00hA",
        "colab_type": "code",
        "outputId": "e82f0831-7302-4366-a325-d0fb1e0e81f8",
        "colab": {
          "base_uri": "https://localhost:8080/",
          "height": 187
        }
      },
      "source": [
        "print(classification_report(test['sentiment'], svm_predictions))"
      ],
      "execution_count": 66,
      "outputs": [
        {
          "output_type": "stream",
          "text": [
            "              precision    recall  f1-score   support\n",
            "\n",
            "    Negative       0.71      0.65      0.68     21681\n",
            "     Neutral       0.55      0.16      0.24     17630\n",
            "    Positive       0.90      0.98      0.94    170116\n",
            "\n",
            "    accuracy                           0.88    209427\n",
            "   macro avg       0.72      0.60      0.62    209427\n",
            "weighted avg       0.85      0.88      0.85    209427\n",
            "\n"
          ],
          "name": "stdout"
        }
      ]
    },
    {
      "cell_type": "code",
      "metadata": {
        "id": "kFnJeI371OIJ",
        "colab_type": "code",
        "outputId": "e210384d-f005-4d4d-b074-a970b98c08de",
        "colab": {
          "base_uri": "https://localhost:8080/",
          "height": 139
        }
      },
      "source": [
        "test['sentiment_prediction'] = svm_predictions"
      ],
      "execution_count": 67,
      "outputs": [
        {
          "output_type": "stream",
          "text": [
            "/usr/local/lib/python3.6/dist-packages/ipykernel_launcher.py:1: SettingWithCopyWarning: \n",
            "A value is trying to be set on a copy of a slice from a DataFrame.\n",
            "Try using .loc[row_indexer,col_indexer] = value instead\n",
            "\n",
            "See the caveats in the documentation: http://pandas.pydata.org/pandas-docs/stable/user_guide/indexing.html#returning-a-view-versus-a-copy\n",
            "  \"\"\"Entry point for launching an IPython kernel.\n"
          ],
          "name": "stderr"
        }
      ]
    },
    {
      "cell_type": "code",
      "metadata": {
        "id": "jSY0LwVZbG26",
        "colab_type": "code",
        "outputId": "a5e2db9c-f5cb-4967-cf90-fd39451b0296",
        "colab": {
          "base_uri": "https://localhost:8080/",
          "height": 1000
        }
      },
      "source": [
        "test"
      ],
      "execution_count": 68,
      "outputs": [
        {
          "output_type": "execute_result",
          "data": {
            "text/html": [
              "<div>\n",
              "<style scoped>\n",
              "    .dataframe tbody tr th:only-of-type {\n",
              "        vertical-align: middle;\n",
              "    }\n",
              "\n",
              "    .dataframe tbody tr th {\n",
              "        vertical-align: top;\n",
              "    }\n",
              "\n",
              "    .dataframe thead th {\n",
              "        text-align: right;\n",
              "    }\n",
              "</style>\n",
              "<table border=\"1\" class=\"dataframe\">\n",
              "  <thead>\n",
              "    <tr style=\"text-align: right;\">\n",
              "      <th></th>\n",
              "      <th>product_title</th>\n",
              "      <th>product_category</th>\n",
              "      <th>star_rating</th>\n",
              "      <th>helpful_votes</th>\n",
              "      <th>total_votes</th>\n",
              "      <th>verified_purchase</th>\n",
              "      <th>review_headline</th>\n",
              "      <th>review_body</th>\n",
              "      <th>review_body_length</th>\n",
              "      <th>review_body_sentences</th>\n",
              "      <th>sentiment</th>\n",
              "      <th>review</th>\n",
              "      <th>summarized_review</th>\n",
              "      <th>product_category_prediction</th>\n",
              "      <th>sentiment_prediction</th>\n",
              "    </tr>\n",
              "  </thead>\n",
              "  <tbody>\n",
              "    <tr>\n",
              "      <th>612910</th>\n",
              "      <td>Life of Pi (Blu-ray + DVD + Digital Copy)</td>\n",
              "      <td>Films_TV</td>\n",
              "      <td>1.0</td>\n",
              "      <td>7.0</td>\n",
              "      <td>21.0</td>\n",
              "      <td>Y</td>\n",
              "      <td>Slow paced and BOOOOOOOORING</td>\n",
              "      <td>I shut off the DVD player after a half an hour...</td>\n",
              "      <td>71</td>\n",
              "      <td>7</td>\n",
              "      <td>Negative</td>\n",
              "      <td>slow pace boooooooor shut dvd player half hour...</td>\n",
              "      <td>Slow paced and BOOOOOOOORING.I shut off the DV...</td>\n",
              "      <td>Films_TV</td>\n",
              "      <td>Negative</td>\n",
              "    </tr>\n",
              "    <tr>\n",
              "      <th>975635</th>\n",
              "      <td>The Windup Girl</td>\n",
              "      <td>Books</td>\n",
              "      <td>2.0</td>\n",
              "      <td>5.0</td>\n",
              "      <td>6.0</td>\n",
              "      <td>Y</td>\n",
              "      <td>Not for Everyone</td>\n",
              "      <td>Nothing gets me more excited than rich world b...</td>\n",
              "      <td>306</td>\n",
              "      <td>10</td>\n",
              "      <td>Negative</td>\n",
              "      <td>everyon noth get excit rich world build noth p...</td>\n",
              "      <td>To me this book would take multiple read throu...</td>\n",
              "      <td>Books</td>\n",
              "      <td>Positive</td>\n",
              "    </tr>\n",
              "    <tr>\n",
              "      <th>494142</th>\n",
              "      <td>Cloud Atlas [Blu-ray]</td>\n",
              "      <td>Films_TV</td>\n",
              "      <td>5.0</td>\n",
              "      <td>2.0</td>\n",
              "      <td>2.0</td>\n",
              "      <td>Y</td>\n",
              "      <td>Best movie ever</td>\n",
              "      <td>I first watched this through Netflix. It's rea...</td>\n",
              "      <td>144</td>\n",
              "      <td>12</td>\n",
              "      <td>Positive</td>\n",
              "      <td>best movi ever first watch netflix realli long...</td>\n",
              "      <td>Best movie ever.I first watched this through N...</td>\n",
              "      <td>Films_TV</td>\n",
              "      <td>Positive</td>\n",
              "    </tr>\n",
              "    <tr>\n",
              "      <th>675563</th>\n",
              "      <td>Babymetal</td>\n",
              "      <td>Music</td>\n",
              "      <td>5.0</td>\n",
              "      <td>6.0</td>\n",
              "      <td>6.0</td>\n",
              "      <td>Y</td>\n",
              "      <td>Exceeded expectations!! Shockingly good!!</td>\n",
              "      <td>Absolutely love this CD. I had seen the videos...</td>\n",
              "      <td>82</td>\n",
              "      <td>8</td>\n",
              "      <td>Positive</td>\n",
              "      <td>exceed expect shockingli good absolut love cd ...</td>\n",
              "      <td>I had seen the videos, loved the songs, and fo...</td>\n",
              "      <td>Music</td>\n",
              "      <td>Positive</td>\n",
              "    </tr>\n",
              "    <tr>\n",
              "      <th>301516</th>\n",
              "      <td>Dredd</td>\n",
              "      <td>Films_TV</td>\n",
              "      <td>3.0</td>\n",
              "      <td>1.0</td>\n",
              "      <td>1.0</td>\n",
              "      <td>Y</td>\n",
              "      <td>Worth the Rental</td>\n",
              "      <td>Not bad action packed film. The movie had some...</td>\n",
              "      <td>38</td>\n",
              "      <td>4</td>\n",
              "      <td>Neutral</td>\n",
              "      <td>worth rental bad action pack film movi imagin ...</td>\n",
              "      <td></td>\n",
              "      <td>Films_TV</td>\n",
              "      <td>Positive</td>\n",
              "    </tr>\n",
              "    <tr>\n",
              "      <th>...</th>\n",
              "      <td>...</td>\n",
              "      <td>...</td>\n",
              "      <td>...</td>\n",
              "      <td>...</td>\n",
              "      <td>...</td>\n",
              "      <td>...</td>\n",
              "      <td>...</td>\n",
              "      <td>...</td>\n",
              "      <td>...</td>\n",
              "      <td>...</td>\n",
              "      <td>...</td>\n",
              "      <td>...</td>\n",
              "      <td>...</td>\n",
              "      <td>...</td>\n",
              "      <td>...</td>\n",
              "    </tr>\n",
              "    <tr>\n",
              "      <th>287053</th>\n",
              "      <td>Catching Fire (Hunger Games Trilogy, Book 2)</td>\n",
              "      <td>Books</td>\n",
              "      <td>5.0</td>\n",
              "      <td>0.0</td>\n",
              "      <td>0.0</td>\n",
              "      <td>Y</td>\n",
              "      <td>Captivating!</td>\n",
              "      <td>I saw the movie of the first book. So I wanted...</td>\n",
              "      <td>48</td>\n",
              "      <td>5</td>\n",
              "      <td>Positive</td>\n",
              "      <td>captiv saw movi first book want read one saw m...</td>\n",
              "      <td>Captivating!.I saw the movie of the first book.</td>\n",
              "      <td>Books</td>\n",
              "      <td>Positive</td>\n",
              "    </tr>\n",
              "    <tr>\n",
              "      <th>595378</th>\n",
              "      <td>The Goldfinch: A Novel (Pulitzer Prize for Fic...</td>\n",
              "      <td>Books</td>\n",
              "      <td>5.0</td>\n",
              "      <td>1.0</td>\n",
              "      <td>1.0</td>\n",
              "      <td>Y</td>\n",
              "      <td>You Won't Forget This Novel</td>\n",
              "      <td>The Goldfinch should become an American classi...</td>\n",
              "      <td>53</td>\n",
              "      <td>5</td>\n",
              "      <td>Positive</td>\n",
              "      <td>forget novel goldfinch becom american classic ...</td>\n",
              "      <td></td>\n",
              "      <td>Books</td>\n",
              "      <td>Positive</td>\n",
              "    </tr>\n",
              "    <tr>\n",
              "      <th>262848</th>\n",
              "      <td>Elf</td>\n",
              "      <td>Films_TV</td>\n",
              "      <td>5.0</td>\n",
              "      <td>0.0</td>\n",
              "      <td>1.0</td>\n",
              "      <td>Y</td>\n",
              "      <td>Great movie</td>\n",
              "      <td>Just watch the movie, it's a lot of fun. Wil i...</td>\n",
              "      <td>26</td>\n",
              "      <td>3</td>\n",
              "      <td>Positive</td>\n",
              "      <td>great movi watch movi lot fun wil great kid en...</td>\n",
              "      <td></td>\n",
              "      <td>Films_TV</td>\n",
              "      <td>Positive</td>\n",
              "    </tr>\n",
              "    <tr>\n",
              "      <th>388085</th>\n",
              "      <td>Goodnight Moon</td>\n",
              "      <td>Books</td>\n",
              "      <td>5.0</td>\n",
              "      <td>0.0</td>\n",
              "      <td>0.0</td>\n",
              "      <td>Y</td>\n",
              "      <td>Classic Nighttime Story</td>\n",
              "      <td>My girls both love this story so much. The way...</td>\n",
              "      <td>60</td>\n",
              "      <td>5</td>\n",
              "      <td>Positive</td>\n",
              "      <td>classic nighttim stori girl love stori much wa...</td>\n",
              "      <td>Classic Nighttime Story.My girls both love thi...</td>\n",
              "      <td>Books</td>\n",
              "      <td>Positive</td>\n",
              "    </tr>\n",
              "    <tr>\n",
              "      <th>224787</th>\n",
              "      <td>G.I. Joe: The Rise of Cobra</td>\n",
              "      <td>Films_TV</td>\n",
              "      <td>5.0</td>\n",
              "      <td>3.0</td>\n",
              "      <td>3.0</td>\n",
              "      <td>Y</td>\n",
              "      <td>Must See</td>\n",
              "      <td>This movie gets better every time I watch it. ...</td>\n",
              "      <td>30</td>\n",
              "      <td>4</td>\n",
              "      <td>Positive</td>\n",
              "      <td>must see movi get better everi time watch one ...</td>\n",
              "      <td></td>\n",
              "      <td>Films_TV</td>\n",
              "      <td>Positive</td>\n",
              "    </tr>\n",
              "  </tbody>\n",
              "</table>\n",
              "<p>209427 rows × 15 columns</p>\n",
              "</div>"
            ],
            "text/plain": [
              "                                            product_title  ... sentiment_prediction\n",
              "612910          Life of Pi (Blu-ray + DVD + Digital Copy)  ...             Negative\n",
              "975635                                    The Windup Girl  ...             Positive\n",
              "494142                              Cloud Atlas [Blu-ray]  ...             Positive\n",
              "675563                                          Babymetal  ...             Positive\n",
              "301516                                              Dredd  ...             Positive\n",
              "...                                                   ...  ...                  ...\n",
              "287053       Catching Fire (Hunger Games Trilogy, Book 2)  ...             Positive\n",
              "595378  The Goldfinch: A Novel (Pulitzer Prize for Fic...  ...             Positive\n",
              "262848                                                Elf  ...             Positive\n",
              "388085                                     Goodnight Moon  ...             Positive\n",
              "224787                        G.I. Joe: The Rise of Cobra  ...             Positive\n",
              "\n",
              "[209427 rows x 15 columns]"
            ]
          },
          "metadata": {
            "tags": []
          },
          "execution_count": 68
        }
      ]
    },
    {
      "cell_type": "markdown",
      "metadata": {
        "id": "7bvr5a2by4eC",
        "colab_type": "text"
      },
      "source": [
        "# Topic modelling"
      ]
    },
    {
      "cell_type": "code",
      "metadata": {
        "id": "GtBB5g3Vy6yS",
        "colab_type": "code",
        "colab": {}
      },
      "source": [
        "tfidf_vect = TfidfVectorizer()\n",
        "doc_term_matrix = tfidf_vect.fit_transform(df['review'])"
      ],
      "execution_count": 0,
      "outputs": []
    },
    {
      "cell_type": "code",
      "metadata": {
        "id": "u-00_VLmyKoo",
        "colab_type": "code",
        "colab": {
          "base_uri": "https://localhost:8080/",
          "height": 731
        },
        "outputId": "34d1c328-d67e-4c17-81a6-f06b360182b2"
      },
      "source": [
        "# NMF\n",
        "\n",
        "nmf = NMF(n_components=7, random_state=42, verbose=10)\n",
        "nmf.fit(doc_term_matrix)"
      ],
      "execution_count": 83,
      "outputs": [
        {
          "output_type": "stream",
          "text": [
            "violation: 1.0\n",
            "violation: 0.596763537965358\n",
            "violation: 0.32411455396805716\n",
            "violation: 0.16998861176587404\n",
            "violation: 0.09725839698307767\n",
            "violation: 0.05858580010889679\n",
            "violation: 0.036744845364467996\n",
            "violation: 0.0238515743287151\n",
            "violation: 0.01586250964658752\n",
            "violation: 0.010964971220597624\n",
            "violation: 0.007909770382010543\n",
            "violation: 0.005916974893884169\n",
            "violation: 0.004560035048940126\n",
            "violation: 0.003605010848880966\n",
            "violation: 0.002916963284380271\n",
            "violation: 0.002400393592371093\n",
            "violation: 0.0019951358567646517\n",
            "violation: 0.0016765966163552143\n",
            "violation: 0.0014212351443085248\n",
            "violation: 0.001212024635305093\n",
            "violation: 0.0010375585043973681\n",
            "violation: 0.0008907344508357652\n",
            "violation: 0.0007667283118024481\n",
            "violation: 0.0006612842494809855\n",
            "violation: 0.0005711394934757408\n",
            "violation: 0.0004938377694634839\n",
            "violation: 0.00042747408887506416\n",
            "violation: 0.00037023065450237405\n",
            "violation: 0.0003207681921424787\n",
            "violation: 0.00027797742262149775\n",
            "violation: 0.0002409269249169592\n",
            "violation: 0.00020883384358013157\n",
            "violation: 0.00018103357056205885\n",
            "violation: 0.00015696178408344967\n",
            "violation: 0.00013615003512325348\n",
            "violation: 0.00011809388691298749\n",
            "violation: 0.00010243005944736909\n",
            "violation: 8.8839769168736e-05\n",
            "Converged at iteration 38\n"
          ],
          "name": "stdout"
        },
        {
          "output_type": "execute_result",
          "data": {
            "text/plain": [
              "NMF(alpha=0.0, beta_loss='frobenius', init=None, l1_ratio=0.0, max_iter=200,\n",
              "    n_components=7, random_state=42, shuffle=False, solver='cd', tol=0.0001,\n",
              "    verbose=10)"
            ]
          },
          "metadata": {
            "tags": []
          },
          "execution_count": 83
        }
      ]
    },
    {
      "cell_type": "code",
      "metadata": {
        "id": "D-OneioozKLB",
        "colab_type": "code",
        "outputId": "38e776bd-b8fc-4335-e5f2-0c481b2ec6fe",
        "colab": {
          "base_uri": "https://localhost:8080/",
          "height": 493
        }
      },
      "source": [
        "for i, topic in enumerate(nmf.components_):\n",
        "  print(f'Top 10 words for topic #{i}:')\n",
        "  print([tfidf_vect.get_feature_names()[i] for i in topic.argsort()[-10:]])\n",
        "  print('\\n')"
      ],
      "execution_count": 84,
      "outputs": [
        {
          "output_type": "stream",
          "text": [
            "Top 10 words for topic #0:\n",
            "['seri', 'great', 'put', 'one', 'good', 'charact', 'end', 'stori', 'read', 'book']\n",
            "\n",
            "\n",
            "Top 10 words for topic #1:\n",
            "['realli', 'great', 'level', 'challeng', 'like', 'get', 'addict', 'play', 'fun', 'game']\n",
            "\n",
            "\n",
            "Top 10 words for topic #2:\n",
            "['enjoy', 'like', 'time', 'one', 'see', 'film', 'good', 'great', 'watch', 'movi']\n",
            "\n",
            "\n",
            "Top 10 words for topic #3:\n",
            "['peopl', 'thing', 'get', 'stori', 'one', 'make', 'like', 'charact', 'film', 'br']\n",
            "\n",
            "\n",
            "Top 10 words for topic #4:\n",
            "['band', 'like', 'great', 'one', 'sound', 'listen', 'cd', 'music', 'song', 'album']\n",
            "\n",
            "\n",
            "Top 10 words for topic #5:\n",
            "['updat', 'get', 'download', 'great', 'free', 'fire', 'work', 'kindl', 'use', 'app']\n",
            "\n",
            "\n",
            "Top 10 words for topic #6:\n",
            "['absolut', 'watch', 'wait', 'amaz', 'awesom', 'stori', 'season', 'show', 'seri', 'love']\n",
            "\n",
            "\n"
          ],
          "name": "stdout"
        }
      ]
    },
    {
      "cell_type": "code",
      "metadata": {
        "id": "K_hTP4d0CrVA",
        "colab_type": "code",
        "colab": {
          "base_uri": "https://localhost:8080/",
          "height": 136
        },
        "outputId": "69b90a6c-ae02-4ec3-dd94-23f8dc774759"
      },
      "source": [
        "topic_values = nmf.transform(doc_term_matrix)\n",
        "df['topic'] = topic_values.argmax(axis=1)"
      ],
      "execution_count": 85,
      "outputs": [
        {
          "output_type": "stream",
          "text": [
            "violation: 1.0\n",
            "violation: 0.2513833888462288\n",
            "violation: 0.014008312295587952\n",
            "violation: 0.0027801374235043156\n",
            "violation: 0.00038717368481803647\n",
            "violation: 5.9097241149836855e-05\n",
            "Converged at iteration 6\n"
          ],
          "name": "stdout"
        }
      ]
    }
  ]
}